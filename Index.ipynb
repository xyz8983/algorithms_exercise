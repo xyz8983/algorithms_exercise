{
 "cells": [
  {
   "cell_type": "markdown",
   "metadata": {},
   "source": [
    "### Index\n",
    "\n",
    "using index as hashing map key to solve the problems"
   ]
  },
  {
   "cell_type": "markdown",
   "metadata": {},
   "source": [
    "<b> 41.First Missing Positive </b>\n",
    "\n",
    "Using index as hashing map  \n",
    "For an array whose length is L, the first missing positive must be in range [1, L+1]. ([1,2,3] => 4).  N = L+1\n",
    "After removing all numbers >=n to 0, now all numbers <n, if any number I appears, nums[I] will be adding N to make nums[I] > N.\n",
    "loop again, If ever encounter nums[I] <n, then this i never appears, so return I. because looping i in order, the first i returned will the smallest number"
   ]
  },
  {
   "cell_type": "code",
   "execution_count": 2,
   "metadata": {},
   "outputs": [],
   "source": [
    "def firstMissingPositive(nums):\n",
    "    nums.append(0)  # original length is L, now L+1, so [1, L] can be valid index in the array\n",
    "    n = len(nums)  # L+1\n",
    "    for i in range(n): #[0, L]\n",
    "        if nums[i]<0 or nums[i]>=n: # so value in nums are in [0, L] => valid index\n",
    "            nums[i] = 0\n",
    "    for num in nums:\n",
    "        nums[num%n]+=n  # [1, 1] => [1, 1+n] => when index=1 again, nums[1+n] will have key out of index error\n",
    "    for i in range(n):\n",
    "        if nums[i] < n:  # this i never appears, which means this i never appear as num\n",
    "            return i\n",
    "    return n # [1,2,3] => return 4\n",
    "        \n",
    "            "
   ]
  },
  {
   "cell_type": "code",
   "execution_count": 5,
   "metadata": {},
   "outputs": [
    {
     "data": {
      "text/plain": [
       "1"
      ]
     },
     "execution_count": 5,
     "metadata": {},
     "output_type": "execute_result"
    }
   ],
   "source": [
    "firstMissingPositive([7,8,9,11,12])"
   ]
  },
  {
   "cell_type": "markdown",
   "metadata": {},
   "source": [
    "<b>645. Set Mismatch</b>.   \n",
    "using sum is smart  => i prefer this way"
   ]
  },
  {
   "cell_type": "code",
   "execution_count": 7,
   "metadata": {},
   "outputs": [],
   "source": [
    "def findErrorNums(nums):\n",
    "    duplicate = sum(nums) - sum(set(nums))\n",
    "    missing = sum(range(len(nums)+1)) - sum(set(nums))\n",
    "    return [duplicate, missing]"
   ]
  },
  {
   "cell_type": "code",
   "execution_count": 8,
   "metadata": {},
   "outputs": [
    {
     "data": {
      "text/plain": [
       "[2, 3]"
      ]
     },
     "execution_count": 8,
     "metadata": {},
     "output_type": "execute_result"
    }
   ],
   "source": [
    "findErrorNums([1,2,2,4])"
   ]
  },
  {
   "cell_type": "markdown",
   "metadata": {},
   "source": [
    "also can use index.  => overkill for this question\n",
    "because the question holds an assumption that array has numbers from 1 to n. So using each item's value of the array - 1 as new index, flipping the corresponding item of that new index to negative value.  if this new index is used before ( an item of the array has appeared before), the corresponding item of that index is already negative, now duplicated value found, which is new index+1,  => continue loop the whole array\n",
    "Now the array only has one item which is positive => not visited. (only nums[missingNumber-1] > 0)The corresponding index+1 is the missing value"
   ]
  },
  {
   "cell_type": "code",
   "execution_count": 14,
   "metadata": {},
   "outputs": [],
   "source": [
    "def findErrorNums(nums):\n",
    "    n = len(nums)\n",
    "    for i in range(n): # value from [1, n] where n = len(nums)\n",
    "        ind = abs(nums[i])\n",
    "        if nums[ind-1] > 0:\n",
    "            nums[ind-1] *= -1  # using num-1 as index => [0, n-1]\n",
    "        else:\n",
    "            duplicated = ind  # already negative meaning already being visited\n",
    "    for i in range(n):\n",
    "        if nums[i] >0: # index i has not been used yet\n",
    "            missing = i+1 # index i mapping back to real value i+1\n",
    "    \n",
    "    return [duplicated, missing]\n",
    "        \n",
    "        "
   ]
  },
  {
   "cell_type": "code",
   "execution_count": 15,
   "metadata": {},
   "outputs": [
    {
     "data": {
      "text/plain": [
       "[2, 3]"
      ]
     },
     "execution_count": 15,
     "metadata": {},
     "output_type": "execute_result"
    }
   ],
   "source": [
    "findErrorNums([1,2,2,4])"
   ]
  },
  {
   "cell_type": "code",
   "execution_count": null,
   "metadata": {},
   "outputs": [],
   "source": []
  }
 ],
 "metadata": {
  "kernelspec": {
   "display_name": "testground",
   "language": "python",
   "name": "testground"
  },
  "language_info": {
   "codemirror_mode": {
    "name": "ipython",
    "version": 3
   },
   "file_extension": ".py",
   "mimetype": "text/x-python",
   "name": "python",
   "nbconvert_exporter": "python",
   "pygments_lexer": "ipython3",
   "version": "3.8.3"
  }
 },
 "nbformat": 4,
 "nbformat_minor": 4
}
