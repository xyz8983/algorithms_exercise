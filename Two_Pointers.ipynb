{
 "cells": [
  {
   "cell_type": "markdown",
   "metadata": {},
   "source": [
    "### Two Pointers"
   ]
  },
  {
   "cell_type": "markdown",
   "metadata": {},
   "source": [
    "<b>141.Linked List Cycle </b>. \n",
    "\n",
    "fast pointer and slow pointer.  \n",
    "fast pointer goes two steps at a time. slow pointer goes one step at a time. When they enter the loop, the distance between two pointers will shrink one per time, so finally they will meet.  \n",
    "快指针每次走两步，慢指针一次走一步。 在慢指针进入环之后，快慢指针之间的距离每次缩小1，所以最终能相遇。"
   ]
  },
  {
   "cell_type": "code",
   "execution_count": 2,
   "metadata": {},
   "outputs": [],
   "source": [
    "# Definition for singly-linked list.\n",
    "# class ListNode:\n",
    "#     def __init__(self, x):\n",
    "#         self.val = x\n",
    "#         self.next = None\n",
    "\n",
    "def hasCycle(head):\n",
    "    slow = fast = head\n",
    "    while fast and fast.next:\n",
    "        slow = slow.next\n",
    "        fast = fast.next.next\n",
    "        if slow == fast:\n",
    "            return True\n",
    "    return False"
   ]
  },
  {
   "cell_type": "markdown",
   "metadata": {},
   "source": [
    "<b>142. Linked List Cycle II</b>  \n",
    "a good explanation [here] (https://leetcode.com/problems/linked-list-cycle-ii/discuss/44781/Concise-O(n)-solution-by-using-C%2B%2B-with-Detailed-Alogrithm-Description) also read the notes in evernotes. \n",
    "first step: find where fast pointer and slow pointer meet.\n",
    "second step: keep where slow pointer stands, move fast pointer to the head, both pointer take one step at a time, the point they meet is the start of the circle => approved mathematically\n",
    "2 (L1 + L2 ) = (L1 + L2 + n*C) => L1 = (n-1)c + (c-L2).   n is how many time the circle is looped, usually 1\n",
    "C is distance of the whole loop \n",
    "L1: distance between head to start point of loop  \n",
    "L2: distance between start point to meeting point inside of the loop\n",
    "distance that slow pointer traveled before they meet: (L1 + L2 )\n",
    "distance that fast poitner traveled before they meet: (L1 + L2 + n*C)"
   ]
  },
  {
   "cell_type": "code",
   "execution_count": 3,
   "metadata": {},
   "outputs": [],
   "source": [
    "def detectCycle(head):\n",
    "    slow = fast = head\n",
    "    while fast and fast.next:\n",
    "        slow = slow.next\n",
    "        fast = fast.next.next\n",
    "        if slow == fast:       \n",
    "            fast = head\n",
    "            while slow!= fast:\n",
    "                slow = slow.next\n",
    "                fast = fast.next\n",
    "            return slow\n",
    "    return "
   ]
  },
  {
   "cell_type": "markdown",
   "metadata": {},
   "source": [
    "<b> 287. Find the Duplicate Number</b>.   \n",
    "the underlining question is to find if the list contains a loop  \n",
    "using the value as index for potential chaining.  \n",
    "index 0 as the head, nums[0] as the next index, and so on    \n",
    "Example 0=>1=>3=>2=>4=>2.  So 2 is what it should return. Slow initiates at 1, fast initiates at 3, 2 is where the loop begin, 0 is the head"
   ]
  },
  {
   "cell_type": "code",
   "execution_count": 4,
   "metadata": {},
   "outputs": [],
   "source": [
    "def findDuplicate(nums):   \n",
    "    if not nums:\n",
    "        return False\n",
    "    # ideally initialize slow = fast = head, which is 0 here, but when situation is not allowed, can initiate\n",
    "    # slow to head.next (which is nums[0]), fast to head.next.next (nums[nums[0]])\n",
    "    slow = nums[0]      \n",
    "    fast = nums[nums[0]]\n",
    "    while slow != fast:\n",
    "        slow = nums[slow]\n",
    "        fast = nums[nums[fast]]\n",
    "    fast = 0    # index 0 is the head, reset fast to the head\n",
    "    while fast!=slow:\n",
    "        fast = nums[fast]\n",
    "        slow = nums[slow]\n",
    "    return slow   "
   ]
  },
  {
   "cell_type": "markdown",
   "metadata": {},
   "source": [
    "<b>80.Remove Duplicates from Sorted Array II </b>\n",
    "\n",
    "my way: check number k steps way, if current num == num k step away, pop the k step away number out of list, else move current pointer forward,   \n",
    "Other way: using two pointers, I is one to keep track of where next valid number should be put, also n which is loop the number of the array, compare to I-2 position."
   ]
  },
  {
   "cell_type": "code",
   "execution_count": 9,
   "metadata": {},
   "outputs": [],
   "source": [
    "def removeDuplicates(nums):\n",
    "#     n = len(nums)\n",
    "    i=0\n",
    "    while i < len(nums)-2:  # calculating len(nums) every time instead of saving it as n, because after pop the len has changed\n",
    "        if nums[i]==nums[i+2]:\n",
    "            # using pop is not efficient!!\n",
    "            nums.pop(i+2)\n",
    "        else:\n",
    "            i+=1\n",
    "    return len(nums)\n",
    "            "
   ]
  },
  {
   "cell_type": "code",
   "execution_count": 10,
   "metadata": {},
   "outputs": [
    {
     "data": {
      "text/plain": [
       "5"
      ]
     },
     "execution_count": 10,
     "metadata": {},
     "output_type": "execute_result"
    }
   ],
   "source": [
    "nums = [1,1,1,2,2,3]\n",
    "removeDuplicates(nums)"
   ]
  },
  {
   "cell_type": "code",
   "execution_count": 11,
   "metadata": {},
   "outputs": [],
   "source": [
    "def removeDuplicates(nums):   # better way!\n",
    "#     n = len(nums)\n",
    "    i = 0  # first pointer, index, keep track of NEXT position to put next valid number\n",
    "    for n in nums:   # second pointer is the actual number of the array\n",
    "        if (i<2) or (n>nums[i-2]):\n",
    "            # i < 2 : for the first 2 elements of nums, keep as what they are\n",
    "            # n > nums[i-2]: if current number > second last number in the valid array, meaning n can be the next valid number\n",
    "            nums[i] = n\n",
    "            i += 1\n",
    "    return i\n",
    "    "
   ]
  },
  {
   "cell_type": "code",
   "execution_count": 12,
   "metadata": {},
   "outputs": [
    {
     "data": {
      "text/plain": [
       "5"
      ]
     },
     "execution_count": 12,
     "metadata": {},
     "output_type": "execute_result"
    }
   ],
   "source": [
    "nums = [1,1,1,2,2,3]\n",
    "removeDuplicates(nums)"
   ]
  },
  {
   "cell_type": "markdown",
   "metadata": {},
   "source": [
    "<b>146.LRU Cache </b>  \n",
    "Least Recently Used (LRU). \n",
    "basic idea\n",
    "using double linked list structure to keep track of the order, when new item come, always keep it at tail (head), in this way the least used item is always the closest to head (tail) one.  \n",
    "to implement the double linked list, can do in from scratch, like <b>way 1 </b>  \n",
    "or do it using python builtin type: OrderedDict in <b> way 2 </b>, in the doc's example, it is actually used in the LRU cases\n",
    "\n"
   ]
  },
  {
   "cell_type": "markdown",
   "metadata": {},
   "source": [
    "<b>way 1</b>"
   ]
  },
  {
   "cell_type": "code",
   "execution_count": 13,
   "metadata": {},
   "outputs": [],
   "source": [
    "class Node:\n",
    "    \"\"\"double linked list\"\"\"\n",
    "    def __init__(self, k, v):\n",
    "        self.key = k\n",
    "        self.val = v\n",
    "        self.prev = None\n",
    "        self.next = None\n",
    "\n",
    "class LRUCache:\n",
    "\n",
    "    def __init__(self, capacity: int):\n",
    "        self.capacity = capacity\n",
    "        self.head = Node(0, 0)  # can use 0 because assuming valid value is always positive, meaning > 0\n",
    "        self.tail = Node(0, 0)\n",
    "        self.head.next = self.tail\n",
    "        self.tail.prev = self.head\n",
    "        self.cache = {}  # a dict of double linked node instance\n",
    "    \n",
    "    def _remove(self, node):\n",
    "        \"\"\"get rid of the linkage will delete the node\"\"\"\n",
    "        prev_node = node.prev\n",
    "        next_node = node.next\n",
    "        prev_node.next = next_node\n",
    "        next_node.prev = prev_node\n",
    "    \n",
    "    def _add(self, node):\n",
    "        \"\"\"\n",
    "        add the node to the tail of the double linked list,\n",
    "        in this way the node near the head will be the least used node, can choose to always add to the head as well, in this way the least used on is closet to the tail\n",
    "        \"\"\"\n",
    "        prev_node = self.tail.prev\n",
    "        node.prev = prev_node\n",
    "        node.next = self.tail\n",
    "        prev_node.next = node\n",
    "        self.tail.prev = node\n",
    "        \n",
    "\n",
    "    def get(self, key: int) -> int:\n",
    "        if key in self.cache:\n",
    "            node = self.cache[key]\n",
    "            self._remove(node)\n",
    "            self._add(node)  # to make it always at the tail, hence ordered\n",
    "            return node.val\n",
    "        return -1\n",
    "            \n",
    "\n",
    "\n",
    "    def put(self, key: int, value: int) -> None:\n",
    "        if key in self.cache:\n",
    "            # no need to check capacity\n",
    "            node = self.cache[key]\n",
    "            self._remove(node)\n",
    "        node = Node(key, value)\n",
    "        self._add(node)  # add to the double linked list\n",
    "        self.cache[key] = node # add to the cache dict\n",
    "        \n",
    "        if len(self.cache) > self.capacity:\n",
    "            # always remove the node closet to head\n",
    "            del_node = self.head.next\n",
    "            self._remove(del_node)\n",
    "            del self.cache[del_node.key]\n",
    "            \n",
    "                \n",
    "# Your LRUCache object will be instantiated and called as such:\n",
    "# obj = LRUCache(capacity)\n",
    "# param_1 = obj.get(key)\n",
    "# obj.put(key,value)"
   ]
  },
  {
   "cell_type": "markdown",
   "metadata": {},
   "source": [
    "<b> way 2</b>  \n",
    "OrderedDict: https://docs.python.org/3/library/collections.html#collections.OrderedDict"
   ]
  },
  {
   "cell_type": "code",
   "execution_count": 14,
   "metadata": {},
   "outputs": [],
   "source": [
    "from collections import OrderedDict\n",
    "class LRUCache:\n",
    "\n",
    "    def __init__(self, capacity: int):\n",
    "        self.capacity = capacity\n",
    "        self.cache = OrderedDict()\n",
    "        \n",
    "\n",
    "\n",
    "    def get(self, key: int) -> int:\n",
    "        if key in self.cache:\n",
    "            self.cache.move_to_end(key) # to keep its order high up, move item to the end\n",
    "            return self.cache[key]\n",
    "        else:\n",
    "            return -1\n",
    "\n",
    "    def put(self, key: int, value: int) -> None:\n",
    "        if key in self.cache:\n",
    "            del self.cache[key]\n",
    "        self.cache[key] = value\n",
    "        if len(self.cache) > self.capacity:\n",
    "            self.cache.popitem(last=False)  # FIFO\n",
    "\n",
    "\n",
    "\n",
    "# Your LRUCache object will be instantiated and called as such:\n",
    "# obj = LRUCache(capacity)\n",
    "# param_1 = obj.get(key)\n",
    "# obj.put(key,value)"
   ]
  },
  {
   "cell_type": "markdown",
   "metadata": {},
   "source": [
    "<b>42.Trapping Rain Water </b>\n",
    "\n",
    "two pointers, keep track of left max and right max value. while height[left] and height[right] is current value. when left max <= right max, the water can be trapped is determined by the ledt side, which is left_max - height[left]. vice versa, when left_max > right_max, using the right part to calculat the water amount.\n",
    "\n",
    "Attention: while left <= right, equal sign will make sure cases like [2, 0, 2] will get chance to calcuate the 2-0 case."
   ]
  },
  {
   "cell_type": "code",
   "execution_count": 15,
   "metadata": {},
   "outputs": [],
   "source": [
    "def trap( height):\n",
    "    \"\"\"four pointers\"\"\"\n",
    "    left_max, right_max = 0, 0\n",
    "    left, right = 0, len(height)-1\n",
    "    result = 0\n",
    "    while left <= right: # why <=, because case like [2,0,2] wont get chance to calculate the 2-0\n",
    "        if left_max<=right_max:\n",
    "            # water amount is dependent on left side\n",
    "            left_max = max(left_max, height[left])\n",
    "            result += (left_max - height[left])\n",
    "            left+=1\n",
    "        else:\n",
    "            # water amount is dependent on right side\n",
    "            right_max = max(right_max, height[right])\n",
    "            result += (right_max - height[right])\n",
    "            right -= 1\n",
    "    return result"
   ]
  },
  {
   "cell_type": "code",
   "execution_count": 16,
   "metadata": {},
   "outputs": [
    {
     "data": {
      "text/plain": [
       "2"
      ]
     },
     "execution_count": 16,
     "metadata": {},
     "output_type": "execute_result"
    }
   ],
   "source": [
    "height= [ 2, 0, 2]\n",
    "trap( height)"
   ]
  },
  {
   "cell_type": "markdown",
   "metadata": {},
   "source": [
    "<b>11.Container with Most Water </b>  \n",
    "somehow similar to the <b>trapping rain water</b> question above. But still different. Trapping water calculates the sum of each hole, so need left_max and right_max to hold the bar also use them to determine where to move.   \n",
    "This question no need the left_max and right_max, but having the same idea of comparing the current left and right height to determine which direction to move, try to get the max of the container area.  \n",
    "if left bar < right bar:   \n",
    "moving right bar wont help to increase the area, since the height of container is determined by the shorter bar, which is left bar, and the x axis length is shrinking because of the moving. So moving the left bar is possible to increase the area because it may pointe to a longer bar that increase the area enougth to offset the shrink brought by smaller x-axis.\n",
    "if left bar == right bar:\n",
    "moving to either direction is okay\n",
    "if left bar > right bar:   \n",
    "moving the right bar, same reason as above, because moving left bar wont bring any better result, but moving right bar might will\n",
    "\n",
    "\n",
    "\n"
   ]
  },
  {
   "cell_type": "code",
   "execution_count": 41,
   "metadata": {},
   "outputs": [],
   "source": [
    "def maxArea(height):\n",
    "    n = len(height)\n",
    "    l, r = 0, n-1\n",
    "    result = 0\n",
    "    while l < r:\n",
    "        result =max(result, (r-l)*min(height[l], height[r]))\n",
    "        if height[l] <= height[r]:\n",
    "            # moving the r pointer wont help anything, move left may encouter a higher bar that add back the area losed by shorter x-axis length\n",
    "            # if left height and right height are the same, move either one is fine\n",
    "            l+=1\n",
    "        else:\n",
    "            r-=1\n",
    "    return result"
   ]
  },
  {
   "cell_type": "code",
   "execution_count": 42,
   "metadata": {},
   "outputs": [
    {
     "data": {
      "text/plain": [
       "49"
      ]
     },
     "execution_count": 42,
     "metadata": {},
     "output_type": "execute_result"
    }
   ],
   "source": [
    "height = [1,8,6,2,5,4,8,3,7]\n",
    "maxArea(height)"
   ]
  },
  {
   "cell_type": "markdown",
   "metadata": {},
   "source": [
    "<b>5.Longest Palindromic Substring </b>"
   ]
  },
  {
   "cell_type": "markdown",
   "metadata": {},
   "source": [
    "way 1: O(N^2)"
   ]
  },
  {
   "cell_type": "code",
   "execution_count": 20,
   "metadata": {},
   "outputs": [],
   "source": [
    "def longestPalindrome(s):\n",
    "    result = \"\"\n",
    "    for i in range(len(s)):\n",
    "        # odd number case\n",
    "        subs = helper(s, i, i)\n",
    "        if len(subs)>len(result):\n",
    "            result = subs\n",
    "        # even number case\n",
    "        subs = helper(s, i, i+1)\n",
    "        if len(subs) > len(result):\n",
    "            result = subs\n",
    "\n",
    "    return result\n",
    "\n",
    "def helper(s, l, r):\n",
    "    \"\"\"\n",
    "    l, r are left and right pointers, returns the palindromic str\n",
    "    l and r start at same location when considering odd num case\n",
    "    l and r start at the adjacent location for even num case\n",
    "    l goes left, r goes right, until while case not meet\n",
    "\n",
    "    \"\"\"\n",
    "\n",
    "    while (l>=0) and (r<len(s)) and (s[l] == s[r]):\n",
    "        l-=1\n",
    "        r+=1\n",
    "    return s[l+1: r]  # substring from l+1 to r-1, the last valid index"
   ]
  },
  {
   "cell_type": "code",
   "execution_count": 21,
   "metadata": {},
   "outputs": [
    {
     "data": {
      "text/plain": [
       "'bab'"
      ]
     },
     "execution_count": 21,
     "metadata": {},
     "output_type": "execute_result"
    }
   ],
   "source": [
    "s = \"babad\"\n",
    "longestPalindrome(s)"
   ]
  },
  {
   "cell_type": "markdown",
   "metadata": {},
   "source": [
    "<b>15. 3Sum </b>\n",
    "\n",
    "This [post](https://leetcode.com/problems/3sum/discuss/232712/Best-Python-Solution-(Explained)) very well explained the O(N^2) solution. It is a two pointers solution. Actually three pointers.  \n",
    "Sorting takes O(NlogN)  \n",
    "We iterate through the nums once, and each time we iterate the whole array again by a while loop  \n",
    "So it is O(NlogN+N^2)~=O(N^2)  \n",
    "\n",
    "There are some smart thougts here\n",
    "if starting number > 0, then no need to continue, cause all positive numbers never meet the criteria  \n",
    "if number in index i is the same as previous number, then continue, to avoid duplicated cases  \n",
    "when case meet, conduct another 2 while loop to eliminate duplicated left and right pointers value to eliminate duplicated cases"
   ]
  },
  {
   "cell_type": "code",
   "execution_count": 3,
   "metadata": {},
   "outputs": [],
   "source": [
    "def threeSum(nums):\n",
    "    nums.sort()\n",
    "    result = []\n",
    "    n = len(nums)\n",
    "    # not need to consider the last two elements as i, because no room for l and r (extra two values)\n",
    "    for i in range(n-2): \n",
    "        if nums[i] > 0: break  # positive numbers wont meet the Q\n",
    "        # same value no need to consider again, because need to find Unique triplets\n",
    "        if i > 0 and nums[i]==nums[i-1]: continue\n",
    "        l = i+1  # left pointer only need to start after i\n",
    "        r = n-1  # right pointer always start at the end of array\n",
    "        while l < r:\n",
    "            total = nums[i]+nums[l] + nums[r]\n",
    "            if total < 0:\n",
    "                # too small, should be larger\n",
    "                l+=1\n",
    "            elif total > 0:\n",
    "                # too big\n",
    "                r-=1\n",
    "            else:\n",
    "                result.append([nums[i],nums[l],nums[r]])\n",
    "                # to avoid getting repeated result\n",
    "                while l < r and nums[l]==nums[l+1]: l+=1\n",
    "                while l < r and nums[r]==nums[r-1]: r-=1\n",
    "                # suppose we never enter the while loop above, still need to move forward. \n",
    "                # the l out of the loop still have the same value of the nums[l] before the loop, so still need to move forward\n",
    "                l+=1\n",
    "                r-=1\n",
    "    return result"
   ]
  },
  {
   "cell_type": "code",
   "execution_count": 23,
   "metadata": {},
   "outputs": [
    {
     "data": {
      "text/plain": [
       "[[-1, -1, 2], [-1, 0, 1]]"
      ]
     },
     "execution_count": 23,
     "metadata": {},
     "output_type": "execute_result"
    }
   ],
   "source": [
    "nums = [-1, 0, 1, 2, -1, -4]\n",
    "threeSum(nums)"
   ]
  },
  {
   "cell_type": "markdown",
   "metadata": {},
   "source": [
    "#### some similar questions to 3Sum  \n",
    "<b>1.two sum </b>\n",
    "\n",
    "Array is not sorted, and sorting in advance wont help either because it wants to return the oringial index. so cant use two pointers. Using hashMap to store the value as key and its index as val, and loop once can solve the prolbme.  \n",
    "Time complexity: O(N)"
   ]
  },
  {
   "cell_type": "code",
   "execution_count": 24,
   "metadata": {},
   "outputs": [],
   "source": [
    "def twoSum(nums, target):\n",
    "    \"\"\"\n",
    "    two pointers\n",
    "    is the array sorted?\n",
    "    \"\"\"\n",
    "\n",
    "    hash_map={}\n",
    "    for ind, n in enumerate(nums):\n",
    "        val = target - n\n",
    "        if val in hash_map:\n",
    "            return [hash_map[val], ind]\n",
    "        hash_map[n]=ind\n",
    "    # not returning False because the Q assume there alwasy exist an unique answer"
   ]
  },
  {
   "cell_type": "code",
   "execution_count": 25,
   "metadata": {},
   "outputs": [
    {
     "data": {
      "text/plain": [
       "[0, 1]"
      ]
     },
     "execution_count": 25,
     "metadata": {},
     "output_type": "execute_result"
    }
   ],
   "source": [
    "nums = [2, 7, 11, 15]\n",
    "target = 9\n",
    "\n",
    "twoSum(nums, target)"
   ]
  },
  {
   "cell_type": "markdown",
   "metadata": {},
   "source": [
    "<b>167.Two Sum II - Input array is sorted </b>\n",
    "\n",
    "way 1: using the hashmap way as twosum above"
   ]
  },
  {
   "cell_type": "code",
   "execution_count": 4,
   "metadata": {},
   "outputs": [],
   "source": [
    "def twoSum(numbers, target):\n",
    "    hash_map = {}\n",
    "    for ind, num in enumerate(numbers):\n",
    "        if num in hash_map:\n",
    "            return [hash_map[num]+1, ind+1]\n",
    "        else:\n",
    "            hash_map[target-num] = ind\n",
    "    "
   ]
  },
  {
   "cell_type": "code",
   "execution_count": 5,
   "metadata": {},
   "outputs": [
    {
     "data": {
      "text/plain": [
       "[1, 2]"
      ]
     },
     "execution_count": 5,
     "metadata": {},
     "output_type": "execute_result"
    }
   ],
   "source": [
    "numbers = [2,7,11,15] \n",
    "target = 9\n",
    "twoSum(numbers, target)"
   ]
  },
  {
   "cell_type": "markdown",
   "metadata": {},
   "source": [
    "way 2:  \n",
    "using two pointers. start from left and right, moving to the right direction  \n",
    "this is what is used in the <b>3 Sum question</b> too"
   ]
  },
  {
   "cell_type": "code",
   "execution_count": 26,
   "metadata": {},
   "outputs": [],
   "source": [
    "def twoSum(numbers, target):\n",
    "    i, j = 0, len(numbers)-1\n",
    "    while i < j:\n",
    "        val = numbers[i] + numbers[j]\n",
    "        if val  < target:\n",
    "            i+=1\n",
    "        elif val > target:\n",
    "            j-=1\n",
    "        else:\n",
    "            return [i+1, j+1]"
   ]
  },
  {
   "cell_type": "code",
   "execution_count": 32,
   "metadata": {},
   "outputs": [
    {
     "data": {
      "text/plain": [
       "[1, 2]"
      ]
     },
     "execution_count": 32,
     "metadata": {},
     "output_type": "execute_result"
    }
   ],
   "source": [
    "numbers = [2,7,11,15] \n",
    "target = 9\n",
    "twoSum(numbers, target)"
   ]
  },
  {
   "cell_type": "markdown",
   "metadata": {},
   "source": [
    "<b>16. 3sum closest </b>  \n",
    "same as 3sum question, first need to sort the array. 3 pointers, move l and r based on sum and target  \n",
    "but the actual returned value is min distance  \n",
    "which is also O(N^2)"
   ]
  },
  {
   "cell_type": "code",
   "execution_count": 34,
   "metadata": {},
   "outputs": [],
   "source": [
    "def threeSumClosest(nums, target):\n",
    "    n = len(nums)\n",
    "    result = float(\"inf\")\n",
    "    nums.sort()\n",
    "    for i in range(n-2):\n",
    "        # assume only have exactly one solution\n",
    "        l = i+1\n",
    "        r = n-1\n",
    "        while l < r:\n",
    "            val = nums[i]+nums[l]+nums[r]\n",
    "            if val > target:\n",
    "                r-=1                 \n",
    "            elif val < target:\n",
    "                l+=1\n",
    "            else:\n",
    "                return val\n",
    "            if abs(result-target) >  abs(val-target):\n",
    "                result = val\n",
    "    return result"
   ]
  },
  {
   "cell_type": "code",
   "execution_count": 35,
   "metadata": {},
   "outputs": [
    {
     "data": {
      "text/plain": [
       "2"
      ]
     },
     "execution_count": 35,
     "metadata": {},
     "output_type": "execute_result"
    }
   ],
   "source": [
    "nums = [-1,2,1,-4]\n",
    "target = 1\n",
    "threeSumClosest(nums, target)"
   ]
  },
  {
   "cell_type": "markdown",
   "metadata": {},
   "source": [
    "<b>259. 3Sum Smaller </b>"
   ]
  },
  {
   "cell_type": "code",
   "execution_count": 36,
   "metadata": {},
   "outputs": [],
   "source": [
    "def threeSumSmaller(nums, target):\n",
    "    \"\"\"tricky\"\"\"\n",
    "    nums.sort()  # okay to sort, the i<j<k just mean no duplicate usage, and the answer just count\n",
    "    n = len(nums)\n",
    "#     if n <=2:\n",
    "#         return 0\n",
    "    result = 0\n",
    "    for i in range(n-2):\n",
    "        l = i+1\n",
    "        r = n-1\n",
    "        while l < r:\n",
    "            if nums[i]+nums[l]+nums[r]<target:\n",
    "                result += (r-l)  # key point, otherwise will miss cases [i, l, between l and r], since r only updates when sum >= target\n",
    "                l +=1\n",
    "            else:\n",
    "                r -=1\n",
    "    return result"
   ]
  },
  {
   "cell_type": "code",
   "execution_count": 37,
   "metadata": {},
   "outputs": [
    {
     "data": {
      "text/plain": [
       "2"
      ]
     },
     "execution_count": 37,
     "metadata": {},
     "output_type": "execute_result"
    }
   ],
   "source": [
    "nums = [-2,0,1,3]\n",
    "target = 2\n",
    "threeSumSmaller(nums, target)"
   ]
  },
  {
   "cell_type": "markdown",
   "metadata": {},
   "source": [
    "<b> 3. Longest Substring without repeating characters </b>  \n",
    "keep a hash map to track all visited characters, the search in a hashmap is O(1). char as key, index as value.  \n",
    "two pointers to construct a <b> sliding window </b>, i is the start of the substring, j keeps moving forward. if j meets a used char in hashmap, i starts to moving forward and updating the hashmap by removing the chars until deleting the duplicated char that j now points. now i is at right of the last found duplicated char.  \n",
    "the char between i and j have already checked no duplicates, so j just keep moving forward, no need to re-check chars between new i and j.\n",
    "\n",
    "The two pointers only move forward\n",
    "O(2n) = 2(N)"
   ]
  },
  {
   "cell_type": "code",
   "execution_count": 39,
   "metadata": {},
   "outputs": [],
   "source": [
    "def lengthOfLongestSubstring(s):\n",
    "    n = len(s)\n",
    "    i, j = 0, 0\n",
    "    result = 0\n",
    "    temp = {}   # visisted chars, char as key, index as value\n",
    "    while j < n:\n",
    "        if s[j] not in temp:\n",
    "            temp[s[j]] = j\n",
    "            j+=1\n",
    "            result = max(result, j-i)\n",
    "        else:\n",
    "            del temp[s[i]]\n",
    "            i += 1\n",
    "    return result"
   ]
  },
  {
   "cell_type": "code",
   "execution_count": 40,
   "metadata": {},
   "outputs": [
    {
     "data": {
      "text/plain": [
       "3"
      ]
     },
     "execution_count": 40,
     "metadata": {},
     "output_type": "execute_result"
    }
   ],
   "source": [
    "s=\"abcabcbb\"\n",
    "lengthOfLongestSubstring(s)"
   ]
  },
  {
   "cell_type": "markdown",
   "metadata": {},
   "source": [
    "<b>238.Product of Array Except Self </b>  \n",
    "Actually not two pointers, just loop  \n",
    "Without using division, to complete O(N) that means can only loop the whole array constant times.  \n",
    "Can construct a left array, stores the left product of each num in the array  \n",
    "And another loop to construct a right array, stores the right product of each num in the array  \n",
    "Then result of left * right for each position in the array.   \n",
    "To optimize the space, we can use result array to store the left array at the first loop, the in second loop, construct var right, and directly apply it to the left array, which is result array, and update the result array on the fly.\n",
    "a very good explanation in the first comment of this [post](https://leetcode.com/problems/product-of-array-except-self/discuss/65622/Simple-Java-solution-in-O(n)-without-extra-space)"
   ]
  },
  {
   "cell_type": "markdown",
   "metadata": {},
   "source": [
    "a version with explanations of having the left and right array"
   ]
  },
  {
   "cell_type": "code",
   "execution_count": 46,
   "metadata": {},
   "outputs": [],
   "source": [
    "def productExceptSelf(nums):\n",
    "    n = len(nums)\n",
    "    result, left, right = [0]*n, [0]*n, [0]*n\n",
    "    # first num wont have left product, so default to 1, that means result[0]=1\n",
    "    left[0] = 1   \n",
    "    for i in range(1, n):\n",
    "        # the first loop, construct left product for each n in nums\n",
    "        left[i] = left[i-1] * nums[i-1]\n",
    "    # last num wont have right product, so default to 1\n",
    "    right[-1] = 1\n",
    "    for i in range(n-2, -1, -1):\n",
    "        # starting from back, construct the right product, and fill the result at one loop\n",
    "        right[i] = right[i+1] * nums[i+1]\n",
    "    for i in range(n):\n",
    "        result[i] = left[i]*right[i]\n",
    "    return result"
   ]
  },
  {
   "cell_type": "code",
   "execution_count": 47,
   "metadata": {},
   "outputs": [
    {
     "data": {
      "text/plain": [
       "[24, 12, 8, 6]"
      ]
     },
     "execution_count": 47,
     "metadata": {},
     "output_type": "execute_result"
    }
   ],
   "source": [
    "nums = [1,2,3,4]\n",
    "productExceptSelf(nums)"
   ]
  },
  {
   "cell_type": "markdown",
   "metadata": {},
   "source": [
    "this version is more concise from the above => same idea as above"
   ]
  },
  {
   "cell_type": "code",
   "execution_count": 51,
   "metadata": {},
   "outputs": [],
   "source": [
    "from collections import Counter\n",
    "def productExceptSelf(nums):\n",
    "    n = len(nums)\n",
    "    result = [0]*n\n",
    "    # first num wont have left product, so default to 1\n",
    "    result[0] = 1   \n",
    "    for i in range(1, n):\n",
    "        # the first loop, construct left product for each n in nums\n",
    "        result[i] = result[i-1]*nums[i-1]\n",
    "    # last num wont have right product, so default to 1\n",
    "    right = 1\n",
    "    for i in range(n-1, -1, -1):\n",
    "        # starting from back, construct the right product, and fill the result at one loop\n",
    "        # result = left prodct * right product, and we use result list to store the left product above\n",
    "        result[i] *= right\n",
    "        right *= nums[i]  # this is the right product for next value in nums\n",
    "    return result"
   ]
  },
  {
   "cell_type": "markdown",
   "metadata": {},
   "source": [
    "<b>76.Minimum Window Substring <b>"
   ]
  },
  {
   "cell_type": "markdown",
   "metadata": {},
   "source": [
    "Sliding window (two pointers), first using right pointer to find spot where left and right together construct a window that includes all chars needed. Then move the left window to find the correct start to get rid of some unnecessary chars. Two sliders keep moving forward. Worst case left and right pointers all visited the whole array, but still time complexity is O(N)  \n",
    "1. Use two pointers: start and end to represent a window.  \n",
    "2. Move end to find a valid window.  \n",
    "3. When a valid window is found, move start to find a smaller window.  "
   ]
  },
  {
   "cell_type": "markdown",
   "metadata": {},
   "source": [
    "why start index j from 1?  \n",
    "when set j to starting from 0, if the test case is s=\"a\", t=\"aa\", supposed to return empty string, but if set j to 0, the return would be s[start: end+1], which returns \"a\". Because end is from j, and it is a needed index, so need to +1 to ensure j is included in the result. But the s[start:end+1] wont work for the above test case. that means if using j start from 0, need special care of the cases before.   \n",
    "if set j to start from 1, result is s[start:end], the above case would be s[0:0] which returns empty string, no need special care"
   ]
  },
  {
   "cell_type": "code",
   "execution_count": 48,
   "metadata": {},
   "outputs": [],
   "source": [
    "def minWindow(s, t):\n",
    "    \"\"\"smart sliding window\"\"\"\n",
    "    need = Counter(t)  # dict to see what chars should include. Magic about Counter dic is even c not in the dict, can still call dict[c] which will give 0 as the count\n",
    "    missing = len(t) # how many chars are still needed\n",
    "    # two pointers that save the smallest window found so far\n",
    "    start, end = 0, 0 \n",
    "    i = 0   # another pair of pointers i, j used to do sliding in each step of loop\n",
    "    for j, char in enumerate(s, 1):  # start index j from 1\n",
    "        if need[char] > 0:\n",
    "            # find one needed char\n",
    "            missing -=1\n",
    "        # even char not in t, the counter dict will by default have it as count 0\n",
    "        need[char] -= 1\n",
    "\n",
    "        # if j slides to a position where all chars are found, move the i to update the window size, smaller but still holds what you need\n",
    "        if missing == 0:\n",
    "            # j starts from 1, \n",
    "            # a needed char starts count > 0, an unneeded char starts from 0\n",
    "            # so when loop using i from start, if it is an unneeded char, the number is flipping back and i hits j, if it is a needed char before i hits j there is one splace need == 0\n",
    "            while i < j and need[s[i]]<0:\n",
    "                need[s[i]] +=1\n",
    "                i += 1\n",
    "            # now i points to a new start of a small sliding window that still holds every chars needed\n",
    "            if end== 0 or j-i < end - start: \n",
    "                start, end = i, j # note, here end and j are the last needed char\n",
    "            # now i need to move to the next position, the current position is a needed char, before moving, update the need and missing\n",
    "            need[s[i]] +=1\n",
    "            missing += 1\n",
    "            i += 1\n",
    "    return s[start: end]"
   ]
  },
  {
   "cell_type": "code",
   "execution_count": 52,
   "metadata": {},
   "outputs": [
    {
     "data": {
      "text/plain": [
       "''"
      ]
     },
     "execution_count": 52,
     "metadata": {},
     "output_type": "execute_result"
    }
   ],
   "source": [
    "s=\"a\"\n",
    "t=\"aa\"\n",
    "minWindow(s, t)"
   ]
  },
  {
   "cell_type": "code",
   "execution_count": 53,
   "metadata": {},
   "outputs": [
    {
     "data": {
      "text/plain": [
       "'BANC'"
      ]
     },
     "execution_count": 53,
     "metadata": {},
     "output_type": "execute_result"
    }
   ],
   "source": [
    "s = \"ADOBECODEBANC\"\n",
    "t = \"ABC\"\n",
    "minWindow(s, t)"
   ]
  },
  {
   "cell_type": "markdown",
   "metadata": {},
   "source": [
    "<b> 763. Partition Labels </b>\n",
    "actually three pointers.  \n",
    "first construct a hashmap to store the right most index for each unique character\n",
    "two pointers: start and end to mark the window of each partition\n",
    "another pointer while loop the string as array, update the last index of the char by current pointer.\n",
    "the `if i == end` is a smart step to find the right start\n",
    "\n",
    "why last would be updated while looping?\n",
    "for example: between those two occurrences of 'a', there could be other labels that make the minimum size of this partition bigger. \n",
    "\n",
    "time complexity O(N)\n"
   ]
  },
  {
   "cell_type": "code",
   "execution_count": 54,
   "metadata": {},
   "outputs": [],
   "source": [
    "def partitionLabels(S):\n",
    "    \"\"\"three pointers actually\"\"\"\n",
    "    # save the right most index of each char\n",
    "    hashmap = {c: i for i, c in enumerate(S)}\n",
    "    result = []\n",
    "    # two pointers here\n",
    "    start,end = 0, 0\n",
    "\n",
    "    # construct another pointer\n",
    "    for i, c in enumerate(S):\n",
    "        end = max(end, hashmap[c])\n",
    "        if i == end:\n",
    "            result.append(end-start+1)\n",
    "            start = i+1\n",
    "\n",
    "    return result"
   ]
  },
  {
   "cell_type": "code",
   "execution_count": 55,
   "metadata": {},
   "outputs": [
    {
     "data": {
      "text/plain": [
       "[9, 7, 8]"
      ]
     },
     "execution_count": 55,
     "metadata": {},
     "output_type": "execute_result"
    }
   ],
   "source": [
    "S = \"ababcbacadefegdehijhklij\"\n",
    "partitionLabels(S)"
   ]
  },
  {
   "cell_type": "markdown",
   "metadata": {},
   "source": [
    "<b> 253.Meeting Rooms II </b>"
   ]
  },
  {
   "cell_type": "code",
   "execution_count": 59,
   "metadata": {},
   "outputs": [],
   "source": [
    "def minMeetingRooms(intervals):\n",
    "    starts = sorted(i[0] for i in intervals)\n",
    "    ends = sorted(i[1] for i in intervals)\n",
    "    available = room_needed = 0\n",
    "    s = 0 # start meeting pointer\n",
    "    e = 0  # end meeting pointer\n",
    "    while s < len(intervals):\n",
    "        # need a room\n",
    "        if starts[s] < ends[e]:\n",
    "            if available > 0:\n",
    "                available -= 1\n",
    "            else:\n",
    "                room_needed += 1\n",
    "            s+=1\n",
    "        else:\n",
    "            # a previous meeting is ended before the next one starts:\n",
    "            # it will keep checking, and it works becauses when s == e, it will need a room\n",
    "            available += 1\n",
    "            e+=1\n",
    "    return room_needed"
   ]
  },
  {
   "cell_type": "code",
   "execution_count": 60,
   "metadata": {},
   "outputs": [
    {
     "data": {
      "text/plain": [
       "2"
      ]
     },
     "execution_count": 60,
     "metadata": {},
     "output_type": "execute_result"
    }
   ],
   "source": [
    "intervals = [[0,30],[5,10],[15,20]]\n",
    "minMeetingRooms(intervals)"
   ]
  },
  {
   "cell_type": "code",
   "execution_count": 61,
   "metadata": {},
   "outputs": [
    {
     "data": {
      "text/plain": [
       "2"
      ]
     },
     "execution_count": 61,
     "metadata": {},
     "output_type": "execute_result"
    }
   ],
   "source": [
    "\n",
    "intervals=[[0,2],[1,3],[2,4],[3,5],[4,6]]\n",
    "minMeetingRooms(intervals)"
   ]
  },
  {
   "cell_type": "markdown",
   "metadata": {},
   "source": [
    "<b>435.Non-overlapping Intervals</b>"
   ]
  },
  {
   "cell_type": "markdown",
   "metadata": {},
   "source": [
    "sort by end is the key, keep the intervals ends first, so latter ones can have more room, so will reduce less amount of items compare with sort by start."
   ]
  },
  {
   "cell_type": "code",
   "execution_count": 62,
   "metadata": {},
   "outputs": [],
   "source": [
    "def eraseOverlapIntervals(intervals) :\n",
    "    \"\"\"find max number of items that are not overlapping\"\"\"\n",
    "    if not intervals:\n",
    "        return 0\n",
    "     # sort by last number, so can find MIN number of intervals need to remove\n",
    "        # keep the one ends early will give latter one more room to not overlap\n",
    "    intervals.sort(key = lambda x: x[1]) \n",
    "    start = intervals[0]\n",
    "    count = 1 # count is the non-overlapping count\n",
    "    for end in intervals[1:]:\n",
    "        if start[-1]<=end[0]:\n",
    "            count += 1\n",
    "            start = end\n",
    "    return len(intervals)-count"
   ]
  },
  {
   "cell_type": "code",
   "execution_count": 63,
   "metadata": {},
   "outputs": [
    {
     "data": {
      "text/plain": [
       "1"
      ]
     },
     "execution_count": 63,
     "metadata": {},
     "output_type": "execute_result"
    }
   ],
   "source": [
    "intervals = [[1,2],[2,3],[3,4],[1,3]]\n",
    "eraseOverlapIntervals(intervals)"
   ]
  },
  {
   "cell_type": "markdown",
   "metadata": {},
   "source": [
    "another way, may be easier to understand"
   ]
  },
  {
   "cell_type": "code",
   "execution_count": 64,
   "metadata": {},
   "outputs": [],
   "source": [
    "def eraseOverlapIntervals(intervals):\n",
    "    \"\"\"find max number of items that are not overlapping\"\"\"\n",
    "    if not intervals:\n",
    "        return 0\n",
    "    # sort by last number, so can find MIN number of intervals need to remove\n",
    "\n",
    "    # keep the one ends early will give latter one more room to not overlap\n",
    "    intervals.sort(key = lambda x: x[1]) \n",
    "    end = float('-inf')\n",
    "    result = 0\n",
    "    for i in intervals:\n",
    "        if i[0]>=end:\n",
    "            # no overlapping, keep i\n",
    "            end = i[1]\n",
    "        else:\n",
    "            # overlapping occurs\n",
    "            result+=1\n",
    "    return result"
   ]
  },
  {
   "cell_type": "code",
   "execution_count": 65,
   "metadata": {},
   "outputs": [
    {
     "data": {
      "text/plain": [
       "1"
      ]
     },
     "execution_count": 65,
     "metadata": {},
     "output_type": "execute_result"
    }
   ],
   "source": [
    "intervals = [[1,2],[2,3],[3,4],[1,3]]\n",
    "eraseOverlapIntervals(intervals)"
   ]
  },
  {
   "cell_type": "markdown",
   "metadata": {},
   "source": [
    "<b> 53. Maximum Subarray </b>\n",
    "\n",
    "greedy way:  \n",
    "current element = [-2, <b>1</b>, -3, <b>4</b>, -1, 2, 1, -5, 4]  \n",
    "current max sum = [-2, <b>1</b>, -2, <b>4</b>, 3, 5, 6, 1, 5] bold num is where curr max restart  \n",
    "max sum so far  = [-2, 1, 1, 4, 4, 5, 6, 6, 6]. => 6\n",
    "\n",
    "loop the array once, so O(N)"
   ]
  },
  {
   "cell_type": "code",
   "execution_count": null,
   "metadata": {},
   "outputs": [],
   "source": [
    "def maxSubArray(nums):\n",
    "    curr_sum = max_sum = nums[0]\n",
    "    for n in nums[1:]:\n",
    "        curr_sum = max(curr_sum+n, n) # check where the sub array should restarts\n",
    "        # restart the subarray at a better position, so curr_sum helps determine where it should start\n",
    "        max_sum = max(max_sum, curr_sum)\n",
    "        # control where the subarray should stop\n",
    "    return max_sum"
   ]
  },
  {
   "cell_type": "markdown",
   "metadata": {},
   "source": [
    "<b> 48 Rotate image </b>\n",
    "\n",
    "way 1: first transpose (a[i][j] = a[j][i]). then reverse each row"
   ]
  },
  {
   "cell_type": "code",
   "execution_count": 1,
   "metadata": {},
   "outputs": [],
   "source": [
    "def rotate(matrix):\n",
    "    \"\"\"\n",
    "    Do not return anything, modify matrix in-place instead.\n",
    "    \"\"\"\n",
    "    # transpose first, then reverse each row\n",
    "    # transpose is litteraly a[i][j] = a[j][i]\n",
    "    # imagine item in the diagonal line is steady, left and right of the diagonal line swapped. \n",
    "    # then remember to reverse each row to get the 90 degree rotation effect\n",
    "\n",
    "    n = len(matrix)\n",
    "    for i in range(n):\n",
    "        for j in range(i, n):\n",
    "            # start from the first column, never go back\n",
    "            matrix[i][j], matrix[j][i] = matrix[j][i], matrix[i][j]\n",
    "\n",
    "    for i in range(n):\n",
    "        matrix[i]=matrix[i][::-1]\n",
    "\n",
    "    return matrix"
   ]
  },
  {
   "cell_type": "code",
   "execution_count": 2,
   "metadata": {},
   "outputs": [
    {
     "data": {
      "text/plain": [
       "[[7, 4, 1], [8, 5, 2], [9, 6, 3]]"
      ]
     },
     "execution_count": 2,
     "metadata": {},
     "output_type": "execute_result"
    }
   ],
   "source": [
    "matrix = [[1,2,3],\n",
    "  [4,5,6],\n",
    "  [7,8,9]]\n",
    "rotate(matrix)"
   ]
  },
  {
   "cell_type": "markdown",
   "metadata": {},
   "source": [
    "<b> 415 Add Strings </b>\n",
    "\n",
    "using while loop instead of for loop to avoid extra check of which array is longer after loop\n",
    "\n",
    "using ord() to transform string numbers into integer numbers"
   ]
  },
  {
   "cell_type": "code",
   "execution_count": 6,
   "metadata": {},
   "outputs": [],
   "source": [
    "def addStrings(num1, num2):\n",
    "    result = []\n",
    "    add_on = 0\n",
    "    n1 = len(num1)-1\n",
    "    n2 = len(num2)-1\n",
    "    while n1>=0 or n2>=0:\n",
    "        # in this way no need to check which array is longer after loop for extra elements\n",
    "        x1 = ord(num1[n1])-ord('0') if n1>=0 else 0\n",
    "        x2 = ord(num2[n2])-ord('0') if n2>=0 else 0\n",
    "        value = (x1+x2+add_on)%10\n",
    "        add_on = (x1+x2+add_on)//10\n",
    "        result.append(value)\n",
    "        n1-=1\n",
    "        n2-=1\n",
    "    # incase any add_on value left after the while loop\n",
    "    if add_on:\n",
    "        result.append(add_on)\n",
    "    return ''.join(str(x) for x in result[::-1])\n"
   ]
  },
  {
   "cell_type": "code",
   "execution_count": 7,
   "metadata": {},
   "outputs": [
    {
     "data": {
      "text/plain": [
       "'0'"
      ]
     },
     "execution_count": 7,
     "metadata": {},
     "output_type": "execute_result"
    }
   ],
   "source": [
    "num1, num2 = \"0\", \"0\"\n",
    "addStrings(num1, num2)"
   ]
  }
 ],
 "metadata": {
  "kernelspec": {
   "display_name": "testground",
   "language": "python",
   "name": "testground"
  },
  "language_info": {
   "codemirror_mode": {
    "name": "ipython",
    "version": 3
   },
   "file_extension": ".py",
   "mimetype": "text/x-python",
   "name": "python",
   "nbconvert_exporter": "python",
   "pygments_lexer": "ipython3",
   "version": "3.8.3"
  }
 },
 "nbformat": 4,
 "nbformat_minor": 4
}
