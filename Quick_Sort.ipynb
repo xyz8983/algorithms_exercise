{
 "cells": [
  {
   "cell_type": "markdown",
   "metadata": {},
   "source": [
    "### Quick Sort\n",
    "Using the idea of divide and concur.\n",
    "\n",
    "Efficiency: on average it is O(NlogN) (choose media as pivot) , worse cases: O(N^2) choose smallest/largetst num as pivot.\n",
    "\n",
    "Basic idea: pick a pivot value, all value smaller then the pivot should be left, all values greater than the pivot should be on the right.\n",
    "\n",
    "Besides using to sort an array, quick sort can be used to find the Kth largest / smallest element in an <b>unsorted</b> array, which only O(N) because each sort takes O(N): loop all elements, but unlike sorting the entire array, only need to sort x particular times, x*O(N) still O(N)"
   ]
  },
  {
   "cell_type": "markdown",
   "metadata": {},
   "source": [
    "the process of moving elements to correct spot is called partition. there are different ways of implementations:  \n",
    "- Always pick first element as pivot.\n",
    "- Always pick last element as pivot\n",
    "- Pick a random element as pivot.\n",
    "- Pick median as pivot."
   ]
  },
  {
   "cell_type": "markdown",
   "metadata": {},
   "source": [
    "here using finding kth largest elements in an array as an example\n",
    "\n",
    "<b> 215. Kth Largest Element in an Array </b>  \n",
    "#### way 1   => remember this one!\n",
    "using for loop and the loop var to swap elements. using last item as pivot value => cant optimize by random pivot"
   ]
  },
  {
   "cell_type": "code",
   "execution_count": 1,
   "metadata": {},
   "outputs": [],
   "source": [
    "## efficienty O(N)\n",
    "def partition(nums, l, r):\n",
    "    # l: left index, r: right index, nums: array\n",
    "    a = l\n",
    "    pivot = nums[r]  \n",
    "    for i in range(l, r):\n",
    "        if nums[i] >= pivot: # here >= because finding kth largest value, if smallest, change to <=\n",
    "            nums[a], nums[i] = nums[i], nums[a]  # swap so all elements left to a is larger than pivot value\n",
    "            a += 1  # move a forward so position a is ready to keep next valid value\n",
    "        # for values < pivot, no action needed, a will point to it in order to swap with next valid value\n",
    "    nums[a], nums[r] = nums[r], nums[a]  \n",
    "    # range(l, r) so r is no visited in loop. this swap to ensure all elements left to a including a are >= pivot value\n",
    "    return a  # a is the position to which left part is all >= pivot value\n",
    "\n",
    "def find_kth_value(nums, k):\n",
    "    l, r = 0, len(nums)-1  # all valid index value\n",
    "    while l < r:\n",
    "        a = partition(nums, l, r)\n",
    "        if a == k-1: # based on the question, if finding kth number, actually the index should be k-1\n",
    "            break\n",
    "        elif a >= k-1: # target value is on the left part, which is not totally sorted \n",
    "            r = a-1\n",
    "        else: # target value is on the right part, which is not totally sorted\n",
    "            l = a+1\n",
    "    return nums[k-1]\n",
    "\n",
    "def quick_sort(nums, l, r):\n",
    "    if l<r:\n",
    "        a = partition(nums, l, r)\n",
    "        quick_sort(nums, l, a-1)\n",
    "        quick_sort(nums, a+1, r)\n",
    "    "
   ]
  },
  {
   "cell_type": "code",
   "execution_count": 3,
   "metadata": {},
   "outputs": [
    {
     "data": {
      "text/plain": [
       "5"
      ]
     },
     "execution_count": 3,
     "metadata": {},
     "output_type": "execute_result"
    }
   ],
   "source": [
    "find_kth_value([3,2,1,5,1,3, 5], 2)"
   ]
  },
  {
   "cell_type": "code",
   "execution_count": 3,
   "metadata": {},
   "outputs": [
    {
     "data": {
      "text/plain": [
       "3"
      ]
     },
     "execution_count": 3,
     "metadata": {},
     "output_type": "execute_result"
    }
   ],
   "source": [
    "find_kth_value([3,2,1,5], 2)"
   ]
  },
  {
   "cell_type": "code",
   "execution_count": 10,
   "metadata": {},
   "outputs": [
    {
     "name": "stdout",
     "output_type": "stream",
     "text": [
      "[5, 3, 2, 1]\n"
     ]
    }
   ],
   "source": [
    "nums = [3,2,1,5]\n",
    "quick_sort(nums, 0, len(nums)-1)\n",
    "print(nums)"
   ]
  },
  {
   "cell_type": "markdown",
   "metadata": {},
   "source": [
    "#### way 2\n",
    "two pointers, one from very left, one from very right, each find the number that should be put to other side"
   ]
  },
  {
   "cell_type": "code",
   "execution_count": 39,
   "metadata": {},
   "outputs": [],
   "source": [
    "def partition_2(nums, l, r):\n",
    "    pivot_index = (l+r)//2\n",
    "    pivot = nums[pivot_index]  # for simplicity, can use nums[l] or nums[r] as pivot value\n",
    "    small, large = l, r\n",
    "    while small < large:\n",
    "        while small <= r and nums[small]>=pivot: # here >= becausing finding largest kth value, so target nums is DESC\n",
    "            small += 1\n",
    "        while large >= l and nums[large] < pivot:\n",
    "            large -= 1\n",
    "        if small < large: # find valid spot where values by two poiters can swap\n",
    "            nums[small], nums[large] = nums[large], nums[small]\n",
    "    # this is a critical step: although now elements left to nums[large] are all larger than pivot value, but it is \n",
    "    # NOT all elemets left to nums[large] are larger than nums[large], so need this final swap, \n",
    "    # then returning large is meaningful.\n",
    "    nums[pivot_index], nums[large] = nums[large], nums[pivot_index] \n",
    "    return large # large because pointer move to left part which is the target part\n",
    " \n",
    "# same find_kth_value as before\n",
    "def find_kth_value_2(nums, k):\n",
    "    l, r = 0, len(nums)-1  # all valid index value\n",
    "    while l < r:\n",
    "        a = partition_2(nums, l, r)\n",
    "        if a == k-1: # based on the question, if finding kth number, actually the index should be k-1\n",
    "            break\n",
    "        elif a >= k-1: # target value is on the left part, which is not totally sorted \n",
    "            r = a-1\n",
    "        else: # target value is on the right part, which is not totally sorted\n",
    "            l = a+1\n",
    "    return nums[k-1]   \n",
    "\n",
    "# same func as before\n",
    "def quick_sort_2(nums, l, r):\n",
    "    if l<r:\n",
    "        a = partition_2(nums, l, r)\n",
    "        quick_sort_2(nums, l, a-1)\n",
    "        quick_sort_2(nums, a+1, r)"
   ]
  },
  {
   "cell_type": "code",
   "execution_count": 40,
   "metadata": {},
   "outputs": [
    {
     "data": {
      "text/plain": [
       "2"
      ]
     },
     "execution_count": 40,
     "metadata": {},
     "output_type": "execute_result"
    }
   ],
   "source": [
    "find_kth_value_2([3,2,1,5,1,3, 5], 2)"
   ]
  },
  {
   "cell_type": "code",
   "execution_count": 41,
   "metadata": {},
   "outputs": [],
   "source": [
    "def partition_2_2(nums, l, r):\n",
    "    pivot_index = (l+r)//2\n",
    "    pivot = nums[pivot_index]  # for simplicity, can use nums[l] or nums[r] as pivot value\n",
    "    small, large = l, r\n",
    "    while small <= large:\n",
    "        while small <= large and nums[small]>pivot: # here >= becausing finding largest kth value, so target nums is DESC\n",
    "            small += 1\n",
    "        while small >= large and nums[large] < pivot:\n",
    "            large -= 1\n",
    "        if small <= large: # find valid spot where values by two poiters can swap\n",
    "            nums[small], nums[large] = nums[large], nums[small]\n",
    "            small+=1\n",
    "            large -=1\n",
    "    # this is a critical step: although now elements left to nums[large] are all larger than pivot value, but it is \n",
    "    # NOT all elemets left to nums[large] are larger than nums[large], so need this final swap, \n",
    "    # then returning large is meaningful.\n",
    "    nums[pivot_index], nums[large] = nums[large], nums[pivot_index] \n",
    "    return large # large because pointer move to left part which is the target part\n",
    "\n",
    "# same find_kth_value as before\n",
    "def find_kth_value_2_2(nums, k):\n",
    "    l, r = 0, len(nums)-1  # all valid index value\n",
    "    while l < r:\n",
    "        a = partition_2_2(nums, l, r)\n",
    "        if a == k-1: # based on the question, if finding kth number, actually the index should be k-1\n",
    "            break\n",
    "        elif a >= k-1: # target value is on the left part, which is not totally sorted \n",
    "            r = a-1\n",
    "        else: # target value is on the right part, which is not totally sorted\n",
    "            l = a+1\n",
    "    return nums[k-1]   "
   ]
  },
  {
   "cell_type": "code",
   "execution_count": 42,
   "metadata": {},
   "outputs": [
    {
     "data": {
      "text/plain": [
       "2"
      ]
     },
     "execution_count": 42,
     "metadata": {},
     "output_type": "execute_result"
    }
   ],
   "source": [
    "find_kth_value_2([3,2,1,5], 3)"
   ]
  },
  {
   "cell_type": "code",
   "execution_count": 28,
   "metadata": {},
   "outputs": [
    {
     "name": "stdout",
     "output_type": "stream",
     "text": [
      "[5, 3, 2, 1]\n"
     ]
    }
   ],
   "source": [
    "nums = [3,2,1,5]\n",
    "quick_sort(nums, 0, len(nums)-1)\n",
    "print(nums)"
   ]
  },
  {
   "cell_type": "markdown",
   "metadata": {},
   "source": [
    "#### way 3\n",
    "no need extra partition method, BUT use EXTRA SPACE\n",
    "this method is just for finding kth smallest/largest element, cant use for quick sort"
   ]
  },
  {
   "cell_type": "code",
   "execution_count": 33,
   "metadata": {},
   "outputs": [],
   "source": [
    "# using three list\n",
    "import random\n",
    "def find_kth_value_3(nums, k):\n",
    "    small, large, equal = [], [], []\n",
    "    pivot = random.choice(nums)\n",
    "    for n in nums:\n",
    "        if n<pivot:\n",
    "            small.append(n)\n",
    "        elif n>pivot:\n",
    "            large.append(n)\n",
    "        else:\n",
    "            equal.append(n)\n",
    "    # why compare with len(large)=>because to get kth largest num, if kth smallest, compare with len(small)\n",
    "    # think it visually, longer len(large), the right len(large), smaller len(large) but len(equal) fit well, small len(large)\n",
    "    if len(large)> k-1: # the target value is within the lare list\n",
    "        return find_kth_element_3(large, k)\n",
    "    elif len(large) == k-1: # k-1 because the pivot now would the kth value\n",
    "        return pivot\n",
    "    elif len(equal)>= k-len(large): # even though large list is not enough, but kth largest element happen to be in the equal list\n",
    "        return pivot\n",
    "    else: # k is in the small list, but large and equal has already find the len(large)+len(equal) element\n",
    "        return find_kth_element_3(small, k-len(large)-len(equal))"
   ]
  },
  {
   "cell_type": "code",
   "execution_count": 36,
   "metadata": {},
   "outputs": [
    {
     "data": {
      "text/plain": [
       "5"
      ]
     },
     "execution_count": 36,
     "metadata": {},
     "output_type": "execute_result"
    }
   ],
   "source": [
    "find_kth_value_3([3,2,1,5], 1)"
   ]
  },
  {
   "cell_type": "markdown",
   "metadata": {},
   "source": [
    "<b> way 4 </b>  => <b>remember this one. </b>  \n",
    "this implementation is able to deal with duplicated cases\n",
    "no need to have separate partition function\n",
    "\n",
    "smart difference from way 2! pay attention"
   ]
  },
  {
   "cell_type": "code",
   "execution_count": 26,
   "metadata": {},
   "outputs": [],
   "source": [
    "def find_kth(nums, start, end, kth):\n",
    "    # k is zero based\n",
    "    left, right = start, end\n",
    "    mid = nums[(left + right) // 2]\n",
    "\n",
    "    while left <= right:  # <=. not just <\n",
    "        while left <= right and nums[left] > mid:  # stricly >, no more >=\n",
    "            left += 1\n",
    "        while left <= right and nums[right] < mid:  # still left<= right, not right < end\n",
    "            right -= 1\n",
    "        if left <= right:  # <=. not just <\n",
    "            nums[left], nums[right] = nums[right], nums[left]\n",
    "            left, right = left + 1, right - 1\n",
    "    \n",
    "    # no more last step swap between right and pivot element\n",
    "    \n",
    "    # k is compared with left and right, not just right\n",
    "    if kth <= right:\n",
    "        return find_kth(nums, start, right, kth)\n",
    "    elif kth >= left:\n",
    "        return find_kth(nums, left, end, kth)\n",
    "    else:\n",
    "        return nums[kth]"
   ]
  },
  {
   "cell_type": "code",
   "execution_count": 32,
   "metadata": {},
   "outputs": [
    {
     "data": {
      "text/plain": [
       "5"
      ]
     },
     "execution_count": 32,
     "metadata": {},
     "output_type": "execute_result"
    }
   ],
   "source": [
    "# nums = [3,2,1,5]  # target kth element in sorted way\n",
    "# find_kth(nums, 0, len(nums) - 1, 0) # 1\n",
    "# find_kth(nums, 0, len(nums) - 1, 5) # \n",
    "nums = [3,2,1,5,1,3,5] # 1 1 2 3 3 5 5\n",
    "find_kth(nums, 0, len(nums) - 1, 1)  # here k is 0 based index"
   ]
  },
  {
   "cell_type": "markdown",
   "metadata": {},
   "source": [
    "<b> 973. K Closest Points to Origin </b>\n",
    "\n",
    "pivot value is x[0]*x[0] + x[1]*x[1], returning the k most closest notes, so return a list\n",
    "\n",
    "because the question said the result can <b>return in any order</b>, no need to return in sorted order. that makes using quick sort a feasible solution."
   ]
  },
  {
   "cell_type": "code",
   "execution_count": 48,
   "metadata": {},
   "outputs": [],
   "source": [
    "def kClosest(points, K):\n",
    "    l, r = 0, len(points)-1\n",
    "    while l<r:\n",
    "        a = partition_973(points, l, r)\n",
    "        if a < K-1:\n",
    "            l = a+1\n",
    "        elif a > K-1:\n",
    "            r = a-1\n",
    "        else:\n",
    "            break\n",
    "    return points[:K]\n",
    "\n",
    "distance = lambda x: x[0]**2+x[1]**2\n",
    "\n",
    "def partition_973(p, l ,r):\n",
    "    a = l\n",
    "    pivot = distance(p[r])\n",
    "    for i in range(l, r):\n",
    "        if distance(p[i]) <= pivot:\n",
    "            p[i], p[a] = p[a], p[i]\n",
    "            a+=1\n",
    "    p[r], p[a] = p[a], p[r]\n",
    "    return a\n",
    "            "
   ]
  },
  {
   "cell_type": "code",
   "execution_count": 49,
   "metadata": {},
   "outputs": [
    {
     "data": {
      "text/plain": [
       "[[3, 3], [-2, 4]]"
      ]
     },
     "execution_count": 49,
     "metadata": {},
     "output_type": "execute_result"
    }
   ],
   "source": [
    "points = [[3,3],[5,-1],[-2,4]]\n",
    "K = 2\n",
    "kClosest(points, K)"
   ]
  },
  {
   "cell_type": "code",
   "execution_count": null,
   "metadata": {},
   "outputs": [],
   "source": []
  }
 ],
 "metadata": {
  "kernelspec": {
   "display_name": "testground",
   "language": "python",
   "name": "testground"
  },
  "language_info": {
   "codemirror_mode": {
    "name": "ipython",
    "version": 3
   },
   "file_extension": ".py",
   "mimetype": "text/x-python",
   "name": "python",
   "nbconvert_exporter": "python",
   "pygments_lexer": "ipython3",
   "version": "3.8.3"
  }
 },
 "nbformat": 4,
 "nbformat_minor": 4
}
