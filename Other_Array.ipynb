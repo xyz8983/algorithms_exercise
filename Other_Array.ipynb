{
 "cells": [
  {
   "cell_type": "markdown",
   "metadata": {},
   "source": [
    "##### Other ways of dealing with Array problems\n",
    "\n",
    "not two pointers"
   ]
  },
  {
   "cell_type": "markdown",
   "metadata": {},
   "source": [
    "<b> 560. Subarray Sum Equals K </b>\n",
    "\n",
    "I first used two pointers, but turns out two pointers is not able to solve problem like this. The array has negative value and is not sorted. \n",
    "\n",
    "The cumulative sum way is new. The idea is: whenever the cumulative sum has increased by a value of K, a subarray of sums=K is found.   \n",
    "Have a hash map saving the count of different cumulative sum. If array[: j] - array[: I] = K, then there are hash map[sum(array[: I])] count of sub array that has sum of K.   \n",
    "Special case is a single element in array has value K, to detect this case, have hash map[0]=1 "
   ]
  },
  {
   "cell_type": "code",
   "execution_count": 1,
   "metadata": {},
   "outputs": [],
   "source": [
    "from collections import defaultdict\n",
    "def subarraySum(nums, k):\n",
    "    cumulative_sum = 0\n",
    "    helper_map = defaultdict(int)\n",
    "    helper_map[0] = 1  # help to detect if a single value in nums is K\n",
    "    count = 0\n",
    "    for n in nums:\n",
    "        cumulative_sum+=n\n",
    "        count+= helper_map[cumulative_sum - k]\n",
    "        helper_map[cumulative_sum]+=1\n",
    "    return count"
   ]
  },
  {
   "cell_type": "code",
   "execution_count": 2,
   "metadata": {},
   "outputs": [
    {
     "data": {
      "text/plain": [
       "1"
      ]
     },
     "execution_count": 2,
     "metadata": {},
     "output_type": "execute_result"
    }
   ],
   "source": [
    "nums = [100,1,2,3,4]\n",
    "k = 6\n",
    "subarraySum(nums, k)"
   ]
  },
  {
   "cell_type": "markdown",
   "metadata": {},
   "source": [
    "<b> 953 verifying an alien dictionary </b>\n",
    "\n",
    "using a dictionary to using the index as order. else statement for for loop"
   ]
  },
  {
   "cell_type": "code",
   "execution_count": 3,
   "metadata": {},
   "outputs": [],
   "source": [
    "def isAlienSorted(words, order):\n",
    "    order = {c: i for i, c in enumerate(order)}\n",
    "    for i in range(len(words)-1):\n",
    "        word1 = words[i]\n",
    "        word2 = words[i+1]\n",
    "\n",
    "        for j in range(min(len(word1), len(word2))):\n",
    "            if word1[j]!= word2[j]:\n",
    "                if order[word1[j]]>order[word2[j]]:\n",
    "                    return False\n",
    "                else:\n",
    "                    # word1 < word2, move to next pair\n",
    "                    break\n",
    "        # interesting usage of else\n",
    "        else:\n",
    "            if len(word1)>len(word2):\n",
    "                return False\n",
    "    return True"
   ]
  },
  {
   "cell_type": "code",
   "execution_count": 4,
   "metadata": {},
   "outputs": [
    {
     "data": {
      "text/plain": [
       "True"
      ]
     },
     "execution_count": 4,
     "metadata": {},
     "output_type": "execute_result"
    }
   ],
   "source": [
    "words = [\"kuvp\",\"q\"]\n",
    "order = \"ngxlkthsjuoqcpavbfdermiywz\"\n",
    "isAlienSorted(words, order)"
   ]
  },
  {
   "cell_type": "markdown",
   "metadata": {},
   "source": [
    "<b> 54 spiral Matrix </b>\n",
    "\n",
    "using four pointers to track the valid row and col index."
   ]
  },
  {
   "cell_type": "code",
   "execution_count": 7,
   "metadata": {},
   "outputs": [],
   "source": [
    "def spiralOrder(matrix):\n",
    "    result = []\n",
    "    if not matrix or len(matrix[0])==0:\n",
    "        return result\n",
    "    n = len(matrix)\n",
    "    m = len(matrix[0])\n",
    "    row_begin, row_end = 0, n-1\n",
    "    col_begin, col_end = 0, m-1\n",
    "    while row_begin <= row_end and col_begin<=col_end:\n",
    "        # traverse right\n",
    "        for j in range(col_begin, col_end+1):\n",
    "            result.append(matrix[row_begin][j])\n",
    "        row_begin+=1\n",
    "        \n",
    "        # traverse down\n",
    "        for i in range(row_begin, row_end+1):\n",
    "            result.append(matrix[i][col_end])\n",
    "        col_end-=1\n",
    "        \n",
    "        # traverse left\n",
    "        if row_begin<=row_end:\n",
    "            for j in range(col_end, col_begin-1, -1):\n",
    "                result.append(matrix[row_end][j])\n",
    "        row_end-=1\n",
    "        \n",
    "        # traverse up\n",
    "        if col_begin<=col_end:\n",
    "            for i in range(row_end, row_begin-1, -1):\n",
    "                result.append(matrix[i][col_begin])\n",
    "        col_begin+=1\n",
    "    return result"
   ]
  },
  {
   "cell_type": "code",
   "execution_count": 8,
   "metadata": {},
   "outputs": [
    {
     "data": {
      "text/plain": [
       "[1, 2, 3, 6, 9, 8, 7, 4, 5]"
      ]
     },
     "execution_count": 8,
     "metadata": {},
     "output_type": "execute_result"
    }
   ],
   "source": [
    "matrix = [[1,2,3],[4,5,6],[7,8,9]]\n",
    "spiralOrder(matrix)"
   ]
  },
  {
   "cell_type": "code",
   "execution_count": 9,
   "metadata": {},
   "outputs": [
    {
     "data": {
      "text/plain": [
       "[1, 2, 3, 4, 8, 12, 11, 10, 9, 5, 6, 7]"
      ]
     },
     "execution_count": 9,
     "metadata": {},
     "output_type": "execute_result"
    }
   ],
   "source": [
    "matrix = [[1, 2, 3, 4],\n",
    "  [5, 6, 7, 8],\n",
    "  [9,10,11,12]]\n",
    "spiralOrder(matrix)"
   ]
  },
  {
   "cell_type": "markdown",
   "metadata": {},
   "source": [
    "<b>another way</b>: look at it visually in evernote => recursive\n",
    "\n",
    "spiral_order([[1, 2, 3],  \n",
    "                [4, 5, 6],  \n",
    "                [7, 8, 9]])  \n",
    "\n",
    "= [1, 2, 3] + spiral_order([[6, 9],  \n",
    "                            [5, 8],  \n",
    "                            [4, 7]])  \n",
    "\n",
    "= [1, 2, 3] + [6, 9] + spiral_order([[8, 7],  \n",
    "                                     [5, 4]])  \n",
    "\n",
    "= [1, 2, 3] + [6, 9] + [8, 7] + spiral_order([[4],  \n",
    "                                              [5]])  \n",
    "\n",
    "= [1, 2, 3] + [6, 9] + [8, 7] + [4] + spiral_order([[5]])  \n",
    "\n",
    "= [1, 2, 3] + [6, 9] + [8, 7] + [4] + [5] + spiral_order([])  \n",
    "\n",
    "= [1, 2, 3] + [6, 9] + [8, 7] + [4] + [5] + []  \n",
    "\n",
    "= [1, 2, 3, 6, 9, 8, 7, 4, 5]  "
   ]
  },
  {
   "cell_type": "code",
   "execution_count": null,
   "metadata": {},
   "outputs": [],
   "source": [
    "def spiralOrder(matrix):\n",
    "    return matrix and [*matrix.pop(0)] + self.spiralOrder([*zip(*matrix)][::-1])"
   ]
  }
 ],
 "metadata": {
  "kernelspec": {
   "display_name": "testground",
   "language": "python",
   "name": "testground"
  },
  "language_info": {
   "codemirror_mode": {
    "name": "ipython",
    "version": 3
   },
   "file_extension": ".py",
   "mimetype": "text/x-python",
   "name": "python",
   "nbconvert_exporter": "python",
   "pygments_lexer": "ipython3",
   "version": "3.8.3"
  }
 },
 "nbformat": 4,
 "nbformat_minor": 4
}
