{
 "cells": [
  {
   "cell_type": "markdown",
   "metadata": {},
   "source": [
    "##### Other ways of dealing with Array problems\n",
    "\n",
    "not two pointers"
   ]
  },
  {
   "cell_type": "markdown",
   "metadata": {},
   "source": [
    "<b> 560. Subarray Sum Equals K </b>\n",
    "\n",
    "I first used two pointers, but turns out two pointers is not able to solve problem like this. The array has negative value and is not sorted. \n",
    "\n",
    "The cumulative sum way is new. The idea is: whenever the cumulative sum has increased by a value of K, a subarray of sums=K is found.   \n",
    "Have a hash map saving the count of different cumulative sum. If array[: j] - array[: I] = K, then there are hash map[sum(array[: I])] count of sub array that has sum of K.   \n",
    "Special case is a single element in array has value K, to detect this case, have hash map[0]=1 "
   ]
  },
  {
   "cell_type": "code",
   "execution_count": 1,
   "metadata": {},
   "outputs": [],
   "source": [
    "from collections import defaultdict\n",
    "def subarraySum(nums, k):\n",
    "    cumulative_sum = 0\n",
    "    helper_map = defaultdict(int)\n",
    "    helper_map[0] = 1  # help to detect if a single value in nums is K\n",
    "    count = 0\n",
    "    for n in nums:\n",
    "        cumulative_sum+=n\n",
    "        count+= helper_map[cumulative_sum - k]\n",
    "        helper_map[cumulative_sum]+=1\n",
    "    return count"
   ]
  },
  {
   "cell_type": "code",
   "execution_count": 2,
   "metadata": {},
   "outputs": [
    {
     "data": {
      "text/plain": [
       "1"
      ]
     },
     "execution_count": 2,
     "metadata": {},
     "output_type": "execute_result"
    }
   ],
   "source": [
    "nums = [100,1,2,3,4]\n",
    "k = 6\n",
    "subarraySum(nums, k)"
   ]
  },
  {
   "cell_type": "markdown",
   "metadata": {},
   "source": [
    "<b> 953 verifying an alien dictionary </b>\n",
    "\n",
    "using a dictionary to using the index as order. else statement for for loop"
   ]
  },
  {
   "cell_type": "code",
   "execution_count": 3,
   "metadata": {},
   "outputs": [],
   "source": [
    "def isAlienSorted(words, order):\n",
    "    order = {c: i for i, c in enumerate(order)}\n",
    "    for i in range(len(words)-1):\n",
    "        word1 = words[i]\n",
    "        word2 = words[i+1]\n",
    "\n",
    "        for j in range(min(len(word1), len(word2))):\n",
    "            if word1[j]!= word2[j]:\n",
    "                if order[word1[j]]>order[word2[j]]:\n",
    "                    return False\n",
    "                else:\n",
    "                    # word1 < word2, move to next pair\n",
    "                    break\n",
    "        # interesting usage of else\n",
    "        else:\n",
    "            if len(word1)>len(word2):\n",
    "                return False\n",
    "    return True"
   ]
  },
  {
   "cell_type": "code",
   "execution_count": 4,
   "metadata": {},
   "outputs": [
    {
     "data": {
      "text/plain": [
       "True"
      ]
     },
     "execution_count": 4,
     "metadata": {},
     "output_type": "execute_result"
    }
   ],
   "source": [
    "words = [\"kuvp\",\"q\"]\n",
    "order = \"ngxlkthsjuoqcpavbfdermiywz\"\n",
    "isAlienSorted(words, order)"
   ]
  },
  {
   "cell_type": "markdown",
   "metadata": {},
   "source": [
    "<b> 54 spiral Matrix </b>\n",
    "\n",
    "using four pointers to track the valid row and col index."
   ]
  },
  {
   "cell_type": "code",
   "execution_count": 7,
   "metadata": {},
   "outputs": [],
   "source": [
    "def spiralOrder(matrix):\n",
    "    result = []\n",
    "    if not matrix or len(matrix[0])==0:\n",
    "        return result\n",
    "    n = len(matrix)\n",
    "    m = len(matrix[0])\n",
    "    row_begin, row_end = 0, n-1\n",
    "    col_begin, col_end = 0, m-1\n",
    "    while row_begin <= row_end and col_begin<=col_end:\n",
    "        # traverse right\n",
    "        for j in range(col_begin, col_end+1):\n",
    "            result.append(matrix[row_begin][j])\n",
    "        row_begin+=1\n",
    "        \n",
    "        # traverse down\n",
    "        for i in range(row_begin, row_end+1):\n",
    "            result.append(matrix[i][col_end])\n",
    "        col_end-=1\n",
    "        \n",
    "        # traverse left\n",
    "        if row_begin<=row_end:\n",
    "            for j in range(col_end, col_begin-1, -1):\n",
    "                result.append(matrix[row_end][j])\n",
    "        row_end-=1\n",
    "        \n",
    "        # traverse up\n",
    "        if col_begin<=col_end:\n",
    "            for i in range(row_end, row_begin-1, -1):\n",
    "                result.append(matrix[i][col_begin])\n",
    "        col_begin+=1\n",
    "    return result"
   ]
  },
  {
   "cell_type": "code",
   "execution_count": 8,
   "metadata": {},
   "outputs": [
    {
     "data": {
      "text/plain": [
       "[1, 2, 3, 6, 9, 8, 7, 4, 5]"
      ]
     },
     "execution_count": 8,
     "metadata": {},
     "output_type": "execute_result"
    }
   ],
   "source": [
    "matrix = [[1,2,3],[4,5,6],[7,8,9]]\n",
    "spiralOrder(matrix)"
   ]
  },
  {
   "cell_type": "code",
   "execution_count": 9,
   "metadata": {},
   "outputs": [
    {
     "data": {
      "text/plain": [
       "[1, 2, 3, 4, 8, 12, 11, 10, 9, 5, 6, 7]"
      ]
     },
     "execution_count": 9,
     "metadata": {},
     "output_type": "execute_result"
    }
   ],
   "source": [
    "matrix = [[1, 2, 3, 4],\n",
    "  [5, 6, 7, 8],\n",
    "  [9,10,11,12]]\n",
    "spiralOrder(matrix)"
   ]
  },
  {
   "cell_type": "markdown",
   "metadata": {},
   "source": [
    "<b>another way</b>: look at it visually in evernote => recursive\n",
    "\n",
    "spiral_order([[1, 2, 3],  \n",
    "                [4, 5, 6],  \n",
    "                [7, 8, 9]])  \n",
    "\n",
    "= [1, 2, 3] + spiral_order([[6, 9],  \n",
    "                            [5, 8],  \n",
    "                            [4, 7]])  \n",
    "\n",
    "= [1, 2, 3] + [6, 9] + spiral_order([[8, 7],  \n",
    "                                     [5, 4]])  \n",
    "\n",
    "= [1, 2, 3] + [6, 9] + [8, 7] + spiral_order([[4],  \n",
    "                                              [5]])  \n",
    "\n",
    "= [1, 2, 3] + [6, 9] + [8, 7] + [4] + spiral_order([[5]])  \n",
    "\n",
    "= [1, 2, 3] + [6, 9] + [8, 7] + [4] + [5] + spiral_order([])  \n",
    "\n",
    "= [1, 2, 3] + [6, 9] + [8, 7] + [4] + [5] + []  \n",
    "\n",
    "= [1, 2, 3, 6, 9, 8, 7, 4, 5]  "
   ]
  },
  {
   "cell_type": "code",
   "execution_count": null,
   "metadata": {},
   "outputs": [],
   "source": [
    "def spiralOrder(matrix):\n",
    "    return matrix and [*matrix.pop(0)] + self.spiralOrder([*zip(*matrix)][::-1])"
   ]
  },
  {
   "cell_type": "markdown",
   "metadata": {},
   "source": [
    "<b> 59 Spiral Matrix II </b>\n",
    "\n",
    "i used the same idea as above problem way 1"
   ]
  },
  {
   "cell_type": "code",
   "execution_count": 4,
   "metadata": {},
   "outputs": [],
   "source": [
    "def generateMatrix(n):\n",
    "    begin_row, end_row = 0, n-1\n",
    "    begin_col, end_col = 0, n-1\n",
    "    matrix = [[1]*n for _ in range(n)]\n",
    "    num = 1\n",
    "    while begin_row<=end_row and begin_col <= end_col:\n",
    "        # move right, row stays same, col changes\n",
    "        for j in range(begin_col, end_col+1):\n",
    "            matrix[begin_row][j] = num\n",
    "            num += 1\n",
    "        begin_row += 1\n",
    "        # move down, col stays same, row changes\n",
    "        for i in range(begin_row, end_row+1):\n",
    "            matrix[i][end_col] = num\n",
    "            num+=1\n",
    "        end_col-=1\n",
    "\n",
    "        # move left, row stays same, col changes\n",
    "        if begin_row<end_row:\n",
    "            for j in range(end_col, begin_col-1, -1):\n",
    "                matrix[end_row][j] = num\n",
    "                num+=1\n",
    "            end_row-=1\n",
    "\n",
    "        # move up, col stays same, row changes\n",
    "        if begin_col < end_col:\n",
    "            for i in range(end_row, begin_row-1, -1):\n",
    "                matrix[i][begin_col] = num\n",
    "                num+=1\n",
    "            begin_col+=1\n",
    "    return matrix"
   ]
  },
  {
   "cell_type": "code",
   "execution_count": 5,
   "metadata": {},
   "outputs": [
    {
     "data": {
      "text/plain": [
       "[[1, 2, 3, 4], [12, 13, 14, 5], [11, 16, 15, 6], [10, 9, 8, 7]]"
      ]
     },
     "execution_count": 5,
     "metadata": {},
     "output_type": "execute_result"
    }
   ],
   "source": [
    "n = 4\n",
    "generateMatrix(n)"
   ]
  },
  {
   "cell_type": "markdown",
   "metadata": {},
   "source": [
    "a more elegant one: => <b> this one looks pretty </b>"
   ]
  },
  {
   "cell_type": "code",
   "execution_count": 6,
   "metadata": {},
   "outputs": [],
   "source": [
    "def generateMatrix(n):\n",
    "    \"\"\"utilize the feature that matrix size is N^2\"\"\"\n",
    "    matrix = [[0]*n for _ in range(n)]\n",
    "    i, j = 0, 0\n",
    "    di, dj = 0, 1 # control the moving direction, start with moving to the right, then 1,0 (down), 0,-1 (left), -1,0 (up)\n",
    "    for k in range(n*n):\n",
    "        matrix[i][j] = k+1\n",
    "        if matrix[(i+di)%n][(j+dj)%n]:\n",
    "            # if that position already has non-0 value, it is already visited, need to change direction\n",
    "            di, dj = dj, -di # clock wise\n",
    "        i += di\n",
    "        j += dj\n",
    "    return matrix"
   ]
  },
  {
   "cell_type": "code",
   "execution_count": 7,
   "metadata": {},
   "outputs": [
    {
     "data": {
      "text/plain": [
       "[[1, 2, 3, 4], [12, 13, 14, 5], [11, 16, 15, 6], [10, 9, 8, 7]]"
      ]
     },
     "execution_count": 7,
     "metadata": {},
     "output_type": "execute_result"
    }
   ],
   "source": [
    "n = 4\n",
    "generateMatrix(n)"
   ]
  },
  {
   "cell_type": "markdown",
   "metadata": {},
   "source": [
    "<b> 205 Isomorphic String </b>   \n",
    "the idea is to map c in s and t to a same integer, like introducing a third partity identification. if two chars map to different integer, then return False"
   ]
  },
  {
   "cell_type": "code",
   "execution_count": 1,
   "metadata": {},
   "outputs": [],
   "source": [
    "from collections import defaultdict\n",
    "def isIsomorphic(s, t):\n",
    "    \"\"\"\n",
    "    the idea is to map c in s and t to a same integer, like introducing a third partity identification. if two chars map to different integer, then return False\n",
    "    \"\"\"\n",
    "    n = len(s)\n",
    "    map_s = defaultdict(int)\n",
    "    map_t = defaultdict(int)\n",
    "    for i in range(n):\n",
    "        # initial value is 0\n",
    "        if map_s[s[i]]!= map_t[t[i]]:\n",
    "            return False\n",
    "        # update the integer mapping\n",
    "        # i+1 to exclude the intial value 0\n",
    "        map_s[s[i]] = i+1\n",
    "        map_t[t[i]] = i+1\n",
    "    return True"
   ]
  },
  {
   "cell_type": "code",
   "execution_count": 2,
   "metadata": {},
   "outputs": [
    {
     "data": {
      "text/plain": [
       "False"
      ]
     },
     "execution_count": 2,
     "metadata": {},
     "output_type": "execute_result"
    }
   ],
   "source": [
    "s=\"ab\"\n",
    "t=\"aa\"\n",
    "isIsomorphic(s, t)"
   ]
  },
  {
   "cell_type": "markdown",
   "metadata": {},
   "source": [
    "<b> 135 Candy </b>  \n",
    "two direction loop. first from left to right, get more candies than its left neighbor. then from right to left, ensure getting more candidies than its right neighbor.\n",
    "\n",
    "time: O(N)"
   ]
  },
  {
   "cell_type": "code",
   "execution_count": 3,
   "metadata": {},
   "outputs": [],
   "source": [
    "def candy(ratings):\n",
    "    \"\"\"two direction loop. first from left to right, get more candies than its left neighbor. then from right to left, ensure getting more candidies than its right neighbor\"\"\"\n",
    "    n = len(ratings)\n",
    "    result = [1]*n\n",
    "    for i in range(1, n):\n",
    "        if ratings[i-1]<ratings[i]:\n",
    "            result[i] = result[i-1]+1\n",
    "    for i in range(n-1, 0, -1):\n",
    "        if ratings[i-1]>ratings[i]:\n",
    "            # smart to use max\n",
    "            result[i-1] = max(result[i-1], result[i]+1)\n",
    "    return sum(result)"
   ]
  },
  {
   "cell_type": "code",
   "execution_count": 4,
   "metadata": {},
   "outputs": [
    {
     "data": {
      "text/plain": [
       "13"
      ]
     },
     "execution_count": 4,
     "metadata": {},
     "output_type": "execute_result"
    }
   ],
   "source": [
    "ratings = [1,2,87,87,87,2,1]\n",
    "candy(ratings)"
   ]
  },
  {
   "cell_type": "markdown",
   "metadata": {},
   "source": [
    "<b> 939 Minimum Area Rectangle </b>\n",
    "\n",
    "way 1: nested loop, having a set to keep track of what points are visited.  \n",
    "time complexity O(N^2)"
   ]
  },
  {
   "cell_type": "code",
   "execution_count": 5,
   "metadata": {},
   "outputs": [],
   "source": [
    "def minAreaRect(points):\n",
    "    \"\"\"O(N^2)\"\"\"\n",
    "    seen = set()\n",
    "    res = float('inf')\n",
    "    for x1, y1 in points:\n",
    "        for x2, y2 in seen:\n",
    "            if (x1,y2) in seen and (x2,y1) in seen:\n",
    "                # find the rectangle\n",
    "                res = min(res, abs(x1-x2)*abs(y1-y2))\n",
    "        seen.add((x1,y1))\n",
    "\n",
    "    return res if res < float('inf') else 0"
   ]
  },
  {
   "cell_type": "code",
   "execution_count": 6,
   "metadata": {},
   "outputs": [
    {
     "data": {
      "text/plain": [
       "2"
      ]
     },
     "execution_count": 6,
     "metadata": {},
     "output_type": "execute_result"
    }
   ],
   "source": [
    "points = [[1,1],[1,3],[3,1],[3,3],[4,1],[4,3]]\n",
    "minAreaRect(points)"
   ]
  },
  {
   "cell_type": "markdown",
   "metadata": {},
   "source": [
    "another way, O(N^1.5)\n",
    "although not super sure how the 1.5 is derived"
   ]
  },
  {
   "cell_type": "code",
   "execution_count": 8,
   "metadata": {},
   "outputs": [],
   "source": [
    "from collections import defaultdict\n",
    "def minAreaRect(points):\n",
    "    n = len(points)\n",
    "    nx = len(set(x for x, y in points))\n",
    "    ny = len(set(y for x, y in points))\n",
    "    if nx == n or ny==n:\n",
    "        # at least some points need to share same x or y value, so there could be a rectangle, otherwise safely return 0\n",
    "        return 0\n",
    "    point_map = defaultdict(list)\n",
    "    if nx > ny:\n",
    "        for x, y in points:\n",
    "            point_map[x].append(y)  # {3:[1,2,3], 2:[1,2,3]}\n",
    "    else:\n",
    "        for x, y in points:\n",
    "            point_map[y].append(x)\n",
    "    last_x = {}\n",
    "    res = float('inf')\n",
    "    for x in sorted(point_map):\n",
    "        point_map[x].sort()\n",
    "        for i in range(len(point_map[x])):\n",
    "            for j in range(i):\n",
    "                # j always smaller than i\n",
    "                y1, y2 = point_map[x][j], point_map[x][i]\n",
    "                # imagin y1 y2 is one edge of a rectangle\n",
    "                if (y1, y2) in last_x:\n",
    "                    # (y1, y2) can be considered as one edge of the rectangle\n",
    "                    # if (y1,y2) this edge appeared before, then we found a rectangle, the other edge is x-last_x[(y1,y2)]\n",
    "                    res = min(res, (x-last_x[(y1,y2)])*abs(y1-y2))\n",
    "                # x is sorted, so is y, in this way update last_x with most recent x is enough to get the min area\n",
    "                last_x[(y1,y2)] = x\n",
    "    return res if res<float('inf') else 0\n"
   ]
  },
  {
   "cell_type": "markdown",
   "metadata": {},
   "source": [
    "<b> 556. Next Greater Element III </b>\n",
    "\n",
    "This question actually has pattern. There are three cases.  \n",
    "Case 1: all digits are in depending order, like 7654, there is no way to find a greater value, return -1  \n",
    "Case 2: all digits are in ascending order, like 4567, only need to swap the last two digits  \n",
    "Case 3: loop from right to left, find the first digit D that is smaller than its right digit, find the smallest larger digit in the right part of digit D, say index [I to n-1], swap that smallest digit with dight D, then reorder the right digits. In this way we can get the smallest greater value. Like 4765 => 5764 (4 swap with 5) => 5467 (reorder 764)\n",
    "\n",
    "The way of able to loop the integer one digit by one digit is to first convert it into a string, then make each char back to individual integer. After al the swapping and reordering, make int back to str, join it, then make it to integer again  \n",
    "Finally need to compare this integer with the limit of 32-bit integer, which is 2^31-1 (because sign takes one bit, the range for 32 bits integer is from  - 2^32 to 2^31-1, totally 2^32 different number)"
   ]
  },
  {
   "cell_type": "markdown",
   "metadata": {},
   "source": [
    "several O(N)s, i think it finally is O(N) too"
   ]
  },
  {
   "cell_type": "code",
   "execution_count": 1,
   "metadata": {},
   "outputs": [],
   "source": [
    "def nextGreaterElement(n):\n",
    "    n_array = list(map(int, str(n))) # into a list of int\n",
    "    i = len(n_array)-1\n",
    "    while i-1>=0 and n_array[i-1]>=n_array[i]:\n",
    "        i-=1\n",
    "    # case 0: all digits in descending order, no result\n",
    "    if i==0:\n",
    "        return -1\n",
    "\n",
    "    # find the smallest larger digit in the righter digits of digit at index i, which is in [i, n-1]\n",
    "    # i-1 points to the digit that needs swap\n",
    "    # cz n_array[i-1]<n_array[i]\n",
    "    j = i\n",
    "    while j+1 < len(n_array) and n_array[j+1]>n_array[i-1]:\n",
    "        j+=1\n",
    "    # now j+1 points to the first digit that will be <= n_array[i-1], so n_array[j] is the smallest larger digit for n_array[i-1], swap the two\n",
    "    n_array[i-1], n_array[j] = n_array[j], n_array[i-1]\n",
    "    # then reorder digits from index [i, n-1]. it takes care of case 2: all numers are ascending, swap the last two digits and case 3: other cases\n",
    "    n_array[i:] = sorted(n_array[i:])\n",
    "    res = int(''.join(map(str, n_array)))\n",
    "    # 1<<31-1 is 2^31-1\n",
    "    return res if res <= (1<<31-1) else -1\n",
    "    "
   ]
  },
  {
   "cell_type": "code",
   "execution_count": 2,
   "metadata": {},
   "outputs": [
    {
     "data": {
      "text/plain": [
       "13222344"
      ]
     },
     "execution_count": 2,
     "metadata": {},
     "output_type": "execute_result"
    }
   ],
   "source": [
    "nextGreaterElement(12443322)"
   ]
  },
  {
   "cell_type": "markdown",
   "metadata": {},
   "source": [
    "<b> Next Permutation </b>\n",
    "\n",
    "using the same methods as above to solve the problem.  \n",
    "only using constant extra memory: i and j as index  \n",
    "much quicker than other way  "
   ]
  },
  {
   "cell_type": "code",
   "execution_count": 8,
   "metadata": {},
   "outputs": [],
   "source": [
    "def nextPermutation(nums):\n",
    "    \"\"\"\n",
    "    Do not return anything, modify nums in-place instead.\n",
    "    \"\"\"\n",
    "    n = len(nums)\n",
    "    i = n - 1\n",
    "    while i-1>=0 and nums[i-1]>=nums[i]:\n",
    "        i-=1\n",
    "    if i== 0:\n",
    "        # the nums is already in descending order, no more larger permutation, so return the lowest possible order\n",
    "        nums.sort()\n",
    "    else:\n",
    "        # nums[i-1]<nums[i], n at i-1 should be swap with the smallest larger n in the range of i to n-1\n",
    "        j = i\n",
    "        while j+1 < n and nums[j+1]>nums[i-1]:\n",
    "            j+=1\n",
    "        # nums[j+1] is the first item <=nums[i-1]\n",
    "        # so nums[j] is the smallest larger item of nums[i-1], should be swap with nums[i-1]\n",
    "        nums[i-1], nums[j] = nums[j], nums[i-1]\n",
    "        # order the item from index i to n-1 to make the result the smallest larger permutation\n",
    "        nums[i:] = sorted(nums[i:])         "
   ]
  },
  {
   "cell_type": "code",
   "execution_count": 10,
   "metadata": {},
   "outputs": [
    {
     "data": {
      "text/plain": [
       "[2, 1, 3]"
      ]
     },
     "execution_count": 10,
     "metadata": {},
     "output_type": "execute_result"
    }
   ],
   "source": [
    "nums = [1,3,2]\n",
    "nextPermutation(nums)\n",
    "nums"
   ]
  }
 ],
 "metadata": {
  "kernelspec": {
   "display_name": "testground",
   "language": "python",
   "name": "testground"
  },
  "language_info": {
   "codemirror_mode": {
    "name": "ipython",
    "version": 3
   },
   "file_extension": ".py",
   "mimetype": "text/x-python",
   "name": "python",
   "nbconvert_exporter": "python",
   "pygments_lexer": "ipython3",
   "version": "3.8.3"
  }
 },
 "nbformat": 4,
 "nbformat_minor": 4
}
