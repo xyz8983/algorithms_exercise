{
 "cells": [
  {
   "cell_type": "markdown",
   "metadata": {},
   "source": [
    "### Graphs!  \n",
    "\n",
    "actually similar to trees"
   ]
  },
  {
   "cell_type": "markdown",
   "metadata": {},
   "source": [
    "<b> 127. Word Ladder </b>\n",
    "\n",
    "only change from word to words that have exactly one letter difference. in this way the problem can be transformed into a graph problem, begin word => visit its neighbors (defined as word with only one char difference) => non-visited neighbors' neighbors => until we arrived at the end word.\n",
    "\n",
    "so it is a breath first search structure. (BFS)"
   ]
  },
  {
   "cell_type": "code",
   "execution_count": 3,
   "metadata": {},
   "outputs": [],
   "source": [
    "from collections import deque\n",
    "class Solution:\n",
    "    def ladderLength(self, beginWord, endWord, wordList):\n",
    "        def construct_neighbors(word_list):\n",
    "            d = {}\n",
    "            for word in word_list:\n",
    "                for i in range(len(word)):\n",
    "                    # no need to worry i+1 is out of bound, cz slicing wont give index out of bound error\n",
    "                    key = word[:i]+'_'+word[i+1:]\n",
    "                    d[key] = d.get(key, [])+[word]  # {'_ot': ['lot', 'dot', 'hot']}\n",
    "            return d\n",
    "        \n",
    "        def bfs_words(begin, end, word_dict):\n",
    "            # queue has word and level => step\n",
    "            # why initiate the step as 1? => example \"hit\" -> \"hot\" -> \"dot\" -> \"dog\" -> \"cog\", result should be 5, not 4\n",
    "            queue, visited = deque([(begin, 1)]), set()\n",
    "            while queue:\n",
    "                word, step = queue.popleft()  # this is why using deque\n",
    "                if word not in visited:  # this check makes the execution much much faster\n",
    "                    visited.add(word)\n",
    "                    if word == end:\n",
    "                        return step\n",
    "                    # otherwise find its neighbors and add to queue\n",
    "                    for i in range(len(word)):\n",
    "                        s = word[:i] + '_' + word[i+1:]\n",
    "                        neighbors = word_dict.get(s, [])\n",
    "                        for n_word in neighbors:\n",
    "                            if n_word not in visited:\n",
    "                                queue.append((n_word, step+1))\n",
    "            return 0\n",
    "        \n",
    "        if endWord not in wordList:\n",
    "            return 0\n",
    "        word_dict = construct_neighbors(set(wordList))\n",
    "        return bfs_words(beginWord, endWord, word_dict)\n",
    "            \n",
    "            \n",
    "            \n",
    "            \n",
    "            "
   ]
  },
  {
   "cell_type": "code",
   "execution_count": 4,
   "metadata": {},
   "outputs": [
    {
     "data": {
      "text/plain": [
       "5"
      ]
     },
     "execution_count": 4,
     "metadata": {},
     "output_type": "execute_result"
    }
   ],
   "source": [
    "beginWord = \"hit\"\n",
    "endWord = \"cog\"\n",
    "word_dict = [\"hot\",\"dot\",\"dog\",\"lot\",\"log\",\"cog\"]\n",
    "a= Solution()\n",
    "a.ladderLength(beginWord, endWord, word_dict)"
   ]
  },
  {
   "cell_type": "markdown",
   "metadata": {},
   "source": [
    "bidirectional BFS. Search both from start word and end word, if they meet at some intermediate word, that means existing such a road from start word to end word"
   ]
  },
  {
   "cell_type": "code",
   "execution_count": 9,
   "metadata": {},
   "outputs": [],
   "source": [
    "from collections import deque, defaultdict\n",
    "class Solution:\n",
    "    def ladderLength(self, beginWord, endWord, wordList):\n",
    "        \"\"\"bidirectional BFS\"\"\"\n",
    "        \n",
    "        def find_words(queue, one_visited, two_visited):\n",
    "            \"\"\"\n",
    "            queue: [(word, level)], deque\n",
    "            one_visited: {word: level} current direction\n",
    "            two_visited; {word: level} the other direction\n",
    "            \"\"\"\n",
    "            word, step = queue.popleft()\n",
    "            for i in range(L):\n",
    "                intermediate = word[:i]+'_'+word[i+1:]\n",
    "                \n",
    "                for neighbor in neighbors_dict[intermediate]:\n",
    "                    if neighbor in two_visited:\n",
    "                        return step + two_visited[neighbor]\n",
    "                    if neighbor not in one_visited:\n",
    "                        one_visited[neighbor] = step + 1\n",
    "                        queue.append((neighbor, step+1))\n",
    "            return\n",
    "        \n",
    "        if endWord not in wordList:\n",
    "            return 0\n",
    "        \n",
    "        L = len(beginWord)\n",
    "        \n",
    "        # construct neighbors dictionary\n",
    "        neighbors_dict = defaultdict(list)\n",
    "        for word in wordList:\n",
    "            for i in range(L):  # only need to loop L time\n",
    "                key = word[:i]+'_'+word[i+1:]\n",
    "                neighbors_dict[key].append(word)\n",
    "        \n",
    "        queue_begin = deque([(beginWord, 1)])\n",
    "        queue_end = deque([(endWord, 1)])\n",
    "        visited_begin = {beginWord: 1}\n",
    "        visited_end = {endWord: 1}\n",
    "        # if one queue is empty the other is not, but they still dont meet, that means no such a way\n",
    "        while queue_begin and queue_end:\n",
    "            # queue_begin, queue_end, visited_begin, visited_end are all reference and are updated in side of the\n",
    "            # execution of find_words() method\n",
    "            # go forward one level from begin word\n",
    "            res = find_words(queue_begin, visited_begin, visited_end)\n",
    "            if res:\n",
    "                return res\n",
    "            # go forward one level from end word\n",
    "            res = find_words(queue_end, visited_end, visited_begin)\n",
    "            if res:\n",
    "                return res\n",
    "        return 0"
   ]
  },
  {
   "cell_type": "code",
   "execution_count": 10,
   "metadata": {},
   "outputs": [
    {
     "data": {
      "text/plain": [
       "5"
      ]
     },
     "execution_count": 10,
     "metadata": {},
     "output_type": "execute_result"
    }
   ],
   "source": [
    "beginWord = \"hit\"\n",
    "endWord = \"cog\"\n",
    "wordList = [\"hot\",\"dot\",\"dog\",\"lot\",\"log\",\"cog\"]\n",
    "b= Solution()\n",
    "b.ladderLength(beginWord, endWord, wordList)"
   ]
  },
  {
   "cell_type": "markdown",
   "metadata": {},
   "source": [
    "<b> 126 Word Ladder II </b>"
   ]
  },
  {
   "cell_type": "code",
   "execution_count": null,
   "metadata": {},
   "outputs": [],
   "source": []
  },
  {
   "cell_type": "markdown",
   "metadata": {},
   "source": [
    "<b> 207 Course Schedule </b>\n",
    "\n",
    "the problem is also known as topological sort problem, which is to find a global order for all nodes in a DAG (Directed Acyclic Graph) with regarding to their dependencies."
   ]
  },
  {
   "cell_type": "markdown",
   "metadata": {},
   "source": [
    "<b>Topological sort </b>  \n",
    "construct a graph:{prerequisite: [dependings]}  \n",
    "construct a degree dictionary: {course: degree integer}: n degree means this course has n prerequisits need to take  \n",
    "the course with degree 0 is the one able to take first. if no course has 0 degree, the courses are in a loop, cant be finished.\n",
    "first starting with courses with degree 0, find its depending courses and reduce their degrees by 1. that means number of requisites needs to be finished before able to take the depending course is reduced by 1. If now a new course has degree 0, add it to the start course queue.  \n",
    "at the end if all courses are taken, each of the degree is 0, sum is 0 too"
   ]
  },
  {
   "cell_type": "code",
   "execution_count": 11,
   "metadata": {},
   "outputs": [],
   "source": [
    "from collections import defaultdict, deque\n",
    "def canFinish(numCourses, prerequisites):\n",
    "    # construct a graph:{prerequisite: [dependings]}\n",
    "    graph = defaultdict(list)\n",
    "    # construct a degree dictionary: {course: degree integer}\n",
    "    # n degree means this course has n prerequisits need to take\n",
    "    degree = [0]*numCourses\n",
    "    for d, pre in prerequisites:\n",
    "        graph[pre].append(d)\n",
    "        degree[d]+=1 # course number happens to be used as index\n",
    "\n",
    "    # the course with degree 0 is the able to take first. if no course has 0 degree, the courses are in a loop, cant be finished\n",
    "    start_courses = deque([i for i in range(numCourses) if degree[i]==0])\n",
    "    while start_courses:\n",
    "        pre = start_courses.popleft()\n",
    "        for j in graph[pre]:\n",
    "            # j is the depending courses of i\n",
    "            degree[j]-=1  # number of requisites needs to be finished before able to take the course j is reduced by 1\n",
    "            if degree[j]==0:\n",
    "                # able to take it as next course\n",
    "                start_courses.append(j)\n",
    "    # if all courses are taken, they will all be 0\n",
    "    return not sum(degree)"
   ]
  },
  {
   "cell_type": "code",
   "execution_count": 12,
   "metadata": {},
   "outputs": [
    {
     "data": {
      "text/plain": [
       "False"
      ]
     },
     "execution_count": 12,
     "metadata": {},
     "output_type": "execute_result"
    }
   ],
   "source": [
    "numCourses = 2\n",
    "prerequisites = [[1,0],[0,1]]\n",
    "canFinish(numCourses, prerequisites)"
   ]
  },
  {
   "cell_type": "markdown",
   "metadata": {},
   "source": [
    "<b> 210 course schedule II </b>.   \n",
    "similar as above"
   ]
  },
  {
   "cell_type": "code",
   "execution_count": 14,
   "metadata": {},
   "outputs": [],
   "source": [
    "from collections import defaultdict, deque\n",
    "def findOrder(numCourses, prerequisites): \n",
    "    graph = defaultdict(list)  # {prerequisite: [depending courses]}\n",
    "    degree=[0]*numCourses  # [integer] how many prerequisites needs to take\n",
    "\n",
    "    for course, pre in prerequisites:\n",
    "        graph[pre].append(course)\n",
    "        degree[course]+=1 \n",
    "\n",
    "    result=[]\n",
    "    # start with course with no prerequisite\n",
    "    starting_course = deque([i for i in range(numCourses) if degree[i]==0])\n",
    "    while starting_course:\n",
    "        course = starting_course.popleft()\n",
    "        result.append(course)\n",
    "        # its dependencies' degree - 1\n",
    "        for d in graph[course]:\n",
    "            degree[d]-=1\n",
    "            if degree[d]==0:\n",
    "                # able to be taken next\n",
    "                starting_course.append(d)\n",
    "\n",
    "    if sum(degree)==0:\n",
    "        # all courses are taken\n",
    "        return result\n",
    "    else:\n",
    "        return []"
   ]
  },
  {
   "cell_type": "code",
   "execution_count": 15,
   "metadata": {},
   "outputs": [
    {
     "data": {
      "text/plain": [
       "[0, 1, 2, 3]"
      ]
     },
     "execution_count": 15,
     "metadata": {},
     "output_type": "execute_result"
    }
   ],
   "source": [
    "numCourses = 4\n",
    "prerequisites=[[1,0],[2,0],[3,1],[3,2]]\n",
    "findOrder(numCourses, prerequisites)"
   ]
  }
 ],
 "metadata": {
  "kernelspec": {
   "display_name": "testground",
   "language": "python",
   "name": "testground"
  },
  "language_info": {
   "codemirror_mode": {
    "name": "ipython",
    "version": 3
   },
   "file_extension": ".py",
   "mimetype": "text/x-python",
   "name": "python",
   "nbconvert_exporter": "python",
   "pygments_lexer": "ipython3",
   "version": "3.8.3"
  }
 },
 "nbformat": 4,
 "nbformat_minor": 4
}
