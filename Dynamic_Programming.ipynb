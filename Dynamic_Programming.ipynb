{
 "cells": [
  {
   "cell_type": "markdown",
   "metadata": {},
   "source": [
    "### Dynamic Programming\n",
    "\n",
    "not very intuitive at the beginning. basicaly like the fibonacci problem, you have base cases, and the future cases can be calculated on top of the known previous cases, to reduce repeated calcuation"
   ]
  },
  {
   "cell_type": "markdown",
   "metadata": {},
   "source": [
    "<b> 5. Longest Palindromic Substring </b>\n",
    "\n",
    "<b>dp way </b>.  \n",
    "imaging creating a n*n matrix, and filling the right upper triangle. why right upper triangle? => index i <= index j.  \n",
    "index i starts from [n-1, 0] from n-1 to 0,   \n",
    "index j starts from [i, n-1]. from i to n-1   => this is filling the triangle from right bottom up.  for example, first is dp[n-1][n-1], then dp[n-2][n-2], d0[n-2][n-1] then dp[n-3][n-3], dp[n-3][n-2], dp[n-3][n-1]. from bottom, the diagonal to the right edge of the matrix.\n",
    "\n",
    "In this way, the future dp[i][j] can use the previous elements like dp[n-4][n-1] will use dp[n-3][n-2]"
   ]
  },
  {
   "cell_type": "code",
   "execution_count": 1,
   "metadata": {},
   "outputs": [],
   "source": [
    "def longestPalindrome(s):\n",
    "    n = len(s)\n",
    "    dp = [[0]*n for _ in range(n)] # the matrix but only fill right upper triangle from bottom up\n",
    "    res = \"\"\n",
    "    max_l = 0\n",
    "    for i in range(n-1, -1, -1):\n",
    "        for j in range(i, n-1):\n",
    "            # why checking j-i<3 => if want i+1 and j-1 to be valid number\n",
    "            # i+1<j-1 => j-i>2 => j-i>=3, for any j-i<3 either it is i==j, i+1==j or i+2==j, \n",
    "            # checking s[i]==s[j] is enough to determine dp[i][j]\n",
    "            # otherwise dynamic programming kicks in\n",
    "            # dp[i][j] is true only when dp[i+1][j-1] is true and s[i]==s[j]\n",
    "            if s[i]==s[j] and (j-i<3 or dp[i+1][j-1]==1):\n",
    "                dp[i][j]==1\n",
    "                if j-i+1 > max_l:\n",
    "                    max_l = j-i+1\n",
    "                    res = s[i: j+1]\n",
    "\n",
    "    return res"
   ]
  },
  {
   "cell_type": "code",
   "execution_count": 2,
   "metadata": {},
   "outputs": [
    {
     "data": {
      "text/plain": [
       "'aba'"
      ]
     },
     "execution_count": 2,
     "metadata": {},
     "output_type": "execute_result"
    }
   ],
   "source": [
    "s=\"babad\"\n",
    "longestPalindrome(s)"
   ]
  },
  {
   "cell_type": "markdown",
   "metadata": {},
   "source": [
    "<b> the two pointers way </b>"
   ]
  },
  {
   "cell_type": "code",
   "execution_count": 3,
   "metadata": {},
   "outputs": [],
   "source": [
    "def longestPalindrome(s):\n",
    "    def helper(s, l, r):\n",
    "        \"\"\"return the longest palingdromic substring from position (l,r)\"\"\"\n",
    "        while l >=0 and r<len(s) and s[l]==s[r]:\n",
    "            l-=1\n",
    "            r+=1\n",
    "        return s[l+1: r]\n",
    "    \n",
    "    n = len(s)\n",
    "    res= \"\"\n",
    "    for i in range(n):\n",
    "        # odd number cases\n",
    "        subs = helper(s, i, i)\n",
    "        if len(subs)>len(res):\n",
    "            res = subs\n",
    "        # even number cases\n",
    "        subs = helper(s, i, i+1)\n",
    "        if len(subs)>len(res):\n",
    "            res = subs\n",
    "    return res\n",
    "        \n",
    "    "
   ]
  },
  {
   "cell_type": "code",
   "execution_count": 4,
   "metadata": {},
   "outputs": [
    {
     "data": {
      "text/plain": [
       "'bab'"
      ]
     },
     "execution_count": 4,
     "metadata": {},
     "output_type": "execute_result"
    }
   ],
   "source": [
    "s=\"babad\"\n",
    "longestPalindrome(s)"
   ]
  },
  {
   "cell_type": "markdown",
   "metadata": {},
   "source": [
    "<b> 53. Maximum Subarray </b>\n",
    "\n",
    "actually not sure why this is a DP solution. Only thing i get is the original array is modified while looping. it is actually same as the greedy method"
   ]
  },
  {
   "cell_type": "code",
   "execution_count": 5,
   "metadata": {},
   "outputs": [],
   "source": [
    "def maxSubArray(nums):\n",
    "    max_sum = nums[0]\n",
    "    for i in range(1, len(nums)):\n",
    "        if nums[i-1]>0:\n",
    "            nums[i]+=nums[i-1] # cumulative\n",
    "        max_sum = max(max_sum, nums[i])\n",
    "    return max_sum"
   ]
  },
  {
   "cell_type": "code",
   "execution_count": 6,
   "metadata": {},
   "outputs": [
    {
     "data": {
      "text/plain": [
       "6"
      ]
     },
     "execution_count": 6,
     "metadata": {},
     "output_type": "execute_result"
    }
   ],
   "source": [
    "nums = [-2,1,-3,4,-1,2,1,-5,4]\n",
    "maxSubArray(nums)"
   ]
  },
  {
   "cell_type": "markdown",
   "metadata": {},
   "source": [
    "greedy way\n",
    "\n",
    "current element = [-2, <b>1</b>, -3, <b>4</b>, -1, 2, 1, -5, 4]  \n",
    "current max sum = [-2, <b>1</b>, -2, <b>4</b>, 3, 5, 6, 1, 5] bold num is where curr max restart  \n",
    "max sum so far  = [-2, 1, 1, 4, 4, 5, 6, 6, 6]. => 6\n",
    "\n",
    "loop the array once, so O(N)"
   ]
  },
  {
   "cell_type": "code",
   "execution_count": 7,
   "metadata": {},
   "outputs": [],
   "source": [
    "def maxSubArray(nums):\n",
    "    curr_sum = max_sum = nums[0]\n",
    "    for n in nums[1:]:\n",
    "        curr_sum = max(n, curr_sum+n)  # same as above, modify n value only when n-1 >0\n",
    "        max_sum = max(max_sum, curr_sum)\n",
    "    return max_sum"
   ]
  },
  {
   "cell_type": "code",
   "execution_count": 8,
   "metadata": {},
   "outputs": [
    {
     "data": {
      "text/plain": [
       "6"
      ]
     },
     "execution_count": 8,
     "metadata": {},
     "output_type": "execute_result"
    }
   ],
   "source": [
    "nums = [-2,1,-3,4,-1,2,1,-5,4]\n",
    "maxSubArray(nums)"
   ]
  },
  {
   "cell_type": "markdown",
   "metadata": {},
   "source": [
    "<b>121. Best time to buy and sell stock </b>\n",
    "\n",
    "very similar as above  => <b>remember this one</b>.  \n",
    "find the lowest price looped so far, keep it on track, then track the price difference so far"
   ]
  },
  {
   "cell_type": "code",
   "execution_count": 9,
   "metadata": {},
   "outputs": [],
   "source": [
    "def maxProfit(prices):\n",
    "    min_val = float('inf')\n",
    "    res = 0\n",
    "    for p in prices:\n",
    "        min_val = min(min_val, p) # find the lowest price so far. same as the curr_sum above\n",
    "        res = max(res, p-min_val) # first res is 0. same as the max_sum above\n",
    "    return res"
   ]
  },
  {
   "cell_type": "code",
   "execution_count": 10,
   "metadata": {},
   "outputs": [
    {
     "data": {
      "text/plain": [
       "5"
      ]
     },
     "execution_count": 10,
     "metadata": {},
     "output_type": "execute_result"
    }
   ],
   "source": [
    "prices = [7,1,5,3,6,4]\n",
    "maxProfit(prices)"
   ]
  },
  {
   "cell_type": "markdown",
   "metadata": {},
   "source": [
    "another more similar way as 53  => not intuitive, forget about it"
   ]
  },
  {
   "cell_type": "code",
   "execution_count": 13,
   "metadata": {},
   "outputs": [],
   "source": [
    "def maxProfit_2(prices):\n",
    "    max_local = max_final = 0\n",
    "    for i in range(1, len(prices)):\n",
    "        # the stock price diff is actually finding cumulative max diff\n",
    "        # 5 - 7 = 5-1 + 1-7\n",
    "        # max_local = max(max_local, max_local + prices[i]-prices[i-1]) => not correct\n",
    "        max_local = max(0, max_local + prices[i]-prices[i-1])\n",
    "        max_final = max(max_final, max_local)\n",
    "    return max_final"
   ]
  },
  {
   "cell_type": "code",
   "execution_count": 14,
   "metadata": {},
   "outputs": [
    {
     "data": {
      "text/plain": [
       "7"
      ]
     },
     "execution_count": 14,
     "metadata": {},
     "output_type": "execute_result"
    }
   ],
   "source": [
    "prices = [7,1,5,3,6,4]\n",
    "maxProfit_2(prices)"
   ]
  },
  {
   "cell_type": "markdown",
   "metadata": {},
   "source": [
    "<b> 139 word break </b>  \n",
    "Using a queue to track valid word start. Only add valid end index as next valid word start index  \n",
    "Having a list with the length of target s, to track which index has already been visited as starting index, to reduce duplicated checking.  \n",
    "If end index is the length of target string, the whole string has been segmented correctly.  \n",
    "Time is O(^2) because for each staring index, the for loop can continue to the end of the whole string\n",
    "\n",
    "the smart part is how to check the valid start index\n"
   ]
  },
  {
   "cell_type": "code",
   "execution_count": 15,
   "metadata": {},
   "outputs": [],
   "source": [
    "from collections import deque\n",
    "def wordBreak(s, wordDict):\n",
    "    word_set = set(wordDict)  # set is O(1) in search if a string in the set or not\n",
    "    queue = deque([])\n",
    "    visited = [0]*len(s)\n",
    "    queue.append(0) # index 0\n",
    "    while queue:\n",
    "        start = queue.popleft()\n",
    "        if visited[start]==0: # this index has not been start index before\n",
    "            for end in range(start+1, len(s)+1):\n",
    "                # len(s)+1 for corectlly using end to slice sub string\n",
    "                # s[start: end] end is not included actually\n",
    "                if s[start: end] in word_set:\n",
    "                    queue.append(end) # end is a valid next start index\n",
    "                    if end == len(s): # finish the whole string\n",
    "                        return True\n",
    "            visited[start] == 1\n",
    "    return False"
   ]
  },
  {
   "cell_type": "code",
   "execution_count": 16,
   "metadata": {},
   "outputs": [
    {
     "data": {
      "text/plain": [
       "True"
      ]
     },
     "execution_count": 16,
     "metadata": {},
     "output_type": "execute_result"
    }
   ],
   "source": [
    "s = \"leetcode\"\n",
    "wordDict = [\"leet\",\"code\"]\n",
    "wordBreak(s, wordDict)"
   ]
  },
  {
   "cell_type": "markdown",
   "metadata": {},
   "source": [
    "another way, but difficult to understand at first glance"
   ]
  },
  {
   "cell_type": "code",
   "execution_count": 17,
   "metadata": {},
   "outputs": [],
   "source": [
    "def wordBreak(s, wordDict):\n",
    "    word_set = set(wordDict)\n",
    "    dp = [False] * (len(s)+1)  # why +1?\n",
    "    dp[0] = True\n",
    "\n",
    "    for i in range(1, len(s)+1):\n",
    "        for j in range(i):  # start from 0 to i-1\n",
    "            if dp[j] and s[j: i] in word_set:\n",
    "                # True if there is a word in the dictionary that ends at ith index of s\n",
    "                dp[i] = True\n",
    "                break\n",
    "    return dp[len(s)]"
   ]
  },
  {
   "cell_type": "code",
   "execution_count": 18,
   "metadata": {},
   "outputs": [
    {
     "data": {
      "text/plain": [
       "True"
      ]
     },
     "execution_count": 18,
     "metadata": {},
     "output_type": "execute_result"
    }
   ],
   "source": [
    "s = \"leetcode\"\n",
    "wordDict = [\"leet\",\"code\"]\n",
    "wordBreak(s, wordDict)"
   ]
  },
  {
   "cell_type": "markdown",
   "metadata": {},
   "source": [
    "<b> 322 Coin Change </b>\n",
    "\n",
    "say the proble is F(S), we can make the problem become the composition of the optimal solutions of its sub problems.  \n",
    "F(S) = F(S-C) + 1  S is the targe value, C is the coin value used.\n",
    "\n"
   ]
  },
  {
   "cell_type": "code",
   "execution_count": 19,
   "metadata": {},
   "outputs": [],
   "source": [
    "def coinChange(coins, amount):\n",
    "    \"\"\"buttom up, build dp from small amount of value to larger amount of value\"\"\"\n",
    "    # dp[i] is the fewest number of coins making up amount i\n",
    "    # dp[i] = min(dp[i-coin])+1 for diff coin in coins\n",
    "    dp = [0]+[float('inf') for _ in range(amount)]\n",
    "    # i stands for valid amount value\n",
    "    for i in range(1, amount+1):\n",
    "        for coin in coins:\n",
    "            if i - coin >= 0:\n",
    "                # note the default value for dp[i] is inf\n",
    "                # then dp[i] is checking for different coin value\n",
    "                dp[i] = min(dp[i], dp[i-coin]+1)\n",
    "    if dp[amount]==float('inf'):\n",
    "        return -1\n",
    "    return dp[amount]"
   ]
  },
  {
   "cell_type": "code",
   "execution_count": 20,
   "metadata": {},
   "outputs": [
    {
     "data": {
      "text/plain": [
       "3"
      ]
     },
     "execution_count": 20,
     "metadata": {},
     "output_type": "execute_result"
    }
   ],
   "source": [
    "coins = [1,2,5]\n",
    "amount = 11\n",
    "coinChange(coins, amount)"
   ]
  },
  {
   "cell_type": "markdown",
   "metadata": {},
   "source": [
    "<b> 957 Prison Celss After N Days </b>\n",
    "\n",
    "the pattern repeat itself after certain steps. the problem here is how to find when the cycle will restart.  \n",
    "For K cells, the amount of all possible situation is 2^(k-2) (-2 because top and tail are always 0). but it can happen that the cycle starts much early than 2^(k-2), so using a hashmap to keep track when it happens and get the cycle step."
   ]
  },
  {
   "cell_type": "code",
   "execution_count": 24,
   "metadata": {},
   "outputs": [],
   "source": [
    "def prisonAfterNDays(cells, N):\n",
    "\n",
    "    hash_map = {}\n",
    "    meet_cycle = False\n",
    "    while N > 0:\n",
    "        if not meet_cycle:\n",
    "            key = tuple(cells)\n",
    "            if key in hash_map:\n",
    "                # the first cycle point must be the beginning, the original N. hash_map[key] => original N\n",
    "                # original N - current N is the cycle step\n",
    "                N = N %(hash_map[key] - N) \n",
    "                meet_cycle = True\n",
    "            else:\n",
    "                hash_map[key] = N\n",
    "        if N > 0:\n",
    "            N-=1\n",
    "            cells = next_cell(cells)\n",
    "\n",
    "    return cells\n",
    "        \n",
    "def next_cell(cells):\n",
    "    n = len(cells)\n",
    "    temp = [0]*n\n",
    "    for i in range(1, n-1):\n",
    "        temp[i] = int(cells[i-1]==cells[i+1])\n",
    "    return temp"
   ]
  },
  {
   "cell_type": "code",
   "execution_count": 25,
   "metadata": {},
   "outputs": [
    {
     "data": {
      "text/plain": [
       "[0, 0, 1, 1, 0, 0, 0, 0]"
      ]
     },
     "execution_count": 25,
     "metadata": {},
     "output_type": "execute_result"
    }
   ],
   "source": [
    "cells = [0,1,0,1,1,0,0,1]\n",
    "N = 7\n",
    "prisonAfterNDays(cells, N)"
   ]
  },
  {
   "cell_type": "markdown",
   "metadata": {},
   "source": [
    "<b> 273 Integers to English Words </b>\n",
    "\n",
    "divide and concur idea. Although the question itself is pretty silly.  \n",
    "separate the number into every 3 numbers as a chunk. for example: 1.234.567.890, then representation is 1 Billion 234 Million 567 Thousand 890. now the problem is reduced to how to convert 3-digit integer into english word.  \n",
    "234 => 2 Hundred 34, it can be further separated into 2 sub problems: convert 1-digit integer and convert 2-digit integer."
   ]
  },
  {
   "cell_type": "code",
   "execution_count": 26,
   "metadata": {},
   "outputs": [],
   "source": [
    "class Solution:\n",
    "    def one(self, num):\n",
    "        h = {\n",
    "            1: 'One',\n",
    "            2: 'Two',\n",
    "            3: 'Three',\n",
    "            4: 'Four',\n",
    "            5: 'Five',\n",
    "            6: 'Six',\n",
    "            7: 'Seven',\n",
    "            8: 'Eight',\n",
    "            9: 'Nine'\n",
    "        }\n",
    "        return h.get(num)\n",
    "    def less_than_ten(self, num):\n",
    "        h={\n",
    "            10: \"Ten\",\n",
    "            11: 'Eleven',\n",
    "            12: 'Twelve',\n",
    "            13: 'Thirteen',\n",
    "            14: 'Fourteen',\n",
    "            15: 'Fifteen',\n",
    "            16: 'Sixteen',\n",
    "            17: 'Seventeen',\n",
    "            18: 'Eighteen',\n",
    "            19: 'Nineteen'\n",
    "        }\n",
    "        return h.get(num)\n",
    "    def ten(self, num):\n",
    "        h={\n",
    "            2: \"Twenty\",\n",
    "            3: 'Thirty',\n",
    "            4: 'Forty',\n",
    "            5: 'Fifty',\n",
    "            6: 'Sixty',\n",
    "            7: 'Seventy',\n",
    "            8: 'Eighty',\n",
    "            9: 'Ninety'\n",
    "        }\n",
    "        return h.get(num)\n",
    "    def two(self, num):\n",
    "        \"\"\"deal with num [0, 99]\"\"\"\n",
    "        if not num:\n",
    "            return \"\"\n",
    "        elif num<10:\n",
    "            return self.one(num)\n",
    "        elif num<20:\n",
    "            return self.less_than_ten(num)\n",
    "        else:\n",
    "            rest = num%10\n",
    "            if rest:\n",
    "                return self.ten(num//10)+\" \"+self.one(rest)\n",
    "            else:\n",
    "                return self.ten(num//10)\n",
    "    \n",
    "    def three(self, num):\n",
    "        \"\"\"deal with number [0, 999]\"\"\"\n",
    "        hundred = num//100\n",
    "        rest = num%100\n",
    "        if hundred and rest:\n",
    "            return self.one(hundred)+\" Hundred \"+ self.two(rest)\n",
    "        elif not hundred and rest:\n",
    "            return self.two(rest)\n",
    "        elif hundred and not rest:\n",
    "            return self.one(hundred)+\" Hundred\"\n",
    "    \n",
    "    def numberToWords(self, num: int) -> str:\n",
    "        billion = num//10**9\n",
    "        million = (num - billion*10**9)//10**6\n",
    "        thousand = (num - billion*10**9 - million*10**6)//10**3\n",
    "        rest = num - billion*10**9 - million*10**6 - thousand*10**3\n",
    "        \n",
    "        if not num:\n",
    "            return \"Zero\"\n",
    "        else:\n",
    "            result = \"\"\n",
    "            if billion:\n",
    "                result += (self.three(billion)+\" Billion\")\n",
    "            if million:\n",
    "                result += ' ' if result else ''\n",
    "                result += (self.three(million)+\" Million\")\n",
    "            if thousand:\n",
    "                result += ' ' if result else ''\n",
    "                result += (self.three(thousand) +\" Thousand\")\n",
    "            if rest:\n",
    "                result += ' ' if result else ''\n",
    "                result += self.three(rest)\n",
    "            return result"
   ]
  },
  {
   "cell_type": "code",
   "execution_count": 27,
   "metadata": {},
   "outputs": [
    {
     "data": {
      "text/plain": [
       "'One Million Two Hundred Thirty Four Thousand Five Hundred Sixty Seven'"
      ]
     },
     "execution_count": 27,
     "metadata": {},
     "output_type": "execute_result"
    }
   ],
   "source": [
    "num = 1234567\n",
    "a = Solution()\n",
    "a.numberToWords(num)"
   ]
  }
 ],
 "metadata": {
  "kernelspec": {
   "display_name": "testground",
   "language": "python",
   "name": "testground"
  },
  "language_info": {
   "codemirror_mode": {
    "name": "ipython",
    "version": 3
   },
   "file_extension": ".py",
   "mimetype": "text/x-python",
   "name": "python",
   "nbconvert_exporter": "python",
   "pygments_lexer": "ipython3",
   "version": "3.8.3"
  }
 },
 "nbformat": 4,
 "nbformat_minor": 4
}
