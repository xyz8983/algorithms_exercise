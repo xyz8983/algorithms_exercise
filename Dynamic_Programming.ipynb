{
 "cells": [
  {
   "cell_type": "markdown",
   "metadata": {},
   "source": [
    "### Dynamic Programming\n",
    "\n",
    "not very intuitive at the beginning. basicaly like the fibonacci problem, you have base cases, and the future cases can be calculated on top of the known previous cases, to reduce repeated calcuation"
   ]
  },
  {
   "cell_type": "markdown",
   "metadata": {},
   "source": [
    "<b> 5. Longest Palindromic Substring </b>\n",
    "\n",
    "<b>dp way </b>.  \n",
    "imaging creating a n*n matrix, and filling the right upper triangle. why right upper triangle? => index i <= index j.  \n",
    "index i starts from [n-1, 0] from n-1 to 0,   \n",
    "index j starts from [i, n-1]. from i to n-1   => this is filling the triangle from right bottom up.  for example, first is dp[n-1][n-1], then dp[n-2][n-2], d0[n-2][n-1] then dp[n-3][n-3], dp[n-3][n-2], dp[n-3][n-1]. from bottom, the diagonal to the right edge of the matrix.\n",
    "\n",
    "In this way, the future dp[i][j] can use the previous elements like dp[n-4][n-1] will use dp[n-3][n-2]\n",
    "\n",
    "also the idea of expanding from inner to outsider.\n",
    "p(i,j) = P(i+1, j-1) and s[i]==s[j]  i, j is the index range representing the substring"
   ]
  },
  {
   "cell_type": "code",
   "execution_count": 18,
   "metadata": {},
   "outputs": [],
   "source": [
    "def longestPalindrome(s):\n",
    "    n = len(s)\n",
    "    dp = [[0]*n for _ in range(n)] # the matrix but only fill right upper triangle from bottom up\n",
    "    res = \"\"\n",
    "    max_l = 0\n",
    "    for i in range(n-1, -1, -1):\n",
    "        for j in range(i, n):\n",
    "            # why checking j-i<3 => if want i+1 and j-1 to be valid number\n",
    "            # i+1<j-1 => j-i>2 => j-i>=3, for any j-i<3 either it is i==j, i+1==j or i+2==j, \n",
    "            # checking s[i]==s[j] is enough to determine dp[i][j]\n",
    "            # otherwise dynamic programming kicks in\n",
    "            # dp[i][j] is true only when dp[i+1][j-1] is true and s[i]==s[j]\n",
    "            if s[i]==s[j] and (j-i<3 or dp[i+1][j-1]==1):\n",
    "                dp[i][j]==1\n",
    "                if j-i+1 > max_l:\n",
    "                    max_l = j-i+1\n",
    "                    res = s[i: j+1]\n",
    "\n",
    "    return res"
   ]
  },
  {
   "cell_type": "code",
   "execution_count": 19,
   "metadata": {},
   "outputs": [
    {
     "data": {
      "text/plain": [
       "'aba'"
      ]
     },
     "execution_count": 19,
     "metadata": {},
     "output_type": "execute_result"
    }
   ],
   "source": [
    "s=\"babad\"\n",
    "longestPalindrome(s)"
   ]
  },
  {
   "cell_type": "markdown",
   "metadata": {},
   "source": [
    "<b> the two pointers way </b>"
   ]
  },
  {
   "cell_type": "code",
   "execution_count": 3,
   "metadata": {},
   "outputs": [],
   "source": [
    "def longestPalindrome(s):\n",
    "    def helper(s, l, r):\n",
    "        \"\"\"return the longest palingdromic substring from position (l,r)\"\"\"\n",
    "        while l >=0 and r<len(s) and s[l]==s[r]:\n",
    "            l-=1\n",
    "            r+=1\n",
    "        return s[l+1: r]\n",
    "    \n",
    "    n = len(s)\n",
    "    res= \"\"\n",
    "    for i in range(n):\n",
    "        # odd number cases\n",
    "        subs = helper(s, i, i)\n",
    "        if len(subs)>len(res):\n",
    "            res = subs\n",
    "        # even number cases\n",
    "        subs = helper(s, i, i+1)\n",
    "        if len(subs)>len(res):\n",
    "            res = subs\n",
    "    return res\n",
    "        \n",
    "    "
   ]
  },
  {
   "cell_type": "code",
   "execution_count": 4,
   "metadata": {},
   "outputs": [
    {
     "data": {
      "text/plain": [
       "'bab'"
      ]
     },
     "execution_count": 4,
     "metadata": {},
     "output_type": "execute_result"
    }
   ],
   "source": [
    "s=\"babad\"\n",
    "longestPalindrome(s)"
   ]
  },
  {
   "cell_type": "markdown",
   "metadata": {},
   "source": [
    "<b> 53. Maximum Subarray </b>\n",
    "\n",
    "actually not sure why this is a DP solution. Only thing i get is the original array is modified while looping. it is actually same as the greedy method"
   ]
  },
  {
   "cell_type": "code",
   "execution_count": 5,
   "metadata": {},
   "outputs": [],
   "source": [
    "def maxSubArray(nums):\n",
    "    max_sum = nums[0]\n",
    "    for i in range(1, len(nums)):\n",
    "        # reset the cumulative starting point always to cumulatived positive number\n",
    "        if nums[i-1]>0:  # nums[i-1] is already cumulative from previous values, it is the curr_num in the next way\n",
    "            nums[i]+=nums[i-1] # cumulative\n",
    "        max_sum = max(max_sum, nums[i])\n",
    "    return max_sum"
   ]
  },
  {
   "cell_type": "code",
   "execution_count": 6,
   "metadata": {},
   "outputs": [
    {
     "data": {
      "text/plain": [
       "6"
      ]
     },
     "execution_count": 6,
     "metadata": {},
     "output_type": "execute_result"
    }
   ],
   "source": [
    "nums = [-2,1,-3,4,-1,2,1,-5,4]\n",
    "maxSubArray(nums)"
   ]
  },
  {
   "cell_type": "markdown",
   "metadata": {},
   "source": [
    "greedy way\n",
    "\n",
    "current element = [-2, <b>1</b>, -3, <b>4</b>, -1, 2, 1, -5, 4]  \n",
    "current max sum = [-2, <b>1</b>, -2, <b>4</b>, 3, 5, 6, 1, 5] bold num is where curr max restart  \n",
    "max sum so far  = [-2, 1, 1, 4, 4, 5, 6, 6, 6]. => 6\n",
    "\n",
    "loop the array once, so O(N)"
   ]
  },
  {
   "cell_type": "code",
   "execution_count": 7,
   "metadata": {},
   "outputs": [],
   "source": [
    "def maxSubArray(nums):\n",
    "    curr_sum = max_sum = nums[0]\n",
    "    for n in nums[1:]:\n",
    "        curr_sum = max(n, curr_sum+n)  # same as above, modify n value only when n-1 >0\n",
    "        max_sum = max(max_sum, curr_sum)\n",
    "    return max_sum"
   ]
  },
  {
   "cell_type": "code",
   "execution_count": 8,
   "metadata": {},
   "outputs": [
    {
     "data": {
      "text/plain": [
       "6"
      ]
     },
     "execution_count": 8,
     "metadata": {},
     "output_type": "execute_result"
    }
   ],
   "source": [
    "nums = [-2,1,-3,4,-1,2,1,-5,4]\n",
    "maxSubArray(nums)"
   ]
  },
  {
   "cell_type": "markdown",
   "metadata": {},
   "source": [
    "<b> 152 Maximum Product Subarray </b>  \n",
    "similar to above question, but need to hold two variables, one for cumulative max product so far, another for cumulative min product so for. the reason to keep min value is the negative value may have chance to increase the final product.  \n",
    "the idea is:  \n",
    "if see a positive value, keep multiplying  => max dp value  \n",
    "if see a 0, resent the dp value to 0  \n",
    "if see a negative value, keep multiplying  => min dp value\n",
    "\n"
   ]
  },
  {
   "cell_type": "code",
   "execution_count": null,
   "metadata": {},
   "outputs": [],
   "source": [
    "def maxProduct(nums):\n",
    "    \"\"\"\n",
    "    DP, special case: when encounter 0 or negative value\n",
    "    O(N)\n",
    "    \"\"\"\n",
    "    if len(nums)==0:\n",
    "        return 0\n",
    "    max_so_far = nums[0]\n",
    "    min_so_far = nums[0]\n",
    "    result = max_so_far\n",
    "    for i in range(1, len(nums)):\n",
    "        temp_max = max(nums[i], max_so_far*nums[i], min_so_far*nums[i])\n",
    "        min_so_far = min(nums[i], max_so_far*nums[i], min_so_far*nums[i])\n",
    "        max_so_far = temp_max\n",
    "        result = max(max_so_far, result)\n",
    "    return result"
   ]
  },
  {
   "cell_type": "markdown",
   "metadata": {},
   "source": [
    "to make it more concise. no need to keep a whole array to save the min and max product so far, because the question is about \"consecutive subarray\", the dp[i] actually depends on dp[i-1] only, so no need to store all previous info, only the nearest previous max and min.\n",
    "\n",
    "swap the max product and min product when encountering a negative value"
   ]
  },
  {
   "cell_type": "code",
   "execution_count": 20,
   "metadata": {},
   "outputs": [],
   "source": [
    "def maxProduct(nums):\n",
    "    \"\"\"\n",
    "    DP, special case: when encounter 0 or negative value\n",
    "    O(N)\n",
    "    \"\"\"\n",
    "    if len(nums)==0:\n",
    "        return 0\n",
    "    result = nums[0]\n",
    "    imax = nums[0]\n",
    "    imin = nums[0]\n",
    "    for i in range(1, len(nums)):\n",
    "        if nums[i]<0:\n",
    "            # anegative case may turn the min value into max value\n",
    "            imax, imin = imin , imax\n",
    "        imax = max(nums[i], imax*nums[i])\n",
    "        imin = min(nums[i], imin*nums[i])\n",
    "        result = max(result, imax)\n",
    "    return result"
   ]
  },
  {
   "cell_type": "code",
   "execution_count": 21,
   "metadata": {},
   "outputs": [
    {
     "data": {
      "text/plain": [
       "6"
      ]
     },
     "execution_count": 21,
     "metadata": {},
     "output_type": "execute_result"
    }
   ],
   "source": [
    "nums = [2,3,-2,4]\n",
    "maxProduct(nums)"
   ]
  },
  {
   "cell_type": "markdown",
   "metadata": {},
   "source": [
    "<b>121. Best time to buy and sell stock </b>\n",
    "\n",
    "very similar as above  => <b>remember this one</b>.  \n",
    "find the lowest price looped so far, keep it on track, then track the price difference so far"
   ]
  },
  {
   "cell_type": "code",
   "execution_count": 9,
   "metadata": {},
   "outputs": [],
   "source": [
    "def maxProfit(prices):\n",
    "    min_val = float('inf')\n",
    "    res = 0\n",
    "    for p in prices:\n",
    "        min_val = min(min_val, p) # find the lowest price so far. same as the curr_sum above\n",
    "        res = max(res, p-min_val) # first res is 0. same as the max_sum above\n",
    "    return res"
   ]
  },
  {
   "cell_type": "code",
   "execution_count": 10,
   "metadata": {},
   "outputs": [
    {
     "data": {
      "text/plain": [
       "5"
      ]
     },
     "execution_count": 10,
     "metadata": {},
     "output_type": "execute_result"
    }
   ],
   "source": [
    "prices = [7,1,5,3,6,4]\n",
    "maxProfit(prices)"
   ]
  },
  {
   "cell_type": "markdown",
   "metadata": {},
   "source": [
    "another more similar way as 53  "
   ]
  },
  {
   "cell_type": "code",
   "execution_count": 13,
   "metadata": {},
   "outputs": [],
   "source": [
    "def maxProfit_2(prices):\n",
    "    max_local = max_final = 0\n",
    "    for i in range(1, len(prices)):\n",
    "        # the stock price diff is actually finding cumulative max diff\n",
    "        # 5 - 7 = 5-1 + 1-7\n",
    "        # max_local = max(max_local, max_local + prices[i]-prices[i-1]) => not correct\n",
    "        max_local = max(0, max_local + prices[i]-prices[i-1])\n",
    "        max_final = max(max_final, max_local)\n",
    "    return max_final"
   ]
  },
  {
   "cell_type": "code",
   "execution_count": 14,
   "metadata": {},
   "outputs": [
    {
     "data": {
      "text/plain": [
       "7"
      ]
     },
     "execution_count": 14,
     "metadata": {},
     "output_type": "execute_result"
    }
   ],
   "source": [
    "prices = [7,1,5,3,6,4]\n",
    "maxProfit_2(prices)"
   ]
  },
  {
   "cell_type": "markdown",
   "metadata": {},
   "source": [
    "<b> 122 Best Time to Buy and Sell Stock II </b>\n",
    "\n",
    "using mononton stack to find the right buying and selling prices. for example: [7,1,5,3,6,8] 7>1<5, 1 is the smallest buying price so far, 1<5>3, 5 is the largest selling price next, so 1 and 5 are picked. 5>3<6, 3 is the next smallest buying price, 3<6<8, 8 is the largest selling price next, so 3 and 8 are picked."
   ]
  },
  {
   "cell_type": "code",
   "execution_count": 20,
   "metadata": {},
   "outputs": [],
   "source": [
    "def maxProfit(prices):\n",
    "    \"\"\"focus on monotone queue\"\"\"\n",
    "    i = 0\n",
    "    result = 0\n",
    "    while i < len(prices):\n",
    "        while i+1 < len(prices) and prices[i]>=prices[i+1]:\n",
    "            i+=1\n",
    "        # now prices[i]<price[i+1], find the smallest buying price\n",
    "        buying_price = prices[i]\n",
    "        while i+1 < len(prices) and prices[i]<=prices[i+1]:\n",
    "            i+=1\n",
    "        # now prices[i]>prices[i+1], find the largest selling price\n",
    "        selling_price = prices[i]\n",
    "        result+= (selling_price - buying_price)\n",
    "        i+=1\n",
    "    return result"
   ]
  },
  {
   "cell_type": "code",
   "execution_count": 21,
   "metadata": {},
   "outputs": [
    {
     "data": {
      "text/plain": [
       "9"
      ]
     },
     "execution_count": 21,
     "metadata": {},
     "output_type": "execute_result"
    }
   ],
   "source": [
    "prices = [7,1,5,3,6,8] \n",
    "maxProfit(prices)"
   ]
  },
  {
   "cell_type": "markdown",
   "metadata": {},
   "source": [
    "same as above but in a more concise way   \n",
    "since j-i + k=j = k-i"
   ]
  },
  {
   "cell_type": "code",
   "execution_count": 22,
   "metadata": {},
   "outputs": [],
   "source": [
    "def maxProfit(prices):\n",
    "    return sum(max(prices[i + 1] - prices[i], 0) for i in range(len(prices) - 1))"
   ]
  },
  {
   "cell_type": "code",
   "execution_count": 23,
   "metadata": {},
   "outputs": [
    {
     "data": {
      "text/plain": [
       "9"
      ]
     },
     "execution_count": 23,
     "metadata": {},
     "output_type": "execute_result"
    }
   ],
   "source": [
    "prices = [7,1,5,3,6,8] \n",
    "maxProfit(prices)"
   ]
  },
  {
   "cell_type": "markdown",
   "metadata": {},
   "source": [
    "a DP way: the max possible profit at day i = the max possible profix at day i-1  +  the profit made at the day i(either make a positive selling, or 0).  \n",
    "so dp[i] = max(dp[i-1]+p[i]-p[i-1], dp[i-1]) since p[i]-p[i-1] can be negative, if it is negative, dont made the sell.\n",
    "\n",
    "so everyday, either you sell the stock (p[i]-p[i-1]), or you do nothing (0)"
   ]
  },
  {
   "cell_type": "code",
   "execution_count": 24,
   "metadata": {},
   "outputs": [],
   "source": [
    "def maxProfit(prices) :\n",
    "    \"\"\"DP way\n",
    "    ith day's cum max profit = i-1 th day's cum max profit + ith day profit (buy at ith day and sell at ith day, could be negative)\n",
    "    \"\"\"\n",
    "\n",
    "    if not prices:\n",
    "        return 0\n",
    "    dp = [0]*len(prices)\n",
    "    for i in range(1, len(prices)):\n",
    "        dp[i] = max(dp[i-1]+prices[i]-prices[i-1], dp[i-1])\n",
    "    return dp[-1]"
   ]
  },
  {
   "cell_type": "markdown",
   "metadata": {},
   "source": [
    "<b> 123 Best time to buy and sell stock III </b>"
   ]
  },
  {
   "cell_type": "code",
   "execution_count": 26,
   "metadata": {
    "scrolled": true
   },
   "outputs": [],
   "source": [
    "import heapq\n",
    "def maxProfit(prices):\n",
    "    \"\"\"DP way\n",
    "    DP[k,i] = max(dp[k, i-1], p[i]-p[j]+dp[k-1, j-1])\n",
    "            = max(dp[k, i-1], p[i] + (dp[k-1, j-1] -p[j]))\n",
    "    since i is not changed, but j is looping for all possible values, need to find a j that can make dp[k-1, j-1]-p[j] the largest for all possible j value in the constraint of i\n",
    "    dp[k, i] means k transaction at i th day\n",
    "    dp[k, i-1]: if no transaction at ith day, \n",
    "    p[i]-p[j]: the transaction at ith day, you buy from jth day, sell at ith day\n",
    "    dp[k-1, j-1]: represents the previous transaction value\n",
    "    however too slow, time exceed : O(k*N^2)\n",
    "    \"\"\"\n",
    "\n",
    "    if not prices:\n",
    "        return 0\n",
    "    n = len(prices)\n",
    "    K = 2\n",
    "    # k can be 0, 1, 2. (K+1)*n matrix\n",
    "    dp = [[0]*n for _ in range((K+1))] \n",
    "    for k in range(1, K+1):\n",
    "        # by default i=0 is 0, ith for selling date, cant sell at 0 day\n",
    "        for i in range(1, n):\n",
    "            max_v = dp[k-1][0]-prices[0]\n",
    "            \"\"\"the j loop below keep calculating same thing, can be optimized\"\"\"\n",
    "            for j in range(1, i):  # j in range(1, i+1) is the same\n",
    "                max_v = max(max_v, dp[k-1][j-1]-prices[j])\n",
    "            dp[k][i] = max(dp[k][i-1], prices[i] + max_v)\n",
    "    return dp[K][n-1]\n",
    "            \n",
    "            "
   ]
  },
  {
   "cell_type": "markdown",
   "metadata": {},
   "source": [
    "after optmization, the time complexity if O(KN)"
   ]
  },
  {
   "cell_type": "code",
   "execution_count": null,
   "metadata": {},
   "outputs": [],
   "source": [
    "import heapq\n",
    "def maxProfit(prices):\n",
    "    \"\"\"DP way\n",
    "    DP[k,i] = max(dp[k, i-1], p[i]-p[j]+dp[k-1, j-1])\n",
    "            = max(dp[k, i-1], p[i] + (dp[k-1, j-1] -p[j]))\n",
    "    since i is not changed, but j is looping for all possible values, need to find a j that can make dp[k-1, j-1]-p[j] the largest for all possible j value in the constraint of i\n",
    "    dp[k, i] means k transaction at i th day\n",
    "    dp[k, i-1]: if no transaction at ith day, \n",
    "    p[i]-p[j]: the transaction at ith day, you buy from jth day, sell at ith day\n",
    "    dp[k-1, j-1]: represents the previous transaction value\n",
    "    however too slow, time exceed : O(k*N^2)\n",
    "    \"\"\"\n",
    "\n",
    "    if not prices:\n",
    "        return 0\n",
    "    n = len(prices)\n",
    "    K = 2\n",
    "    # k can be 0, 1, 2. (K+1)*n matrix\n",
    "    dp = [[0]*n for _ in range((K+1))] \n",
    "    for k in range(1, K+1):\n",
    "        # by default i=0 is 0, ith for selling date, cant sell at 0 day\n",
    "        max_v = dp[k-1][0]-prices[0]\n",
    "        for i in range(1, n):\n",
    "            # for j in range(1, i):\n",
    "            #     max_v = max(max_v, dp[k-1][j-1]-prices[j])\n",
    "            # the above max_v is recalculating using same j value over and over, can be optimized as below\n",
    "            max_v = max(max_v, dp[k-1][i-1]-prices[i])\n",
    "            dp[k][i] = max(dp[k][i-1], prices[i] + max_v)\n",
    "    return dp[K][n-1]\n",
    "\n",
    "            "
   ]
  },
  {
   "cell_type": "markdown",
   "metadata": {},
   "source": [
    "<b> 139 word break </b>  \n",
    "Using a queue to track valid word start. Only add valid end index as next valid word start index  \n",
    "Having a list with the length of target s, to track which index has already been visited as starting index, to reduce duplicated checking.  \n",
    "If end index is the length of target string, the whole string has been segmented correctly.  \n",
    "Time is O(^2) because for each staring index, the for loop can continue to the end of the whole string\n",
    "\n",
    "the smart part is how to check the valid start index\n"
   ]
  },
  {
   "cell_type": "code",
   "execution_count": 15,
   "metadata": {},
   "outputs": [],
   "source": [
    "from collections import deque\n",
    "def wordBreak(s, wordDict):\n",
    "    word_set = set(wordDict)  # set is O(1) in search if a string in the set or not\n",
    "    queue = deque([])\n",
    "    visited = [0]*len(s)\n",
    "    queue.append(0) # index 0\n",
    "    while queue:\n",
    "        start = queue.popleft()\n",
    "        if visited[start]==0: # this index has not been start index before\n",
    "            for end in range(start+1, len(s)+1):\n",
    "                # len(s)+1 for corectlly using end to slice sub string\n",
    "                # s[start: end] end is not included actually\n",
    "                if s[start: end] in word_set:\n",
    "                    queue.append(end) # end is a valid next start index\n",
    "                    if end == len(s): # finish the whole string\n",
    "                        return True\n",
    "            visited[start] == 1\n",
    "    return False"
   ]
  },
  {
   "cell_type": "code",
   "execution_count": 16,
   "metadata": {},
   "outputs": [
    {
     "data": {
      "text/plain": [
       "True"
      ]
     },
     "execution_count": 16,
     "metadata": {},
     "output_type": "execute_result"
    }
   ],
   "source": [
    "s = \"leetcode\"\n",
    "wordDict = [\"leet\",\"code\"]\n",
    "wordBreak(s, wordDict)"
   ]
  },
  {
   "cell_type": "markdown",
   "metadata": {},
   "source": [
    "another way, but difficult to understand at first glance=> now i can understand it!\n",
    "\n",
    "<O(N^2) => I think, even two for loops, the inner one no need to loop all "
   ]
  },
  {
   "cell_type": "code",
   "execution_count": 1,
   "metadata": {},
   "outputs": [],
   "source": [
    "def wordBreak(s, wordDict):\n",
    "    word_set = set(wordDict)\n",
    "    # track if position i is a valid word start or not\n",
    "    # dp[j] is true meaning j is a valid start of next word\n",
    "    dp = [False] * (len(s)+1)  # why +1 => to ensure s[j:i] i can slice the right end\n",
    "    dp[0] = True\n",
    "\n",
    "    for end in range(1, len(s)+1):\n",
    "        for start in range(end):  # start from 0 to i-1 [0, len(s)]\n",
    "    # dp[j] is true meaning j is a valid start of next word => [j:i] i wont be included\n",
    "            if dp[start] and s[start: end] in word_set:\n",
    "                # True if there is a word in the dictionary that ends at ith index of s\n",
    "                dp[end] = True  # when loop to the last char, dp[len(s)]\n",
    "                break\n",
    "    return dp[len(s)]"
   ]
  },
  {
   "cell_type": "code",
   "execution_count": 2,
   "metadata": {},
   "outputs": [
    {
     "data": {
      "text/plain": [
       "True"
      ]
     },
     "execution_count": 2,
     "metadata": {},
     "output_type": "execute_result"
    }
   ],
   "source": [
    "s = \"leetcode\"\n",
    "wordDict = [\"leet\",\"code\"]\n",
    "wordBreak(s, wordDict)"
   ]
  },
  {
   "cell_type": "markdown",
   "metadata": {},
   "source": [
    "<b> 472 concatenated words </b>  \n",
    "an extra harder question but similar to above wordBreak problem."
   ]
  },
  {
   "cell_type": "code",
   "execution_count": 23,
   "metadata": {},
   "outputs": [],
   "source": [
    "def findAllConcatenatedWordsInADict(words):\n",
    "    \"\"\"O(N * L^2) N is len(words), L is each word's length\"\"\"\n",
    "\n",
    "    def helper(target_w, shorter_ws):\n",
    "        \"\"\"O(N^2), n is len(target_w)\"\"\"\n",
    "        \"\"\"this helper function is actually the wordBreak solution\"\"\"\n",
    "        if not shorter_ws:\n",
    "            return False\n",
    "        dp = [False]*(len(target_w)+1)\n",
    "        dp[0]=True\n",
    "        for i in range(1, len(target_w)+1):\n",
    "#             for j in range(i):\n",
    "# somehow the simple change from range(i) to range(i-1, -1,-1) make solution faster\n",
    "            for j in range(i-1, -1, -1):\n",
    "                if dp[j] and target_w[j:i] in shorter_ws:\n",
    "                    dp[i] = True\n",
    "                    break\n",
    "        return dp[len(target_w)]\n",
    "\n",
    "    result = []\n",
    "    shorter_ws = set()\n",
    "    # sort the words list, since concatenation is defined as using shorter words\n",
    "    words = sorted(words, key=lambda x: len(x))\n",
    "    for w in words:\n",
    "        if helper(w, shorter_ws):\n",
    "            result.append(w)\n",
    "        shorter_ws.add(w)\n",
    "    return result"
   ]
  },
  {
   "cell_type": "code",
   "execution_count": 24,
   "metadata": {},
   "outputs": [
    {
     "data": {
      "text/plain": [
       "['dogcatsdog', 'catsdogcats', 'ratcatdogcat']"
      ]
     },
     "execution_count": 24,
     "metadata": {},
     "output_type": "execute_result"
    }
   ],
   "source": [
    "words = [\"cat\",\"cats\",\"catsdogcats\",\"dog\",\"dogcatsdog\",\"hippopotamuses\",\"rat\",\"ratcatdogcat\"]\n",
    "findAllConcatenatedWordsInADict(words)"
   ]
  },
  {
   "cell_type": "markdown",
   "metadata": {},
   "source": [
    "<b> way 2 </b>   \n",
    "DFS + DP"
   ]
  },
  {
   "cell_type": "code",
   "execution_count": 27,
   "metadata": {},
   "outputs": [],
   "source": [
    "def findAllConcatenatedWordsInADict(words):\n",
    "    \"\"\"this one using DFS only\n",
    "        example: early\n",
    "        e     | arly\n",
    "        ea    | rly\n",
    "        ear   | ly\n",
    "        earl  | y\n",
    "        so `if (prefix in d) and dfs(suffix)` is enough\n",
    "        no need `if (suffix in d) and dfs(prefix)`, it is duplicated\n",
    "        like e, arl, y would be checked twice\n",
    "    \"\"\"    \n",
    "    d = set(words)\n",
    "\n",
    "    def dfs(word):  # => dfs way is not quick to pass the 139 test\n",
    "        for i in range(1, len(word)):\n",
    "            prefix = word[:i]\n",
    "            suffix = word[i:]\n",
    "            if (prefix in d) and (suffix in d):\n",
    "                return True\n",
    "            if (prefix in d) and dfs(suffix):\n",
    "                return True\n",
    "        return False\n",
    "\n",
    "    result = []\n",
    "    for w in words:\n",
    "        if dfs(w):\n",
    "            result.append(w)\n",
    "    return result\n"
   ]
  },
  {
   "cell_type": "code",
   "execution_count": 26,
   "metadata": {},
   "outputs": [],
   "source": [
    "def findAllConcatenatedWordsInADict(words):\n",
    "    \"\"\"optimizing the above dfs solution by adding DP\n",
    "    but huge memory usage\n",
    "    \"\"\"\n",
    "    d = set(words)\n",
    "    memo = {}\n",
    "\n",
    "    def dfs(word):\n",
    "        if word in memo:\n",
    "            return memo[word]\n",
    "        for i in range(1, len(word)):\n",
    "            prefix = word[:i]\n",
    "            suffix = word[i:]\n",
    "            if (prefix in d) and (suffix in d):\n",
    "                memo[word] = True\n",
    "                return True\n",
    "            if (prefix in d) and dfs(suffix):\n",
    "                memo[word] = True\n",
    "                return True\n",
    "        memo[word] = False\n",
    "        return False\n",
    "\n",
    "    result = [w for w in words if dfs(w)]\n",
    "    return result\n"
   ]
  },
  {
   "cell_type": "markdown",
   "metadata": {},
   "source": [
    "<b> 322 Coin Change </b>\n",
    "\n",
    "say the proble is F(S), we can make the problem become the composition of the optimal solutions of its sub problems.  \n",
    "F(S) = F(S-C) + 1  S is the targe value, C is the coin value used.\n",
    "\n"
   ]
  },
  {
   "cell_type": "code",
   "execution_count": 19,
   "metadata": {},
   "outputs": [],
   "source": [
    "def coinChange(coins, amount):\n",
    "    \"\"\"buttom up, build dp from small amount of value to larger amount of value\"\"\"\n",
    "    # dp[i] is the fewest number of coins making up amount i\n",
    "    # dp[i] = min(dp[i-coin])+1 for diff coin in coins\n",
    "    dp = [0]+[float('inf') for _ in range(amount)]\n",
    "    # i stands for valid amount value\n",
    "    for i in range(1, amount+1):\n",
    "        for coin in coins:\n",
    "            if i - coin >= 0:\n",
    "                # note the default value for dp[i] is inf\n",
    "                # then dp[i] is checking for different coin value\n",
    "                dp[i] = min(dp[i], dp[i-coin]+1)\n",
    "    if dp[amount]==float('inf'):\n",
    "        return -1\n",
    "    return dp[amount]"
   ]
  },
  {
   "cell_type": "code",
   "execution_count": 20,
   "metadata": {},
   "outputs": [
    {
     "data": {
      "text/plain": [
       "3"
      ]
     },
     "execution_count": 20,
     "metadata": {},
     "output_type": "execute_result"
    }
   ],
   "source": [
    "coins = [1,2,5]\n",
    "amount = 11\n",
    "coinChange(coins, amount)"
   ]
  },
  {
   "cell_type": "markdown",
   "metadata": {},
   "source": [
    "<b> 957 Prison Celss After N Days </b>\n",
    "\n",
    "the pattern repeat itself after certain steps. the problem here is how to find when the cycle will restart.  \n",
    "For K cells, the amount of all possible situation is 2^(k-2) (-2 because top and tail are always 0). but it can happen that the cycle starts much early than 2^(k-2), so using a hashmap to keep track when it happens and get the cycle step."
   ]
  },
  {
   "cell_type": "code",
   "execution_count": 24,
   "metadata": {},
   "outputs": [],
   "source": [
    "def prisonAfterNDays(cells, N):\n",
    "\n",
    "    hash_map = {}\n",
    "    meet_cycle = False\n",
    "    while N > 0:\n",
    "        if not meet_cycle:\n",
    "            key = tuple(cells)\n",
    "            if key in hash_map:\n",
    "                # the first cycle point must be the beginning, the original N. hash_map[key] => original N\n",
    "                # original N - current N is the cycle step\n",
    "                N = N %(hash_map[key] - N) \n",
    "                meet_cycle = True\n",
    "            else:\n",
    "                hash_map[key] = N\n",
    "        if N > 0:\n",
    "            N-=1\n",
    "            cells = next_cell(cells)\n",
    "\n",
    "    return cells\n",
    "        \n",
    "def next_cell(cells):\n",
    "    n = len(cells)\n",
    "    temp = [0]*n\n",
    "    for i in range(1, n-1):\n",
    "        temp[i] = int(cells[i-1]==cells[i+1])\n",
    "    return temp"
   ]
  },
  {
   "cell_type": "code",
   "execution_count": 25,
   "metadata": {},
   "outputs": [
    {
     "data": {
      "text/plain": [
       "[0, 0, 1, 1, 0, 0, 0, 0]"
      ]
     },
     "execution_count": 25,
     "metadata": {},
     "output_type": "execute_result"
    }
   ],
   "source": [
    "cells = [0,1,0,1,1,0,0,1]\n",
    "N = 7\n",
    "prisonAfterNDays(cells, N)"
   ]
  },
  {
   "cell_type": "markdown",
   "metadata": {},
   "source": [
    "<b> 273 Integers to English Words </b>\n",
    "\n",
    "divide and concur idea. Although the question itself is pretty silly.  \n",
    "separate the number into every 3 numbers as a chunk. for example: 1.234.567.890, then representation is 1 Billion 234 Million 567 Thousand 890. now the problem is reduced to how to convert 3-digit integer into english word.  \n",
    "234 => 2 Hundred 34, it can be further separated into 2 sub problems: convert 1-digit integer and convert 2-digit integer."
   ]
  },
  {
   "cell_type": "code",
   "execution_count": 26,
   "metadata": {},
   "outputs": [],
   "source": [
    "class Solution:\n",
    "    def one(self, num):\n",
    "        h = {\n",
    "            1: 'One',\n",
    "            2: 'Two',\n",
    "            3: 'Three',\n",
    "            4: 'Four',\n",
    "            5: 'Five',\n",
    "            6: 'Six',\n",
    "            7: 'Seven',\n",
    "            8: 'Eight',\n",
    "            9: 'Nine'\n",
    "        }\n",
    "        return h.get(num)\n",
    "    def less_than_ten(self, num):\n",
    "        h={\n",
    "            10: \"Ten\",\n",
    "            11: 'Eleven',\n",
    "            12: 'Twelve',\n",
    "            13: 'Thirteen',\n",
    "            14: 'Fourteen',\n",
    "            15: 'Fifteen',\n",
    "            16: 'Sixteen',\n",
    "            17: 'Seventeen',\n",
    "            18: 'Eighteen',\n",
    "            19: 'Nineteen'\n",
    "        }\n",
    "        return h.get(num)\n",
    "    def ten(self, num):\n",
    "        h={\n",
    "            2: \"Twenty\",\n",
    "            3: 'Thirty',\n",
    "            4: 'Forty',\n",
    "            5: 'Fifty',\n",
    "            6: 'Sixty',\n",
    "            7: 'Seventy',\n",
    "            8: 'Eighty',\n",
    "            9: 'Ninety'\n",
    "        }\n",
    "        return h.get(num)\n",
    "    def two(self, num):\n",
    "        \"\"\"deal with num [0, 99]\"\"\"\n",
    "        if not num:\n",
    "            return \"\"\n",
    "        elif num<10:\n",
    "            return self.one(num)\n",
    "        elif num<20:\n",
    "            return self.less_than_ten(num)\n",
    "        else:\n",
    "            rest = num%10\n",
    "            if rest:\n",
    "                return self.ten(num//10)+\" \"+self.one(rest)\n",
    "            else:\n",
    "                return self.ten(num//10)\n",
    "    \n",
    "    def three(self, num):\n",
    "        \"\"\"deal with number [0, 999]\"\"\"\n",
    "        hundred = num//100\n",
    "        rest = num%100\n",
    "        if hundred and rest:\n",
    "            return self.one(hundred)+\" Hundred \"+ self.two(rest)\n",
    "        elif not hundred and rest:\n",
    "            return self.two(rest)\n",
    "        elif hundred and not rest:\n",
    "            return self.one(hundred)+\" Hundred\"\n",
    "    \n",
    "    def numberToWords(self, num: int) -> str:\n",
    "        billion = num//10**9\n",
    "        million = (num - billion*10**9)//10**6\n",
    "        thousand = (num - billion*10**9 - million*10**6)//10**3\n",
    "        rest = num - billion*10**9 - million*10**6 - thousand*10**3\n",
    "        \n",
    "        if not num:\n",
    "            return \"Zero\"\n",
    "        else:\n",
    "            result = \"\"\n",
    "            if billion:\n",
    "                result += (self.three(billion)+\" Billion\")\n",
    "            if million:\n",
    "                result += ' ' if result else ''\n",
    "                result += (self.three(million)+\" Million\")\n",
    "            if thousand:\n",
    "                result += ' ' if result else ''\n",
    "                result += (self.three(thousand) +\" Thousand\")\n",
    "            if rest:\n",
    "                result += ' ' if result else ''\n",
    "                result += self.three(rest)\n",
    "            return result"
   ]
  },
  {
   "cell_type": "code",
   "execution_count": 27,
   "metadata": {},
   "outputs": [
    {
     "data": {
      "text/plain": [
       "'One Million Two Hundred Thirty Four Thousand Five Hundred Sixty Seven'"
      ]
     },
     "execution_count": 27,
     "metadata": {},
     "output_type": "execute_result"
    }
   ],
   "source": [
    "num = 1234567\n",
    "a = Solution()\n",
    "a.numberToWords(num)"
   ]
  },
  {
   "cell_type": "markdown",
   "metadata": {},
   "source": [
    "<b> 85 Maximal Rectangle </b>\n",
    "\n",
    "Dynamic programming. for each row, save the max height, left most position, right most position for each element in the row. using height*(right - left) to track the max area. here left is included, right is not included, so (right-left) will get the correct width, otherwise need to do (right+1-left) if right is included.  \n",
    "very smart to use \n",
    "- cur_left: most recent index position from left where value is 1\n",
    "- cur_right: most recent index position from right where value is 1\n",
    "- cur_left and cur_right reinitialize to 0, n for each row\n",
    "- left[j] = max(left[j], cur_left)\n",
    "- right[j]=min(right[j], cur_right)"
   ]
  },
  {
   "cell_type": "code",
   "execution_count": 1,
   "metadata": {},
   "outputs": [],
   "source": [
    "def maximalRectangle(matrix):\n",
    "    \"\"\"dynamic programming\"\"\"\n",
    "    if not matrix: return 0\n",
    "    m = len(matrix)\n",
    "    n = len(matrix[0])\n",
    "    left = [0]*n  # n columns, initial value:index 0?\n",
    "    right = [n]*n  # n columns, initial value:index n => out of boundry on purpose\n",
    "    height = [0]*n # n columns\n",
    "    max_area = 0\n",
    "\n",
    "    for i in range(m):\n",
    "        cur_left, cur_right = 0, n  # initial value is index\n",
    "        # cur_left: most recent index position from left where value is 1\n",
    "        # cur_right: most recent index position from right where value is 1\n",
    "        # update height\n",
    "        for j in range(n):\n",
    "            if matrix[i][j]=='1':\n",
    "                height[j]+=1\n",
    "            else:\n",
    "                height[j] = 0\n",
    "        # update left\n",
    "        # left[j]: at current row and j column, what is the left most position to start calculate area\n",
    "        for j in range(n):\n",
    "            if matrix[i][j]=='1':\n",
    "                left[j] = max(left[j], cur_left)\n",
    "            else:\n",
    "                left[j]=0  # the value not matter for current row since height is 0 for area, but it will be used for next row\n",
    "                cur_left = j+1\n",
    "        # update right\n",
    "        for j in range(n-1, -1, -1):  # loop from right to left\n",
    "            if matrix[i][j]=='1':\n",
    "                right[j]=min(right[j], cur_right)\n",
    "            else:\n",
    "                right[j]=n\n",
    "                cur_right = j\n",
    "        for j in range(n):\n",
    "            max_area = max(max_area, height[j]*(right[j]-left[j]))\n",
    "\n",
    "    return max_area"
   ]
  },
  {
   "cell_type": "code",
   "execution_count": 2,
   "metadata": {},
   "outputs": [
    {
     "data": {
      "text/plain": [
       "6"
      ]
     },
     "execution_count": 2,
     "metadata": {},
     "output_type": "execute_result"
    }
   ],
   "source": [
    "matrix = [\n",
    "  [\"1\",\"0\",\"1\",\"0\",\"0\"],\n",
    "  [\"1\",\"0\",\"1\",\"1\",\"1\"],\n",
    "  [\"1\",\"1\",\"1\",\"1\",\"1\"],\n",
    "  [\"1\",\"0\",\"0\",\"1\",\"0\"]]\n",
    "maximalRectangle(matrix)"
   ]
  },
  {
   "cell_type": "markdown",
   "metadata": {},
   "source": [
    "<b> 221 maximal square </b>  \n",
    "same as above problem, but only calcuate square area, which means width equals height.  \n",
    "same idea as before, using array height to save height for each row's element. left array for starting position of the boundry. right array for ending position of the boundry. all of them will take into consideration of the previous row.  \n",
    "finally get the square edge by min(height, width), then update the area\n",
    "\n"
   ]
  },
  {
   "cell_type": "code",
   "execution_count": 6,
   "metadata": {},
   "outputs": [],
   "source": [
    "def maximalSquare(matrix):\n",
    "    \"\"\"square, so height = width\"\"\"\n",
    "    if not matrix or not matrix[0]:\n",
    "        return 0\n",
    "    res = 0\n",
    "    n = len(matrix)\n",
    "    m = len(matrix[0])\n",
    "    height = [0 for _ in range(m)]\n",
    "    left = [0 for _ in range(m)] # start index of left boundry for width\n",
    "    right = [m for _ in range(m)] # end index of the right boundry for width\n",
    "    for i in range(n): # each row\n",
    "        cur_left, cur_right = 0, m\n",
    "        for j in range(m): # each col\n",
    "            # update height\n",
    "            height[j] = height[j]+1 if matrix[i][j]==\"1\" else 0\n",
    "            # update left index position\n",
    "            if matrix[i][j]==\"1\":\n",
    "                left[j] = max(left[j], cur_left)\n",
    "            else:\n",
    "                left[j] = 0\n",
    "                cur_left = j+1\n",
    "        # update right index position\n",
    "        for j in range(m-1, -1, -1):\n",
    "            if matrix[i][j]==\"1\":\n",
    "                right[j] = min(right[j],cur_right)\n",
    "            else:\n",
    "                right[j]=m\n",
    "                cur_right = j\n",
    "        for j in range(m):\n",
    "            edge_len = min(height[j], right[j]-left[j])\n",
    "            res = max(res, edge_len*edge_len)\n",
    "    return res\n"
   ]
  },
  {
   "cell_type": "code",
   "execution_count": 7,
   "metadata": {},
   "outputs": [
    {
     "data": {
      "text/plain": [
       "1"
      ]
     },
     "execution_count": 7,
     "metadata": {},
     "output_type": "execute_result"
    }
   ],
   "source": [
    "matrix = [[\"0\",\"1\"]]\n",
    "maximalSquare(matrix)"
   ]
  },
  {
   "cell_type": "markdown",
   "metadata": {},
   "source": [
    "<b> a much concise way </b>  => a good one    \n",
    "see the explanation in this [post](https://leetcode.com/problems/maximal-square/discuss/61935/6-lines-Visual-Explanation-O(mn))\n",
    "\n",
    "the size of square at current element [i][j] is determined by its left, top, left-top element.\n",
    "the first row and first column's value is determined purely by the matrix element's value"
   ]
  },
  {
   "cell_type": "code",
   "execution_count": 8,
   "metadata": {},
   "outputs": [],
   "source": [
    "def maximalSquare(matrix):\n",
    "    \"\"\"square, so height = width, a more concise way, the square size of current position is determined by its left, up, and left-up position\"\"\"\n",
    "    if not matrix or not matrix[0]:\n",
    "        return 0\n",
    "    res = 0\n",
    "    # space (M*N)\n",
    "    m, n = len(matrix), len(matrix[0])\n",
    "    # each element in the space represent the largest square edge at that position\n",
    "    space = [[0 for _ in range(n)] for _ in range(m)]\n",
    "    for i in range(m):\n",
    "        for j in range(n):\n",
    "            # if element is at left or top edge (first column, first row), or element is \"0\", value is 0\n",
    "            # otherwise the value is determined by its left, top, left-top value\n",
    "            if matrix[i][j]==\"1\" and i>0 and j>0:\n",
    "                space[i][j]=min(space[i][j-1], space[i-1][j], space[i-1][j-1])+1\n",
    "            else:\n",
    "                space[i][j] = 1 if matrix[i][j]==\"1\" else 0\n",
    "            res = max(res, space[i][j]**2)\n",
    "    return res\n",
    "                \n",
    "        "
   ]
  },
  {
   "cell_type": "code",
   "execution_count": 9,
   "metadata": {},
   "outputs": [
    {
     "data": {
      "text/plain": [
       "4"
      ]
     },
     "execution_count": 9,
     "metadata": {},
     "output_type": "execute_result"
    }
   ],
   "source": [
    "matrix=[[\"1\",\"0\",\"1\",\"0\",\"0\"],[\"1\",\"0\",\"1\",\"1\",\"1\"],[\"1\",\"1\",\"1\",\"1\",\"1\"],[\"1\",\"0\",\"0\",\"1\",\"0\"]]\n",
    "maximalSquare(matrix)"
   ]
  },
  {
   "cell_type": "markdown",
   "metadata": {},
   "source": [
    "to save extra space, only use 2 rows, because only need to check left, top, top-left value, two rows are enough, no need a m*n whole matrix"
   ]
  },
  {
   "cell_type": "code",
   "execution_count": null,
   "metadata": {},
   "outputs": [],
   "source": [
    "def maximalSquare(matrix):\n",
    "    \"\"\"square, so height = width, a more concise way, the square size of current position is determined by its left, up, and left-up position\"\"\"\n",
    "    if not matrix or not matrix[0]:\n",
    "        return 0\n",
    "    res = 0\n",
    "    # space (M*N)\n",
    "    m, n = len(matrix), len(matrix[0])\n",
    "    # each element in the array represent the largest square edge at that position\n",
    "    # first row is special, no up neighbors\n",
    "    pre = [1 if x==\"1\" else 0 for x in matrix[0]]\n",
    "    if sum(pre)>0:\n",
    "        res = 1\n",
    "    # start from second row\n",
    "    for row in matrix[1:]:\n",
    "        cur = [1 if x==\"1\" else 0 for x in row]\n",
    "        for j, val in enumerate(row):\n",
    "            # if element is at left or top edge (first column, first row), or element is \"0\", value is 0\n",
    "            # otherwise the value is determined by its left, top, left-top value\n",
    "            if val==\"1\" and j>0:\n",
    "                cur[j]=min(cur[j-1], pre[j], pre[j-1])+1\n",
    "            else:\n",
    "                cur[j] = 1 if val==\"1\" else 0\n",
    "        res = max(res, max(cur)**2)\n",
    "        pre = cur\n",
    "    return res"
   ]
  },
  {
   "cell_type": "markdown",
   "metadata": {},
   "source": [
    "<b> 55 Jump Game </b>\n",
    "\n",
    "A wierd question, i dont think i fully understand the requirements of the problem.  \n",
    "for [2,5,0,0], how come starting at 0 will get to the final spot, isn't it stop at position 2, which is value 0 and stop moving forward?!\n",
    "\n",
    "Update! finally get the problem. \"Each element in the array represents your maximum jump length at that position.\" it means MAX jump, so i dont need to take the MAX step every time, i can choose any step within [0, MAX] step as needed\n",
    "\n",
    "in this way [2,5,0,0] is true, because position 0 at max can jump to position 2, in this way can jump to position 1 as well, which if starting at 1, able to reach the end\n",
    "\n",
    "<b> way 1</b> is backtracking plus dynamical programming, but starting from left, so need recurision to populate the look up space, which is not too ideal, and does not pass the time limit constraints"
   ]
  },
  {
   "cell_type": "code",
   "execution_count": 3,
   "metadata": {},
   "outputs": [],
   "source": [
    "def canJump(nums):\n",
    "    \"\"\"backtracking\"\"\"\n",
    "    def helper(position, nums):\n",
    "        # base case: the position already appear in memo, \n",
    "        # the very base on is jumping to the last position which default to \"G\"\n",
    "        if memo[position] != 'U':\n",
    "            return memo[position]=='G'\n",
    "\n",
    "        jump = min(position+nums[position], len(nums)-1)\n",
    "        for j in range(position+1, jump+1):\n",
    "            if helper(j, nums):\n",
    "                memo[position] = 'G'\n",
    "                return True\n",
    "        memo[position] = \"B\"\n",
    "        return False\n",
    "\n",
    "    memo = ['U'] * len(nums)\n",
    "    memo[-1] = 'G'\n",
    "    \n",
    "    #return helper(0, nums)\n",
    "    res = helper(0, nums)\n",
    "    print(memo)\n",
    "    return res"
   ]
  },
  {
   "cell_type": "code",
   "execution_count": 4,
   "metadata": {},
   "outputs": [
    {
     "name": "stdout",
     "output_type": "stream",
     "text": [
      "['G', 'G', 'B', 'G']\n"
     ]
    },
    {
     "data": {
      "text/plain": [
       "True"
      ]
     },
     "execution_count": 4,
     "metadata": {},
     "output_type": "execute_result"
    }
   ],
   "source": [
    "nums = [2,5,0,0]\n",
    "canJump(nums)\n",
    "# the memo for this array is [G,G,B,G] => still dont understand why first element is good"
   ]
  },
  {
   "cell_type": "markdown",
   "metadata": {},
   "source": [
    "<b> way 2 </b> starting from the right of the array, in this way the look up will always looking up for the righter space which will be in the memo table when conducting the look up, so reduce the needs of recurision. But still, O(N^2), still too slow to pass the time limit"
   ]
  },
  {
   "cell_type": "code",
   "execution_count": 5,
   "metadata": {},
   "outputs": [],
   "source": [
    "def canJump(nums):\n",
    "    \"\"\"dynamic from bottom up\"\"\"\n",
    "    \"\"\"if start from right, every time we will query a righter position, which already in the memo table, so reduce the needs of recursion\"\"\"\n",
    "    memo = [\"U\"]*len(nums)\n",
    "    memo[-1] = \"G\"\n",
    "    # starting from second last position sicne last position is already marked\n",
    "    for i in range(len(nums)-2, -1, -1):\n",
    "        jump = min(i+nums[i], len(nums)-1)\n",
    "        for j in range(i+1, jump+1):\n",
    "            if memo[j]=='G':\n",
    "                memo[i] = 'G'\n",
    "                break\n",
    "    print(memo)\n",
    "    return memo[0]==\"G\"\n"
   ]
  },
  {
   "cell_type": "code",
   "execution_count": 6,
   "metadata": {},
   "outputs": [
    {
     "name": "stdout",
     "output_type": "stream",
     "text": [
      "['G', 'G', 'U', 'G']\n"
     ]
    },
    {
     "data": {
      "text/plain": [
       "True"
      ]
     },
     "execution_count": 6,
     "metadata": {},
     "output_type": "execute_result"
    }
   ],
   "source": [
    "nums = [2,5,0,0]\n",
    "canJump(nums)"
   ]
  },
  {
   "cell_type": "markdown",
   "metadata": {},
   "source": [
    "<b> way 3, only take O(N)</b>==> this one is easier to understand   \n",
    "update the last position on the loop, initially it is the end of the array, if at position i it can reach to the last position, then i becomes the new last position"
   ]
  },
  {
   "cell_type": "code",
   "execution_count": 7,
   "metadata": {},
   "outputs": [],
   "source": [
    "def canJump(nums):\n",
    "    last = len(nums)-1\n",
    "    for i in range(len(nums)-1, -1, -1):\n",
    "        # i is the ind position, nums[i] is the largest jumping step\n",
    "        # last is the target ind position\n",
    "        if i+nums[i] >= last:\n",
    "            last = i\n",
    "    return last == 0"
   ]
  },
  {
   "cell_type": "code",
   "execution_count": 8,
   "metadata": {},
   "outputs": [
    {
     "data": {
      "text/plain": [
       "True"
      ]
     },
     "execution_count": 8,
     "metadata": {},
     "output_type": "execute_result"
    }
   ],
   "source": [
    "nums = [2,5,0,0]\n",
    "canJump(nums)"
   ]
  },
  {
   "cell_type": "markdown",
   "metadata": {},
   "source": [
    "<b> way 4</b>\n",
    "\n",
    "one could not reach index i if the max position that one could reach starting from the previous cells is less than i"
   ]
  },
  {
   "cell_type": "code",
   "execution_count": 11,
   "metadata": {},
   "outputs": [],
   "source": [
    "def canJump(nums) :\n",
    "    # m is the max index we can reach so far\n",
    "    m = 0\n",
    "    for i, n in enumerate(nums):\n",
    "        if i > m:\n",
    "            return False\n",
    "        m = max(m, i+n)\n",
    "    return True"
   ]
  },
  {
   "cell_type": "markdown",
   "metadata": {},
   "source": [
    "<b> 45 Jump Game II </b>\n",
    "\n",
    "similar to the above way 4 in question 55 jump game.  \n",
    "range of the current jump is [curBegin, curEnd], curFarthest is the farthest point that all points in [curBegin, curEnd] can reach.\n",
    "Once the current point reaches curEnd, then trigger another jump\n",
    "\n",
    "the question assume the arary is valid, you can always reach the last index\n",
    "\n",
    "time complexity if O(N)"
   ]
  },
  {
   "cell_type": "code",
   "execution_count": 16,
   "metadata": {},
   "outputs": [],
   "source": [
    "def jump(nums):\n",
    "    jump_step = 0\n",
    "    cur_end = 0\n",
    "    # the max position one can reach at ith point\n",
    "    cur_further = 0\n",
    "    # i to n-2 not n-1 to avoid i == end of array to make the jump +1 \n",
    "    for i in range(len(nums)-1):\n",
    "        cur_further = max(cur_further, i+nums[i])\n",
    "        # reach the limit of what can be reached, make a nother jump\n",
    "        if i == cur_end:\n",
    "            jump_step += 1\n",
    "            cur_end = cur_further\n",
    "    return jump_step\n",
    "    "
   ]
  },
  {
   "cell_type": "code",
   "execution_count": 17,
   "metadata": {},
   "outputs": [
    {
     "data": {
      "text/plain": [
       "2"
      ]
     },
     "execution_count": 17,
     "metadata": {},
     "output_type": "execute_result"
    }
   ],
   "source": [
    "nums = [2,3,1,1,4]\n",
    "jump(nums)"
   ]
  },
  {
   "cell_type": "markdown",
   "metadata": {},
   "source": [
    "<b> 329 longest increasing path in a matrix </b>\n",
    "\n",
    "DFS recursive + dynamic programming.  \n",
    "initiate a matrix with 0 value and with the same size of the original matrix. it is used to store the longest path length that each position can reach.\n",
    "\n",
    "the key point here is to use cache to avoid duplicated calculation"
   ]
  },
  {
   "cell_type": "code",
   "execution_count": 18,
   "metadata": {},
   "outputs": [],
   "source": [
    "def longestIncreasingPath(matrix):\n",
    "    \"\"\"dfs + dp\"\"\"\n",
    "    def dfs(i, j):\n",
    "        # find longest length for posistion[i][j]\n",
    "        # if the longest path for position [i][j] has not been calculated yet\n",
    "        if not dp[i][j]:\n",
    "            val = matrix[i][j]\n",
    "            dp[i][j] = 1 + max(\n",
    "                # index is valid and it is increasing\n",
    "                dfs(i-1, j) if i-1>=0 and val < matrix[i-1][j] else 0,\n",
    "                dfs(i+1, j) if i+1<m and val < matrix[i+1][j] else 0,\n",
    "                dfs(i, j-1) if j-1>=0 and val < matrix[i][j-1] else 0,\n",
    "                dfs(i, j+1) if j+1<n and val < matrix[i][j+1] else 0\n",
    "            )\n",
    "        return dp[i][j]\n",
    "    \n",
    "    # base case:\n",
    "    if not matrix or not matrix[0]: return 0\n",
    "    m = len(matrix)\n",
    "    n = len(matrix[0])\n",
    "    # initiate dp matrix\n",
    "    dp = [[0]*n for _ in range(m)] \n",
    "    return max(dfs(i, j) for i in range(m) for j in range(n))"
   ]
  },
  {
   "cell_type": "code",
   "execution_count": 19,
   "metadata": {},
   "outputs": [
    {
     "data": {
      "text/plain": [
       "4"
      ]
     },
     "execution_count": 19,
     "metadata": {},
     "output_type": "execute_result"
    }
   ],
   "source": [
    "matrix = [[9,9,4],[6,6,8],[2,1,1]]\n",
    "longestIncreasingPath(matrix)"
   ]
  },
  {
   "cell_type": "markdown",
   "metadata": {},
   "source": [
    "<b> 10 Regular Expression Matching </b>\n",
    "\n",
    "see the youtube [tutorial](https://www.youtube.com/watch?v=l3hda49XcDE&list=PLrmLmBdmIlpuE5GEMDXWf0PWbBD9Ga1lO) \n",
    "\n",
    "Constructing a (m+1) * (n+1) matrix, where m is the length of text, n is the length the pattern, index is not 0 based, matrix[0][0] means empty text vs empty pattern string, it should match, so value is true. Matrix[I][j] means if i th char in text matches the j th pattern in the pattern string.  \n",
    "It is a Dynamic programming questions.  \n",
    "Time complexity if O(M*N) because every step uses the previous calculations, the work is to fill the complete (M+1)*(N+1) matrix  \n",
    "Space complexity is also O(M*N) for the matrix space  \n",
    "  "
   ]
  },
  {
   "cell_type": "code",
   "execution_count": 4,
   "metadata": {},
   "outputs": [],
   "source": [
    "def isMatch(s, p):\n",
    "    '''dp'''\n",
    "    m = len(s)\n",
    "    n = len(p)\n",
    "\n",
    "    # M[i][j] represents if i char in s can match j char in p\n",
    "    # NOTE! cant use [[false]*n]*m => this will make the False element a reference, not independent\n",
    "    M = [[False for _ in range(n+1)] for _ in range(m+1)]  # m*n matrix  => as dynamic programming storage place\n",
    "    # 0,0 means empty, i is the ith char (not 0 based)\n",
    "    M[0][0] = True # empty string matches empty pattern\n",
    "    # M[i][0] is False by default, since empty pattern cant match non-empty string\n",
    "    # M[0][j] depends, \"x*\" or \".*\" can map to empty string, 2 below for the check \n",
    "    \n",
    "    # for example, \"\" vs a* or \"\" vs a*b*c* all should return True\n",
    "    for j in range(2, n+1, 2):\n",
    "        # second char in the pattern need to be *, if check pair b*, it dependes on if a* returns true or not, so j-2\n",
    "        M[0][j] = M[0][j-2] and p[j-1]==\"*\"\n",
    "\n",
    "    for i in range(1, m+1):\n",
    "        for j in range(1, n+1):\n",
    "            # if p[j] == s[i] or p[j]==\".\", if previous char and pattern match, then the matching process can continue (i, j is not 0 based index)\n",
    "            if p[j-1]==s[i-1] or p[j-1]==\".\":\n",
    "                M[i][j] = M[i-1][j-1] # depends on previos pattern match, if previous pattern does not match, actually the following char should be False too\n",
    "            elif p[j-1] == \"*\":\n",
    "            # if char before \"*\" in p is not \".\" and it does not match char at ith in s\n",
    "            # means p[j-2][j-1] is treated as empty\n",
    "                M[i][j] = M[i][j-2] # like p[j-1 to j] (j not 0 based) not exist\n",
    "                if p[j-2]==s[i-1] or p[j-2]=='.': # like a* or .* vs a\n",
    "                    # pattern at p[j-1 to j] (j not 0 based) is counted as one, xa vs xa*, [2][3] depends on [1][1]: M[i][j] = M[i-1][j-2]\n",
    "                    # p[j-2]==s[i-1], like aa vs a*, second a in s == first a in pattern, or aa vs .*: M[i][j] = M[i-1][j]\n",
    "                    # the M[i][j] from the above line M[i][j] = M[i][j-2]\n",
    "                    M[i][j] = M[i][j] or M[i-1][j]\n",
    "    return M[-1][-1] # the last element in the matrix is the answer\n",
    "\n"
   ]
  },
  {
   "cell_type": "code",
   "execution_count": 5,
   "metadata": {},
   "outputs": [
    {
     "data": {
      "text/plain": [
       "True"
      ]
     },
     "execution_count": 5,
     "metadata": {},
     "output_type": "execute_result"
    }
   ],
   "source": [
    "s = \"aab\"\n",
    "p = \"c*a*b\"\n",
    "isMatch(s, p)"
   ]
  },
  {
   "cell_type": "markdown",
   "metadata": {},
   "source": [
    "<b> 128 Longest Consecutive Sequence </b>\n",
    "\n",
    "way 1: using hashmap, to store {num: count of consecutive neighbors so far}  \n",
    "remember to upate the left most and right most boundry's count, so later on new element can be concatenated without extra pain.  \n",
    "a good explanation here [link](https://leetcode.com/problems/longest-consecutive-sequence/discuss/41055/My-really-simple-Java-O(n)-solution-Accepted) the first comment's comment is inspiring, during interview, it is not expected you can come up with the idea right away, but your thinking process is most important."
   ]
  },
  {
   "cell_type": "code",
   "execution_count": 11,
   "metadata": {},
   "outputs": [],
   "source": [
    "def longestConsecutive(nums):\n",
    "    hash_map = {} #  {num: count of consecutive neighbors so far}\n",
    "    res = 0\n",
    "    for n in nums:\n",
    "        if n not in hash_map:\n",
    "            left = hash_map.get(n-1, 0)\n",
    "            right = hash_map.get(n+1, 0)\n",
    "            hash_map[n] = left+right+1\n",
    "\n",
    "            res = max(res, hash_map[n])\n",
    "\n",
    "            # update the boundry too\n",
    "            hash_map[n-left] = hash_map[n]\n",
    "            hash_map[n+right] = hash_map[n]\n",
    "    print(\"the hash_map:\", hash_map)\n",
    "    return res"
   ]
  },
  {
   "cell_type": "code",
   "execution_count": 12,
   "metadata": {},
   "outputs": [
    {
     "name": "stdout",
     "output_type": "stream",
     "text": [
      "the hash_map: {100: 1, 4: 4, 200: 1, 1: 4, 3: 2, 2: 4}\n"
     ]
    },
    {
     "data": {
      "text/plain": [
       "4"
      ]
     },
     "execution_count": 12,
     "metadata": {},
     "output_type": "execute_result"
    }
   ],
   "source": [
    "nums=[100, 4, 200, 1, 3, 2]\n",
    "longestConsecutive(nums)"
   ]
  },
  {
   "cell_type": "markdown",
   "metadata": {},
   "source": [
    "<b>way 2</b>: => this method is easier to understand  \n",
    "first transform the list into a set, => O(N), also eliminate duplicated value  \n",
    "then go over each value in the set => O(1). \n",
    "if x is the start of a consecutive array, keep adding y forward. y-x is the length, compare it with the global max value.\n",
    "\n",
    "Only check each value once, so overall O(N)"
   ]
  },
  {
   "cell_type": "code",
   "execution_count": 13,
   "metadata": {},
   "outputs": [],
   "source": [
    "def longestConsecutive(nums):\n",
    "    \"\"\"\n",
    "    list => set\n",
    "    \"\"\"\n",
    "    nums = set(nums)\n",
    "    best = 0\n",
    "    for x in nums:\n",
    "        # if x is the start of a consecutive array\n",
    "        if x-1 not in nums:\n",
    "            y = x+1\n",
    "            while y in nums:\n",
    "                y+=1\n",
    "            best = max(best, y-x) # y-x is the current length\n",
    "    return best"
   ]
  },
  {
   "cell_type": "code",
   "execution_count": 14,
   "metadata": {
    "scrolled": true
   },
   "outputs": [
    {
     "data": {
      "text/plain": [
       "4"
      ]
     },
     "execution_count": 14,
     "metadata": {},
     "output_type": "execute_result"
    }
   ],
   "source": [
    "nums=[100, 4, 200, 1, 3, 2]\n",
    "longestConsecutive(nums)"
   ]
  },
  {
   "cell_type": "markdown",
   "metadata": {},
   "source": [
    "<b> 132 Palindrome Partition II </b>\n",
    "\n",
    "DP problem, using a list to save the min cut val for a substring end at index i. cut[n] means for s[0:n] how many cuts needed (cut[0] actually not used).\n",
    "\n",
    "i is the center index of the palindrome, j is the radius length.    \n",
    "for odd length of palindrome, it should hold each char s[i-j] == s[i+j]  \n",
    "for even length of palindrome, radius is actually j-1, it should hold: s[i-j+1] == s[i+j]"
   ]
  },
  {
   "cell_type": "code",
   "execution_count": 16,
   "metadata": {},
   "outputs": [],
   "source": [
    "def minCut( s: str) -> int:\n",
    "    \"\"\"turns out a DP problem\"\"\"\n",
    "    n = len(s)\n",
    "    cut = [0]*(n+1) # cut[n] means for s[0:n] how many cuts needed (cut[0] actually not used)\n",
    "    # no more than i-1 cut needed for string s[:i]\n",
    "    for i in range(n+1):\n",
    "        cut[i] = i-1 # initialize with max cut value needed for that position\n",
    "    # i is the center of the palindrome\n",
    "    # j is the radias \n",
    "    for i in range(n):\n",
    "        # odd length cases\n",
    "        # j as radius, i-j>=0 and i+j<n, and the string at position i-j and i+j should equal to be a palindrome\n",
    "        j = 0\n",
    "        # for string from index 0 to i+j (included), the cut value is cut[i+j+1] (s[0:i+j+1]) is equal to the cut value of string s[i-j+1] + 1\n",
    "        while j<=i and i+j<n and s[i-j]==s[i+j]:\n",
    "            cut[i+j+1] = min(cut[i+j+1], 1+cut[i-j])\n",
    "            j+=1\n",
    "\n",
    "        # even length\n",
    "        # radius is j-1 at left side so i>=j-1\n",
    "        # i belongs to the left part of palindrome\n",
    "        # i+1+j-1 = i+j < n\n",
    "        j = 1\n",
    "        while j<=i+1 and i+j <n and s[i-j+1]==s[i+j]:\n",
    "            cut[i+j+1] = min(cut[i+j+1], 1+cut[i-j+1])\n",
    "            j+=1\n",
    "\n",
    "    return cut[n]\n",
    "        \n",
    "        "
   ]
  },
  {
   "cell_type": "code",
   "execution_count": 17,
   "metadata": {},
   "outputs": [
    {
     "data": {
      "text/plain": [
       "3"
      ]
     },
     "execution_count": 17,
     "metadata": {},
     "output_type": "execute_result"
    }
   ],
   "source": [
    "s = \"cababc\"\n",
    "minCut(s)"
   ]
  },
  {
   "cell_type": "markdown",
   "metadata": {},
   "source": [
    "<b> 300 longest increasing subsequence </b>  \n",
    "\n",
    "a good explanation video [here](https://www.youtube.com/watch?v=CE2b_-XfVDk)  \n",
    "using an array to save for each position, what is the longest increasing subsequence, at least the value is 1, for the item at that position itself.  \n",
    "\n",
    "there is quicker solution using binary search. check the binary search post"
   ]
  },
  {
   "cell_type": "code",
   "execution_count": 1,
   "metadata": {},
   "outputs": [],
   "source": [
    "def lengthOfLIS(nums):\n",
    "    '''DP way, O(N*2)'''\n",
    "    l = len(nums)\n",
    "    if l <=1:\n",
    "        return l\n",
    "    long = [1]*l #  Long[i]: at position i, including i itself, there are long[i] number of items in increasing order in the range of position 0 to i. at least it is 1, for each item itself's length.\n",
    "    for i in range(1, l):\n",
    "        for j in range(i):\n",
    "            if nums[j]<nums[i]:\n",
    "                # length at position j, +1 for inlcuding nums[i] itself\n",
    "                long[i] = max(long[i], long[j]+1)\n",
    "    return max(long)\n",
    "                 "
   ]
  },
  {
   "cell_type": "code",
   "execution_count": 2,
   "metadata": {},
   "outputs": [
    {
     "data": {
      "text/plain": [
       "4"
      ]
     },
     "execution_count": 2,
     "metadata": {},
     "output_type": "execute_result"
    }
   ],
   "source": [
    "nums = [10,9,2,5,3,7,101,18]\n",
    "lengthOfLIS(nums)"
   ]
  },
  {
   "cell_type": "markdown",
   "metadata": {},
   "source": [
    "<b> 64 mininum path sum </b>\n",
    "\n",
    "a DP problem.  \n",
    "the idea is matrix[i][j] = min(matrix[i-1][j], matrix[i][j-1]) + grid[i][j]  \n",
    "current value depends on upper or left value, so meets the requirments from top left to bottom right."
   ]
  },
  {
   "cell_type": "code",
   "execution_count": 2,
   "metadata": {},
   "outputs": [],
   "source": [
    "def minPathSum(grid):\n",
    "    \"\"\"a DP problem\n",
    "    the idea is matrix[i][j] = min(matrix[i-1][j], matrix[i][j-1]) + grid[i][j]\n",
    "    current value depends on upper or left value, so meets the requirments from top left to bottom right.\n",
    "    \"\"\"\n",
    "    m = len(grid)\n",
    "    n = len(grid[0])\n",
    "    matrix = [[0]*n for _ in range(m)]\n",
    "    matrix[0][0] = grid[0][0]\n",
    "    # matrix[i][j] save smallest sum path value when at position[i][j]\n",
    "    # take care edge case i = 0, no upper cells. first row\n",
    "    for j in range(1, n):\n",
    "        matrix[0][j] = matrix[0][j-1] + grid[0][j]\n",
    "    # ege case j = 0, no left cells. first column\n",
    "    for i in range(1, m):\n",
    "        matrix[i][0] = matrix[i-1][0] + grid[i][0]\n",
    "    for i in range(1, m):\n",
    "        for j in range(1, n):\n",
    "            matrix[i][j] = min(matrix[i-1][j], matrix[i][j-1]) + grid[i][j]\n",
    "    return matrix[-1][-1]\n"
   ]
  },
  {
   "cell_type": "code",
   "execution_count": 3,
   "metadata": {},
   "outputs": [
    {
     "data": {
      "text/plain": [
       "7"
      ]
     },
     "execution_count": 3,
     "metadata": {},
     "output_type": "execute_result"
    }
   ],
   "source": [
    "grid = [[1,3,1],[1,5,1],[4,2,1]]\n",
    "minPathSum(grid)"
   ]
  },
  {
   "cell_type": "markdown",
   "metadata": {},
   "source": [
    "way 2 optimie the space usage, reduce it from a complete M*N matrix to 2 single column vector O(M) => however, i dont see it reduces too much memoery in the submission panel."
   ]
  },
  {
   "cell_type": "code",
   "execution_count": 4,
   "metadata": {},
   "outputs": [],
   "source": [
    "def minPathSum(grid):\n",
    "    \"\"\"a DP problem\n",
    "    the idea is matrix[i][j] = min(matrix[i-1][j], matrix[i][j-1]) + grid[i][j]\n",
    "    current value depends on upper or left value, so meets the requirments from top left to bottom right.\n",
    "    optimize 1: using O(2N) 2 column vectors\n",
    "    \"\"\"\n",
    "    m = len(grid)\n",
    "    n = len(grid[0])\n",
    "    # why column? j col and j-1 when determing the matrix[i][j] value. col => 2 row works too\n",
    "    pre_col = [0]*m # starts for the left most colum\n",
    "    cur_col = [0]*m\n",
    "    pre_col[0] = grid[0][0]\n",
    "\n",
    "    #pre_col and cur_col save smallest sum path value\n",
    "    # ege case j = 0, no left cells. first column\n",
    "    for i in range(1, m):\n",
    "        pre_col[i] = pre_col[i-1]+grid[i][0]\n",
    "    for j in range(1, n):\n",
    "        # current column's first element => element in first row\n",
    "        cur_col[0] = pre_col[0] + grid[0][j]\n",
    "        for i in range(1, m):\n",
    "            cur_col[i] = min(cur_col[i-1], pre_col[i]) + grid[i][j]\n",
    "        # the purpose is to update pre_col using cur_col, then cur_col can be updated completely\n",
    "        # pre_col, cur_col = cur_col, [0]*m\n",
    "        pre_col, cur_col = cur_col, pre_col\n",
    "\n",
    "\n",
    "    return pre_col[-1]\n"
   ]
  },
  {
   "cell_type": "markdown",
   "metadata": {},
   "source": [
    "way 3 further optimized the space to use single vector. However it does not seem to save too much space"
   ]
  },
  {
   "cell_type": "code",
   "execution_count": 5,
   "metadata": {},
   "outputs": [],
   "source": [
    "def minPathSum(grid):\n",
    "    \"\"\"a DP problem\n",
    "    the idea is matrix[i][j] = min(matrix[i-1][j], matrix[i][j-1]) + grid[i][j]\n",
    "    current value depends on upper or left value, so meets the requirments from top left to bottom right.\n",
    "    optimize 2: using O(N) 1 column vector\n",
    "    \"\"\"\n",
    "    m = len(grid)\n",
    "    n = len(grid[0])\n",
    "    cur_col = [0]*m\n",
    "    cur_col[0] = grid[0][0] # only one column\n",
    "\n",
    "    #pre_col and cur_col save smallest sum path value\n",
    "    # ege case j = 0, no left cells. first column\n",
    "    for i in range(1, m):\n",
    "        cur_col[i] = cur_col[i-1]+grid[i][0]\n",
    "    for j in range(1, n):\n",
    "        # image in second column, the element of the second column is the first element of the previous column + grid value\n",
    "        # so cur_col is updated in-place\n",
    "        cur_col[0] += grid[0][j]\n",
    "        for i in range(1, m):\n",
    "            cur_col[i] = min(cur_col[i-1], cur_col[i]) + grid[i][j]\n",
    "        # the purpose is to update pre_col using cur_col, then cur_col can be updated completely\n",
    "        # pre_col, cur_col = cur_col, [0]*m     \n",
    "\n",
    "    return cur_col[-1]\n"
   ]
  },
  {
   "cell_type": "markdown",
   "metadata": {},
   "source": [
    "<b> 62 unique path </b>\n",
    "\n",
    "I first use backtrack, but it exceeds the time limit.  \n",
    "first row and first column are all 1, dp[i][j] = dp[i-1][j]+dp[i][j-1] => dp[i][j] represents the unique path at positon [i][j]\n",
    "\n",
    "the space usage is also O(M*N)"
   ]
  },
  {
   "cell_type": "code",
   "execution_count": 1,
   "metadata": {},
   "outputs": [],
   "source": [
    "def uniquePaths( m: int, n: int) -> int:\n",
    "    \"\"\"looks like a backtracking problem.\n",
    "    also needs dp, otherwise time limit exceeds.\n",
    "    dp[i][j] = dp[i-1][j]+dp[i][j-1] from move down or right\n",
    "    \"\"\"\n",
    "\n",
    "    # dp[i][j]: how many path for position [i][j]\n",
    "    dp = [[0]*n for _ in range(m)]\n",
    "    # first row and first col are all 1\n",
    "    for i in range(m):\n",
    "        dp[i][0] = 1\n",
    "    for j in range(n):\n",
    "        dp[0][j] = 1\n",
    "    for i in range(1, m):\n",
    "        for j in range(1, n):\n",
    "            dp[i][j] = dp[i-1][j] + dp[i][j-1]\n",
    "\n",
    "    return dp[-1][-1]\n",
    "        "
   ]
  },
  {
   "cell_type": "code",
   "execution_count": 3,
   "metadata": {},
   "outputs": [
    {
     "data": {
      "text/plain": [
       "28"
      ]
     },
     "execution_count": 3,
     "metadata": {},
     "output_type": "execute_result"
    }
   ],
   "source": [
    "uniquePaths(3,7)"
   ]
  },
  {
   "cell_type": "markdown",
   "metadata": {},
   "source": [
    "the space can be further optimzied. every update only needs dp[i-1][j] + dp[i][j-1] two rows or columns. => space O(2N), again, same as problem 64, time does not improve too much"
   ]
  },
  {
   "cell_type": "code",
   "execution_count": 4,
   "metadata": {},
   "outputs": [],
   "source": [
    "def uniquePaths(m: int, n: int) -> int:\n",
    "    \"\"\"looks like a backtracking problem.\n",
    "    also needs dp, otherwise time limit exceeds.\n",
    "    dp[i][j] = dp[i-1][j]+dp[i][j-1] from move down or right\n",
    "\n",
    "    only use two rows to optimize space\n",
    "    \"\"\"\n",
    "\n",
    "    # dp[i][j]: how many path for position [i][j]\n",
    "    pre_row = [1]*n\n",
    "    cur_row = [0]*n\n",
    "\n",
    "    for i in range(1, m):\n",
    "        cur_row[0]=1 # first element in each row is 1=>first col is 1\n",
    "        for j in range(1, n):\n",
    "            cur_row[j] = pre_row[j] + cur_row[j-1]\n",
    "        # swap pre_row with cur_row, and reuse the space of previous pre_row to save future cur_row\n",
    "        pre_row, cur_row = cur_row, pre_row\n",
    "    return pre_row [-1]\n"
   ]
  },
  {
   "cell_type": "code",
   "execution_count": 5,
   "metadata": {},
   "outputs": [
    {
     "data": {
      "text/plain": [
       "28"
      ]
     },
     "execution_count": 5,
     "metadata": {},
     "output_type": "execute_result"
    }
   ],
   "source": [
    "uniquePaths(3,7)"
   ]
  },
  {
   "cell_type": "markdown",
   "metadata": {},
   "source": [
    "can further optimize the space to O(N)"
   ]
  },
  {
   "cell_type": "code",
   "execution_count": 6,
   "metadata": {},
   "outputs": [],
   "source": [
    "def uniquePaths(m: int, n: int) -> int:\n",
    "    \"\"\"looks like a backtracking problem.\n",
    "    also needs dp, otherwise time limit exceeds.\n",
    "    dp[i][j] = dp[i-1][j]+dp[i][j-1] from move down or right\n",
    "\n",
    "    only use two rows to optimize space\n",
    "    \"\"\"\n",
    "\n",
    "    # dp[i][j]: how many path for position [i][j]\n",
    "    cur_row = [1]*n\n",
    "\n",
    "    for i in range(1, m):\n",
    "        for j in range(1, n):\n",
    "            # cur_row in the left of = is actually next row\n",
    "            cur_row[j] = cur_row[j] + cur_row[j-1]\n",
    "    return cur_row[-1]"
   ]
  },
  {
   "cell_type": "markdown",
   "metadata": {},
   "source": [
    "<b> 63 unique path Ii </b>\n",
    "\n",
    "similar as the above problem, but having obstacle in the matrix, consider edge case when the obstacle appears at (0,0) position, or first row or first col.\n",
    "\n",
    "also the space usage can be further optmized"
   ]
  },
  {
   "cell_type": "code",
   "execution_count": 7,
   "metadata": {},
   "outputs": [],
   "source": [
    "# my first solution:\n",
    "def uniquePathsWithObstacles( obstacleGrid):\n",
    "    m = len(obstacleGrid)\n",
    "    n = len(obstacleGrid[0])\n",
    "    dp = [[0]*n for _ in range(m)]\n",
    "    for i in range(m):\n",
    "        if obstacleGrid[i][0]!=1:\n",
    "            dp[i][0] = dp[i-1][0] if i!=0 else 1\n",
    "    for j in range(n):\n",
    "        if obstacleGrid[0][j]!=1:\n",
    "            dp[0][j] = dp[0][j-1] if j!=0 else 1\n",
    "\n",
    "    for i in range(1, m):\n",
    "        for j in range(1, n):\n",
    "            if obstacleGrid[i][j]==1:\n",
    "                continue\n",
    "            dp[i][j] = dp[i-1][j] + dp[i][j-1]\n",
    "\n",
    "    return dp[-1][-1]"
   ]
  },
  {
   "cell_type": "code",
   "execution_count": 8,
   "metadata": {},
   "outputs": [
    {
     "data": {
      "text/plain": [
       "2"
      ]
     },
     "execution_count": 8,
     "metadata": {},
     "output_type": "execute_result"
    }
   ],
   "source": [
    "obstacleGrid = [[0,0,0],[0,1,0],[0,0,0]]\n",
    "uniquePathsWithObstacles( obstacleGrid)"
   ]
  },
  {
   "cell_type": "markdown",
   "metadata": {},
   "source": [
    "the space optmized way:"
   ]
  },
  {
   "cell_type": "code",
   "execution_count": 10,
   "metadata": {},
   "outputs": [],
   "source": [
    "def uniquePathsWithObstacles(obstacleGrid):\n",
    "    m = len(obstacleGrid)\n",
    "    n = len(obstacleGrid[0])\n",
    "    dp = [0]*n # for one row\n",
    "    dp[0] = 1\n",
    "\n",
    "    for i in range(m):\n",
    "        for j in range(n):\n",
    "            if obstacleGrid[i][j]==1:\n",
    "                dp[j] = 0 # position[i][j] is blocked, 0 way to arrive there\n",
    "            elif j>0:\n",
    "                # j>0 to ensure it is not the first element, so j-1 is valid index\n",
    "                dp[j] = dp[j]+dp[j-1]\n",
    "\n",
    "    return dp[-1]"
   ]
  },
  {
   "cell_type": "markdown",
   "metadata": {},
   "source": [
    "<b> 97 Interleaving String </b>\n",
    "\n",
    "not sure why not use the abs(l1-l2)<=1 constraints. anyway.  \n",
    "using a dp matrix, with size(l1+1, l2+1), extra line for empty string case. here i, j are not index, but the actual length.   \n",
    "0,0 means 0 length => emtpy string   \n",
    "i=1 => actualy first position, index 0  \n"
   ]
  },
  {
   "cell_type": "code",
   "execution_count": 11,
   "metadata": {},
   "outputs": [],
   "source": [
    "def isInterleave(s1, s2, s3):\n",
    "    \"\"\"DP way\"\"\"\n",
    "    l1 = len(s1)\n",
    "    l2 = len(s2)\n",
    "    l3 = len(s3)\n",
    "    if l1+l2!=l3:\n",
    "        return False\n",
    "    # a matrix(l1+1, l2+1), extra line for empty string case\n",
    "    # if both strings are emtpy, matrix is [[0]]\n",
    "    dp = [[0]*(l2+1) for _ in range(l1+1)]\n",
    "\n",
    "    # here i, j are not index, but the actual length\n",
    "    # 0,0 means 0 length => emtpy string\n",
    "    # i=1 => actualy first position, index 0\n",
    "    for i in range(l1+1):\n",
    "        for j in range(l2+1):\n",
    "            # s1 and s2 are all empty string\n",
    "            if i==0 and j==0:\n",
    "                dp[i][j] = True\n",
    "            # now i, j > 0\n",
    "            elif i==0:\n",
    "                # for first row, s1 is empty string\n",
    "                # j is length, j-1 is actual index\n",
    "                # just need to compare s2 with s3\n",
    "                dp[i][j] = (s2[j-1]==s3[j-1]) and dp[i][j-1]\n",
    "            elif j == 0:\n",
    "                # s2 is empty, only need to compare s1 and s3\n",
    "                dp[i][j] = (s1[i-1]==s3[i-1]) and dp[i-1][j]\n",
    "            else:\n",
    "                # s3 targeted length is i+j, index is i+j-1\n",
    "                # s1 at ith position, s2 at jth position\n",
    "                # either from (i-1, j) to (i, j) or from (i,j-1) to (i,j)\n",
    "                dp[i][j] = ((s1[i-1]==s3[i+j-1]) and dp[i-1][j]) or ((s2[j-1]==s3[i+j-1]) and dp[i][j-1])\n",
    "\n",
    "    return dp[l1][l2]"
   ]
  },
  {
   "cell_type": "code",
   "execution_count": 12,
   "metadata": {},
   "outputs": [
    {
     "data": {
      "text/plain": [
       "True"
      ]
     },
     "execution_count": 12,
     "metadata": {},
     "output_type": "execute_result"
    }
   ],
   "source": [
    "s1=\"\"\n",
    "s2=\"abc\"\n",
    "s3=\"abc\"\n",
    "isInterleave(s1, s2, s3)"
   ]
  },
  {
   "cell_type": "markdown",
   "metadata": {},
   "source": [
    "space can be further optimzied as previous similar problems"
   ]
  },
  {
   "cell_type": "code",
   "execution_count": 13,
   "metadata": {},
   "outputs": [],
   "source": [
    "def isInterleave(self, s1: str, s2: str, s3: str) -> bool:\n",
    "    \"\"\"DP way\"\"\"\n",
    "    l1 = len(s1)\n",
    "    l2 = len(s2)\n",
    "    l3 = len(s3)\n",
    "    if l1+l2!=l3:\n",
    "        return False\n",
    "    # a matrix(l1+1, l2+1), extra line for empty string case\n",
    "    # if both strings are emtpy, matrix is [[0]]\n",
    "    dp = [0]*(l2+1)\n",
    "\n",
    "    # here i, j are not index, but the actual length\n",
    "    # 0,0 means 0 length => emtpy string\n",
    "    # i=1 => actualy first position, index 0\n",
    "    for i in range(l1+1):\n",
    "        for j in range(l2+1):\n",
    "            # s1 and s2 are all empty string\n",
    "            if i==0 and j==0:\n",
    "                dp[j] = True\n",
    "            # now i, j > 0\n",
    "            elif i==0:\n",
    "                # for first row, s1 is empty string\n",
    "                # consider left position on the same row\n",
    "                dp[j]= (s2[j-1]==s3[j-1]) and dp[j-1]\n",
    "            elif j == 0:\n",
    "                # s2 is empty, only need to compare s1 and s3\n",
    "                # same column, consider the previous value in above row, which is dp[j]\n",
    "                dp[j] = (s1[i-1]==s3[i-1]) and dp[j]\n",
    "            else:\n",
    "                # s3 targeted length is i+j, index is i+j-1\n",
    "                # s1 at ith position, s2 at jth position\n",
    "                # either from (i-1, j) to (i, j) (same column differne row) or from (i,j-1) to (i,j) (same row different col)\n",
    "                dp[j] = ((s1[i-1]==s3[i+j-1]) and dp[j]) or ((s2[j-1]==s3[i+j-1]) and dp[j-1])\n",
    "\n",
    "    return dp[l2]"
   ]
  },
  {
   "cell_type": "markdown",
   "metadata": {},
   "source": [
    "<b> 70 climbing stairs </b> \n",
    "\n",
    "if drawing a table\n",
    "    1 | 2 | 3 | 4 | 5    \n",
    "1   1 | 1 | 2 | 3 | 5    \n",
    "2     | 1 | 1 | 2 | 3    \n",
    "\n",
    "n=3, if first step is 1, then n=2 result is second column sum, which is 2. if first step is 2, then n=1, result is first column sum, which is 1. so n=3 = sum(n=2, n=1) = 3.   \n",
    "n=4, if first step is 1, then n=3, we have 3, if first step is 2, then n=2, we get 2, so n=4 = sum(n=3,n=2) = 3+2=5\n",
    "\n",
    "way 1 using an array to store the history. but we can reduce the space complexity from O(N) to O(1), since we only need the previous 2 results, no need to store all previous historical results.\n"
   ]
  },
  {
   "cell_type": "code",
   "execution_count": 1,
   "metadata": {},
   "outputs": [],
   "source": [
    "def climbStairs( n):\n",
    "    '''DP'''\n",
    "    dp=[0, 1, 2] # index represents n, dp[1] is the result for n = 1\n",
    "    for i in range(3, n+1):\n",
    "        dp.append(dp[i-1] + dp[i-2])\n",
    "    return dp[n]"
   ]
  },
  {
   "cell_type": "code",
   "execution_count": 2,
   "metadata": {},
   "outputs": [
    {
     "data": {
      "text/plain": [
       "5"
      ]
     },
     "execution_count": 2,
     "metadata": {},
     "output_type": "execute_result"
    }
   ],
   "source": [
    "climbStairs(4)"
   ]
  },
  {
   "cell_type": "code",
   "execution_count": 3,
   "metadata": {},
   "outputs": [],
   "source": [
    "def climbStairs(n: int) -> int:\n",
    "    '''DP'''\n",
    "    if n == 1: return 1\n",
    "    if n == 2: return 2\n",
    "    one_step = 1\n",
    "    two_step = 2\n",
    "    for i in range(2, n+1):\n",
    "        one_step, two_step = two_step, one_step+two_step\n",
    "    return one_step"
   ]
  },
  {
   "cell_type": "code",
   "execution_count": null,
   "metadata": {},
   "outputs": [],
   "source": []
  }
 ],
 "metadata": {
  "kernelspec": {
   "display_name": "testground",
   "language": "python",
   "name": "testground"
  },
  "language_info": {
   "codemirror_mode": {
    "name": "ipython",
    "version": 3
   },
   "file_extension": ".py",
   "mimetype": "text/x-python",
   "name": "python",
   "nbconvert_exporter": "python",
   "pygments_lexer": "ipython3",
   "version": "3.8.3"
  }
 },
 "nbformat": 4,
 "nbformat_minor": 4
}
