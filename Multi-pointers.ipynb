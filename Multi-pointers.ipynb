{
 "cells": [
  {
   "cell_type": "markdown",
   "metadata": {},
   "source": [
    "### Multiple Pointers"
   ]
  },
  {
   "cell_type": "markdown",
   "metadata": {},
   "source": [
    "<b>75.Sort Colors</b>\n",
    "\n",
    "Multi-pointers\n",
    "\n",
    "Left: point to next position ready to store value 0;  right: point to next position ready to store value 2\n",
    "Mid: pointer that scanning the whole array until greater than right pointer.\n",
    "\n",
    "only loop array once, so time complexity: O(N)\n",
    "change in spot, so space complexity O(1)"
   ]
  },
  {
   "cell_type": "code",
   "execution_count": 2,
   "metadata": {},
   "outputs": [],
   "source": [
    "def sortColors(nums):\n",
    "\n",
    "    left, mid, right = 0, 0, len(nums)-1\n",
    "    while mid <= right:  # why<= not <, because the value of meeting spot havent been checked yet\n",
    "        if nums[mid]==0:\n",
    "            nums[left], nums[mid] = nums[mid], nums[left]\n",
    "            left+=1\n",
    "            mid+=1  # left part is already set, no need to be there anymore. the purpose of mid is scanning whole nums\n",
    "        elif nums[mid]==2:\n",
    "            nums[right], nums[mid] = nums[mid], nums[right]\n",
    "            right -=1\n",
    "        else:\n",
    "            mid+=1"
   ]
  },
  {
   "cell_type": "code",
   "execution_count": 3,
   "metadata": {},
   "outputs": [
    {
     "name": "stdout",
     "output_type": "stream",
     "text": [
      "[0, 0, 1, 1, 2, 2]\n"
     ]
    }
   ],
   "source": [
    "nums = [2,0,2,1,1,0]\n",
    "sortColors(nums)\n",
    "print(nums)"
   ]
  },
  {
   "cell_type": "markdown",
   "metadata": {},
   "source": [
    "<b> 324. Wiggle Sort II </b>\n",
    "\n",
    "s, l, s, l, s, l => wiggle\n",
    "\n",
    "three pointers, left to keep large number, right to keep small number (here left is not original left index, but the left index in the new mapping index order)\n",
    "\n",
    "extra steps int this question:\n",
    "- find medium number\n",
    "- map regular index to new index to accomplish the wiggle format\n",
    "\n",
    "example:   \n",
    "<pre>\n",
    "origianl index => 0, 1, 2, 3, 4, 5, 6, 7\n",
    "mapped index.  => 1, 3, 5, 7, 0, 2, 4, 6\n",
    "                  large.   median.  small    \n",
    "</pre>\n",
    "if 1,3,5 get large value, 7, 0 get median value, 2,4,6 get small value => will get m,l,s,l,s,l,s,m => wiggle sort\n",
    "\n",
    "Numbers can be separated into 3 part: smaller than median, equal to median, larger than median\n",
    "- For element < media: put in LAST few ODD spot\n",
    "- For element > media: put in FIRST few even spot\n",
    "- For element = media: put int remaining spot"
   ]
  },
  {
   "cell_type": "code",
   "execution_count": 27,
   "metadata": {},
   "outputs": [],
   "source": [
    "def wiggleSort(nums):\n",
    "    # step 1 find median value\n",
    "    n=len(nums)\n",
    "#     nums.sort() # =>O(NlogN), use other O(N) way to get  median value\n",
    "#     median = nums[n//2] \n",
    "    \n",
    "    median = find_median(nums)\n",
    "\n",
    "    # step2: swap\n",
    "    left, middle, right = 0, 0, len(nums)-1\n",
    "    # mapping original index to desired index order, like 1 to 3, 4 to 0\n",
    "    # (n+(n+1)%2)  is to get nearest odd that is not less than n\n",
    "    index = lambda i: (2*i+1)%(n+(n+1)%2) \n",
    "\n",
    "    while middle<=right:\n",
    "        # NOTE: compare with medium value!! middle is the pointer to swap!\n",
    "        # put number larger than median to the left (new left, not the original index left, but the new index left)\n",
    "        if median < nums[index(middle)]:\n",
    "            nums[index(middle)], nums[index(left)] = nums[index(left)], nums[index(middle)]\n",
    "            middle+=1\n",
    "            left +=1\n",
    "        # put number smaller than median to the right\n",
    "        elif median > nums[index(middle)]:\n",
    "            nums[index(middle)], nums[index(right)] = nums[index(right)], nums[index(middle)]\n",
    "            right -=1\n",
    "        else:\n",
    "            middle+=1\n"
   ]
  },
  {
   "cell_type": "code",
   "execution_count": 26,
   "metadata": {},
   "outputs": [],
   "source": [
    "def find_median(nums):\n",
    "    k = len(nums)//2+1 # try (len(nums)+1)//2\n",
    "    l, r = 0, len(nums)-1\n",
    "    while l<r:\n",
    "        a = partition(nums, l, r)\n",
    "        if a < k-1:\n",
    "            l = a+1\n",
    "        elif a>k-1:\n",
    "            r = a-1\n",
    "        else:\n",
    "            break\n",
    "    return nums[k-1]\n",
    "\n",
    "def partition(nums, l ,r):\n",
    "    a = l\n",
    "    pivot = nums[r]\n",
    "    for i in range(l, r):\n",
    "        if nums[l]<=pivot:\n",
    "            nums[l], nums[a] = nums[a], nums[l]\n",
    "            a+=1\n",
    "    nums[a], nums[r] = nums[r], nums[a]\n",
    "    return a\n",
    "    "
   ]
  },
  {
   "cell_type": "code",
   "execution_count": 29,
   "metadata": {},
   "outputs": [
    {
     "name": "stdout",
     "output_type": "stream",
     "text": [
      "[1, 7, 4, 6, 1, 8, 1, 5]\n"
     ]
    }
   ],
   "source": [
    "nums = [1, 5, 1, 1, 6, 4, 7,8]\n",
    "wiggleSort(nums)\n",
    "print(nums)"
   ]
  },
  {
   "cell_type": "code",
   "execution_count": null,
   "metadata": {},
   "outputs": [],
   "source": []
  }
 ],
 "metadata": {
  "kernelspec": {
   "display_name": "testground",
   "language": "python",
   "name": "testground"
  },
  "language_info": {
   "codemirror_mode": {
    "name": "ipython",
    "version": 3
   },
   "file_extension": ".py",
   "mimetype": "text/x-python",
   "name": "python",
   "nbconvert_exporter": "python",
   "pygments_lexer": "ipython3",
   "version": "3.8.3"
  }
 },
 "nbformat": 4,
 "nbformat_minor": 4
}
