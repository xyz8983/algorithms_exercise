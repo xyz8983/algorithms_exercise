{
 "cells": [
  {
   "cell_type": "markdown",
   "metadata": {},
   "source": [
    "### Other type of questions - Not Categorized Yet"
   ]
  },
  {
   "cell_type": "markdown",
   "metadata": {},
   "source": [
    "<b> 200.Number of Islands </b>  \n",
    "DFS Way!  \n",
    "beautiflly use recursive way to flip \"1\" and it's neighbors and neighbors' heighbors to 0, to detect the adjacent lands. In this way the time you encountered \"1\" would be the count of island\n",
    "\n",
    "if a node contains a '1', then it is a root node that triggers a Depth First Search. During DFS, every visited node should be set as '0' to mark as visited node. the count of root node is the answer"
   ]
  },
  {
   "cell_type": "code",
   "execution_count": 4,
   "metadata": {},
   "outputs": [],
   "source": [
    "class Solution:\n",
    "    n=0\n",
    "    m=0\n",
    "    def numIslands(self, grid):\n",
    "        count = 0\n",
    "        self.n = len(grid)\n",
    "        if self.n == 0:\n",
    "            return 0\n",
    "        self.m = len(grid[0])\n",
    "        for i in range(self.n):\n",
    "            for j in range(self.m):\n",
    "                if (grid[i][j]==\"1\"):  # a string!\n",
    "                    self.visited(grid, i, j)\n",
    "                    count+=1\n",
    "        return count\n",
    "    \n",
    "    def visited(self, grid, i, j):\n",
    "        # the index may out of range\n",
    "        # only proceed if the element is 1\n",
    "        if i<0 or i>=self.n or j<0 or j>=self.m or grid[i][j]!=\"1\": \n",
    "            return\n",
    "        # flip the value to 0 and keep doing to its neighbors and neighbors' heighbors\n",
    "        grid[i][j] = \"0\"\n",
    "        self.visited(grid, i+1, j)\n",
    "        self.visited(grid, i-1, j)\n",
    "        self.visited(grid, i, j+1)\n",
    "        self.visited(grid, i, j-1)"
   ]
  },
  {
   "cell_type": "code",
   "execution_count": 5,
   "metadata": {},
   "outputs": [
    {
     "data": {
      "text/plain": [
       "3"
      ]
     },
     "execution_count": 5,
     "metadata": {},
     "output_type": "execute_result"
    }
   ],
   "source": [
    "grid = [\n",
    "  [\"1\",\"1\",\"0\",\"0\",\"0\"],\n",
    "  [\"1\",\"1\",\"0\",\"0\",\"0\"],\n",
    "  [\"0\",\"0\",\"1\",\"0\",\"0\"],\n",
    "  [\"0\",\"0\",\"0\",\"1\",\"1\"]\n",
    "]\n",
    "s_200 = Solution()\n",
    "s_200.numIslands(grid)"
   ]
  },
  {
   "cell_type": "markdown",
   "metadata": {},
   "source": [
    "<b>819.Most Common Words </b>  \n",
    "Using regex to find words that only contains alphabetic chars and put them into a list\n",
    "re.findall(r’\\w+’, the para_string ), then using counter\n",
    "  "
   ]
  },
  {
   "cell_type": "code",
   "execution_count": 12,
   "metadata": {},
   "outputs": [],
   "source": [
    "import re\n",
    "from collections import Counter\n",
    "def mostCommonWord( paragraph, banned):\n",
    "    banned_words = set(banned)\n",
    "    p_list = re.findall(r'\\w+', paragraph.lower())\n",
    "    p_list = [word for word in p_list if word not in banned_words]\n",
    "    count = Counter(p_list).most_common()\n",
    "    return count[0][0]"
   ]
  },
  {
   "cell_type": "code",
   "execution_count": 13,
   "metadata": {},
   "outputs": [
    {
     "data": {
      "text/plain": [
       "'b'"
      ]
     },
     "execution_count": 13,
     "metadata": {},
     "output_type": "execute_result"
    }
   ],
   "source": [
    "paragraph = \"a, a, a, a, b,b,b,c, c\"\n",
    "banned = [\"a\"]\n",
    "mostCommonWord( paragraph, banned)"
   ]
  },
  {
   "cell_type": "markdown",
   "metadata": {},
   "source": [
    "<b> find GCD for an array </b>\n",
    "\n",
    "GCD: the greated common divisor\n"
   ]
  },
  {
   "cell_type": "code",
   "execution_count": 1,
   "metadata": {},
   "outputs": [],
   "source": [
    "def gcd(a,b):\n",
    "    while b>0:\n",
    "        a, b = b, a%b\n",
    "    return a\n",
    "    \n",
    "def gcd_array(arr):\n",
    "    result = arr[0]\n",
    "    for i in arr[1:]:\n",
    "        result = gcd(result, i)\n",
    "    return result"
   ]
  },
  {
   "cell_type": "code",
   "execution_count": 2,
   "metadata": {},
   "outputs": [
    {
     "data": {
      "text/plain": [
       "1"
      ]
     },
     "execution_count": 2,
     "metadata": {},
     "output_type": "execute_result"
    }
   ],
   "source": [
    "gcd_array([3,7,9])"
   ]
  },
  {
   "cell_type": "code",
   "execution_count": 3,
   "metadata": {},
   "outputs": [
    {
     "data": {
      "text/plain": [
       "2"
      ]
     },
     "execution_count": 3,
     "metadata": {},
     "output_type": "execute_result"
    }
   ],
   "source": [
    "gcd_array([26,78,92])"
   ]
  },
  {
   "cell_type": "markdown",
   "metadata": {},
   "source": [
    "<b> find LCM for an array </b>\n",
    "\n",
    "LCM: lowest common multiplier"
   ]
  },
  {
   "cell_type": "code",
   "execution_count": 11,
   "metadata": {},
   "outputs": [],
   "source": [
    "def lcm(x, y):\n",
    "    a, b = x, y\n",
    "    while b >0 :\n",
    "        a,b=b, a%b\n",
    "    gcd = a\n",
    "    #return gcd*(x/gcd)*(y/gcd)\n",
    "    return x*y/gcd"
   ]
  },
  {
   "cell_type": "code",
   "execution_count": 12,
   "metadata": {},
   "outputs": [
    {
     "data": {
      "text/plain": [
       "18.0"
      ]
     },
     "execution_count": 12,
     "metadata": {},
     "output_type": "execute_result"
    }
   ],
   "source": [
    "lcm(6, 9)"
   ]
  },
  {
   "cell_type": "markdown",
   "metadata": {},
   "source": [
    "<b> 165 compare version number </b>\n",
    "\n",
    "using padding, construct two list with same length and then compare\n"
   ]
  },
  {
   "cell_type": "code",
   "execution_count": 13,
   "metadata": {},
   "outputs": [],
   "source": [
    "def compareVersion(version1, version2):\n",
    "    v1 = version1.split(\".\")\n",
    "    v2 = version2.split(\".\")\n",
    "    n1 = len(v1)\n",
    "    n2 = len(v2)\n",
    "\n",
    "    for i in range(max(n1, n2)):\n",
    "        i1 = int(v1[i]) if i<n1 else 0   # int() will remove the extra prefixing 0\n",
    "        i2 = int(v2[i]) if i<n2 else 0\n",
    "        if i1!=i2:\n",
    "            return 1 if i1>i2 else -1\n",
    "    return 0"
   ]
  },
  {
   "cell_type": "code",
   "execution_count": 14,
   "metadata": {},
   "outputs": [
    {
     "data": {
      "text/plain": [
       "0"
      ]
     },
     "execution_count": 14,
     "metadata": {},
     "output_type": "execute_result"
    }
   ],
   "source": [
    "version1=\"01\"\n",
    "version2=\"1\"\n",
    "compareVersion(version1, version2)"
   ]
  },
  {
   "cell_type": "markdown",
   "metadata": {},
   "source": [
    "<b> 31 Next Permutation </b>\n",
    "\n",
    "A lot of people don’t think it is a proper interview question, since the patter is hard to tell in the short interview time.  \n",
    "Loop from the end to the start of the array, find the first pair of items that a[i-1] < a [i], so everthing from position I to the end of the array are in depending order  \n",
    "Then from the range I to the end of the array, find the smallest value that is larger than a[i-1], lets say it is a[j]  \n",
    "Swap a[i] with a[j], then reverse the the range I to the end of the array in acceding order, to make sure the permutation is the smallest compare to the original status,\n",
    "\n",
    "Time complexity is O(N)"
   ]
  },
  {
   "cell_type": "code",
   "execution_count": 1,
   "metadata": {},
   "outputs": [],
   "source": [
    "def nextPermutation(nums):\n",
    "    \"\"\"\n",
    "    Do not return anything, modify nums in-place instead.\n",
    "    \"\"\"\n",
    "    #if the elements are increasing from the right, they are currently at their largest possible permutation\n",
    "    i = len(nums)-2\n",
    "    while i>=0 and nums[i]>=nums[i+1]:\n",
    "        i -= 1\n",
    "    if i>=0:\n",
    "        j = len(nums)-1\n",
    "        while j >=0 and nums[j]<=nums[i]:\n",
    "            j-=1  # find the smallest value that is greater than nums[i]\n",
    "\n",
    "        nums[i], nums[j] = nums[j], nums[i]\n",
    "\n",
    "    nums[i+1: ] = nums[i+1: ][::-1]\n"
   ]
  },
  {
   "cell_type": "code",
   "execution_count": 3,
   "metadata": {},
   "outputs": [
    {
     "name": "stdout",
     "output_type": "stream",
     "text": [
      "[1, 5, 1]\n"
     ]
    }
   ],
   "source": [
    "nums = [1,1,5]\n",
    "nextPermutation(nums)\n",
    "print(nums)"
   ]
  },
  {
   "cell_type": "markdown",
   "metadata": {},
   "source": [
    "another way same as above"
   ]
  },
  {
   "cell_type": "code",
   "execution_count": 1,
   "metadata": {},
   "outputs": [],
   "source": [
    "def nextPermutation(nums):\n",
    "    \"\"\"\n",
    "    Do not return anything, modify nums in-place instead.\n",
    "    \"\"\"\n",
    "    n = len(nums)\n",
    "    i = n - 1\n",
    "    while i-1>=0 and nums[i-1]>=nums[i]:\n",
    "        i-=1\n",
    "    if i== 0:\n",
    "        # the nums is already in descending order, no more larger permutation, so return the lowest possible order\n",
    "        nums.sort()\n",
    "    else:\n",
    "        # nums[i-1]<nums[i], n at i-1 should be swap with the smallest larger n in the range of i to n-1\n",
    "        j = i\n",
    "        while j+1 < n and nums[j+1]>nums[i-1]:\n",
    "            j+=1\n",
    "        # nums[j+1] is the first item <=nums[i-1]\n",
    "        # so nums[j] is the smallest larger item of nums[i-1], should be swap with nums[i-1]\n",
    "        nums[i-1], nums[j] = nums[j], nums[i-1]\n",
    "        # order the item from index i to n-1 to make the result the smallest larger permutation\n",
    "        nums[i:] = sorted(nums[i:])\n"
   ]
  },
  {
   "cell_type": "code",
   "execution_count": 2,
   "metadata": {},
   "outputs": [
    {
     "data": {
      "text/plain": [
       "[2, 1, 3]"
      ]
     },
     "execution_count": 2,
     "metadata": {},
     "output_type": "execute_result"
    }
   ],
   "source": [
    "nums=[1,3,2]\n",
    "nextPermutation(nums)\n",
    "nums"
   ]
  },
  {
   "cell_type": "markdown",
   "metadata": {},
   "source": [
    "<b> 60 Permutation Sequence </b>\n",
    "\n",
    "it is a math problem, not an algorithm problem. using k//(n-i)! to find the index of next number, then update k to k%(n-i)!, also need to remove the number used in the permutation.\n",
    "\n",
    "for detail explanation, see [here](https://leetcode.com/problems/permutation-sequence/discuss/22507/%22Explain-like-I'm-five%22-Java-Solution-in-O(n))"
   ]
  },
  {
   "cell_type": "code",
   "execution_count": 1,
   "metadata": {},
   "outputs": [],
   "source": [
    "def getPermutation(n, k) :\n",
    "    permutation = [] # [str]\n",
    "    numbers = list(range(1, n+1))\n",
    "    factorial = [1] # factorial lookup\n",
    "    temp =1\n",
    "    for i in range(1, n+1):\n",
    "        temp*=i\n",
    "        factorial.append(temp)\n",
    "\n",
    "    k -= 1 # actual index (0 based)\n",
    "\n",
    "    for i in range(1, n+1):\n",
    "        ind, k = divmod(k,factorial[n-i])\n",
    "        permutation.append(str(numbers[ind]))\n",
    "        del numbers[ind]\n",
    "\n",
    "    return ''.join(permutation)"
   ]
  },
  {
   "cell_type": "code",
   "execution_count": 2,
   "metadata": {},
   "outputs": [
    {
     "data": {
      "text/plain": [
       "'213'"
      ]
     },
     "execution_count": 2,
     "metadata": {},
     "output_type": "execute_result"
    }
   ],
   "source": [
    "getPermutation(3, 3)"
   ]
  },
  {
   "cell_type": "markdown",
   "metadata": {},
   "source": [
    "<b> 289 game of life </b>\n",
    "smart way of using bit operation.   \n",
    "Suppose [2nd bit, 1st bit] = [next state, current state]  \n",
    "0 -> 10  dead to life, only when count = 3  \n",
    "0 -> 00  dead to dead, by default  \n",
    "1 -> 11 life to life, when count = 2 or 3  \n",
    "1 -> 01 life to dead, when count <2 or >3, by default  \n",
    "Exclude the two by default cases, only need to look at cases 0 -> 10 (binary 10 = 2), and 1-> 11 (binary 11 = 3)  \n",
    "Value >>1 will get the 2nd bit, which is the next status  \n",
    "Value &1 will get the 1st bit, which is the current status  \n"
   ]
  },
  {
   "cell_type": "code",
   "execution_count": 5,
   "metadata": {},
   "outputs": [],
   "source": [
    "from itertools import product\n",
    "def gameOfLife( board):\n",
    "    \"\"\"\n",
    "    Do not return anything, modify board in-place instead.\n",
    "    \"\"\"\n",
    "#     def check_neighbors(i, j, m, n):\n",
    "#         # return how many live cells in the 8 neighbors\n",
    "#         # \n",
    "#         directions = product([1,0,-1],repeat=2)\n",
    "#         result = 0\n",
    "#         for di,dj in directions:\n",
    "#             if i+di>=0 and i+di<m and j+dj>=0 and j+dj<n:\n",
    "#                 # &1 to get the current bit status\n",
    "#                 result += (board[i+di][j+dj]&1)\n",
    "#         # not counting itself\n",
    "#         return result - (board[i][j]&1)\n",
    "    def check_neighbors(i, j, m, n):\n",
    "        result = 0\n",
    "        for ni in range(max(0,i-1), min(m, i+2)):\n",
    "            for nj in range(max(0,j-1), min(n, j+2)):\n",
    "                result += (board[ni][nj]&1)\n",
    "        return result - (board[i][j]&1)\n",
    "        \n",
    "    m = len(board)\n",
    "    if m==0:\n",
    "        return\n",
    "    n = len(board[0])\n",
    "    if n==0:\n",
    "        return\n",
    "    for i in range(m):\n",
    "        for j in range(n):\n",
    "            count = check_neighbors(i, j, m, n)\n",
    "            # &1 to get the right most bit, representing the current status\n",
    "            if board[i][j]&1 == 1:\n",
    "                if count==2 or count==3:\n",
    "                    # b(1)->b(11) \n",
    "                    board[i][j] = 3\n",
    "            else:\n",
    "                if count == 3:\n",
    "                    # b(0)->b(10)\n",
    "                    board[i][j] = 2\n",
    "    for i in range(m):\n",
    "        for j in range(n):\n",
    "            # >>1 to get the left most bit, representing the next status\n",
    "            board[i][j] = board[i][j]>>1"
   ]
  },
  {
   "cell_type": "code",
   "execution_count": 6,
   "metadata": {},
   "outputs": [
    {
     "name": "stdout",
     "output_type": "stream",
     "text": [
      "[[0, 0, 0], [1, 0, 1], [0, 1, 1], [0, 1, 0]]\n"
     ]
    }
   ],
   "source": [
    "board = [[0,1,0],[0,0,1],[1,1,1],[0,0,0]]\n",
    "gameOfLife( board)\n",
    "print(board)"
   ]
  },
  {
   "cell_type": "markdown",
   "metadata": {},
   "source": [
    "<b> 350. Intersection of Two Arrays II </b>\n",
    "\n",
    "smart usage of Counter! it supports intersection\n",
    "\n",
    "way 1 is my first solution, it uses counter but does not know it supports intersection"
   ]
  },
  {
   "cell_type": "code",
   "execution_count": 1,
   "metadata": {},
   "outputs": [],
   "source": [
    "from collections import Counter\n",
    "# nums1: List[int], nums2: List[int]\n",
    "def intersect(nums1, nums2):\n",
    "    num1_count = Counter(nums1)\n",
    "    num2_count = Counter(nums2)\n",
    "    if len(num1_count)< len(num2_count):\n",
    "        checker = num1_count\n",
    "        target = num2_count\n",
    "    else:\n",
    "        checker = num2_count\n",
    "        target = num1_count\n",
    "\n",
    "    res = []\n",
    "    for i in checker:\n",
    "        if i in target:\n",
    "            res.extend([i]*min(checker[i], target[i]))\n",
    "    return res"
   ]
  },
  {
   "cell_type": "code",
   "execution_count": 4,
   "metadata": {},
   "outputs": [],
   "source": [
    "# way 2: utilize the intersection feature from Counter\n",
    "from collections import Counter\n",
    "def intersect(nums1, nums2):\n",
    "    c1 = Counter(nums1)\n",
    "    c2 = Counter(nums2)\n",
    "    return sum([[n]*min(c1[n], c2[n]) for n in c1&c2], [])"
   ]
  },
  {
   "cell_type": "code",
   "execution_count": 5,
   "metadata": {},
   "outputs": [
    {
     "data": {
      "text/plain": [
       "[4, 9]"
      ]
     },
     "execution_count": 5,
     "metadata": {},
     "output_type": "execute_result"
    }
   ],
   "source": [
    "nums1 = [4,9,5]\n",
    "nums2 = [9,4,9,8,4]\n",
    "intersect(nums1, nums2)"
   ]
  },
  {
   "cell_type": "markdown",
   "metadata": {},
   "source": [
    "<b> 36 valid sudoku </b>\n",
    "\n",
    "a simple set structure is able to solve the problem"
   ]
  },
  {
   "cell_type": "code",
   "execution_count": 6,
   "metadata": {},
   "outputs": [],
   "source": [
    "def isValidSudoku(board) -> bool:\n",
    "    seen = set()\n",
    "    for i in range(9):\n",
    "        for j in range(9):\n",
    "            number = board[i][j]\n",
    "            if number!='.':\n",
    "                before_l = len(seen)\n",
    "                seen.add(number+' in row '+str(i))\n",
    "                seen.add(number+' in col '+str(j))\n",
    "                seen.add(number+' in block '+str(i//3)+'-'+str(j//3))\n",
    "                after_l = len(seen)\n",
    "                if before_l + 3!= after_l:\n",
    "                    return False\n",
    "    return True\n",
    "                    "
   ]
  },
  {
   "cell_type": "code",
   "execution_count": 7,
   "metadata": {},
   "outputs": [
    {
     "data": {
      "text/plain": [
       "False"
      ]
     },
     "execution_count": 7,
     "metadata": {},
     "output_type": "execute_result"
    }
   ],
   "source": [
    "board = [[\"8\",\"3\",\".\",\".\",\"7\",\".\",\".\",\".\",\".\"]\n",
    ",[\"6\",\".\",\".\",\"1\",\"9\",\"5\",\".\",\".\",\".\"]\n",
    ",[\".\",\"9\",\"8\",\".\",\".\",\".\",\".\",\"6\",\".\"]\n",
    ",[\"8\",\".\",\".\",\".\",\"6\",\".\",\".\",\".\",\"3\"]\n",
    ",[\"4\",\".\",\".\",\"8\",\".\",\"3\",\".\",\".\",\"1\"]\n",
    ",[\"7\",\".\",\".\",\".\",\"2\",\".\",\".\",\".\",\"6\"]\n",
    ",[\".\",\"6\",\".\",\".\",\".\",\".\",\"2\",\"8\",\".\"]\n",
    ",[\".\",\".\",\".\",\"4\",\"1\",\"9\",\".\",\".\",\"5\"]\n",
    ",[\".\",\".\",\".\",\".\",\"8\",\".\",\".\",\"7\",\"9\"]]\n",
    "isValidSudoku(board) "
   ]
  },
  {
   "cell_type": "markdown",
   "metadata": {},
   "source": [
    "<b> 73 Set Matrix Zeros </b>\n",
    "\n",
    "a smart solution!\n",
    "basic idea: using the first row and column as a memory to keep track of all the 0's in the entire matrix. and an extra element to store the duplicated [0][0] position   \n",
    "\n",
    "if matrix[i][j]==0, mark the first element of its column and row as 0, which means this whole column and whole row where the [i][j] element locates should be 0 later. It could happen that matrix[0][0] are duplicatedly used for column and row perspective, so introduce another var like col0 to track it.\n",
    "\n",
    "after the first loop, 0 element info are stored in the first col and row.  \n",
    "then start from right bottom corner to the left up corner, to find the 0 element, and update the matrix. <b> why bottom up</b>? to avoid miscounting the \"transformed\" zero as the \"original\" zero."
   ]
  },
  {
   "cell_type": "code",
   "execution_count": null,
   "metadata": {},
   "outputs": [],
   "source": [
    "# matrix: List[List[int]\n",
    "def setZeroes(matrix) -> None:\n",
    "    \"\"\"\n",
    "    Do not return anything, modify matrix in-place instead.\n",
    "\n",
    "    \"\"\"\n",
    "\n",
    "    m = len(matrix)\n",
    "    n = len(matrix[0])\n",
    "    col0 = 1 # an extra var to store first element from col perspective\n",
    "    for i in range(m):\n",
    "        # first element of first column, which is col0 should be 0\n",
    "        if matrix[i][0] == 0: col0 = 0\n",
    "        for j in range(1, n):\n",
    "            if matrix[i][j]==0:\n",
    "                matrix[i][0]=0\n",
    "                matrix[0][j]=0\n",
    "    for i in range(m-1, -1, -1):\n",
    "        for j in range(n-1, 0, -1): # first col needs special care by col0\n",
    "            if matrix[i][0]==0 or matrix[0][j]==0:\n",
    "                matrix[i][j]=0\n",
    "        if col0 == 0: # first col needs special care by col0\n",
    "            matrix[i][0] = 0"
   ]
  }
 ],
 "metadata": {
  "kernelspec": {
   "display_name": "testground",
   "language": "python",
   "name": "testground"
  },
  "language_info": {
   "codemirror_mode": {
    "name": "ipython",
    "version": 3
   },
   "file_extension": ".py",
   "mimetype": "text/x-python",
   "name": "python",
   "nbconvert_exporter": "python",
   "pygments_lexer": "ipython3",
   "version": "3.8.3"
  }
 },
 "nbformat": 4,
 "nbformat_minor": 4
}
