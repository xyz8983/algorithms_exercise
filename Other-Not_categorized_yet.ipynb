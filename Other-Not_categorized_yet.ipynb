{
 "cells": [
  {
   "cell_type": "markdown",
   "metadata": {},
   "source": [
    "### Other type of questions - Not Categorized Yet"
   ]
  },
  {
   "cell_type": "markdown",
   "metadata": {},
   "source": [
    "<b> 200.Number of Islands </b>  \n",
    "DFS Way!  \n",
    "beautiflly use recursive way to flip \"1\" and it's neighbors and neighbors' heighbors to 0, to detect the adjacent lands. In this way the time you encountered \"1\" would be the count of island\n",
    "\n",
    "if a node contains a '1', then it is a root node that triggers a Depth First Search. During DFS, every visited node should be set as '0' to mark as visited node. the count of root node is the answer"
   ]
  },
  {
   "cell_type": "code",
   "execution_count": 4,
   "metadata": {},
   "outputs": [],
   "source": [
    "class Solution:\n",
    "    n=0\n",
    "    m=0\n",
    "    def numIslands(self, grid):\n",
    "        count = 0\n",
    "        self.n = len(grid)\n",
    "        if self.n == 0:\n",
    "            return 0\n",
    "        self.m = len(grid[0])\n",
    "        for i in range(self.n):\n",
    "            for j in range(self.m):\n",
    "                if (grid[i][j]==\"1\"):  # a string!\n",
    "                    self.visited(grid, i, j)\n",
    "                    count+=1\n",
    "        return count\n",
    "    \n",
    "    def visited(self, grid, i, j):\n",
    "        # the index may out of range\n",
    "        # only proceed if the element is 1\n",
    "        if i<0 or i>=self.n or j<0 or j>=self.m or grid[i][j]!=\"1\": \n",
    "            return\n",
    "        # flip the value to 0 and keep doing to its neighbors and neighbors' heighbors\n",
    "        grid[i][j] = \"0\"\n",
    "        self.visited(grid, i+1, j)\n",
    "        self.visited(grid, i-1, j)\n",
    "        self.visited(grid, i, j+1)\n",
    "        self.visited(grid, i, j-1)"
   ]
  },
  {
   "cell_type": "code",
   "execution_count": 5,
   "metadata": {},
   "outputs": [
    {
     "data": {
      "text/plain": [
       "3"
      ]
     },
     "execution_count": 5,
     "metadata": {},
     "output_type": "execute_result"
    }
   ],
   "source": [
    "grid = [\n",
    "  [\"1\",\"1\",\"0\",\"0\",\"0\"],\n",
    "  [\"1\",\"1\",\"0\",\"0\",\"0\"],\n",
    "  [\"0\",\"0\",\"1\",\"0\",\"0\"],\n",
    "  [\"0\",\"0\",\"0\",\"1\",\"1\"]\n",
    "]\n",
    "s_200 = Solution()\n",
    "s_200.numIslands(grid)"
   ]
  },
  {
   "cell_type": "markdown",
   "metadata": {},
   "source": [
    "<b>819.Most Common Words </b>  \n",
    "Using regex to find words that only contains alphabetic chars and put them into a list\n",
    "re.findall(r’\\w+’, the para_string ), then using counter\n",
    "  "
   ]
  },
  {
   "cell_type": "code",
   "execution_count": 12,
   "metadata": {},
   "outputs": [],
   "source": [
    "import re\n",
    "from collections import Counter\n",
    "def mostCommonWord( paragraph, banned):\n",
    "    banned_words = set(banned)\n",
    "    p_list = re.findall(r'\\w+', paragraph.lower())\n",
    "    p_list = [word for word in p_list if word not in banned_words]\n",
    "    count = Counter(p_list).most_common()\n",
    "    return count[0][0]"
   ]
  },
  {
   "cell_type": "code",
   "execution_count": 13,
   "metadata": {},
   "outputs": [
    {
     "data": {
      "text/plain": [
       "'b'"
      ]
     },
     "execution_count": 13,
     "metadata": {},
     "output_type": "execute_result"
    }
   ],
   "source": [
    "paragraph = \"a, a, a, a, b,b,b,c, c\"\n",
    "banned = [\"a\"]\n",
    "mostCommonWord( paragraph, banned)"
   ]
  },
  {
   "cell_type": "markdown",
   "metadata": {},
   "source": [
    "<b> find GCD for an array </b>\n",
    "\n",
    "GCD: the greated common divisor\n"
   ]
  },
  {
   "cell_type": "code",
   "execution_count": 1,
   "metadata": {},
   "outputs": [],
   "source": [
    "def gcd(a,b):\n",
    "    while b>0:\n",
    "        a, b = b, a%b\n",
    "    return a\n",
    "    \n",
    "def gcd_array(arr):\n",
    "    result = arr[0]\n",
    "    for i in arr[1:]:\n",
    "        result = gcd(result, i)\n",
    "    return result"
   ]
  },
  {
   "cell_type": "code",
   "execution_count": 2,
   "metadata": {},
   "outputs": [
    {
     "data": {
      "text/plain": [
       "1"
      ]
     },
     "execution_count": 2,
     "metadata": {},
     "output_type": "execute_result"
    }
   ],
   "source": [
    "gcd_array([3,7,9])"
   ]
  },
  {
   "cell_type": "code",
   "execution_count": 3,
   "metadata": {},
   "outputs": [
    {
     "data": {
      "text/plain": [
       "2"
      ]
     },
     "execution_count": 3,
     "metadata": {},
     "output_type": "execute_result"
    }
   ],
   "source": [
    "gcd_array([26,78,92])"
   ]
  },
  {
   "cell_type": "markdown",
   "metadata": {},
   "source": [
    "<b> find LCM for an array </b>\n",
    "\n",
    "LCM: lowest common multiplier"
   ]
  },
  {
   "cell_type": "code",
   "execution_count": 11,
   "metadata": {},
   "outputs": [],
   "source": [
    "def lcm(x, y):\n",
    "    a, b = x, y\n",
    "    while b >0 :\n",
    "        a,b=b, a%b\n",
    "    gcd = a\n",
    "    #return gcd*(x/gcd)*(y/gcd)\n",
    "    return x*y/gcd"
   ]
  },
  {
   "cell_type": "code",
   "execution_count": 12,
   "metadata": {},
   "outputs": [
    {
     "data": {
      "text/plain": [
       "18.0"
      ]
     },
     "execution_count": 12,
     "metadata": {},
     "output_type": "execute_result"
    }
   ],
   "source": [
    "lcm(6, 9)"
   ]
  },
  {
   "cell_type": "markdown",
   "metadata": {},
   "source": [
    "<b> 165 compare version number </b>\n",
    "\n",
    "using padding, construct two list with same length and then compare\n"
   ]
  },
  {
   "cell_type": "code",
   "execution_count": 13,
   "metadata": {},
   "outputs": [],
   "source": [
    "def compareVersion(version1, version2):\n",
    "    v1 = version1.split(\".\")\n",
    "    v2 = version2.split(\".\")\n",
    "    n1 = len(v1)\n",
    "    n2 = len(v2)\n",
    "\n",
    "    for i in range(max(n1, n2)):\n",
    "        i1 = int(v1[i]) if i<n1 else 0   # int() will remove the extra prefixing 0\n",
    "        i2 = int(v2[i]) if i<n2 else 0\n",
    "        if i1!=i2:\n",
    "            return 1 if i1>i2 else -1\n",
    "    return 0"
   ]
  },
  {
   "cell_type": "code",
   "execution_count": 14,
   "metadata": {},
   "outputs": [
    {
     "data": {
      "text/plain": [
       "0"
      ]
     },
     "execution_count": 14,
     "metadata": {},
     "output_type": "execute_result"
    }
   ],
   "source": [
    "version1=\"01\"\n",
    "version2=\"1\"\n",
    "compareVersion(version1, version2)"
   ]
  }
 ],
 "metadata": {
  "kernelspec": {
   "display_name": "testground",
   "language": "python",
   "name": "testground"
  },
  "language_info": {
   "codemirror_mode": {
    "name": "ipython",
    "version": 3
   },
   "file_extension": ".py",
   "mimetype": "text/x-python",
   "name": "python",
   "nbconvert_exporter": "python",
   "pygments_lexer": "ipython3",
   "version": "3.8.3"
  }
 },
 "nbformat": 4,
 "nbformat_minor": 4
}
