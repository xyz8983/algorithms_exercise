{
 "cells": [
  {
   "cell_type": "markdown",
   "metadata": {},
   "source": [
    "### Recursive Thinking\n",
    "\n",
    "recursion is a method of solving a problem where the solution depends on solutions to smaller instances of the same problem    \n",
    "first find out the very base case, what to return.   \n",
    "then think of the subproblems, how to reduce original problem into smaller problem\n",
    "\n",
    "most recursive problem can be solved by interative way.\n",
    "\n",
    "One recursion way is called <b>backtracking </b>. If you see questions that let you list all possible solutions, in an exhausted way, then backtracking may help\n",
    "\n",
    "<b>backtracking</b>, which is a methodology where we mark the current path of exploration, if the path does not lead to a solution, we then revert the change (i.e. backtracking) and try another path."
   ]
  },
  {
   "cell_type": "markdown",
   "metadata": {},
   "source": [
    "<b>17.Letter Combination of a Phone Number </b>"
   ]
  },
  {
   "cell_type": "code",
   "execution_count": 1,
   "metadata": {},
   "outputs": [],
   "source": [
    "def letterCombinations(digits):\n",
    "    hash_map = {\n",
    "        \"2\":[\"a\",\"b\",\"c\"],\n",
    "        \"3\":[\"d\",\"e\",\"f\"],\n",
    "        \"4\":[\"g\",\"h\",\"i\"],\n",
    "        \"5\":[\"j\",\"k\",\"l\"],\n",
    "        \"6\":[\"m\",\"n\",\"o\"],\n",
    "        \"7\":[\"p\",\"q\",\"r\",\"s\"],\n",
    "        \"8\":[\"t\",\"u\",\"v\"],\n",
    "        \"9\":[\"w\",\"x\",\"y\",\"z\"]\n",
    "    }\n",
    "\n",
    "    def combination(digits):\n",
    "        # no digit or 1 digit is the base case\n",
    "        if len(digits)==0:\n",
    "            return []\n",
    "        elif len(digits)==1:\n",
    "            return hash_map[digits]\n",
    "        # more digits need to separate into smaller chunks\n",
    "        else:\n",
    "            temp =[]\n",
    "            for i in combination(digits[0]):\n",
    "                for j in combination(digits[1:]):\n",
    "                    temp.append(i+j)\n",
    "            return temp\n",
    "\n",
    "    return combination(digits)"
   ]
  },
  {
   "cell_type": "code",
   "execution_count": 3,
   "metadata": {},
   "outputs": [
    {
     "data": {
      "text/plain": [
       "['dg', 'dh', 'di', 'eg', 'eh', 'ei', 'fg', 'fh', 'fi']"
      ]
     },
     "execution_count": 3,
     "metadata": {},
     "output_type": "execute_result"
    }
   ],
   "source": [
    "digits = \"34\"\n",
    "letterCombinations(digits)"
   ]
  },
  {
   "cell_type": "markdown",
   "metadata": {},
   "source": [
    "interative way"
   ]
  },
  {
   "cell_type": "code",
   "execution_count": 5,
   "metadata": {},
   "outputs": [],
   "source": [
    "def letterCombinations(digits):\n",
    "    if not digits:\n",
    "        return []\n",
    "    hash_map = {\n",
    "        '2': 'abc',\n",
    "        '3': 'def',\n",
    "        '4': 'ghi',\n",
    "        '5': 'jkl',\n",
    "        '6': 'mno',\n",
    "        '7': 'pqrs',\n",
    "        '8': 'tuv',\n",
    "        '9': 'wxyz'\n",
    "    }\n",
    "    result = [\"\"]\n",
    "    for c in digits:\n",
    "        # like a new layer\n",
    "        temp = []  # result will be updated, 2,3,4, when loop into 4, it will add more chars to result of 2,3\n",
    "        for char in hash_map[c]:\n",
    "            for r in result:\n",
    "                temp.append(r+char)\n",
    "        result = temp\n",
    "    return result\n"
   ]
  },
  {
   "cell_type": "code",
   "execution_count": 6,
   "metadata": {
    "scrolled": true
   },
   "outputs": [
    {
     "data": {
      "text/plain": [
       "['ad', 'bd', 'cd', 'ae', 'be', 'ce', 'af', 'bf', 'cf']"
      ]
     },
     "execution_count": 6,
     "metadata": {},
     "output_type": "execute_result"
    }
   ],
   "source": [
    "digits = \"23\"\n",
    "letterCombinations(digits)"
   ]
  },
  {
   "cell_type": "markdown",
   "metadata": {},
   "source": [
    "<b>39.Combination Sum </b>  \n",
    "choices: the candidates  \n",
    "constraints: combination added up to target, no duplicated combinations  \n",
    "\n",
    "<b>Two places need attention!</b>. \n",
    "1. result.append(temp[:]) => need to copy the temp then append to result space\n",
    "2. in backtracking part, temp.pop() to pop out the just checked one and continue\n",
    "\n",
    "<b> time complexity </b>  \n",
    "worst case: O(N^target): no optimization, assuming each recurisve step we go over all existing candidiates, and go as deep as target step in the recursive call (each recursive call only reduce 1, max will take target step) => N^target: you have N choices and you choose at most target time"
   ]
  },
  {
   "cell_type": "code",
   "execution_count": 7,
   "metadata": {},
   "outputs": [],
   "source": [
    "def combinationSum(candidates, target):\n",
    "        \n",
    "    # result is the final steady result space\n",
    "    def helper(result, temp, candidates, remain, start_ind):\n",
    "        # two base cases\n",
    "        # numbers combination are too big\n",
    "        if remain < 0:\n",
    "            return\n",
    "        # numbers combination just work out\n",
    "        elif remain == 0:\n",
    "            # ATTENTION: list is a referal, so need to copy it\n",
    "            # otherwise the continuing editing to it will be reflected \n",
    "            result.append(temp[:])\n",
    "\n",
    "        # recursion start\n",
    "        else:\n",
    "            # choices base\n",
    "            for i in range(start_ind, len(candidates)):\n",
    "                # construct potential answer\n",
    "                temp.append(candidates[i])\n",
    "                helper(result, temp, candidates, remain-candidates[i], i)  \n",
    "                # start index is i again because it can reuse current element. but not start from 0 because that will introduce duplicated combination\n",
    "                # the case of candidates[i] has finished checking\n",
    "                # pop the last item\n",
    "                temp.pop()\n",
    "    result = []\n",
    "    candidates.sort() # for easy comparison and can stop early when remain<0 => an optimization\n",
    "    helper(result, [], candidates, target, 0)\n",
    "    return result"
   ]
  },
  {
   "cell_type": "code",
   "execution_count": 8,
   "metadata": {},
   "outputs": [
    {
     "data": {
      "text/plain": [
       "[[2, 2, 3], [7]]"
      ]
     },
     "execution_count": 8,
     "metadata": {},
     "output_type": "execute_result"
    }
   ],
   "source": [
    "candidates = [2,3,6,7]\n",
    "target = 7\n",
    "combinationSum(candidates, target)"
   ]
  },
  {
   "cell_type": "markdown",
   "metadata": {},
   "source": [
    "if cant understand the remain concept, sum concept works too <b> => remember this one </b>"
   ]
  },
  {
   "cell_type": "code",
   "execution_count": 4,
   "metadata": {},
   "outputs": [],
   "source": [
    "def combinationSum_2(candidates, target):\n",
    "    # result is the final steady result space\n",
    "    def helper(result, temp, candidates, target, start_ind):\n",
    "        if sum(temp) > target:\n",
    "            return\n",
    "\n",
    "        elif sum(temp) == target:\n",
    "            result.append(temp[:])\n",
    "            return\n",
    "        else:\n",
    "            for i in range(start_ind, len(candidates)):\n",
    "                temp.append(candidates[i])\n",
    "                helper(result, temp, candidates, target, i)  \n",
    "                temp.pop()\n",
    "    result = []\n",
    "    candidates.sort() # for easy comparison? => wont affect the overall time, but can help to break the loop earlier for best and avg cases\n",
    "    helper(result, [], candidates, target, 0)\n",
    "    return result"
   ]
  },
  {
   "cell_type": "code",
   "execution_count": 5,
   "metadata": {},
   "outputs": [
    {
     "data": {
      "text/plain": [
       "[[2, 2, 3], [7]]"
      ]
     },
     "execution_count": 5,
     "metadata": {},
     "output_type": "execute_result"
    }
   ],
   "source": [
    "candidates = [2,3,6,7]\n",
    "target = 7\n",
    "combinationSum_2(candidates, target)"
   ]
  },
  {
   "cell_type": "markdown",
   "metadata": {},
   "source": [
    "<b>40. Combinations Sum II </b>  \n",
    "\n",
    "the key point is how to make sure candidate number may only be used once and at the same time dont introduce duplciated combinations due to the duplicated number in candidates\n",
    "\n",
    "time complexity:(some one said=>)  O(2^n), for specific index, opnly have two choices: pick or not pick"
   ]
  },
  {
   "cell_type": "code",
   "execution_count": 25,
   "metadata": {},
   "outputs": [],
   "source": [
    "def combinationSum2(candidates, target):\n",
    "    def helper(result, temp, candidates, target, start_ind):\n",
    "        if sum(temp) > target:\n",
    "            return\n",
    "        elif sum(temp) == target:\n",
    "            result.append(temp[:])\n",
    "            return\n",
    "        else:\n",
    "            for i in range(start_ind, len(candidates)):\n",
    "                # at SAME FOR LOOP level, if the number is used, dont use it again, otherwise will bring in duplicated combination\n",
    "                # if [1, X, X,...] 1 is used in the first element\n",
    "                # next number in the for is 1 again\n",
    "                # if construct [1, x...], will end up getting duplicated combination obtained by previous [1, xxx]\n",
    "                # it doesn't eliminate the [1,1,xxx] cases because the two 1s are in different level of the for loop\n",
    "                # the second 1 is from the next helper()\n",
    "                if i>start_ind and candidates[i]==candidates[i-1]:\n",
    "                    continue\n",
    "                temp.append(candidates[i])\n",
    "                helper(result, temp, candidates, target, i+1)     \n",
    "                temp.pop()\n",
    "\n",
    "    result = []\n",
    "    candidates.sort()  # so sum(temp)>target will make sense, candidates[i]==candidates[i-1] step will make senset too. it is an optimization step\n",
    "    helper(result, [], candidates, target,0)\n",
    "    return result"
   ]
  },
  {
   "cell_type": "code",
   "execution_count": 26,
   "metadata": {},
   "outputs": [
    {
     "data": {
      "text/plain": [
       "[[1, 1, 6], [1, 2, 5], [1, 7], [2, 6]]"
      ]
     },
     "execution_count": 26,
     "metadata": {},
     "output_type": "execute_result"
    }
   ],
   "source": [
    "candidates = [10,1,2,7,6,1,5]\n",
    "target = 8\n",
    "combinationSum2(candidates, target)"
   ]
  },
  {
   "cell_type": "markdown",
   "metadata": {},
   "source": [
    "<b> 216. combination Sum III </b>  \n",
    "similar as above, to use numbers only once, change the start index.\n",
    "\n",
    "time: O(c(9,k)) to O(9^k)"
   ]
  },
  {
   "cell_type": "code",
   "execution_count": 27,
   "metadata": {},
   "outputs": [],
   "source": [
    "def combinationSum3(k, n):\n",
    "    def helper(result, temp, k, n, start):\n",
    "        if sum(temp) > n:\n",
    "            return\n",
    "        elif len(temp)==k and sum(temp)==n:\n",
    "            result.append(temp[:])\n",
    "        else:\n",
    "            for i in range(start, 10):\n",
    "                temp.append(i)\n",
    "                helper(result, temp, k, n, i+1)\n",
    "                temp.pop()\n",
    "\n",
    "    result =[]\n",
    "    helper(result, [], k, n, 1)\n",
    "    return result"
   ]
  },
  {
   "cell_type": "code",
   "execution_count": 28,
   "metadata": {},
   "outputs": [
    {
     "data": {
      "text/plain": [
       "[[1, 2, 4]]"
      ]
     },
     "execution_count": 28,
     "metadata": {},
     "output_type": "execute_result"
    }
   ],
   "source": [
    "combinationSum3(3, 7)"
   ]
  },
  {
   "cell_type": "markdown",
   "metadata": {},
   "source": [
    "<b>78. Subsets </b>\n",
    "\n",
    "lets apply the backtrack idea here"
   ]
  },
  {
   "cell_type": "code",
   "execution_count": 13,
   "metadata": {},
   "outputs": [],
   "source": [
    "def subsets(nums):\n",
    "    def helper(result, temp, nums, start_ind):\n",
    "        # no special cases, so just append the temp, every case satisfy the question\n",
    "        result.append(temp[:])\n",
    "        for i in range(start_ind, len(nums)):\n",
    "            temp.append(nums[i])\n",
    "            # i+1 because current number cant be reused\n",
    "            # previous number is checked already too\n",
    "            helper(result, temp, nums, i+1)\n",
    "            temp.pop()\n",
    "    result =[]\n",
    "    helper(result, [], nums, 0)  # the [] in the result happens to be the initial temp appended\n",
    "    return result"
   ]
  },
  {
   "cell_type": "code",
   "execution_count": 15,
   "metadata": {},
   "outputs": [
    {
     "data": {
      "text/plain": [
       "[[], [1], [1, 2], [1, 2, 3], [1, 3], [2], [2, 3], [3]]"
      ]
     },
     "execution_count": 15,
     "metadata": {},
     "output_type": "execute_result"
    }
   ],
   "source": [
    "nums = [1,2,3]\n",
    "subsets(nums)"
   ]
  },
  {
   "cell_type": "markdown",
   "metadata": {},
   "source": [
    "<b>90. Subsets II </b>  \n",
    "in this question, the array should be sorted to see which one to skip.  \n",
    "the base case is moved to be checked inside of the for loop"
   ]
  },
  {
   "cell_type": "code",
   "execution_count": 17,
   "metadata": {},
   "outputs": [],
   "source": [
    "def subsetsWithDup(nums):\n",
    "    def helper(result, temp, nums, start_ind):\n",
    "        # base case, no duplicates subsets\n",
    "        # which is checked inside of the for loop\n",
    "        result.append(temp[:])\n",
    "\n",
    "        for i in range(start_ind, len(nums)):\n",
    "            # this checking requires the nums should be sorted\n",
    "            if i>start_ind and nums[i]==nums[i-1]:\n",
    "                continue  # not checking duplicated value at SAME level\n",
    "            temp.append(nums[i])\n",
    "            helper(result, temp, nums, i+1)\n",
    "            temp.pop()\n",
    "    result = []\n",
    "    nums.sort()\n",
    "    helper(result, [], nums, 0)\n",
    "    return result"
   ]
  },
  {
   "cell_type": "code",
   "execution_count": 18,
   "metadata": {},
   "outputs": [
    {
     "data": {
      "text/plain": [
       "[[], [1], [1, 4], [1, 4, 4], [4], [4, 4]]"
      ]
     },
     "execution_count": 18,
     "metadata": {},
     "output_type": "execute_result"
    }
   ],
   "source": [
    "nums=[4,1,4]\n",
    "subsetsWithDup(nums)"
   ]
  },
  {
   "cell_type": "markdown",
   "metadata": {},
   "source": [
    "<b>46. Permutations </b>  \n",
    "\n",
    "for this one, the start index is always 0 so ommitted here.  \n",
    "to avoid duplicated usage of items, check if current item exist in temp before adding to temp\n"
   ]
  },
  {
   "cell_type": "code",
   "execution_count": 19,
   "metadata": {},
   "outputs": [],
   "source": [
    "def permute(nums):\n",
    "    def helper(result, temp, nums):\n",
    "        # base cases: should have all items in nums\n",
    "        if len(temp) == len(nums):\n",
    "            result.append(temp[:])\n",
    "            return   # => dont forget this, the way to avoid endless looping\n",
    "        # here start index always 0\n",
    "        for i in range(len(nums)):\n",
    "            # this is an important sentence, to avoid duplicated usage\n",
    "            if nums[i] in temp:\n",
    "                continue\n",
    "            temp.append(nums[i])\n",
    "            helper(result, temp, nums)\n",
    "            temp.pop()\n",
    "\n",
    "    result = []\n",
    "    helper(result, [], nums)\n",
    "    return result"
   ]
  },
  {
   "cell_type": "code",
   "execution_count": 20,
   "metadata": {},
   "outputs": [
    {
     "data": {
      "text/plain": [
       "[[1, 2, 3], [1, 3, 2], [2, 1, 3], [2, 3, 1], [3, 1, 2], [3, 2, 1]]"
      ]
     },
     "execution_count": 20,
     "metadata": {},
     "output_type": "execute_result"
    }
   ],
   "source": [
    "nums=[1,2,3]\n",
    "permute(nums)"
   ]
  },
  {
   "cell_type": "markdown",
   "metadata": {},
   "source": [
    "<b> 47. Permutations II </b>  \n",
    "\n",
    "How to solve the duplicated cases is the key point here.  \n",
    "for original idea, please see this [post](https://leetcode.com/problems/permutations-ii/discuss/18602/9-line-python-solution-with-1-line-to-handle-duplication-beat-99-of-others-%3A-))"
   ]
  },
  {
   "cell_type": "code",
   "execution_count": 23,
   "metadata": {},
   "outputs": [],
   "source": [
    "from collections import Counter\n",
    "def permuteUnique(nums):\n",
    "    def helper(result, temp, nums, count):\n",
    "        if len(temp) == len(nums):\n",
    "            result.append(temp[:])\n",
    "            return\n",
    "        for num in count:  # only select the unique value\n",
    "            if count[num] > 0:  # check the count to see if the value is still valid to use\n",
    "                temp.append(num)\n",
    "                count[num]-=1\n",
    "                helper(result, temp, nums, count)\n",
    "                count[num]+=1\n",
    "                temp.pop()\n",
    "    result = []\n",
    "    helper(result, [], nums, Counter(nums))\n",
    "    return result"
   ]
  },
  {
   "cell_type": "code",
   "execution_count": 24,
   "metadata": {},
   "outputs": [
    {
     "data": {
      "text/plain": [
       "[[1, 1, 2], [1, 2, 1], [2, 1, 1]]"
      ]
     },
     "execution_count": 24,
     "metadata": {},
     "output_type": "execute_result"
    }
   ],
   "source": [
    "nums=[1,1,2]\n",
    "permuteUnique(nums)"
   ]
  },
  {
   "cell_type": "markdown",
   "metadata": {},
   "source": [
    "<b> 55 jump game </b>\n",
    "\n",
    "using backtracking, but the time complexity O(N**2) seems too much, it exceed the time limit"
   ]
  },
  {
   "cell_type": "code",
   "execution_count": 12,
   "metadata": {},
   "outputs": [],
   "source": [
    "def canJump(nums):\n",
    "    \"\"\"backtracking\"\"\"\n",
    "    def helper(position, nums):\n",
    "        # base case: the position already appear in memo, \n",
    "        # the very base on is jumping to the last position which default to \"G\"\n",
    "        if memo[position] != 'U':\n",
    "            return memo[position]=='G'\n",
    "\n",
    "        jump = min(position+nums[position], len(nums)-1)\n",
    "        for j in range(position+1, jump+1):\n",
    "            if helper(j, nums):\n",
    "                memo[position] = 'G'\n",
    "                return True\n",
    "        memo[position] = \"B\"\n",
    "        return False\n",
    "\n",
    "    memo = ['U'] * len(nums)\n",
    "    memo[-1] = 'G'\n",
    "    \n",
    "    #return helper(0, nums)\n",
    "    res = helper(0, nums)\n",
    "    print(memo)\n",
    "    return res"
   ]
  },
  {
   "cell_type": "code",
   "execution_count": 13,
   "metadata": {},
   "outputs": [
    {
     "name": "stdout",
     "output_type": "stream",
     "text": [
      "['G', 'G', 'B', 'G']\n"
     ]
    },
    {
     "data": {
      "text/plain": [
       "True"
      ]
     },
     "execution_count": 13,
     "metadata": {},
     "output_type": "execute_result"
    }
   ],
   "source": [
    "nums = [2,5,0,0]\n",
    "canJump(nums)\n",
    "# the memo for this array is [G,G,B,G] => still dont understand why first element is good"
   ]
  },
  {
   "cell_type": "markdown",
   "metadata": {},
   "source": [
    "<b> another way </b>\n",
    "\n",
    "update the last position on the loop, initially it is the end of the array, if at position i it can reach to the last position, then i becomes the new last position"
   ]
  },
  {
   "cell_type": "code",
   "execution_count": 14,
   "metadata": {},
   "outputs": [],
   "source": [
    "def canJump(nums):\n",
    "    last = len(nums)-1\n",
    "    for i in range(len(nums)-1, -1, -1):\n",
    "        if i+nums[i] >= last:\n",
    "            last = i\n",
    "    return last == 0"
   ]
  },
  {
   "cell_type": "code",
   "execution_count": 15,
   "metadata": {},
   "outputs": [
    {
     "data": {
      "text/plain": [
       "True"
      ]
     },
     "execution_count": 15,
     "metadata": {},
     "output_type": "execute_result"
    }
   ],
   "source": [
    "nums = [2,5,0,0]\n",
    "canJump(nums)"
   ]
  },
  {
   "cell_type": "markdown",
   "metadata": {},
   "source": [
    "<b> 37 Sudoku Solver </b>  \n",
    "first way: backtracking    \n",
    "actually try 9 numbers on each of the empty slots, so the time complexity is O(9^m) where m is the number of empty slots.  \n",
    "slight tricky part is how to locate the smaller cube range and test if it is valid.\n",
    "\n",
    "rol//3 and col//3 locate the small cube, then (i//3, i%3) generate (0,0) to (2,2), 9 steps, which adds on to the small cube to get the actual index in the large board"
   ]
  },
  {
   "cell_type": "code",
   "execution_count": null,
   "metadata": {},
   "outputs": [],
   "source": [
    "# board: List[List[str]]\n",
    "def solveSudoku( board):\n",
    "    \"\"\"\n",
    "    Do not return anything, modify board in-place instead.\n",
    "    \"\"\"\n",
    "    \"\"\"time: 9^m where m is number of empty slots\"\"\"\n",
    "    def solve(board):\n",
    "        \"\"\"backtracking, actually loop each position\"\"\"\n",
    "        for i in range(len(board)):\n",
    "            for j in range(len(board[0])):\n",
    "                if board[i][j]=='.':\n",
    "                    # try 1-9\n",
    "                    for c in range(1, 10):\n",
    "                        if isValid(board, i, j, str(c)):\n",
    "                            # c is valid for position i, j\n",
    "                            board[i][j] = str(c)\n",
    "                            if solve(board):\n",
    "                                return True\n",
    "                            else:\n",
    "                                board[i][j] = '.'\n",
    "                    # if an empty position cant find right num\n",
    "                    return False\n",
    "        return True\n",
    "\n",
    "    def isValid(board, row, col, c):\n",
    "        \"\"\"c is already a string\"\"\"\n",
    "        # check if c is valid for the position\n",
    "        for i in range(9):\n",
    "            # if that row already has c\n",
    "            if board[row][i] == c: return False\n",
    "            # check if that col already has c\n",
    "            if board[i][col] == c: return False\n",
    "            # check if the small cube where [row][col] falls in alrady has c\n",
    "            # rol//3 and col//3 locate the small cube, then (i//3, i%3) generate (0,0) to (2,2), 9 steps\n",
    "            if board[3*(row//3)+i//3][3*(col//3)+i%3] == c:\n",
    "                return False\n",
    "        return True\n",
    "\n",
    "    if not board or len(board)==0 or len(board[0])==0:\n",
    "        return False\n",
    "    else:\n",
    "        solve(board)"
   ]
  },
  {
   "cell_type": "markdown",
   "metadata": {},
   "source": [
    "<b> 51 N-Queens </b>   \n",
    "valid Q position: not in same row, not in same col, not in diagonal/antidiagonal line.   \n",
    "I was thinking using set for xy_dif and xy_sum, but when calling dfs_helper recursively, the xy_dif and xy_sum should be a new copy instead of a reference. using set cant satisfy passing a new copy, so using list as the original post did.\n",
    "\n",
    "it is smart to use a list of int to represent one possible solution. in this way the length of the list can be used to know if all Q are used. also the length represent next row value."
   ]
  },
  {
   "cell_type": "code",
   "execution_count": 1,
   "metadata": {},
   "outputs": [],
   "source": [
    "def solveNQueens(n):\n",
    "    \"\"\"not in same row, not in same col, not in diagnol line\n",
    "        return -> List[List[str]]\n",
    "    \"\"\"\n",
    "    def dfs_helper(queen_pos, xy_dif, xy_sum):\n",
    "        \"\"\"\n",
    "        queen_pos: [int], queen's position at each row => need to preserve order so dont use set\n",
    "        xy_dif: [int], if x1-y1=x2-y2, (x1,y1),(x2,y2) are in diagonal\n",
    "        xy_sum: [int], if x1+y1=x2+y2, (x1,y1),(x2,y2) are in antidiagonal\n",
    "        \"\"\"\n",
    "        i = len(queen_pos)\n",
    "        # i can be used as the NEXT valid position's row value\n",
    "        if i == n:\n",
    "            # all queens have found their valid position\n",
    "            result.append(queen_pos)\n",
    "            return\n",
    "        for j in range(n):\n",
    "            # j should be in a new col, index of queen_pos represent the row i\n",
    "            # the value in queen_pos is the col value of Q in each row\n",
    "            if (j not in queen_pos) and (i-j not in xy_dif) and (i+j not in xy_sum):\n",
    "                dfs_helper(queen_pos+[j],xy_dif+[i-j], xy_sum+[i+j])\n",
    "\n",
    "    result = [] # [[int]], a list of list of int, the list of int is the position of every Q in every row, so int val is the col position\n",
    "    dfs_helper([], [],[])\n",
    "    return [[\".\"*p + \"Q\" + \".\"*(n-p-1) for p in pos_list] for pos_list in result]\n",
    "                "
   ]
  },
  {
   "cell_type": "code",
   "execution_count": 2,
   "metadata": {},
   "outputs": [
    {
     "data": {
      "text/plain": [
       "[['.Q..', '...Q', 'Q...', '..Q.'], ['..Q.', 'Q...', '...Q', '.Q..']]"
      ]
     },
     "execution_count": 2,
     "metadata": {},
     "output_type": "execute_result"
    }
   ],
   "source": [
    "solveNQueens(4)"
   ]
  },
  {
   "cell_type": "markdown",
   "metadata": {},
   "source": [
    "<b> 52 N-Queen II </b>\n",
    "\n",
    "different than the above one, this Q only returns count, no need listing all possible solutions. So no need to actually pass the queen_pos list.\n",
    "\n",
    "<b>way 1</b>: using a list of booleans for colums, diagonal, antidiagonal, to check if next position is valid or not. => using value as index    \n",
    "dia => [False]*2*n, because the range of dia value is row+col, could be [0, 2n]   \n",
    "antidia => [False]*2n, because the range of antidia value is row-col, cound be [-n, n]"
   ]
  },
  {
   "cell_type": "code",
   "execution_count": 3,
   "metadata": {},
   "outputs": [],
   "source": [
    "def totalNQueens( n: int) -> int:\n",
    "    res = 0\n",
    "    cols = [False]*n\n",
    "    dia = [False]*2*n\n",
    "    antidia = [False]*2*n\n",
    "\n",
    "    def backtracking(row:int, cols:[bool], dia:[bool], antidia:[bool], res):\n",
    "        \"\"\"row: row number, starting with row 0\"\"\"\n",
    "        if row == n:\n",
    "            res += 1\n",
    "            return res # find all Q position\n",
    "\n",
    "        for col in range(n):\n",
    "            if not cols[col] and not dia[row+col] and not antidia[row-col+n]:\n",
    "                # row-col+n is actually check row-col, the +n is to ensure the index is >0, dont have any side effect\n",
    "                cols[col] = True\n",
    "                dia[row+col] = True\n",
    "                antidia[row-col+n] = True\n",
    "                ## Attention: DONT fORGET to return res!!! so it can be tracked and updated!\n",
    "                res = backtracking(row+1, cols, dia, antidia, res)\n",
    "                cols[col] = False\n",
    "                dia[row+col] = False\n",
    "                antidia[row-col+n] = False\n",
    "\n",
    "        return res\n",
    "    return backtracking(0,cols, dia, antidia, res)"
   ]
  },
  {
   "cell_type": "markdown",
   "metadata": {},
   "source": [
    "<b> way2</b>, can replace the list of booleans into a set. The idea is the same."
   ]
  },
  {
   "cell_type": "code",
   "execution_count": 4,
   "metadata": {},
   "outputs": [],
   "source": [
    "def totalNQueens(n: int) -> int:\n",
    "    res = 0\n",
    "    cols = [False]*n  # can be replace with set too\n",
    "    dia = set()\n",
    "    antidia = set()\n",
    "\n",
    "    def backtracking(row, cols, dia, antidia, res):\n",
    "        \"\"\"row: int, row number\n",
    "            cols:\n",
    "            dia:\n",
    "            antidia:\n",
    "            res: int, result count\n",
    "        \"\"\"\n",
    "        if row == n: # find all Q position, same idea as in Question 51\n",
    "            res += 1\n",
    "            return res \n",
    "\n",
    "        for col in range(n):\n",
    "            if not cols[col] and (row+col) not in dia and (row-col) not in antidia:\n",
    "                # row-col+n is actually check row-col, the +n is to ensure the index is >0, dont have any side effect\n",
    "                cols[col] = True\n",
    "                dia.add(row+col)\n",
    "                antidia.add(row-col)\n",
    "                res = backtracking(row+1, cols, dia, antidia, res)\n",
    "                cols[col] = False\n",
    "                dia.remove(row+col) \n",
    "                antidia.remove(row-col)\n",
    "\n",
    "        return res\n",
    "    return backtracking(0,cols, dia, antidia, res)"
   ]
  },
  {
   "cell_type": "markdown",
   "metadata": {},
   "source": [
    "<b>22. Generate Parentheses </b>. \n",
    "\n",
    "the key is how to produce a valid parenthese string.   \n",
    "if num of ( < n, you can add (, only when number of ) < number of (, you can add ), to produce valid string"
   ]
  },
  {
   "cell_type": "code",
   "execution_count": 6,
   "metadata": {},
   "outputs": [],
   "source": [
    "def generateParenthesis(n):\n",
    "    def helper(result, temp, n, open_ct, end_ct):\n",
    "        # open_ct: the count of (\n",
    "        # end_ct: the count of )\n",
    "        # no need to worry about valid combination or not here, as long as \n",
    "        # the count is 3, it will be valid combination\n",
    "        if len(temp)==2*n:\n",
    "            result.append(temp[:])\n",
    "            return\n",
    "        if open_ct < n:\n",
    "            # able to add ( to the stack\n",
    "            helper(result, temp+'(', n, open_ct+1, end_ct)\n",
    "        if end_ct < open_ct:\n",
    "            # able to add ) to the stack\n",
    "            helper(result, temp+')', n, open_ct, end_ct+1)\n",
    "\n",
    "    result = []\n",
    "    helper(result, \"\", n, 0, 0)\n",
    "    return result"
   ]
  },
  {
   "cell_type": "markdown",
   "metadata": {},
   "source": [
    "the recursion will cover all possible cases, but just produce (()) at first glance"
   ]
  },
  {
   "cell_type": "code",
   "execution_count": 30,
   "metadata": {},
   "outputs": [
    {
     "data": {
      "text/plain": [
       "['(())', '()()']"
      ]
     },
     "execution_count": 30,
     "metadata": {},
     "output_type": "execute_result"
    }
   ],
   "source": [
    "generateParenthesis(2)"
   ]
  },
  {
   "cell_type": "code",
   "execution_count": 31,
   "metadata": {},
   "outputs": [
    {
     "data": {
      "text/plain": [
       "['((()))', '(()())', '(())()', '()(())', '()()()']"
      ]
     },
     "execution_count": 31,
     "metadata": {},
     "output_type": "execute_result"
    }
   ],
   "source": [
    "generateParenthesis(3)"
   ]
  },
  {
   "cell_type": "markdown",
   "metadata": {},
   "source": [
    "<b> 79. Word Search </b>\n",
    "\n",
    "key is how to determine base cases  \n",
    "how to keep searching word from all possible directions"
   ]
  },
  {
   "cell_type": "markdown",
   "metadata": {},
   "source": [
    "The skeleton of the algorithm is a loop that iterates through each cell in the grid. For each cell, we invoke the backtracking function to check if we would obtain a solution, starting from this very cell."
   ]
  },
  {
   "cell_type": "code",
   "execution_count": 35,
   "metadata": {},
   "outputs": [],
   "source": [
    "def exist(board, word):\n",
    "    def helper(board, i, j, word):\n",
    "        # base case\n",
    "        if len(word) == 0:  # all chars found\n",
    "            return True\n",
    "        # confirmed false case\n",
    "        # index is out of bound or the word not match\n",
    "        if i<0 or j<0 or i>=len(board) or j>=len(board[0]) or word[0]!=board[i][j]:\n",
    "            return False\n",
    "#         temp = board[i][j]  # find one char  => no need to create this var, save space\n",
    "        board[i][j] = '#'  # avoid visit again\n",
    "        # finding rest of word in other directions\n",
    "        res = helper(board, i+1, j, word[1:]) or helper(board,i-1,j, word[1:]) or helper(board, i, j+1, word[1:]) or helper(board, i,j-1, word[1:])\n",
    "#         board[i][j] = temp # backtracking\n",
    "        board[i][j] = word[0]\n",
    "        return res  # => return after changing the board[i][j] back\n",
    "\n",
    "    if not board:\n",
    "        return False\n",
    "    for i in range(len(board)):\n",
    "        for j in range(len(board[0])):\n",
    "            if helper(board, i,j,word):\n",
    "                # no need to keep finding if already find one\n",
    "                return True\n",
    "    return False"
   ]
  },
  {
   "cell_type": "code",
   "execution_count": 36,
   "metadata": {},
   "outputs": [
    {
     "data": {
      "text/plain": [
       "True"
      ]
     },
     "execution_count": 36,
     "metadata": {},
     "output_type": "execute_result"
    }
   ],
   "source": [
    "board =[\n",
    "  ['A','B','C','E'],\n",
    "  ['S','F','C','S'],\n",
    "  ['A','D','E','E']\n",
    "]\n",
    "word = \"ABCCED\"\n",
    "exist(board, word)"
   ]
  },
  {
   "cell_type": "markdown",
   "metadata": {},
   "source": [
    "<b>similar </b> problem 212 Word searcg II, given a matrix of chars, but a list of words, it uses prefix tree + backtracking"
   ]
  },
  {
   "cell_type": "markdown",
   "metadata": {},
   "source": [
    "<b> 54 Spiral Matrix </b>\n",
    "\n",
    "recurisive way, there is another way in \"other_array tab\"\n",
    "\n",
    "smart usage of * to flat the array"
   ]
  },
  {
   "cell_type": "code",
   "execution_count": 7,
   "metadata": {},
   "outputs": [],
   "source": [
    "def spiralOrder(matrix):\n",
    "    \"\"\"recursive way\"\"\"\n",
    "    if not matrix:\n",
    "        return []\n",
    "    return [*matrix.pop(0)]+spiralOrder([*zip(*matrix)][::-1])\n",
    "\n",
    "    # check if matrix is empty first, if empty, wont go to the pop step\n",
    "    #return matrix and matrix.pop(0)+self.spiralOrder([*zip(*matrix)][::-1])"
   ]
  },
  {
   "cell_type": "code",
   "execution_count": 4,
   "metadata": {},
   "outputs": [
    {
     "data": {
      "text/plain": [
       "[1, 2, 3, 6, 9, 8, 7, 4, 5]"
      ]
     },
     "execution_count": 4,
     "metadata": {},
     "output_type": "execute_result"
    }
   ],
   "source": [
    "matrix= [[1,2,3],[4,5,6],[7,8,9]]\n",
    "spiralOrder(matrix)"
   ]
  },
  {
   "cell_type": "code",
   "execution_count": 5,
   "metadata": {},
   "outputs": [],
   "source": [
    "def spiralOrder(matrix):\n",
    "    \"\"\"recursive way\"\"\"\n",
    "\n",
    "    # the \"and\" will check if matrix is empty first, \n",
    "    # if empty, wont go to the pop step, so wont have key error\n",
    "    return matrix and [*matrix.pop(0)]+spiralOrder([*zip(*matrix)][::-1])"
   ]
  },
  {
   "cell_type": "code",
   "execution_count": 6,
   "metadata": {},
   "outputs": [
    {
     "data": {
      "text/plain": [
       "[1, 2, 3, 6, 9, 8, 7, 4, 5]"
      ]
     },
     "execution_count": 6,
     "metadata": {},
     "output_type": "execute_result"
    }
   ],
   "source": [
    "matrix= [[1,2,3],[4,5,6],[7,8,9]]\n",
    "spiralOrder(matrix)"
   ]
  },
  {
   "cell_type": "markdown",
   "metadata": {},
   "source": [
    "<b> 394 Decode string </b>\n",
    "\n",
    "beautiful recursion, every time when you encouter the '[' sign, start a new session.\n",
    "pay attention to how the i is keep moving forward, so every char is visited once, the time complexity hense is O(N)"
   ]
  },
  {
   "cell_type": "code",
   "execution_count": 17,
   "metadata": {},
   "outputs": [],
   "source": [
    "def decodeString(s):\n",
    "    \"\"\"recursive\"\"\"\n",
    "    def helper(pos, s):\n",
    "        # return proper string within the []\n",
    "        num = 0\n",
    "        word = \"\"\n",
    "        i = pos\n",
    "        while i<len(s):\n",
    "            c = s[i]\n",
    "            i+=1\n",
    "            if c.isnumeric():\n",
    "                # case like 100[p]\n",
    "                num = num*10+int(c)\n",
    "            elif c=='[':\n",
    "                new_i, cur_str = helper(i, s)\n",
    "                word += num*cur_str\n",
    "                i = new_i\n",
    "                num = 0\n",
    "            elif c==']':\n",
    "                return i, word\n",
    "            else:\n",
    "                word+=c\n",
    "        return i, word\n",
    "\n",
    "    return helper(0, s)[1]"
   ]
  },
  {
   "cell_type": "code",
   "execution_count": 18,
   "metadata": {},
   "outputs": [
    {
     "data": {
      "text/plain": [
       "'aaabcbc'"
      ]
     },
     "execution_count": 18,
     "metadata": {},
     "output_type": "execute_result"
    }
   ],
   "source": [
    "s = \"3[a]2[bc]\"\n",
    "decodeString(s)"
   ]
  },
  {
   "cell_type": "code",
   "execution_count": 19,
   "metadata": {},
   "outputs": [
    {
     "data": {
      "text/plain": [
       "'accaccacc'"
      ]
     },
     "execution_count": 19,
     "metadata": {},
     "output_type": "execute_result"
    }
   ],
   "source": [
    "s = \"3[a2[c]]\"\n",
    "decodeString(s)"
   ]
  },
  {
   "cell_type": "markdown",
   "metadata": {},
   "source": [
    "<b> way 2</b> using stack. => this one is easier to understand"
   ]
  },
  {
   "cell_type": "code",
   "execution_count": 23,
   "metadata": {},
   "outputs": [],
   "source": [
    "def decodeString(s):\n",
    "    \"\"\"stack\"\"\"        \n",
    "    cur_num = 0\n",
    "    cur_str = \"\"\n",
    "    stack = []\n",
    "    for c in s:\n",
    "        if c.isnumeric():\n",
    "            # for case like 100[p]\n",
    "            cur_num = 10*cur_num + int(c)\n",
    "        elif c=='[':\n",
    "            # a new start\n",
    "            stack.append(cur_str)  # default \"\"\n",
    "            stack.append(cur_num)\n",
    "            cur_str = ''\n",
    "            cur_num = 0\n",
    "        elif c==']':\n",
    "            n = stack.pop()\n",
    "            # pre_str always exist because stack will append an empty string anyway, to avoid pop from empty stack\n",
    "            pre_str = stack.pop()\n",
    "            cur_str = pre_str + n*cur_str\n",
    "        else:\n",
    "            cur_str += c\n",
    "    return cur_str"
   ]
  },
  {
   "cell_type": "code",
   "execution_count": 24,
   "metadata": {},
   "outputs": [
    {
     "data": {
      "text/plain": [
       "'accaccacc'"
      ]
     },
     "execution_count": 24,
     "metadata": {},
     "output_type": "execute_result"
    }
   ],
   "source": [
    "s = \"3[a2[c]]\"\n",
    "decodeString(s)"
   ]
  },
  {
   "cell_type": "markdown",
   "metadata": {},
   "source": [
    "<b> 247 Strobogrammatic Number II </b>  \n",
    "find the pattern  \n",
    "n == 1: [0, 1, 8]    \n",
    "n == 2: [11, 88, 69, 96]    \n",
    "n == 3 => it can be retrieved if you insert [0, 1, 8] to the middle of solution of n == 2  \n",
    "n == 4 => it can be retrieved if you insert [11, 88, 69, 96, 00] to the middle of solution of n == 2  \n",
    "n == 5 => it can be retrieved if you insert [0, 1, 8] to the middle of solution of n == 4  \n",
    "n == 6, it can be retrieved if you insert [11, 88, 69, 96, 00] to the middle of solution of n == 4  \n",
    "adding dynamic does not work, the memory is out of exceed"
   ]
  },
  {
   "cell_type": "code",
   "execution_count": 9,
   "metadata": {},
   "outputs": [],
   "source": [
    "def findStrobogrammatic( n):\n",
    "    odd_insertion = [\"0\",\"1\",\"8\"]\n",
    "    even_insertion = [\"11\",\"69\",\"96\",\"88\",\"00\"]\n",
    "    if n == 1:\n",
    "        return odd_insertion\n",
    "    if n == 2:\n",
    "        return even_insertion[:-1]\n",
    "    if n%2==0:\n",
    "        pre_valids = findStrobogrammatic(n-2)\n",
    "        insertion = even_insertion\n",
    "    else:\n",
    "        pre_valids = findStrobogrammatic(n-1)\n",
    "        insertion = odd_insertion\n",
    "    middle_pos = (n-1)//2\n",
    "    result = [p[:middle_pos]+c+p[middle_pos:] for c in insertion for p in pre_valids]\n",
    "    return result"
   ]
  },
  {
   "cell_type": "code",
   "execution_count": 11,
   "metadata": {},
   "outputs": [
    {
     "data": {
      "text/plain": [
       "['101',\n",
       " '609',\n",
       " '906',\n",
       " '808',\n",
       " '111',\n",
       " '619',\n",
       " '916',\n",
       " '818',\n",
       " '181',\n",
       " '689',\n",
       " '986',\n",
       " '888']"
      ]
     },
     "execution_count": 11,
     "metadata": {},
     "output_type": "execute_result"
    }
   ],
   "source": [
    "findStrobogrammatic(3)"
   ]
  },
  {
   "cell_type": "code",
   "execution_count": 10,
   "metadata": {},
   "outputs": [
    {
     "data": {
      "text/plain": [
       "['1111',\n",
       " '6119',\n",
       " '9116',\n",
       " '8118',\n",
       " '1691',\n",
       " '6699',\n",
       " '9696',\n",
       " '8698',\n",
       " '1961',\n",
       " '6969',\n",
       " '9966',\n",
       " '8968',\n",
       " '1881',\n",
       " '6889',\n",
       " '9886',\n",
       " '8888',\n",
       " '1001',\n",
       " '6009',\n",
       " '9006',\n",
       " '8008']"
      ]
     },
     "execution_count": 10,
     "metadata": {},
     "output_type": "execute_result"
    }
   ],
   "source": [
    "findStrobogrammatic(4)"
   ]
  },
  {
   "cell_type": "markdown",
   "metadata": {},
   "source": [
    "<b> 425 word square </b>  \n",
    "one way is using dictionary to save the prefix string, and find the pattern of figuring out what is the prefix string for next word.  \n",
    "\n",
    "using a dictionary to save “prefix: [word] “ pair. Prefix has length 0, 1, 2, .. to len(word), any consecutive word chunk. When first word is chosen, second word’s start is determined by word1[position_1]. When second word is chosen, third word’s start is word1[position_2] + word2[position_2] => prefix is the concatenation of previous chosen words’ char at position new_row. => this is a recursive call, until you fill the n size square.  \n",
    "\n",
    "<b> => this way is very smart! better than the Trie + backtracking </b>"
   ]
  },
  {
   "cell_type": "code",
   "execution_count": 12,
   "metadata": {},
   "outputs": [],
   "source": [
    "import collections\n",
    "def wordSquares(words):\n",
    "    \"\"\"hash map way\"\"\"\n",
    "    n = len(words[0]) # the size of the square, assume word has same length\n",
    "    hashmap = collections.defaultdict(list)\n",
    "    # build hashmap: {prefix: [word]}\n",
    "    for word in words:\n",
    "        for i in range(n):\n",
    "            # even empty string is a valid key, which the value is a list of all the words\n",
    "            hashmap[word[:i]].append(word)\n",
    "\n",
    "    def build(square):\n",
    "        # recursive helper function\n",
    "        # param: square: a list of words, each word for one row\n",
    "\n",
    "        if len(square) == n:\n",
    "            result.append(square)\n",
    "            return\n",
    "        # find the prefix for next row, which is determined by what the current words in the square. len(square) determines the location.\n",
    "        cur_col = len(square) # smart here, using the num of word in the square to determine char at which column should be concatenated as prefix string\n",
    "        prefix = \"\"\n",
    "        for w in square:\n",
    "            prefix += w[cur_col]\n",
    "        # prefix = list(zip(*square))[len(square)] # a tuple of char\n",
    "        # prefix = ''.join(prefix)\n",
    "        for word in hashmap[prefix]:\n",
    "            build(square+[word])\n",
    "    result = []\n",
    "    for word in words:\n",
    "        build([word])\n",
    "    return result\n"
   ]
  },
  {
   "cell_type": "code",
   "execution_count": 13,
   "metadata": {},
   "outputs": [
    {
     "data": {
      "text/plain": [
       "[['wall', 'area', 'lead', 'lady'], ['ball', 'area', 'lead', 'lady']]"
      ]
     },
     "execution_count": 13,
     "metadata": {},
     "output_type": "execute_result"
    }
   ],
   "source": [
    "words = [\"area\",\"lead\",\"wall\",\"lady\",\"ball\"]\n",
    "wordSquares(words)"
   ]
  },
  {
   "cell_type": "markdown",
   "metadata": {},
   "source": [
    "here uing Trie structure to store the prefix instead of hashmap ( I think hashmap is better for its simplicity and easy to find the list of words with same prefix)   \n",
    "backtracking to try words instead of a single recursive function.\n",
    "\n",
    "In generall the previous method is better"
   ]
  },
  {
   "cell_type": "code",
   "execution_count": 17,
   "metadata": {},
   "outputs": [],
   "source": [
    "import collections\n",
    "class TrieNode:\n",
    "    def __init__(self):\n",
    "        self.children = collections.defaultdict(list)\n",
    "        self.words = []\n",
    "        \n",
    "class Solution:\n",
    "    def __init__(self):\n",
    "        self.root = TrieNode()\n",
    "        \n",
    "    def add_word(self, words):\n",
    "        for word in words:\n",
    "            cur_node = self.root\n",
    "            for c in word:\n",
    "                if c not in cur_node.children:\n",
    "                    cur_node.children[c] = TrieNode()\n",
    "                cur_node = cur_node.children[c]\n",
    "                cur_node.words.append(word)\n",
    "        \n",
    "    def findPrefix(self, prefix):\n",
    "        node = self.root\n",
    "        candidate = []\n",
    "        for c in prefix:\n",
    "            if c not in node.children:\n",
    "                return candidate\n",
    "            node = node.children[c]\n",
    "        candidate.extend(node.words)\n",
    "        return candidate\n",
    "    \n",
    "    def search(self, step, squares, results):\n",
    "        # backtracking\n",
    "        # using step to track the progress is smart\n",
    "        # although step should be equal to len(squares)\n",
    "        if step == self.n:\n",
    "            results.append(squares[:])\n",
    "            return\n",
    "        prefix = ''.join([word[step] for word in squares])\n",
    "        for candidate in self.findPrefix(prefix):\n",
    "            squares.append(candidate)\n",
    "            self.search(step+1, squares, results)\n",
    "            squares.pop()\n",
    "        \n",
    "    def wordSquares(self, words):\n",
    "        \"\"\"trie\"\"\"\n",
    "        n = len(words[0])\n",
    "        results = []\n",
    "        self.add_word(words) # construct the trie structure\n",
    "        self.n = n\n",
    "        temp_square = []\n",
    "        for w in words:\n",
    "            temp_square = [w]\n",
    "            self.search(1, temp_square, results)\n",
    "        \n",
    "        return results"
   ]
  },
  {
   "cell_type": "markdown",
   "metadata": {},
   "source": [
    "<b> 410. Split Array Largest Sum </b>\n",
    "\n",
    "resursive and dp way. but still too slow.  \n",
    "spliting nums into m part, further becomes splitting nums[i:] into j part, and nums[:i] into m-j part.  \n",
    "using memo dictionary to store cache value. memo = {{}, {}}, memo[i][j] means the result for splitting nums[i:] into j part.  \n",
    "\n",
    "=> a better way is the <b>binary search</b> way, see the binary search workbook!"
   ]
  },
  {
   "cell_type": "code",
   "execution_count": 15,
   "metadata": {},
   "outputs": [],
   "source": [
    "from collections import defaultdict\n",
    "def helper(i, nums, m, memo):\n",
    "    # return result for nums[i:] splitting into m parts\n",
    "    # i: the position pointer for nums[i:]\n",
    "    # memo: {{}, {}} memo[i][m] stores value for result of nums[i:] and m\n",
    "    if i == len(nums):\n",
    "        return 0\n",
    "    elif m == 1:\n",
    "        return sum(nums[i:])\n",
    "    else:\n",
    "        if i in memo and m in memo[i]:\n",
    "            return memo[i][m]\n",
    "        memo[i][m] = float('inf')\n",
    "        for j in range(1, len(nums)-i):\n",
    "            left = sum(nums[i:i+j])\n",
    "            right = self.helper(i+j, nums, m-1, memo)\n",
    "            memo[i][m] = min(memo[i][m], max(left, right))\n",
    "            if left>right:\n",
    "                break\n",
    "        return memo[i][m]\n",
    "\n",
    "def splitArray(nums, m) :\n",
    "    # memo[i][m] stores value for arary num[:i+1] what is the result\n",
    "    memo = defaultdict(dict)\n",
    "    return helper(0, nums, m, memo)\n"
   ]
  },
  {
   "cell_type": "markdown",
   "metadata": {},
   "source": [
    "<b> 131. Palindrome Partitioning </b>\n",
    "\n",
    "way 1: easy to understand, but difficult to compute the time complexity.  \n",
    "the idea behind it is straightforward.  \n",
    "the helper function uses a path to store all the previous tested palindromic substring.  \n",
    "the for loop and recursive call will ensure every possible substring is considered\n",
    "\n",
    "time:  O(n*(2^n))\n",
    "\n",
    "T(n)=T(n-1)+T(n-2)+..+T(1)  \n",
    "T(n+1)=T(n)+T(n-1)+..+T(1)  \n",
    "T(n+1)=2T(n)  roughly T(N) = 2^(n-1)  \n",
    "for each palindrome check, it is o(N)\n",
    "so O(N*2^(n-1)) => O(N*2^N)\n",
    "\n",
    "another way to understand   \n",
    "For a string with length n, there will be (n - 1) intervals between chars.\n",
    "For every interval, we can cut it or not cut it, so there will be 2^(n - 1) ways to partition the string.\n",
    "For every partition way, we need to check if it is palindrome, which is O(n).\n",
    "So the time complexity is O(n*(2^n))"
   ]
  },
  {
   "cell_type": "code",
   "execution_count": 12,
   "metadata": {},
   "outputs": [],
   "source": [
    "def partition(s):\n",
    "    '''recursive'''\n",
    "\n",
    "    def helper(s, path, res):\n",
    "        \"\"\"recursive helper\"\"\"\n",
    "        if not s:\n",
    "            res.append(path)\n",
    "        for i in range(1, len(s)+1):\n",
    "#             if is_palindrome(s[:i]):\n",
    "            if s[:i]==s[i-1::-1]:\n",
    "                # everytime create a new temp path\n",
    "                helper(s[i:], path+[s[:i]], res)\n",
    "#     def is_palindrome(s):\n",
    "#         return s==s[::-1]\n",
    "\n",
    "    res = []\n",
    "    helper(s, [], res)\n",
    "    return res\n"
   ]
  },
  {
   "cell_type": "code",
   "execution_count": 13,
   "metadata": {},
   "outputs": [
    {
     "data": {
      "text/plain": [
       "[['a', 'a', 'b', 'b'], ['a', 'a', 'bb'], ['aa', 'b', 'b'], ['aa', 'bb']]"
      ]
     },
     "execution_count": 13,
     "metadata": {},
     "output_type": "execute_result"
    }
   ],
   "source": [
    "s=\"aabb\"\n",
    "partition(s)"
   ]
  },
  {
   "cell_type": "markdown",
   "metadata": {},
   "source": [
    "same idea but more concise way than above"
   ]
  },
  {
   "cell_type": "code",
   "execution_count": 6,
   "metadata": {},
   "outputs": [],
   "source": [
    "def partition(s):\n",
    "    '''recursive'''\n",
    "    res = []\n",
    "    for i in range(1, len(s)+1):\n",
    "        if s[:i]==s[i-1::-1]:\n",
    "            # s[:i] is palindrome\n",
    "            for rest in self.partition(s[i:]):\n",
    "                res.append([s[:i]]+rest)\n",
    "    if not res:\n",
    "        return [[]]  # base: return a list of empty list\n",
    "    return res     "
   ]
  },
  {
   "cell_type": "markdown",
   "metadata": {},
   "source": [
    "backtracking way"
   ]
  },
  {
   "cell_type": "code",
   "execution_count": 9,
   "metadata": {},
   "outputs": [],
   "source": [
    "def partition(s):\n",
    "    '''recursive'''\n",
    "    def helper(s, path, res, ind):\n",
    "        if ind == len(s):\n",
    "            res.append(path[:])  # important! path[:] copy the path value\n",
    "            return\n",
    "        for i in range(ind+1, len(s)+1):\n",
    "            if s[ind:i] == s[ind:i][::-1]:\n",
    "                path.append(s[ind:i])\n",
    "                helper(s, path, res, i) # here i will start from ind+1, so no need i+1\n",
    "                path.pop()\n",
    "    res=[]\n",
    "    helper(s, [], res, 0)\n",
    "    return res\n"
   ]
  },
  {
   "cell_type": "code",
   "execution_count": null,
   "metadata": {},
   "outputs": [],
   "source": []
  }
 ],
 "metadata": {
  "kernelspec": {
   "display_name": "testground",
   "language": "python",
   "name": "testground"
  },
  "language_info": {
   "codemirror_mode": {
    "name": "ipython",
    "version": 3
   },
   "file_extension": ".py",
   "mimetype": "text/x-python",
   "name": "python",
   "nbconvert_exporter": "python",
   "pygments_lexer": "ipython3",
   "version": "3.8.3"
  }
 },
 "nbformat": 4,
 "nbformat_minor": 4
}
