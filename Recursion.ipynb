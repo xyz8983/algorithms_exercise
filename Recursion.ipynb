{
 "cells": [
  {
   "cell_type": "markdown",
   "metadata": {},
   "source": [
    "### Recursive Thinking\n",
    "\n",
    "recursion is a method of solving a problem where the solution depends on solutions to smaller instances of the same problem    \n",
    "first find out the very base case, what to return.   \n",
    "then think of the subproblems, how to reduce original problem into smaller problem\n",
    "\n",
    "most recursive problem can be solved by interative way.\n",
    "\n",
    "One recursion way is called <b>backtracking </b>. If you see questions that let you list all possible solutions, in an exhausted way, then backtracking may help\n",
    "\n",
    "<b>backtracking</b>, which is a methodology where we mark the current path of exploration, if the path does not lead to a solution, we then revert the change (i.e. backtracking) and try another path."
   ]
  },
  {
   "cell_type": "markdown",
   "metadata": {},
   "source": [
    "<b>17.Letter Combination of a Phone Number </b>"
   ]
  },
  {
   "cell_type": "code",
   "execution_count": 3,
   "metadata": {},
   "outputs": [],
   "source": [
    "def letterCombinations(digits):\n",
    "    hash_map = {\n",
    "        \"2\":[\"a\",\"b\",\"c\"],\n",
    "        \"3\":[\"d\",\"e\",\"f\"],\n",
    "        \"4\":[\"g\",\"h\",\"i\"],\n",
    "        \"5\":[\"j\",\"k\",\"l\"],\n",
    "        \"6\":[\"m\",\"n\",\"o\"],\n",
    "        \"7\":[\"p\",\"q\",\"r\",\"s\"],\n",
    "        \"8\":[\"t\",\"u\",\"v\"],\n",
    "        \"9\":[\"w\",\"x\",\"y\",\"z\"]\n",
    "    }\n",
    "\n",
    "    def combination(digits):\n",
    "        # no digit or 1 digit is the base case\n",
    "        if len(digits)==0:\n",
    "            return []\n",
    "        elif len(digits)==1:\n",
    "            return hash_map[digits]\n",
    "        # more digits need to separate into smaller chunks\n",
    "        else:\n",
    "            temp =[]\n",
    "            for i in combination(digits[0]):\n",
    "                for j in combination(digits[1:]):\n",
    "                    temp.append(i+j)\n",
    "            return temp\n",
    "\n",
    "    return combination(digits)"
   ]
  },
  {
   "cell_type": "code",
   "execution_count": 4,
   "metadata": {},
   "outputs": [
    {
     "data": {
      "text/plain": [
       "['ad', 'ae', 'af', 'bd', 'be', 'bf', 'cd', 'ce', 'cf']"
      ]
     },
     "execution_count": 4,
     "metadata": {},
     "output_type": "execute_result"
    }
   ],
   "source": [
    "digits = \"23\"\n",
    "letterCombinations(digits)"
   ]
  },
  {
   "cell_type": "markdown",
   "metadata": {},
   "source": [
    "interative way"
   ]
  },
  {
   "cell_type": "code",
   "execution_count": 5,
   "metadata": {},
   "outputs": [],
   "source": [
    "def letterCombinations(digits):\n",
    "    if not digits:\n",
    "        return []\n",
    "    hash_map = {\n",
    "        '2': 'abc',\n",
    "        '3': 'def',\n",
    "        '4': 'ghi',\n",
    "        '5': 'jkl',\n",
    "        '6': 'mno',\n",
    "        '7': 'pqrs',\n",
    "        '8': 'tuv',\n",
    "        '9': 'wxyz'\n",
    "    }\n",
    "    result = [\"\"]\n",
    "    for c in digits:\n",
    "        temp = []  # result will be updated, 2,3,4, when loop into 4, it will add more chars to result of 2,3\n",
    "        for char in hash_map[c]:\n",
    "            for r in result:\n",
    "                temp.append(r+char)\n",
    "        result = temp\n",
    "    return result\n"
   ]
  },
  {
   "cell_type": "code",
   "execution_count": 6,
   "metadata": {
    "scrolled": true
   },
   "outputs": [
    {
     "data": {
      "text/plain": [
       "['ad', 'bd', 'cd', 'ae', 'be', 'ce', 'af', 'bf', 'cf']"
      ]
     },
     "execution_count": 6,
     "metadata": {},
     "output_type": "execute_result"
    }
   ],
   "source": [
    "digits = \"23\"\n",
    "letterCombinations(digits)"
   ]
  },
  {
   "cell_type": "markdown",
   "metadata": {},
   "source": [
    "<b>39.Combination Sum </b>  \n",
    "choices: the candidates  \n",
    "constraints: combination added up to target, no duplicated combinations  \n",
    "\n",
    "<b>Two places need attention!</b>. \n",
    "1. result.append(temp[:]) => need to copy the temp then append to result space\n",
    "2. in backtracking part, temp.pop() to pop out the just checked one and continue"
   ]
  },
  {
   "cell_type": "code",
   "execution_count": 7,
   "metadata": {},
   "outputs": [],
   "source": [
    "def combinationSum(candidates, target):\n",
    "        \n",
    "    # result is the final steady result space\n",
    "    def helper(result, temp, candidates, remain, start_ind):\n",
    "        # two base cases\n",
    "        # numbers combination are too big\n",
    "        if remain < 0:\n",
    "            return\n",
    "        # numbers combination just work out\n",
    "        elif remain == 0:\n",
    "            # ATTENTION: list is a referal, so need to copy it\n",
    "            # otherwise the continuing editing to it will be reflected \n",
    "            result.append(temp[:])\n",
    "\n",
    "        # recursion start\n",
    "        else:\n",
    "            # choices base\n",
    "            for i in range(start_ind, len(candidates)):\n",
    "                # construct potential answer\n",
    "                temp.append(candidates[i])\n",
    "                helper(result, temp, candidates, remain-candidates[i], i)  \n",
    "                # start index is i again because it can reuse current element. but not start from 0 because that will introduce duplicated combination\n",
    "                # the case of candidates[i] has finished checking\n",
    "                # pop the last item\n",
    "                temp.pop()\n",
    "    result = []\n",
    "    candidates.sort() # for easy comparison?\n",
    "    helper(result, [], candidates, target, 0)\n",
    "    return result"
   ]
  },
  {
   "cell_type": "code",
   "execution_count": 8,
   "metadata": {},
   "outputs": [
    {
     "data": {
      "text/plain": [
       "[[2, 2, 3], [7]]"
      ]
     },
     "execution_count": 8,
     "metadata": {},
     "output_type": "execute_result"
    }
   ],
   "source": [
    "candidates = [2,3,6,7]\n",
    "target = 7\n",
    "combinationSum(candidates, target)"
   ]
  },
  {
   "cell_type": "markdown",
   "metadata": {},
   "source": [
    "if cant understand the remain concept, sum concept works too"
   ]
  },
  {
   "cell_type": "code",
   "execution_count": 11,
   "metadata": {},
   "outputs": [],
   "source": [
    "def combinationSum_2(candidates, target):\n",
    "    # result is the final steady result space\n",
    "    def helper(result, temp, candidates, target, start_ind):\n",
    "        if sum(temp) > target:\n",
    "            return\n",
    "\n",
    "        elif sum(temp) == target:\n",
    "            result.append(temp[:])\n",
    "            return\n",
    "        else:\n",
    "            for i in range(start_ind, len(candidates)):\n",
    "                temp.append(candidates[i])\n",
    "                helper(result, temp, candidates, target, i)  \n",
    "                temp.pop()\n",
    "    result = []\n",
    "#     candidates.sort() # for easy comparison?\n",
    "    helper(result, [], candidates, target, 0)\n",
    "    return result"
   ]
  },
  {
   "cell_type": "code",
   "execution_count": 12,
   "metadata": {},
   "outputs": [
    {
     "data": {
      "text/plain": [
       "[[2, 2, 3], [7]]"
      ]
     },
     "execution_count": 12,
     "metadata": {},
     "output_type": "execute_result"
    }
   ],
   "source": [
    "candidates = [2,3,6,7]\n",
    "target = 7\n",
    "combinationSum_2(candidates, target)"
   ]
  },
  {
   "cell_type": "markdown",
   "metadata": {},
   "source": [
    "<b>40. Combinations Sum II </b>  \n",
    "\n",
    "the key point is how to make sure candidate number may only be used once and at the same time dont introduce duplciated combinations due to the duplicated number in candidates"
   ]
  },
  {
   "cell_type": "code",
   "execution_count": 25,
   "metadata": {},
   "outputs": [],
   "source": [
    "def combinationSum2(candidates, target):\n",
    "    def helper(result, temp, candidates, target, start_ind):\n",
    "        if sum(temp) > target:\n",
    "            return\n",
    "        elif sum(temp) == target:\n",
    "            result.append(temp[:])\n",
    "            return\n",
    "        else:\n",
    "            for i in range(start_ind, len(candidates)):\n",
    "                # at SAME FOR LOOP level, if the number is used, dont use it again, otherwise will bring in duplicated combination\n",
    "                # if [1, X, X,...] 1 is used in the first element\n",
    "                # next number in the for is 1 again\n",
    "                # if construct [1, x...], will end up getting duplicated combination obtained by previous [1, xxx]\n",
    "                # it doesn't eliminate the [1,1,xxx] cases because the two 1s are in different level of the for loop\n",
    "                # the second 1 is from the next helper()\n",
    "                if i>start_ind and candidates[i]==candidates[i-1]:\n",
    "                    continue\n",
    "                temp.append(candidates[i])\n",
    "                helper(result, temp, candidates, target, i+1)     \n",
    "                temp.pop()\n",
    "\n",
    "    result = []\n",
    "    candidates.sort()  # so sum(temp)>target will make sense\n",
    "    helper(result, [], candidates, target,0)\n",
    "    return result"
   ]
  },
  {
   "cell_type": "code",
   "execution_count": 26,
   "metadata": {},
   "outputs": [
    {
     "data": {
      "text/plain": [
       "[[1, 1, 6], [1, 2, 5], [1, 7], [2, 6]]"
      ]
     },
     "execution_count": 26,
     "metadata": {},
     "output_type": "execute_result"
    }
   ],
   "source": [
    "candidates = [10,1,2,7,6,1,5]\n",
    "target = 8\n",
    "combinationSum2(candidates, target)"
   ]
  },
  {
   "cell_type": "markdown",
   "metadata": {},
   "source": [
    "<b> 216. combination Sum III </b>  \n",
    "similar as above, to use numbers only once, change the start index."
   ]
  },
  {
   "cell_type": "code",
   "execution_count": 27,
   "metadata": {},
   "outputs": [],
   "source": [
    "def combinationSum3(k, n):\n",
    "    def helper(result, temp, k, n, start):\n",
    "        if sum(temp) > n:\n",
    "            return\n",
    "        elif len(temp)==k and sum(temp)==n:\n",
    "            result.append(temp[:])\n",
    "        else:\n",
    "            for i in range(start, 10):\n",
    "                temp.append(i)\n",
    "                helper(result, temp, k, n, i+1)\n",
    "                temp.pop()\n",
    "\n",
    "    result =[]\n",
    "    helper(result, [], k, n, 1)\n",
    "    return result"
   ]
  },
  {
   "cell_type": "code",
   "execution_count": 28,
   "metadata": {},
   "outputs": [
    {
     "data": {
      "text/plain": [
       "[[1, 2, 4]]"
      ]
     },
     "execution_count": 28,
     "metadata": {},
     "output_type": "execute_result"
    }
   ],
   "source": [
    "combinationSum3(3, 7)"
   ]
  },
  {
   "cell_type": "markdown",
   "metadata": {},
   "source": [
    "<b>78. Subsets </b>\n",
    "\n",
    "lets apply the backtrack idea here"
   ]
  },
  {
   "cell_type": "code",
   "execution_count": 13,
   "metadata": {},
   "outputs": [],
   "source": [
    "def subsets(nums):\n",
    "    def helper(result, temp, nums, start_ind):\n",
    "        # no special cases, so just append the temp, every case satisfy the question\n",
    "        result.append(temp[:])\n",
    "        for i in range(start_ind, len(nums)):\n",
    "            temp.append(nums[i])\n",
    "            # i+1 because current number cant be reused\n",
    "            # previous number is checked already too\n",
    "            helper(result, temp, nums, i+1)\n",
    "            temp.pop()\n",
    "    result =[]\n",
    "    helper(result, [], nums, 0)  # the [] in the result happens to be the initial temp appended\n",
    "    return result"
   ]
  },
  {
   "cell_type": "code",
   "execution_count": 15,
   "metadata": {},
   "outputs": [
    {
     "data": {
      "text/plain": [
       "[[], [1], [1, 2], [1, 2, 3], [1, 3], [2], [2, 3], [3]]"
      ]
     },
     "execution_count": 15,
     "metadata": {},
     "output_type": "execute_result"
    }
   ],
   "source": [
    "nums = [1,2,3]\n",
    "subsets(nums)"
   ]
  },
  {
   "cell_type": "markdown",
   "metadata": {},
   "source": [
    "<b>90. sumsets II </b>  \n",
    "in this question, the array should be sorted to see which one to skip.  \n",
    "the base case is moved to be checked inside of the for loop"
   ]
  },
  {
   "cell_type": "code",
   "execution_count": 17,
   "metadata": {},
   "outputs": [],
   "source": [
    "def subsetsWithDup(nums):\n",
    "    def helper(result, temp, nums, start_ind):\n",
    "        # base case, no duplicates subsets\n",
    "        # which is checked inside of the for loop\n",
    "        result.append(temp[:])\n",
    "\n",
    "        for i in range(start_ind, len(nums)):\n",
    "            # this checking requires the nums should be sorted\n",
    "            if i>start_ind and nums[i]==nums[i-1]:\n",
    "                continue  # not checking duplicated value at SAME level\n",
    "            temp.append(nums[i])\n",
    "            helper(result, temp, nums, i+1)\n",
    "            temp.pop()\n",
    "    result = []\n",
    "    nums.sort()\n",
    "    helper(result, [], nums, 0)\n",
    "    return result"
   ]
  },
  {
   "cell_type": "code",
   "execution_count": 18,
   "metadata": {},
   "outputs": [
    {
     "data": {
      "text/plain": [
       "[[], [1], [1, 4], [1, 4, 4], [4], [4, 4]]"
      ]
     },
     "execution_count": 18,
     "metadata": {},
     "output_type": "execute_result"
    }
   ],
   "source": [
    "nums=[4,1,4]\n",
    "subsetsWithDup(nums)"
   ]
  },
  {
   "cell_type": "markdown",
   "metadata": {},
   "source": [
    "<b>46. Permutations </b>  \n",
    "\n",
    "for this one, the start index is always 0 so ommitted here.  \n",
    "to avoid duplicated usage of items, check if current item exist in temp before adding to temp\n"
   ]
  },
  {
   "cell_type": "code",
   "execution_count": 19,
   "metadata": {},
   "outputs": [],
   "source": [
    "def permute(nums):\n",
    "    def helper(result, temp, nums):\n",
    "        # base cases: should have all items in nums\n",
    "        if len(temp) == len(nums):\n",
    "            result.append(temp[:])\n",
    "            return   # => dont forget this\n",
    "        # here start index always 0\n",
    "        for i in range(len(nums)):\n",
    "            # this is an important sentence, to avoid duplicated usage\n",
    "            if nums[i] in temp:\n",
    "                continue\n",
    "            temp.append(nums[i])\n",
    "            helper(result, temp, nums)\n",
    "            temp.pop()\n",
    "\n",
    "    result = []\n",
    "    helper(result, [], nums)\n",
    "    return result"
   ]
  },
  {
   "cell_type": "code",
   "execution_count": 20,
   "metadata": {},
   "outputs": [
    {
     "data": {
      "text/plain": [
       "[[1, 2, 3], [1, 3, 2], [2, 1, 3], [2, 3, 1], [3, 1, 2], [3, 2, 1]]"
      ]
     },
     "execution_count": 20,
     "metadata": {},
     "output_type": "execute_result"
    }
   ],
   "source": [
    "nums=[1,2,3]\n",
    "permute(nums)"
   ]
  },
  {
   "cell_type": "markdown",
   "metadata": {},
   "source": [
    "<b> 47. Permutations II </b>  \n",
    "\n",
    "How to solve the duplicated cases is the key point here.  \n",
    "for original idea, please see this [post](https://leetcode.com/problems/permutations-ii/discuss/18602/9-line-python-solution-with-1-line-to-handle-duplication-beat-99-of-others-%3A-))"
   ]
  },
  {
   "cell_type": "code",
   "execution_count": 23,
   "metadata": {},
   "outputs": [],
   "source": [
    "from collections import Counter\n",
    "def permuteUnique(nums):\n",
    "    def helper(result, temp, nums, count):\n",
    "        if len(temp) == len(nums):\n",
    "            result.append(temp[:])\n",
    "            return\n",
    "        for num in count:  # only select the unique value\n",
    "            if count[num] > 0:  # check the count to see if the value is still valid to use\n",
    "                temp.append(num)\n",
    "                count[num]-=1\n",
    "                helper(result, temp, nums, count)\n",
    "                count[num]+=1\n",
    "                temp.pop()\n",
    "    result = []\n",
    "    helper(result, [], nums, Counter(nums))\n",
    "    return result"
   ]
  },
  {
   "cell_type": "code",
   "execution_count": 24,
   "metadata": {},
   "outputs": [
    {
     "data": {
      "text/plain": [
       "[[1, 1, 2], [1, 2, 1], [2, 1, 1]]"
      ]
     },
     "execution_count": 24,
     "metadata": {},
     "output_type": "execute_result"
    }
   ],
   "source": [
    "nums=[1,1,2]\n",
    "permuteUnique(nums)"
   ]
  },
  {
   "cell_type": "markdown",
   "metadata": {},
   "source": [
    "<b>22. Generate Parentheses </b>. \n",
    "\n",
    "the key is how to produce a valid parenthese string.   \n",
    "if num of ( < n, you can add (, only when number of ) < number of (, you can add ), to produce valid string"
   ]
  },
  {
   "cell_type": "code",
   "execution_count": 29,
   "metadata": {},
   "outputs": [],
   "source": [
    "def generateParenthesis(n):\n",
    "    def helper(result, temp, n, open_ct, end_ct):\n",
    "        if len(temp)==2*n:\n",
    "            result.append(temp[:])\n",
    "            return\n",
    "        if open_ct < n:\n",
    "            # able to add ( to the stack\n",
    "            helper(result, temp+'(', n, open_ct+1, end_ct)\n",
    "        if end_ct < open_ct:\n",
    "            # able to add ) to the stack\n",
    "            helper(result, temp+')', n, open_ct, end_ct+1)\n",
    "\n",
    "    result = []\n",
    "    helper(result, \"\", n, 0, 0)\n",
    "    return result"
   ]
  },
  {
   "cell_type": "markdown",
   "metadata": {},
   "source": [
    "the recursion will cover all possible cases, but just produce (()) at first glance"
   ]
  },
  {
   "cell_type": "code",
   "execution_count": 30,
   "metadata": {},
   "outputs": [
    {
     "data": {
      "text/plain": [
       "['(())', '()()']"
      ]
     },
     "execution_count": 30,
     "metadata": {},
     "output_type": "execute_result"
    }
   ],
   "source": [
    "generateParenthesis(2)"
   ]
  },
  {
   "cell_type": "code",
   "execution_count": 31,
   "metadata": {},
   "outputs": [
    {
     "data": {
      "text/plain": [
       "['((()))', '(()())', '(())()', '()(())', '()()()']"
      ]
     },
     "execution_count": 31,
     "metadata": {},
     "output_type": "execute_result"
    }
   ],
   "source": [
    "generateParenthesis(3)"
   ]
  },
  {
   "cell_type": "markdown",
   "metadata": {},
   "source": [
    "<b> 79. Word Search </b>\n",
    "\n",
    "key is how to determine base cases  \n",
    "how to keep searching word from all possible directions"
   ]
  },
  {
   "cell_type": "markdown",
   "metadata": {},
   "source": [
    "The skeleton of the algorithm is a loop that iterates through each cell in the grid. For each cell, we invoke the backtracking function to check if we would obtain a solution, starting from this very cell."
   ]
  },
  {
   "cell_type": "code",
   "execution_count": 35,
   "metadata": {},
   "outputs": [],
   "source": [
    "def exist(board, word):\n",
    "    def helper(board, i, j, word):\n",
    "        # base case\n",
    "        if len(word) == 0:  # all chars found\n",
    "            return True\n",
    "        # confirmed false case\n",
    "        # index is out of bound or the word not match\n",
    "        if i<0 or j<0 or i>=len(board) or j>=len(board[0]) or word[0]!=board[i][j]:\n",
    "            return False\n",
    "#         temp = board[i][j]  # find one char  => no need to create this var, save space\n",
    "        board[i][j] = '#'  # avoid visit again\n",
    "        # finding rest of word in other directions\n",
    "        res = helper(board, i+1, j, word[1:]) or helper(board,i-1,j, word[1:]) or helper(board, i, j+1, word[1:]) or helper(board, i,j-1, word[1:])\n",
    "#         board[i][j] = temp # backtracking\n",
    "        board[i][j] = word[0]\n",
    "        return res  # => return after changing the board[i][j] back\n",
    "\n",
    "    if not board:\n",
    "        return False\n",
    "    for i in range(len(board)):\n",
    "        for j in range(len(board[0])):\n",
    "            if helper(board, i,j,word):\n",
    "                # no need to keep finding if already find one\n",
    "                return True\n",
    "    return False"
   ]
  },
  {
   "cell_type": "code",
   "execution_count": 36,
   "metadata": {},
   "outputs": [
    {
     "data": {
      "text/plain": [
       "True"
      ]
     },
     "execution_count": 36,
     "metadata": {},
     "output_type": "execute_result"
    }
   ],
   "source": [
    "board =[\n",
    "  ['A','B','C','E'],\n",
    "  ['S','F','C','S'],\n",
    "  ['A','D','E','E']\n",
    "]\n",
    "word = \"ABCCED\"\n",
    "exist(board, word)"
   ]
  },
  {
   "cell_type": "code",
   "execution_count": null,
   "metadata": {},
   "outputs": [],
   "source": []
  }
 ],
 "metadata": {
  "kernelspec": {
   "display_name": "testground",
   "language": "python",
   "name": "testground"
  },
  "language_info": {
   "codemirror_mode": {
    "name": "ipython",
    "version": 3
   },
   "file_extension": ".py",
   "mimetype": "text/x-python",
   "name": "python",
   "nbconvert_exporter": "python",
   "pygments_lexer": "ipython3",
   "version": "3.8.3"
  }
 },
 "nbformat": 4,
 "nbformat_minor": 4
}
