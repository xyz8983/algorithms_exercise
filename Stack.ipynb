{
 "cells": [
  {
   "cell_type": "markdown",
   "metadata": {},
   "source": [
    "<b>20.Valid Parentheses </b>. \n",
    "\n",
    "using stack. loop the array, if it is the start sign, put it in stack. if it is an end side, pop the stack to get the last item, compare with the correpsonding item's start sign. If not match, return False direclty, else contingue.  \n",
    "at the end, if the whole stack is empty, then True"
   ]
  },
  {
   "cell_type": "code",
   "execution_count": 4,
   "metadata": {},
   "outputs": [],
   "source": [
    "def isValid( s):\n",
    "    \"\"\"complexity O(N), search in keys is O(1), pop for list is O(1) too\"\"\"\n",
    "    mapping = {')': '(', '}': '{', ']': '['}\n",
    "    n = len(s)\n",
    "    if n%2==1:\n",
    "        return False\n",
    "    stack = []\n",
    "    for item in s:\n",
    "        # start of the parentheses\n",
    "        if item not in mapping.keys():\n",
    "            stack.append(item)\n",
    "        else:\n",
    "            if (not stack) or (stack.pop()!=mapping[item]):\n",
    "                return False\n",
    "    return len(stack)==0"
   ]
  },
  {
   "cell_type": "code",
   "execution_count": 2,
   "metadata": {},
   "outputs": [
    {
     "data": {
      "text/plain": [
       "True"
      ]
     },
     "execution_count": 2,
     "metadata": {},
     "output_type": "execute_result"
    }
   ],
   "source": [
    "s=\"()[]{}\"\n",
    "isValid( s)"
   ]
  },
  {
   "cell_type": "code",
   "execution_count": 3,
   "metadata": {},
   "outputs": [
    {
     "data": {
      "text/plain": [
       "False"
      ]
     },
     "execution_count": 3,
     "metadata": {},
     "output_type": "execute_result"
    }
   ],
   "source": [
    "s=\"((\"\n",
    "isValid( s)"
   ]
  }
 ],
 "metadata": {
  "kernelspec": {
   "display_name": "testground",
   "language": "python",
   "name": "testground"
  },
  "language_info": {
   "codemirror_mode": {
    "name": "ipython",
    "version": 3
   },
   "file_extension": ".py",
   "mimetype": "text/x-python",
   "name": "python",
   "nbconvert_exporter": "python",
   "pygments_lexer": "ipython3",
   "version": "3.8.3"
  }
 },
 "nbformat": 4,
 "nbformat_minor": 4
}
