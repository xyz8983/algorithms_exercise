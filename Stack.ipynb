{
 "cells": [
  {
   "cell_type": "markdown",
   "metadata": {},
   "source": [
    "<b>20.Valid Parentheses </b>. \n",
    "\n",
    "using stack. loop the array, if it is the start sign, put it in stack. if it is an end side, pop the stack to get the last item, compare with the correpsonding item's start sign. If not match, return False direclty, else contingue.  \n",
    "at the end, if the whole stack is empty, then True"
   ]
  },
  {
   "cell_type": "code",
   "execution_count": 4,
   "metadata": {},
   "outputs": [],
   "source": [
    "def isValid( s):\n",
    "    \"\"\"complexity O(N), search in keys is O(1), pop for list is O(1) too\"\"\"\n",
    "    mapping = {')': '(', '}': '{', ']': '['}\n",
    "    n = len(s)\n",
    "    if n%2==1:\n",
    "        return False\n",
    "    stack = []\n",
    "    for item in s:\n",
    "        # start of the parentheses\n",
    "        if item not in mapping.keys(): # adding start sign\n",
    "            stack.append(item)\n",
    "        else:\n",
    "            if (not stack) or (stack.pop()!=mapping[item]):\n",
    "                return False\n",
    "    return len(stack)==0  # in case any start sign does not have matching ending sign"
   ]
  },
  {
   "cell_type": "code",
   "execution_count": 2,
   "metadata": {},
   "outputs": [
    {
     "data": {
      "text/plain": [
       "True"
      ]
     },
     "execution_count": 2,
     "metadata": {},
     "output_type": "execute_result"
    }
   ],
   "source": [
    "s=\"()[]{}\"\n",
    "isValid( s)"
   ]
  },
  {
   "cell_type": "code",
   "execution_count": 3,
   "metadata": {},
   "outputs": [
    {
     "data": {
      "text/plain": [
       "False"
      ]
     },
     "execution_count": 3,
     "metadata": {},
     "output_type": "execute_result"
    }
   ],
   "source": [
    "s=\"((\"\n",
    "isValid( s)"
   ]
  },
  {
   "cell_type": "markdown",
   "metadata": {},
   "source": [
    "<b> 1249 Minimum Remove to Make Valid Parentheses </b>\n",
    "\n",
    "using stack to identify which ( does not have matching ending ). using remove set to find ending parenthese ) that does not have matching openning ("
   ]
  },
  {
   "cell_type": "code",
   "execution_count": 1,
   "metadata": {},
   "outputs": [],
   "source": [
    "def minRemoveToMakeValid(s: str):\n",
    "    \"\"\"O(N)\"\"\"\n",
    "    remove = set()\n",
    "    stack=[]\n",
    "    for i, c in enumerate(s):\n",
    "        if c=='(':\n",
    "            stack.append(i)\n",
    "        elif c==')':\n",
    "            if not stack:\n",
    "                remove.add(i) # a ) with no matching (\n",
    "            else:\n",
    "                stack.pop()\n",
    "    remove = remove | set(stack) # stack may have ( that does not have a matchig )\n",
    "    result = []\n",
    "    for i, c in enumerate(s):\n",
    "        if i not in remove:\n",
    "            result.append(c)\n",
    "    return \"\".join(result)"
   ]
  },
  {
   "cell_type": "code",
   "execution_count": 2,
   "metadata": {},
   "outputs": [
    {
     "data": {
      "text/plain": [
       "'lee(t(c)o)de'"
      ]
     },
     "execution_count": 2,
     "metadata": {},
     "output_type": "execute_result"
    }
   ],
   "source": [
    "s = \"lee(t(c)o)de)\"\n",
    "minRemoveToMakeValid(s)"
   ]
  },
  {
   "cell_type": "markdown",
   "metadata": {},
   "source": [
    "<b> 224 Basic Calculator </b>\n",
    "\n",
    "also about parenthsis. Here assume the expression string is valid.  \n",
    "using stack to save value and sign for a new start, which indicates by (\n",
    "need to consider the case that number string like \"23\", number can be >9\n",
    "\n",
    "\"(\" means a new start, push to stack, \")\" means the en d of a inner (), pop value from stack to resume calculation of outer ()"
   ]
  },
  {
   "cell_type": "code",
   "execution_count": 3,
   "metadata": {},
   "outputs": [],
   "source": [
    "def calculate(s):\n",
    "    \"\"\"stack\n",
    "    need to consider case like \"45+23\", number can >9\n",
    "    \"\"\"\n",
    "    sign = 1\n",
    "    result = 0 # store current()'s result, also works for expression without any ()\n",
    "    i = 0\n",
    "    stack = []\n",
    "    while i < len(s):\n",
    "        if s[i].isnumeric():\n",
    "            number = int(s[i])\n",
    "            while i+1 < len(s) and s[i+1].isnumeric():\n",
    "                number = number*10 + int(s[i+1])\n",
    "                i+=1\n",
    "            result += number*sign\n",
    "        elif s[i]==\"+\":\n",
    "            sign = 1\n",
    "        elif s[i]==\"-\":\n",
    "            sign = -1\n",
    "        elif s[i] == \"(\":\n",
    "            # a new start\n",
    "            stack.append(result)\n",
    "            stack.append(sign)\n",
    "            result = 0\n",
    "            sign = 1\n",
    "        elif s[i] == ')':\n",
    "            # the number in inner () completes its calculation, now can calculate it with number in the queue for outer ()\n",
    "            # first pop is the sign, second pop is the number\n",
    "            result = result*stack.pop() + stack.pop()\n",
    "        i += 1\n",
    "    return result\n"
   ]
  },
  {
   "cell_type": "code",
   "execution_count": 4,
   "metadata": {},
   "outputs": [
    {
     "data": {
      "text/plain": [
       "37"
      ]
     },
     "execution_count": 4,
     "metadata": {},
     "output_type": "execute_result"
    }
   ],
   "source": [
    "s=\"34 + 3\"\n",
    "calculate(s)"
   ]
  },
  {
   "cell_type": "markdown",
   "metadata": {},
   "source": [
    "<b> 227 basic calculator II </b>\n",
    "\n",
    "<b>way 1: my way  </b>\n",
    "flatten the operation * \\ to lower level operation + -  \n",
    "then go over the left over stack, just adds all the number up  \n",
    "<b>key part</b> is given the first number a positive sign (the question assumes no negative value in the expresssion)  "
   ]
  },
  {
   "cell_type": "code",
   "execution_count": 5,
   "metadata": {},
   "outputs": [],
   "source": [
    "def calculate(s):\n",
    "    \"\"\"\n",
    "    no parenthese, but the sign has different priority level\n",
    "    using stack maybe with recursion\n",
    "    \"\"\"\n",
    "    num_stack = [] # for case like \"3\", still work\n",
    "    sign_stack = [1] # level one sign: +:1, -:-1\n",
    "    i = 0\n",
    "    num = 0\n",
    "    def helper(i, num):\n",
    "        # helper func to get number after * / sign\n",
    "        while i+1 < len(s) and s[i+1]==\" \":\n",
    "            i += 1\n",
    "        while i+1 < len(s) and s[i+1].isnumeric():\n",
    "            num = num*10 + int(s[i+1])\n",
    "            i += 1\n",
    "        return i, num\n",
    "    # flattern priority from */ to all + -\n",
    "    while i < len(s):\n",
    "        if s[i].isnumeric():\n",
    "            num = int(s[i])\n",
    "            while i+1 < len(s) and s[i+1].isnumeric():\n",
    "                num = num*10 + int(s[i+1])\n",
    "                i += 1\n",
    "            num_stack.append(num)\n",
    "            num = 0\n",
    "        elif s[i] == \"+\":\n",
    "            sign_stack.append(1)\n",
    "        elif s[i] == '-':\n",
    "            sign_stack.append(-1)\n",
    "        elif s[i] == '*':\n",
    "            i, num = helper(i, num)\n",
    "            num_stack.append(num * num_stack.pop())\n",
    "            num = 0\n",
    "        elif s[i] == '/':\n",
    "            i, num = helper(i, num)\n",
    "            num_stack.append(num_stack.pop()//num)\n",
    "            num = 0\n",
    "        i += 1\n",
    "    result = num_stack.pop() * sign_stack.pop()\n",
    "    while num_stack:\n",
    "        # assume the expression is always valid, so sign stack always has corresponding pair\n",
    "        result += sign_stack.pop()*num_stack.pop()\n",
    "    return result"
   ]
  },
  {
   "cell_type": "code",
   "execution_count": 6,
   "metadata": {},
   "outputs": [
    {
     "data": {
      "text/plain": [
       "7"
      ]
     },
     "execution_count": 6,
     "metadata": {},
     "output_type": "execute_result"
    }
   ],
   "source": [
    "s = \"3+2*2\"\n",
    "calculate(s)"
   ]
  },
  {
   "cell_type": "markdown",
   "metadata": {},
   "source": [
    "<b> way 2</b> => looks more concise. \n",
    "\n",
    "also key part is to give the first number a positive sign, but no need to keep check of the stack of sign, only current value. when encounter a sign, push the value before this sign together with the sign before this value: a,b,c => 1+2 => +1+2, when at second +, calculate 1 and the + infront 1 then push the result into a stack.\n",
    "\n",
    "the parallel if statement helps in edge and special cases like \" \" char and at the end of string\n"
   ]
  },
  {
   "cell_type": "code",
   "execution_count": 7,
   "metadata": {},
   "outputs": [],
   "source": [
    "def calculate(s):\n",
    "    \"\"\"\n",
    "    using a pre sign val, like a positive number its sign by default is +, here we explicitly assign the + to it.\n",
    "    everytime when you encouter a sign, first push the previous number with its previous sign, then update the current sign.\n",
    "    the two parellel if check can eliminate edge cases, like at empty space and at the end of string.\n",
    "    \"\"\"\n",
    "\n",
    "    i = 0\n",
    "    sign = \"+\" # initial sign\n",
    "    stack = []\n",
    "    num = 0\n",
    "    for i in range(len(s)):\n",
    "        if s[i].isnumeric():\n",
    "            num = num*10 + int(s[i])\n",
    "        # the parallel if statement works even when i is at the end of str\n",
    "        if not s[i].isnumeric() and s[i]!=\" \" or i==len(s)-1:\n",
    "            # not a number or a space, then must be a sign\n",
    "            # check the previous sign first, then update the sign value\n",
    "            if sign == '-':\n",
    "                stack.append(-1*num)\n",
    "            elif sign == '+':\n",
    "                stack.append(num)\n",
    "            elif sign == '*':\n",
    "                stack.append(stack.pop()*num)\n",
    "            elif sign == '/':\n",
    "                # NOT work => -3//2 = -2 isntead of -1, so \"14-3/2\" wont return 13 but 12 \n",
    "                val = stack.pop()\n",
    "                if val < 0:\n",
    "                    stack.append((-val//num)*-1)\n",
    "                else:\n",
    "                    stack.append(val//num)\n",
    "            num = 0\n",
    "            sign = s[i]\n",
    "\n",
    "    # now stack has values already cleaned with sign\n",
    "    result = stack.pop()\n",
    "    while stack:\n",
    "        result += stack.pop()\n",
    "    return result"
   ]
  },
  {
   "cell_type": "markdown",
   "metadata": {},
   "source": [
    "<b> 301 remove invalid parentheses </b>  \n",
    "step 1: remove extra )  \n",
    "step 2: remove extra (  \n",
    "two steps can use same code by reversing the order of checking parenthese\n",
    "\n",
    "how to determine if there is an extra ( or )? check and count along the string, whenever you have more ) than (, then you encouter an extra ) and remove the first encoutering one can solve edge case like )(), also avoid duplicates.\n",
    "\n",
    "keep check of the last visited position as the next starting position (wont duplicately check that position because old string removed a char to becomes the new string for the next check, due to the removal, the last visited position shifted left for one position, and i happens to point to the next valid position for checking.\n",
    "\n",
    "same idea for the last removal position becomes the next valid removal starting position due to old s†ring shedded for one char.\n",
    "\n",
    "the return sta†ement is smart. if you enter the recursive function call, that means you havent fully finished the checking of extra ( sign, so cant proceed to †he check of extra ).\n"
   ]
  },
  {
   "cell_type": "code",
   "execution_count": 8,
   "metadata": {},
   "outputs": [],
   "source": [
    "def removeInvalidParentheses(s):\n",
    "    def remove_helper(s, res, start, last_r, mapping):\n",
    "        \"\"\"\n",
    "        start: start index where to check the invalid parenthsis\n",
    "        last_r: index of last removal, now becomes the start of next removable position\n",
    "        \"\"\"\n",
    "        count = 0\n",
    "        for i in range(start, len(s)):\n",
    "            if s[i]==mapping[0]: count += 1\n",
    "            if s[i]==mapping[1]: count -= 1\n",
    "            if count >=0: continue # still have '(' left unpaired\n",
    "            # otherwise an extra ')' need to be removed, from position last_r to i, last_r is the position where last item is removed, now become the next removal position (valid because of the char shifting)\n",
    "            for j in range(last_r, i+1):\n",
    "                # remove the first ')' in this range, to avoid duplicats\n",
    "                # ex: ()()) => (()) or ()()\n",
    "                if s[j]==mapping[1] and (j==last_r or s[j-1]!=mapping[1]):\n",
    "                    # s[j-1]!=mapping[1] can help ensure ()())=>()() wont produce duplciates, so only remove the ) at position s[3] not s[4]\n",
    "                    # why i and j works?\n",
    "                    # because remove one char, now i points to the next starting point of s that can start scan for unncessary ), and j points to the next removal point of s.\n",
    "                    remove_helper(s[:j]+s[j+1:], res,i, j, mapping)\n",
    "            # return is smart! \n",
    "            # if ever enter the consecutive remove_helper call, current string is not ready from left to right yet (steps to check extra ')'' ), so cant proceed to check from right to left => the reverse order to check extra '(''\n",
    "            return\n",
    "        # start the following piece only after one direction is clean\n",
    "        reversed_s = s[::-1]\n",
    "        if mapping[0] == '(': # it previously remove from left to right, find (, now can remove from right to left\n",
    "            remove_helper(reversed_s, res, 0, 0, [')', '('])\n",
    "        else: # already removed from left to right and right to left, so ready\n",
    "            res.append(reversed_s)\n",
    "\n",
    "\n",
    "    res = []\n",
    "    # mapping = ['(',')']\n",
    "    remove_helper(s, res, 0, 0, ['(',')'])\n",
    "    return res\n",
    "\n"
   ]
  },
  {
   "cell_type": "code",
   "execution_count": 9,
   "metadata": {},
   "outputs": [
    {
     "data": {
      "text/plain": [
       "['(a())()', '(a)()()']"
      ]
     },
     "execution_count": 9,
     "metadata": {},
     "output_type": "execute_result"
    }
   ],
   "source": [
    "s= \"(a)())()\"\n",
    "removeInvalidParentheses(s)"
   ]
  },
  {
   "cell_type": "markdown",
   "metadata": {},
   "source": [
    "### Monotone Stack\n",
    "\n",
    "a data structure that keeps its element either entirely in non-increasing or non-decreasing order => a DP technique\n",
    "\n",
    "time complexity if Linear"
   ]
  },
  {
   "cell_type": "markdown",
   "metadata": {},
   "source": [
    "<b> 84 Largest Rectangle in Histogram </b>\n",
    "\n",
    "monotone stack save the index, the corresponding element is in <b>increasing</b> order (if encouter a decreasing or equal one, pop stack).   \n",
    "index is used to find the width of valid rectangle, the actual value of the heights array is the height of the rectangle.\n",
    "\n",
    "case 1: x1 is current i, x0 is previous smaller item's index\n",
    "case 2: x1 is n, the length, x0 is the previous smaller item's index\n",
    "height is the item poping out from stack\n"
   ]
  },
  {
   "cell_type": "code",
   "execution_count": 22,
   "metadata": {},
   "outputs": [],
   "source": [
    "def largestRectangleArea(heights):\n",
    "    stack=[-1]  # store the index, using -1 to store the start of the array, to save the max possible width\n",
    "    max_area = 0\n",
    "    n = len(heights)\n",
    "    for i in range(len(heights)):\n",
    "        # if the stack is not empty and the last item in stack is greater than current item in height\n",
    "        while stack[-1]!=-1 and heights[stack[-1]]>=heights[i]:\n",
    "            h = heights[stack.pop()]\n",
    "            w = i-stack[-1]-1 # important step, cant using i-the_prev_stack_pop_value, because it will elimite where the array starts, for example [5,4,1,2], for 4, if using i-4_index, w = 1, but actually 4's w should be 2, from start of array to where 4 stands \n",
    "            max_area = max(max_area, h*w)\n",
    "        stack.append(i)\n",
    "    # now the stack is non-decreasing, pay special attention to include where the stack starts\n",
    "    while stack[-1]!=-1:\n",
    "        # key is n-stack[-1]-1 to get the width\n",
    "        # [2,1,4,5,2,3], when it has [1,2,3] left, the width for 2 is actually 4, not 2 (if using n-indx_of_2)\n",
    "        max_area = max(max_area, heights[stack.pop()]*(n-stack[-1]-1))\n",
    "    return max_area"
   ]
  },
  {
   "cell_type": "code",
   "execution_count": 23,
   "metadata": {
    "scrolled": true
   },
   "outputs": [
    {
     "data": {
      "text/plain": [
       "10"
      ]
     },
     "execution_count": 23,
     "metadata": {},
     "output_type": "execute_result"
    }
   ],
   "source": [
    "heights = [2,1,5,6,2,3]\n",
    "largestRectangleArea(heights)"
   ]
  },
  {
   "cell_type": "markdown",
   "metadata": {},
   "source": [
    "there are other easier understanding ways, but <b>too slow</b> to pass all the tests, especially when the array is sorted"
   ]
  },
  {
   "cell_type": "code",
   "execution_count": 5,
   "metadata": {},
   "outputs": [],
   "source": [
    "def largestRectangleArea(heights):\n",
    "    \"\"\"divide and concur, make the problem into smaller problem\n",
    "        still too slow, avg case O(NlogN), worse case is O(N^2) if array is sorted\n",
    "    \"\"\"\n",
    "    max_area = 0\n",
    "    def helper(start, end):\n",
    "        nonlocal max_area\n",
    "        if start > end:\n",
    "            return\n",
    "        min_index = start\n",
    "        for i in range(start, end+1):\n",
    "            if heights[i]<heights[min_index]:\n",
    "                min_index = i \n",
    "        max_area = max(max_area, heights[min_index]*(end-start+1))\n",
    "        helper(start, min_index-1)\n",
    "        helper(min_index+1, end)\n",
    "\n",
    "    helper(0, len(heights)-1)\n",
    "    return max_area"
   ]
  },
  {
   "cell_type": "code",
   "execution_count": 6,
   "metadata": {},
   "outputs": [
    {
     "data": {
      "text/plain": [
       "10"
      ]
     },
     "execution_count": 6,
     "metadata": {},
     "output_type": "execute_result"
    }
   ],
   "source": [
    "heights = [2,1,5,6,2,3]\n",
    "largestRectangleArea(heights)"
   ]
  },
  {
   "cell_type": "markdown",
   "metadata": {},
   "source": [
    "<b> 503 Next Greater Element II </b>\n",
    "\n",
    "using monotone stack, and using 2*len(array) and % to construct the circle.  \n",
    "here the monotone stack stores <b>non-increasing</b> value  \n",
    "either the stack is empty, meaning all values find its next larger elements (which should not be true because the largest item will have -1)\n",
    "or loop over the circle completely, marking the end of the finding."
   ]
  },
  {
   "cell_type": "code",
   "execution_count": 7,
   "metadata": {},
   "outputs": [],
   "source": [
    "def nextGreaterElements(nums):\n",
    "    n = len(nums)\n",
    "    stack = []  # save index, not value\n",
    "    result = [-1]*n\n",
    "\n",
    "    # 2*n to create the circle, i%n is the real index\n",
    "    for i in range(2*n):\n",
    "        val = nums[i%n]\n",
    "        while stack and nums[stack[-1]]<val:\n",
    "            # find the next larger number for nums[stack[-1]]\n",
    "            result[stack.pop()] = val\n",
    "        # only append when i is valid, to avoid duplicates\n",
    "        if i < n:\n",
    "            stack.append(i)\n",
    "    return result\n"
   ]
  },
  {
   "cell_type": "code",
   "execution_count": 8,
   "metadata": {},
   "outputs": [
    {
     "data": {
      "text/plain": [
       "[2, -1, 2]"
      ]
     },
     "execution_count": 8,
     "metadata": {},
     "output_type": "execute_result"
    }
   ],
   "source": [
    "nums = [1,2,1]\n",
    "nextGreaterElements(nums)"
   ]
  },
  {
   "cell_type": "markdown",
   "metadata": {},
   "source": [
    "<b> 907 sum of subarray minimums </b>\n",
    "\n",
    "Monotone again! find each element's previous less num's index, and next less num's index, using the index to calculate there is how many subarray that has this element as the minimum value. \n",
    "\n",
    "the first stack is a non-decreasing stack, p_value <= c_value. it finds the previous smaller or equal value, \n",
    "the second stack is a non-decreasing stack, p_value <= c_value. if finds the next stricktly smaller value\n",
    "\n",
    "the other way around is working too, see second part of code"
   ]
  },
  {
   "cell_type": "code",
   "execution_count": 9,
   "metadata": {},
   "outputs": [],
   "source": [
    "def sumSubarrayMins(A):\n",
    "    n = len(A)\n",
    "    mod = 10**9+7\n",
    "    prev_less, next_less = [-1]*n, [n]*n\n",
    "    \n",
    "    # find prev less num's index\n",
    "    stack = [] # save index, temp\n",
    "    for i in range(n):\n",
    "        # if A[stack[-1]]>=A[i] here, then next_less part should be strict condition, to avoid duplicates\n",
    "        while stack and A[stack[-1]] > A[i]:\n",
    "            # stack stores all the previous value\n",
    "            stack.pop() # pop all previous items that is > A[i]\n",
    "        if stack:\n",
    "            # not pop(), like [3,1,5,4] for 4 need to find 1, if pop, cant find 1 anymore\n",
    "            # find current item's prev less!\n",
    "            prev_less[i] = stack[-1]  # item i's previous less is current top of stack\n",
    "        stack.append(i)\n",
    "    \n",
    "    # find next_less num's index    \n",
    "    stack = []  # temp again\n",
    "    for i in range(n):\n",
    "        while stack and A[stack[-1]] > A[i]:\n",
    "            # find next less index for the items in the stack! \n",
    "            next_less[stack.pop()] = i\n",
    "        stack.append(i)\n",
    "    ans = 0\n",
    "    for i in range(n):\n",
    "        # this many different subarray: (i-prev_less[i])*(next_less[i]-i)  that has A[i] as its min value\n",
    "        ans += A[i]*(i-prev_less[i])*(next_less[i]-i)\n",
    "    return ans%mod"
   ]
  },
  {
   "cell_type": "code",
   "execution_count": 11,
   "metadata": {},
   "outputs": [
    {
     "data": {
      "text/plain": [
       "15"
      ]
     },
     "execution_count": 11,
     "metadata": {},
     "output_type": "execute_result"
    }
   ],
   "source": [
    "A = [3,1,4,1]\n",
    "sumSubarrayMins(A)"
   ]
  },
  {
   "cell_type": "markdown",
   "metadata": {},
   "source": [
    "the above using A[stack[-1]] > A[i], so for example [3,1,4,1], the prev_less is [-1,-1,1,1], (not strict for prev_less, see last 1). next_less is [1,4,3,4] (see all 1 has no next less value).  \n",
    "same if i use A[stack[-1]] >= A[i] for both while loop, for example [3,1,4,1], the prev_less would be [-1,-1,1,-1] (both 1 has no prev less value), next_less would be [1,3,3,4] (the first 1 has next less value)\n"
   ]
  },
  {
   "cell_type": "code",
   "execution_count": 12,
   "metadata": {},
   "outputs": [],
   "source": [
    "def sumSubarrayMins(A):\n",
    "    n = len(A)\n",
    "    mod = 10**9+7\n",
    "    prev_less, next_less = [-1]*n, [n]*n\n",
    "    \n",
    "    # find prev less num's index\n",
    "    stack = [] # save index, temp\n",
    "    for i in range(n):\n",
    "        # if A[stack[-1]]>=A[i] here, then next_less part should be strict condition, to avoid duplicates\n",
    "        while stack and A[stack[-1]] >= A[i]:\n",
    "            # stack stores all the previous value\n",
    "            stack.pop() # pop all previous items that is > A[i]\n",
    "        if stack:\n",
    "            # not pop(), like [3,1,5,4] for 4 need to find 1, if pop, cant find 1 anymore\n",
    "            # find current item's prev less!\n",
    "            prev_less[i] = stack[-1]  # item i's previous less is current top of stack\n",
    "        stack.append(i)\n",
    "    \n",
    "    # find next_less num's index    \n",
    "    stack = []  # temp again\n",
    "    for i in range(n):\n",
    "        while stack and A[stack[-1]] >= A[i]:\n",
    "            # find next less index for the items in the stack! \n",
    "            next_less[stack.pop()] = i\n",
    "        stack.append(i)\n",
    "    ans = 0\n",
    "    for i in range(n):\n",
    "        # this many different subarray: (i-prev_less[i])*(next_less[i]-i)  that has A[i] as its min value\n",
    "        ans += A[i]*(i-prev_less[i])*(next_less[i]-i)\n",
    "    return ans%mod"
   ]
  },
  {
   "cell_type": "code",
   "execution_count": 13,
   "metadata": {},
   "outputs": [
    {
     "data": {
      "text/plain": [
       "15"
      ]
     },
     "execution_count": 13,
     "metadata": {},
     "output_type": "execute_result"
    }
   ],
   "source": [
    "A = [3,1,4,1]\n",
    "sumSubarrayMins(A)"
   ]
  },
  {
   "cell_type": "markdown",
   "metadata": {},
   "source": [
    "Idea is using a monotonous non-descreasing stack to store the left boundary and right boundary where the number (each number) is the minimal number of the boundary range. Using the boundary index to calculate there are how may subarray that has this number as min value  \n",
    "So same idea as way 1, but more concise implementation  \n",
    "Adding 2 infinite value at the head and tail just to make sure the index 0 and len(array) are used  \n",
    "For example array [3,1,4,1]. => [ -inf, 3, 1, 4, 1, -inf ]  \n",
    "For 3: [ -inf, 3, 1].   3*( 1-0)*(2-1)  \n",
    "For 1: [inf, 1, inf].  1* (2-0) * (5-2)  \n",
    "For 4: [1, 4, 1]. 4* ( 3-2) *(4-3)  \n",
    "For 1: [1, 1, -inf ] 1*(4-2) *(5-4).   \n",
    "=> total 3+6+4+2 = 15"
   ]
  },
  {
   "cell_type": "code",
   "execution_count": 16,
   "metadata": {},
   "outputs": [],
   "source": [
    "def sumSubarrayMins(A):\n",
    "    res = 0\n",
    "    stack = [] # store index, the stack points to value non-descreasing\n",
    "    A = [float('-inf')] + A + [float('-inf')]\n",
    "    for i, n in enumerate(A):\n",
    "        while stack and A[stack[-1]] > n:\n",
    "            cur = stack.pop()\n",
    "            # stack[-1], curr, i\n",
    "            # stack[-1]: left boundary (include, stack[-1]<=cur value)\n",
    "            # i: right boundary (exclude, curr value > n)\n",
    "            res += A[cur] * (cur - stack[-1])*(i-cur)\n",
    "        stack.append(i)\n",
    "    return res%(10**9+7)"
   ]
  },
  {
   "cell_type": "code",
   "execution_count": 15,
   "metadata": {},
   "outputs": [
    {
     "data": {
      "text/plain": [
       "15"
      ]
     },
     "execution_count": 15,
     "metadata": {},
     "output_type": "execute_result"
    }
   ],
   "source": [
    "A = [3,1,4,1]\n",
    "sumSubarrayMins(A)"
   ]
  },
  {
   "cell_type": "markdown",
   "metadata": {},
   "source": [
    "<b> 901 online stock span </b>\n",
    "\n",
    "add a self.index to for better reference, treat the input as array  \n",
    "using index to calcuate the distance. self.index is the index of current item. \n",
    "find the previous larger item's index as left boundary."
   ]
  },
  {
   "cell_type": "code",
   "execution_count": 17,
   "metadata": {},
   "outputs": [],
   "source": [
    "class StockSpanner:\n",
    "\n",
    "    def __init__(self):\n",
    "        self.stack = [(0, float('inf'))]  # (index, value)\n",
    "        self.index = 0\n",
    "        \n",
    "\n",
    "    def next(self, price: int) -> int:\n",
    "        self.index+=1\n",
    "        # <= can deal with duplicated value\n",
    "        while self.stack and self.stack[-1][1] <= price:\n",
    "            self.stack.pop()\n",
    "        # previous large item's index, as left boundary\n",
    "        prev_large = self.stack[-1][0]\n",
    "        self.stack.append((self.index, price))\n",
    "        return self.index - prev_large"
   ]
  },
  {
   "cell_type": "code",
   "execution_count": 18,
   "metadata": {
    "scrolled": false
   },
   "outputs": [
    {
     "name": "stdout",
     "output_type": "stream",
     "text": [
      "1\n",
      "1\n",
      "1\n",
      "2\n",
      "1\n",
      "4\n",
      "6\n",
      "7\n"
     ]
    }
   ],
   "source": [
    "obj = StockSpanner()\n",
    "print(obj.next(100))\n",
    "print(obj.next(80))\n",
    "print(obj.next(60))\n",
    "print(obj.next(70))\n",
    "print(obj.next(60))\n",
    "print(obj.next(75))\n",
    "print(obj.next(85))\n",
    "print(obj.next(85))"
   ]
  },
  {
   "cell_type": "markdown",
   "metadata": {},
   "source": [
    "<b> 739 Daily Temperature </b>  \n",
    "\n",
    "When array[ stack[-1] ] < current value, then the value at stack[-1] find its next larger value\n",
    "\n",
    "NOTE: dont compare stack[-1] with v"
   ]
  },
  {
   "cell_type": "markdown",
   "metadata": {},
   "source": [
    "def dailyTemperatures( T) :\n",
    "    n = len(T)\n",
    "    stack = [] # save index\n",
    "    res = [0]*n\n",
    "\n",
    "    # find next larger value, get the distance\n",
    "    for i, v in enumerate(T):\n",
    "        # remember compare the actual value in T with V\n",
    "        while stack and T[stack[-1]]<v:\n",
    "            ind = stack.pop()\n",
    "            res[ind] = i-ind\n",
    "        stack.append(i)\n",
    "    return res"
   ]
  },
  {
   "cell_type": "code",
   "execution_count": 21,
   "metadata": {},
   "outputs": [
    {
     "data": {
      "text/plain": [
       "[1, 1, 4, 2, 1, 1, 0, 0]"
      ]
     },
     "execution_count": 21,
     "metadata": {},
     "output_type": "execute_result"
    }
   ],
   "source": [
    "T = [73, 74, 75, 71, 69, 72, 76, 73]\n",
    "dailyTemperatures(T)"
   ]
  },
  {
   "cell_type": "markdown",
   "metadata": {},
   "source": [
    "<b> 85 Maximal Rectangle </b>\n",
    "\n",
    "way 1: using the function defined in 84 Largest Rectangle in Histogram as helpfer function.  \n",
    "consider each row in the matrix as the new base of the histogram    \n",
    "for example:  \n",
    "[\n",
    "  [\"1\",\"0\",\"1\",\"0\",\"0\"],  \n",
    "  [\"1\",\"0\",\"1\",\"1\",\"1\"],  \n",
    "  [\"1\",\"1\",\"1\",\"1\",\"1\"],  \n",
    "  [\"1\",\"0\",\"0\",\"1\",\"0\"]  \n",
    "]  \n",
    "\n",
    "row 0 as base: height the histogram is [1, 0, 1, 0, 0]  \n",
    "row 1 as base: height the histogram is [2, 0, 2, 1, 1]  \n",
    "row 2 as base: height the histogram is [3, 1, 3, 2, 2]  \n",
    "row 4 as base: height the histogram is [4, 0, 0, 3, 0]  \n",
    "loop each row, using the helper function to calcuate the max rectangle for each histogram (row). get the max value"
   ]
  },
  {
   "cell_type": "code",
   "execution_count": 24,
   "metadata": {},
   "outputs": [],
   "source": [
    "def maximalRectangle(matrix):\n",
    "    \"\"\"using dynamic programming and monontone stack\"\"\"\n",
    "    def helper_get_max_hist(heights):\n",
    "        stack = [-1] # save index, used to calculate width\n",
    "        max_area = 0\n",
    "        for i in range(len(heights)):\n",
    "            while stack[-1]!=-1 and heights[stack[-1]]>=heights[i]:\n",
    "                h = heights[stack.pop()]\n",
    "                w = i - stack[-1]-1\n",
    "                max_area = max(max_area, h*w)\n",
    "            stack.append(i)\n",
    "        while stack[-1]!=-1:\n",
    "            h = heights[stack.pop()]\n",
    "            w = len(heights) - stack[-1]-1\n",
    "            max_area = max(max_area, h*w)\n",
    "        return max_area\n",
    "\n",
    "    if not matrix:\n",
    "        return 0\n",
    "    max_area = 0\n",
    "    dp = [0] * len(matrix[0]) # initiate a space for each column => height\n",
    "    for i in range(len(matrix)):\n",
    "        for j in range(len(matrix[0])):\n",
    "            # update the size of this row's histogram by using last row's histogram size\n",
    "            dp[j] = dp[j]+1 if matrix[i][j]==\"1\" else 0\n",
    "        # consider each row as the base of the histogram, get the max area of the sub histogram\n",
    "        # dp is the array representing size of each bar in a histogram\n",
    "        max_area = max(max_area, helper_get_max_hist(dp))\n",
    "\n",
    "    return max_area"
   ]
  },
  {
   "cell_type": "code",
   "execution_count": 25,
   "metadata": {},
   "outputs": [
    {
     "data": {
      "text/plain": [
       "6"
      ]
     },
     "execution_count": 25,
     "metadata": {},
     "output_type": "execute_result"
    }
   ],
   "source": [
    "matrix = [[\"1\",\"0\",\"1\",\"0\",\"0\"],\n",
    "  [\"1\",\"0\",\"1\",\"1\",\"1\"],\n",
    "  [\"1\",\"1\",\"1\",\"1\",\"1\"],\n",
    "  [\"1\",\"0\",\"0\",\"1\",\"0\"]]\n",
    "maximalRectangle(matrix)"
   ]
  },
  {
   "cell_type": "markdown",
   "metadata": {},
   "source": [
    "way 2, similar idea, loop each row, using each row as base, for each point at the row, at that position, get its left boundary, right boundary, height boundary, to calculate the area."
   ]
  },
  {
   "cell_type": "code",
   "execution_count": 26,
   "metadata": {},
   "outputs": [],
   "source": [
    "def maximalRectangle(matrix) -> int:\n",
    "    \"\"\"dynamic programming\"\"\"\n",
    "    if not matrix: return 0\n",
    "    m = len(matrix)\n",
    "    n = len(matrix[0])\n",
    "    left = [0]*n  # n columns, initial value:index 0?\n",
    "    right = [n]*n  # n columns, initial value:index n => out of boundry on purpose\n",
    "    height = [0]*n # n columns\n",
    "    max_area = 0\n",
    "\n",
    "    for i in range(m):\n",
    "        cur_left, cur_right = 0, n  # initial value is index\n",
    "        # cur_left: most recent index position from left where value is 1\n",
    "        # cur_right: most recent index position from right where value is 1\n",
    "        \n",
    "        # update height\n",
    "        for j in range(n):\n",
    "            if matrix[i][j]=='1':\n",
    "                height[j]+=1\n",
    "            else:\n",
    "                height[j] = 0\n",
    "        # update left\n",
    "        for j in range(n):\n",
    "            if matrix[i][j]=='1':\n",
    "                left[j] = max(left[j], cur_left)\n",
    "            else:\n",
    "                left[j]=0  # back to initial value\n",
    "                cur_left = j+1\n",
    "        # update right\n",
    "        for j in range(n-1, -1, -1):  # loop from right to left\n",
    "            if matrix[i][j]=='1':\n",
    "                right[j]=min(right[j], cur_right)\n",
    "            else:\n",
    "                right[j]=n # back to initial value\n",
    "                cur_right = j\n",
    "        for j in range(n):\n",
    "            max_area = max(max_area, height[j]*(right[j]-left[j]))\n",
    "\n",
    "    return max_area"
   ]
  },
  {
   "cell_type": "code",
   "execution_count": 27,
   "metadata": {},
   "outputs": [
    {
     "data": {
      "text/plain": [
       "6"
      ]
     },
     "execution_count": 27,
     "metadata": {},
     "output_type": "execute_result"
    }
   ],
   "source": [
    "matrix = [[\"1\",\"0\",\"1\",\"0\",\"0\"],\n",
    "  [\"1\",\"0\",\"1\",\"1\",\"1\"],\n",
    "  [\"1\",\"1\",\"1\",\"1\",\"1\"],\n",
    "  [\"1\",\"0\",\"0\",\"1\",\"0\"]]\n",
    "maximalRectangle(matrix)"
   ]
  },
  {
   "cell_type": "markdown",
   "metadata": {},
   "source": [
    "<b>1081 smallest subsequence of distinct characters </b>\n",
    "\n",
    "Find the index of last occurrence for each character.\n",
    "Use a stack to keep the characters for result.\n",
    "Loop on each character in the input string S,\n",
    "if the current character is smaller than the last character in the stack,\n",
    "and the last character exists in the following stream,\n",
    "we can pop the last character to get a smaller result."
   ]
  },
  {
   "cell_type": "code",
   "execution_count": 30,
   "metadata": {},
   "outputs": [],
   "source": [
    "def smallestSubsequence(text):\n",
    "    ind_dict = {c: i for i, c in enumerate(text)}\n",
    "    stack = [] # store actual character\n",
    "    for i, c in enumerate(text):\n",
    "        if c in stack: continue  # important step to avoid duplicates\n",
    "        # last char in stack is larger than current one, and the last char exist in later position, so feel free to pop it out\n",
    "        while stack and stack[-1]>c and ind_dict[stack[-1]]>i:\n",
    "            stack.pop()\n",
    "        stack.append(c)\n",
    "    return \"\".join(stack)\n",
    "                "
   ]
  },
  {
   "cell_type": "code",
   "execution_count": 29,
   "metadata": {},
   "outputs": [
    {
     "data": {
      "text/plain": [
       "'adbc'"
      ]
     },
     "execution_count": 29,
     "metadata": {},
     "output_type": "execute_result"
    }
   ],
   "source": [
    "text = \"cdadabcc\"\n",
    "smallestSubsequence(text)"
   ]
  },
  {
   "cell_type": "code",
   "execution_count": 32,
   "metadata": {},
   "outputs": [
    {
     "data": {
      "text/plain": [
       "'acdb'"
      ]
     },
     "execution_count": 32,
     "metadata": {},
     "output_type": "execute_result"
    }
   ],
   "source": [
    "text=\"cbacdcbc\"\n",
    "smallestSubsequence(text)"
   ]
  },
  {
   "cell_type": "markdown",
   "metadata": {},
   "source": [
    "<b> 402 remove k digits </b>\n",
    "\n",
    "how to determine which k digits to remove to make the left number the smallest.   \n",
    "monotone stack, saving the non-desreasing digits in the limited length, which will make the left number the smallest.\n",
    "after constructing the non-descreasing stack, it can happen that k is not used up yet. now the largest digits are all at the tail, so remove from the tail.  \n",
    "remember to remove leading zeros in the result"
   ]
  },
  {
   "cell_type": "code",
   "execution_count": 33,
   "metadata": {},
   "outputs": [],
   "source": [
    "def removeKdigits(num, k):\n",
    "    if k == len(num):\n",
    "        return \"0\"\n",
    "    stack =[]\n",
    "    for n in num:\n",
    "        # if stack[-1]>=n, wont get the \"112\" k=1 correctly\n",
    "        while k and stack and stack[-1]>n: \n",
    "            k -=1\n",
    "            stack.pop()\n",
    "        stack.append(n)\n",
    "    # like stack is ascending already, but k still not used up yet\n",
    "    if k:\n",
    "        stack = stack[:-k]\n",
    "    # prevent leading zero\n",
    "    return \"\".join(stack).lstrip(\"0\") or \"0\""
   ]
  },
  {
   "cell_type": "code",
   "execution_count": 35,
   "metadata": {},
   "outputs": [
    {
     "data": {
      "text/plain": [
       "'11'"
      ]
     },
     "execution_count": 35,
     "metadata": {},
     "output_type": "execute_result"
    }
   ],
   "source": [
    "num = \"112\"\n",
    "k = 1\n",
    "removeKdigits(num, k)"
   ]
  },
  {
   "cell_type": "markdown",
   "metadata": {},
   "source": [
    "<b> 132 pattern </b>\n",
    "\n",
    "for example [-1,3,2,0], an valid 132 could be [-1,2,0], that means the sequence no need to be subarray\n",
    "\n",
    "the idea here is the loop from the end of array.\n",
    "the value popped from stack is s3, the value that is larger then s3 to trigger it popping out is s2, now if there exist a s1 < s3, we can return True\n",
    "\n",
    "here s1 < s3 < s2"
   ]
  },
  {
   "cell_type": "code",
   "execution_count": 36,
   "metadata": {},
   "outputs": [],
   "source": [
    "def find132pattern(nums):\n",
    "    s3 = float('-inf')\n",
    "    stack = []  # save actual value\n",
    "    for i in range(len(nums)-1, -1, -1):\n",
    "        if nums[i] < s3: return True\n",
    "        # stack is non-increasing\n",
    "        while stack and stack[-1] < nums[i]:\n",
    "            # maximum candidate for s3 is always the recently popped number from the stack\n",
    "            s3 = stack.pop()\n",
    "            # nums[i] is the s2, so we got s2 and s3, next is to see if there is s1\n",
    "        stack.append(nums[i])\n",
    "    return False"
   ]
  },
  {
   "cell_type": "code",
   "execution_count": 37,
   "metadata": {},
   "outputs": [
    {
     "data": {
      "text/plain": [
       "True"
      ]
     },
     "execution_count": 37,
     "metadata": {},
     "output_type": "execute_result"
    }
   ],
   "source": [
    "nums= [-1,3,2,0]\n",
    "find132pattern(nums)"
   ]
  },
  {
   "cell_type": "markdown",
   "metadata": {},
   "source": [
    "<b> 239 sliding window maximum </b>\n",
    "\n",
    "monotone stack but using deque, smart to check index in the queue against the i-k value, to see if the index in queue is within valid window size or not\n",
    "\n",
    "using a deque as monotone stack to save possible max value,  \n",
    "should pop out the left most item in the stack then the window sliding over it already, it is no used anymore.\n",
    "\n",
    "the first element in the stack is always the max value in the window"
   ]
  },
  {
   "cell_type": "code",
   "execution_count": 38,
   "metadata": {},
   "outputs": [],
   "source": [
    "from collections import deque\n",
    "def maxSlidingWindow(nums, k):\n",
    "    d = deque()  # save index\n",
    "    result = []\n",
    "    for i, n in enumerate(nums):\n",
    "        while d and nums[d[-1]]<n:\n",
    "            # smaller number from previous position wont be the max number in the window where n exist, cz at least n will be the one\n",
    "            d.pop()\n",
    "        d.append(i)\n",
    "        # for every i, check if current deque's elements is in the k window or not\n",
    "        if d[0] == i-k:\n",
    "            # d[0] is not in the current k window\n",
    "            # like 2,3,4,5, k=3, i=5, 2 should not be included\n",
    "            d.popleft()\n",
    "        # first 0 - k-2 element should not be included\n",
    "        if i>=k-1:\n",
    "            result.append(nums[d[0]])\n",
    "    return result"
   ]
  },
  {
   "cell_type": "code",
   "execution_count": 39,
   "metadata": {},
   "outputs": [
    {
     "data": {
      "text/plain": [
       "[1, 1, 1, 1]"
      ]
     },
     "execution_count": 39,
     "metadata": {},
     "output_type": "execute_result"
    }
   ],
   "source": [
    "nums = [1,1,1,1,1,1]\n",
    "k = 3\n",
    "maxSlidingWindow(nums, k)"
   ]
  },
  {
   "cell_type": "code",
   "execution_count": 40,
   "metadata": {},
   "outputs": [
    {
     "data": {
      "text/plain": [
       "[]"
      ]
     },
     "execution_count": 40,
     "metadata": {},
     "output_type": "execute_result"
    }
   ],
   "source": [
    "nums = [1,2]\n",
    "k = 3\n",
    "maxSlidingWindow(nums, k)"
   ]
  }
 ],
 "metadata": {
  "kernelspec": {
   "display_name": "testground",
   "language": "python",
   "name": "testground"
  },
  "language_info": {
   "codemirror_mode": {
    "name": "ipython",
    "version": 3
   },
   "file_extension": ".py",
   "mimetype": "text/x-python",
   "name": "python",
   "nbconvert_exporter": "python",
   "pygments_lexer": "ipython3",
   "version": "3.8.3"
  }
 },
 "nbformat": 4,
 "nbformat_minor": 4
}
