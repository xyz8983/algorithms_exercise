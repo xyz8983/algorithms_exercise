{
 "cells": [
  {
   "cell_type": "markdown",
   "metadata": {},
   "source": [
    "<b>20.Valid Parentheses </b>. \n",
    "\n",
    "using stack. loop the array, if it is the start sign, put it in stack. if it is an end side, pop the stack to get the last item, compare with the correpsonding item's start sign. If not match, return False direclty, else contingue.  \n",
    "at the end, if the whole stack is empty, then True"
   ]
  },
  {
   "cell_type": "code",
   "execution_count": 4,
   "metadata": {},
   "outputs": [],
   "source": [
    "def isValid( s):\n",
    "    \"\"\"complexity O(N), search in keys is O(1), pop for list is O(1) too\"\"\"\n",
    "    mapping = {')': '(', '}': '{', ']': '['}\n",
    "    n = len(s)\n",
    "    if n%2==1:\n",
    "        return False\n",
    "    stack = []\n",
    "    for item in s:\n",
    "        # start of the parentheses\n",
    "        if item not in mapping.keys(): # adding start sign\n",
    "            stack.append(item)\n",
    "        else:\n",
    "            if (not stack) or (stack.pop()!=mapping[item]):\n",
    "                return False\n",
    "    return len(stack)==0  # in case any start sign does not have matching ending sign"
   ]
  },
  {
   "cell_type": "code",
   "execution_count": 2,
   "metadata": {},
   "outputs": [
    {
     "data": {
      "text/plain": [
       "True"
      ]
     },
     "execution_count": 2,
     "metadata": {},
     "output_type": "execute_result"
    }
   ],
   "source": [
    "s=\"()[]{}\"\n",
    "isValid( s)"
   ]
  },
  {
   "cell_type": "code",
   "execution_count": 3,
   "metadata": {},
   "outputs": [
    {
     "data": {
      "text/plain": [
       "False"
      ]
     },
     "execution_count": 3,
     "metadata": {},
     "output_type": "execute_result"
    }
   ],
   "source": [
    "s=\"((\"\n",
    "isValid( s)"
   ]
  },
  {
   "cell_type": "markdown",
   "metadata": {},
   "source": [
    "<b> 1249 Minimum Remove to Make Valid Parentheses </b>\n",
    "\n",
    "using stack to identify which ( does not have matching ending ). using remove set to find ending parenthese ) that does not have matching openning ("
   ]
  },
  {
   "cell_type": "code",
   "execution_count": 1,
   "metadata": {},
   "outputs": [],
   "source": [
    "def minRemoveToMakeValid(s: str):\n",
    "    \"\"\"O(N)\"\"\"\n",
    "    remove = set()\n",
    "    stack=[]\n",
    "    for i, c in enumerate(s):\n",
    "        if c=='(':\n",
    "            stack.append(i)\n",
    "        elif c==')':\n",
    "            if not stack:\n",
    "                remove.add(i) # a ) with no matching (\n",
    "            else:\n",
    "                stack.pop()\n",
    "    remove = remove | set(stack) # stack may have ( that does not have a matchig )\n",
    "    result = []\n",
    "    for i, c in enumerate(s):\n",
    "        if i not in remove:\n",
    "            result.append(c)\n",
    "    return \"\".join(result)"
   ]
  },
  {
   "cell_type": "code",
   "execution_count": 2,
   "metadata": {},
   "outputs": [
    {
     "data": {
      "text/plain": [
       "'lee(t(c)o)de'"
      ]
     },
     "execution_count": 2,
     "metadata": {},
     "output_type": "execute_result"
    }
   ],
   "source": [
    "s = \"lee(t(c)o)de)\"\n",
    "minRemoveToMakeValid(s)"
   ]
  },
  {
   "cell_type": "markdown",
   "metadata": {},
   "source": [
    "<b> 84 Largest Rectangle in Histogram </b>\n",
    "\n",
    "still not too clear how it works"
   ]
  },
  {
   "cell_type": "code",
   "execution_count": 3,
   "metadata": {},
   "outputs": [],
   "source": [
    "def largestRectangleArea(heights):\n",
    "    stack=[-1]  # store the index\n",
    "    max_area = 0\n",
    "    for i in range(len(heights)):\n",
    "        while stack[-1] != -1 and heights[stack[-1]]>=heights[i]:\n",
    "            h = heights[stack.pop()]\n",
    "            w = i-stack[-1]-1   # i is the next shorter height, so not included\n",
    "            max_area = max(max_area, h*w)\n",
    "        stack.append(i)\n",
    "    # after all the heights are in the stack\n",
    "    while stack[-1]!=-1:\n",
    "        # max_area = max(max_area, heights[stack.pop()]*(len(heights)-stack[-1]-1))  \n",
    "        # i now is len(heights)-1\n",
    "        max_area = max(max_area, heights[stack.pop()]*(i-stack[-1]))\n",
    "    return max_area"
   ]
  },
  {
   "cell_type": "code",
   "execution_count": 4,
   "metadata": {
    "scrolled": true
   },
   "outputs": [
    {
     "data": {
      "text/plain": [
       "10"
      ]
     },
     "execution_count": 4,
     "metadata": {},
     "output_type": "execute_result"
    }
   ],
   "source": [
    "heights = [2,1,5,6,2,3]\n",
    "largestRectangleArea(heights)"
   ]
  },
  {
   "cell_type": "markdown",
   "metadata": {},
   "source": [
    "there are other easier understanding ways, but too slow to pass all the tests, especially when the array is sorted"
   ]
  },
  {
   "cell_type": "code",
   "execution_count": 5,
   "metadata": {},
   "outputs": [],
   "source": [
    "def largestRectangleArea(heights):\n",
    "    \"\"\"divide and concur, make the problem into smaller problem\n",
    "        still too slow, avg case O(NlogN), worse case is O(N^2) if array is sorted\n",
    "    \"\"\"\n",
    "    max_area = 0\n",
    "    def helper(start, end):\n",
    "        nonlocal max_area\n",
    "        if start > end:\n",
    "            return\n",
    "        min_index = start\n",
    "        for i in range(start, end+1):\n",
    "            if heights[i]<heights[min_index]:\n",
    "                min_index = i \n",
    "        max_area = max(max_area, heights[min_index]*(end-start+1))\n",
    "        helper(start, min_index-1)\n",
    "        helper(min_index+1, end)\n",
    "\n",
    "    helper(0, len(heights)-1)\n",
    "    return max_area"
   ]
  },
  {
   "cell_type": "code",
   "execution_count": 6,
   "metadata": {},
   "outputs": [
    {
     "data": {
      "text/plain": [
       "10"
      ]
     },
     "execution_count": 6,
     "metadata": {},
     "output_type": "execute_result"
    }
   ],
   "source": [
    "heights = [2,1,5,6,2,3]\n",
    "largestRectangleArea(heights)"
   ]
  }
 ],
 "metadata": {
  "kernelspec": {
   "display_name": "testground",
   "language": "python",
   "name": "testground"
  },
  "language_info": {
   "codemirror_mode": {
    "name": "ipython",
    "version": 3
   },
   "file_extension": ".py",
   "mimetype": "text/x-python",
   "name": "python",
   "nbconvert_exporter": "python",
   "pygments_lexer": "ipython3",
   "version": "3.8.3"
  }
 },
 "nbformat": 4,
 "nbformat_minor": 4
}
