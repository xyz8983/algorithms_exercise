{
 "cells": [
  {
   "cell_type": "markdown",
   "metadata": {},
   "source": [
    "### Binary Search  \n",
    "half interval search, find the position of a target value within a sorted array. Compare the target value to the middle of the array/ ===> O(logN)\n",
    "\n",
    "When you see \"sorted\" array / matrix, and Kth. => consider if can use binary search\n"
   ]
  },
  {
   "cell_type": "markdown",
   "metadata": {},
   "source": [
    "<b> 287. Find the Duplicated Number </b>.   \n",
    "Binary Search: O(Nlog(N).   \n",
    "The array has n+1 integers, with range [1, n], so one element duplicated. Low = 1, high = n.  Count the items of the whole array to see which is <= mid, compare this count with mid. If count > mid, it means in the range of [1, mid] there are more than mid items in this range, so there must have duplicates in this range. High = mid. Else, which is count <=mid, the duplicates must appear in the other half, which is [mid+1, n]. Why? For range [mid + 1, n], if no duplicates, there are n-mid item. But in reality, it has n+1-count items (n+1 is the total length of array, count is the num of item in [1, mid] range) because count <= mid, so n+1-count >= n+1-mid, extra occurs in the range of [mid+1, n].. So low = mid + 1"
   ]
  },
  {
   "cell_type": "code",
   "execution_count": 1,
   "metadata": {},
   "outputs": [],
   "source": [
    "def findDuplicate(nums):\n",
    "    \"\"\"binary search, O(Nlog(N))\"\"\"\n",
    "    low = 1\n",
    "    high = len(nums) - 1 # which is n, because the array has n+1 integers, n = len - 1\n",
    "    # so binary search range: [1, n], the value range\n",
    "\n",
    "    while low < high:\n",
    "        mid = low + (high - low)//2\n",
    "        # find count of num which <= mid\n",
    "        if sum([i <= mid for i in nums]) > mid:\n",
    "            # the duplicat number is in the left half, suppose the sum should be == mid if no duplicate\n",
    "            high = mid\n",
    "        else:\n",
    "            # duplicate num is in the other half\n",
    "            low = mid + 1\n",
    "    return low   "
   ]
  },
  {
   "cell_type": "markdown",
   "metadata": {},
   "source": [
    "<b>easier way! </b>"
   ]
  },
  {
   "cell_type": "code",
   "execution_count": 1,
   "metadata": {},
   "outputs": [],
   "source": [
    " def findDuplicate(nums):\n",
    "    \"\"\"nLogn for sort, o(n) for looping, overall it is nlogn\"\"\"\n",
    "    nums.sort()\n",
    "    for i in range(1, len(nums)):\n",
    "        if nums[i]==nums[i-1]:\n",
    "            return nums[i]"
   ]
  },
  {
   "cell_type": "markdown",
   "metadata": {},
   "source": [
    "<b>153. Find Minimum in Rotated Sorted Array</b>\n",
    "\n",
    "Using binary search, need to find a <b>sorted array</b> here using <b>index</b> as the sorted array.  \n",
    "Low = 0, high = Len(array), but what to compare with mid is the tricky part here. Mid compares with item at index mid+1, mid - 1, to see if the ascending pattern breaks, if yes, min is found. If not, compare mid with either first or last item of the array, to determine how to move the low and high pointer. <b>NOTE: in this problem low= mid+1 or low = mid seems dose not matter.</b>"
   ]
  },
  {
   "cell_type": "code",
   "execution_count": 2,
   "metadata": {},
   "outputs": [],
   "source": [
    "def findMin(nums):\n",
    "    if not nums:\n",
    "        return None\n",
    "    if nums[0]<=nums[-1]:\n",
    "        return nums[0]\n",
    "    left, right = 0, len(nums)-1\n",
    "    while left < right:\n",
    "        mid = left + (right-left)//2\n",
    "        if nums[mid-1]>nums[mid]:  # key error? seems will get -1 and still works\n",
    "            return nums[mid]\n",
    "        elif nums[mid]>nums[mid+1]:\n",
    "            return nums[mid+1]\n",
    "        else:\n",
    "            if nums[0]<nums[mid]:\n",
    "                left = mid\n",
    "            else:\n",
    "                right = mid\n",
    "                "
   ]
  },
  {
   "cell_type": "markdown",
   "metadata": {},
   "source": [
    "another binary search way, seems more concise"
   ]
  },
  {
   "cell_type": "code",
   "execution_count": 3,
   "metadata": {},
   "outputs": [],
   "source": [
    "def findMin(nums):\n",
    "    left, right = 0, len(nums)-1.  # sorted array for binary search is the index\n",
    "    while left < right:\n",
    "        if nums[left] < nums[right]:\n",
    "            return nums[left]  # then found the target sorted array\n",
    "        mid = (left+right)//2\n",
    "        if nums[left] > nums[mid]:\n",
    "            right = mid   # small exist between left and mid\n",
    "        else:\n",
    "            left = mid+1   # small exist between mid+1 and right  HERE if left = mid will get in dead loop\n",
    "    return nums[left]"
   ]
  },
  {
   "cell_type": "markdown",
   "metadata": {},
   "source": [
    "<b>74. Search a 2D Matrix</b>  \n",
    "\n",
    "Binary Search O(logM*N) where M,N is the size of the matrix\n",
    "Treat the whole matrix as an sorted array, (because of how the row and col are sorted in the matrix), low = 0, high  = m*n-1.  \n",
    "Get the mid, then using mid//n to get the row index, mid%n to get the col index, and compare to the target to determine how to move low and high."
   ]
  },
  {
   "cell_type": "code",
   "execution_count": 4,
   "metadata": {},
   "outputs": [],
   "source": [
    "def searchMatrix(matrix, target):\n",
    "    if not matrix or len(matrix[0])==0:\n",
    "        return False\n",
    "    m = len(matrix)\n",
    "    n = len(matrix[0])\n",
    "    low = 0\n",
    "    high = m*n-1   # the whole matrix can be treated as a sorted array for binary search\n",
    "    while low < high:\n",
    "        mid = low + (high-low)//2\n",
    "        i = mid//n\n",
    "        j = mid%n\n",
    "        if matrix[i][j] == target:\n",
    "            return True\n",
    "        elif matrix[i][j]>target:\n",
    "            high = mid\n",
    "        else:\n",
    "            low = mid + 1\n",
    "    return matrix[low//n][low%n] == target  ## cant directly return False because it can happen that low == high and not entering the while loop yet\n",
    "    # example: [[1]] target 1:  if directly return False without checking, the answer is not correct\n",
    "    \n",
    "    \n",
    "    ## compare with this one:\n",
    "def searchMatrix( matrix, target):\n",
    "    if not matrix or len(matrix[0])==0:\n",
    "        return False\n",
    "    m = len(matrix)\n",
    "    n = len(matrix[0])\n",
    "    low = 0\n",
    "    high = m*n-1   # the whole matrix can be treated as a sorted array for binary search\n",
    "    while low <= high:   # here low <= high, so even [[a]] one element edge case will enter the loop\n",
    "        mid = low + (high-low)//2\n",
    "        i = mid//n\n",
    "        j = mid%n\n",
    "        if matrix[i][j] == target:\n",
    "            return True\n",
    "        elif matrix[i][j]>target:\n",
    "            high = mid-1    # high need to -1 too to avoid dead loop\n",
    "        else:\n",
    "            low = mid + 1\n",
    "    return False             # able to directly return False since the edge case will enter the loop for checking\n",
    "        \n"
   ]
  },
  {
   "cell_type": "markdown",
   "metadata": {},
   "source": [
    "<b> 240.Search a 2D matrix II </b>. \n",
    "\n",
    "eliminate one row or colum at a time: O(M+N)  (M,N) is the size of the matrix  \n",
    "\n",
    "The matrix is sorted in row wide and columns wide. So if we start from top right. If the target value is greater than the top right value, then the entire row is ruled out, since the row is sorted in ascending order. If the target value is less than the top right value, then the entire column is ruled out, since the column is sorted in ascending order. So every time you can rule out a column or row, in this way the big o is O(M+N), for a M*N matrix. "
   ]
  },
  {
   "cell_type": "code",
   "execution_count": 5,
   "metadata": {},
   "outputs": [],
   "source": [
    "def searchMatrix(matrix, target):\n",
    "    if not matrix or len(matrix[0]) == 0:\n",
    "        return False\n",
    "    m = len(matrix)\n",
    "    n = len(matrix[0])\n",
    "    i, j = 0, n-1  # starting from the upper right corner element\n",
    "    while i<=m-1 and j>=0:\n",
    "        value = matrix[i][j]\n",
    "        if target > value:\n",
    "            i+=1  # eliminate the whole row\n",
    "        elif target < value:\n",
    "            j-=1\n",
    "        else:\n",
    "            return True\n",
    "    return False\n",
    "            "
   ]
  },
  {
   "cell_type": "markdown",
   "metadata": {},
   "source": [
    "<b>719.FindK-th Smallest Pair Distance </b>.  \n",
    "\n",
    "smart usage of Binary Search.  \n",
    "sort the array first, then calculating the Distance as the binary search range. Low is the min difference, high is the max difference, then calculate the mid. To determine the direction of low and high, k is used.  Need to count how many pairs has difference <= mid value. If count Is small than k, that means mid is too small, so increase low to mid+1. If the count is bigger than k, that means the mid value is too big, so decrease the high value to mid.\n",
    "\n",
    "Similar to problem 373,  NOTE: the mid = low + (high - low) //2 => mid is an int, so at the end when low and high meets, it is actually a valid combination in the array  \n",
    "\n",
    "To calculate the counts of pairs <=k, some smart tricks are used. Index pair (I, j). J is set to 0 and never reset to 0 again, but slides forwards forever, this reduces a lot of redundant and unnecessary calculations to determine what is the count of Paris ,greatly increase the speed!"
   ]
  },
  {
   "cell_type": "code",
   "execution_count": 6,
   "metadata": {},
   "outputs": [],
   "source": [
    "def count_distance(nums, mid):\n",
    "    \"\"\"\n",
    "    count how many pairs in nums has distance <= mid\n",
    "    O(n)\n",
    "    \"\"\"\n",
    "    j = 0 # this is smart, take advantage of where each time j stops, no need to calculate a lot previous steps which for sure will <=mid \n",
    "    n = len(nums)\n",
    "    pair = 0\n",
    "    for i in range(n):\n",
    "        while j<n and abs(nums[j]-nums[i])<=mid: \n",
    "            j+=1\n",
    "        pair += (j-i-1)  \n",
    "        # -1 because when break out of the while loop, j is in an invalid position, need to remove the extra 1 count off\n",
    "    return pair        \n",
    "    \n",
    "    \n",
    "    \n",
    "def smallestDistancePair(nums, k):  \n",
    "    n = len(nums)\n",
    "    nums.sort() # so the binary search can start   O(NlogN)\n",
    "    low = nums[1]-nums[0]  # wont have keyerror, because the question assumes len(nums)>=2\n",
    "    for i in range(n-1):\n",
    "        low = min(low, nums[i+1]-nums[i])  # using the smallest distance as the start of binary search\n",
    "    high = nums[-1] - nums[0]   # using the largest distance as the end of binary search\n",
    "    while low < high:\n",
    "        mid = low + (high-low)//2   # mid will be an integer, when low==high, they will stop at a valid distance value\n",
    "        if count_distance(nums, mid) < k:\n",
    "            # mid is too small => so low is too small\n",
    "            low = mid +1\n",
    "        else:\n",
    "            high = mid\n",
    "    return low\n"
   ]
  },
  {
   "cell_type": "code",
   "execution_count": 9,
   "metadata": {},
   "outputs": [
    {
     "data": {
      "text/plain": [
       "0"
      ]
     },
     "execution_count": 9,
     "metadata": {},
     "output_type": "execute_result"
    }
   ],
   "source": [
    "nums = [1,3,1]\n",
    "smallestDistancePair(nums, 0)"
   ]
  },
  {
   "cell_type": "markdown",
   "metadata": {},
   "source": [
    "<b> 378. Kth Smallest Element in a Sorted Matrix </b>"
   ]
  },
  {
   "cell_type": "markdown",
   "metadata": {},
   "source": [
    "<b>key point</b>: How to make sure the returned value is a valid value that exists in the matrix\n",
    "\n",
    "Using value range, not index range as typical, lo is the min value of matrix, hi is max value of matrix, calculate count to see how many items in the matrix no larger than the mid value. Compare this count with target k, if count < k, mid is too small, lo = mid+1, if count > k, mid is too large, hi = mid. If count = k, result = the largest smallest number kept in the [lo, mid] range.  \n",
    "<b>how to initiate the j value is a genius step here.</b>. \n",
    "Surprising to find that   \n",
    "While lo < hi. => related with hi = mid. => otherwise leading to an endless loop  \n",
    "While lo<= hi. => related with hi = mid-1"
   ]
  },
  {
   "cell_type": "code",
   "execution_count": 15,
   "metadata": {},
   "outputs": [],
   "source": [
    "def kthSmallest(matrix, k):\n",
    "    n = len(matrix)\n",
    "    low = matrix[0][0]    # because matrix's row and col are sorted\n",
    "    high = matrix[-1][-1]\n",
    "    while low < high:\n",
    "        mid = low + (high - low)//2\n",
    "        count = 0\n",
    "        j = n-1    # initialize j = n-1 here instead of initiate j to n-1 everytime inside of the for loop\n",
    "        # genius step! look at the matrix, colum is already sorted, if m[i][j]> mid, of course m[i][j+1]>mid\n",
    "        so_far_max = low\n",
    "        for i in range(n): # loop each row\n",
    "            while (j>=0) and (matrix[i][j]>mid): j-=1\n",
    "            if j >= 0:  # find the element of the row where starting to <= mid\n",
    "                count += (j+1)  # +1 because the index is 0 based, example j = 2, count should be 0, 1, 2 => 3\n",
    "                so_far_max = max(so_far_max, matrix[i][j])  # matrix[i][j] is the last one counted\n",
    "        if count == k:\n",
    "            return so_far_max\n",
    "        elif count < k:  # mid is too small, so low is too small\n",
    "            low = mid+1\n",
    "        else:\n",
    "            high = mid\n",
    "    return low\n",
    "            "
   ]
  },
  {
   "cell_type": "code",
   "execution_count": 16,
   "metadata": {},
   "outputs": [
    {
     "data": {
      "text/plain": [
       "13"
      ]
     },
     "execution_count": 16,
     "metadata": {},
     "output_type": "execute_result"
    }
   ],
   "source": [
    "matrix = [\n",
    "   [ 1,  5,  9],\n",
    "   [10, 11, 13],\n",
    "   [12, 13, 15]\n",
    "]\n",
    "k = 8\n",
    "kthSmallest(matrix, k)"
   ]
  },
  {
   "cell_type": "code",
   "execution_count": 18,
   "metadata": {},
   "outputs": [],
   "source": [
    "def kthSmallest_2(matrix, k):\n",
    "    # compare with above, here using while low <= hgih\n",
    "    n = len(matrix)\n",
    "    low = matrix[0][0]    # because matrix's row and col are sorted\n",
    "    high = matrix[-1][-1]\n",
    "    while low <= high:   # <= !! \n",
    "        mid = low + (high - low)//2\n",
    "        count = 0\n",
    "        j = n-1    # initialize j = n-1 here instead of initiate j to n-1 everytime inside of the for loop\n",
    "        # genius step! look at the matrix, colum is already sorted, if m[i][j]> mid, of course m[i][j+1]>mid\n",
    "        so_far_max = low\n",
    "        for i in range(n): # loop each row\n",
    "            while (j>=0) and (matrix[i][j]>mid): j-=1\n",
    "            if j >= 0:  # find the element of the row where starting to <= mid\n",
    "                count += (j+1)  # +1 because the index is 0 based, example j = 2, count should be 0, 1, 2 => 3\n",
    "                so_far_max = max(so_far_max, matrix[i][j])  # matrix[i][j] is the last one counted\n",
    "        if count == k:\n",
    "            return so_far_max\n",
    "        elif count < k:  # mid is too small, so low is too small\n",
    "            low = mid+1\n",
    "        else:\n",
    "            high = mid - 1\n",
    "    return low   # still cant be omitted, example [[1,2],[1,3]] k =1"
   ]
  },
  {
   "cell_type": "code",
   "execution_count": 19,
   "metadata": {},
   "outputs": [
    {
     "data": {
      "text/plain": [
       "13"
      ]
     },
     "execution_count": 19,
     "metadata": {},
     "output_type": "execute_result"
    }
   ],
   "source": [
    "matrix = [\n",
    "   [ 1,  5,  9],\n",
    "   [10, 11, 13],\n",
    "   [12, 13, 15]\n",
    "]\n",
    "k = 8\n",
    "kthSmallest_2(matrix, k)"
   ]
  },
  {
   "cell_type": "markdown",
   "metadata": {},
   "source": [
    "<b> a heapq way, easier to understand </b>  \n",
    "K loop, lenth of q is X = min(k, N), pop and push each takes O(logX)\n",
    "so total time complexity is O(Klog(X))"
   ]
  },
  {
   "cell_type": "code",
   "execution_count": null,
   "metadata": {},
   "outputs": [],
   "source": [
    "def kthSmallest(matrix, k):\n",
    "    # x = min(k, n). the total time complexity if O(Klog(X))\n",
    "    n = len(matrix)\n",
    "    q = [(matrix[0][j], 0, j) for j in range(min(k,n))]  # k element\n",
    "    while k > 0 and q: # O(K)\n",
    "        k -= 1\n",
    "        item, i, j = heapq.heappop(q)  # O(log(x))\n",
    "        if i+1 < n:\n",
    "            heapq.heappush(q, (matrix[i+1][j], i+1, j)) # O(log(x))\n",
    "    return item\n",
    "        "
   ]
  },
  {
   "cell_type": "markdown",
   "metadata": {},
   "source": [
    "<b>4. Median of Two Sorted Arrays </b>\n",
    "\n",
    "assumes len(nums1) <= len(nums2), find cut_x and cut_y that    \n",
    "1)cut_x+cut_y = ( len(nums1) + len(nums2) + 1)//2  => + 1 to ensure the median value is in the left part of cut  \n",
    "2)all left cut value <= all right cut value => max_left_x <= min_right_y, max_left_y <= min_right_x  \n",
    "The above is how the median value definition is. \n",
    "also cut_x = i meaning there are i elements in the left part\n",
    "so if cut_x = 0, meaning  {empty} | whole A\n",
    "if cut_x = len(nums1)  meaning  whole A | {empty}\n",
    "if max_left_x > min_right_y: cut_x too big, need to move left\n",
    "if max_left_y > min_right_x, cut_y too big => cut_x too small\n",
    "\n",
    "Here using while start <= end => < does not work because when start and end meet, cant directly return start element as median, still need to check like odd or even number. So better using <= to enter the loop do the check  \n",
    "the binary search range is [0, m], where the cutting bar can be put to nums1, thus cutting bar for nums 2 is derivable."
   ]
  },
  {
   "cell_type": "code",
   "execution_count": 20,
   "metadata": {},
   "outputs": [],
   "source": [
    "def findMedianSortedArrays(nums1, nums2):\n",
    "    m = len(nums1)\n",
    "    n = len(nums2)\n",
    "    if m > n :\n",
    "        findMedianSortedArrays(nums2, nums1)  # the following calculation is based on assumption m <=n\n",
    "    half = (m+n+1)//2  # +1 to ensure if total num is odd, the extra element is in left side\n",
    "    start, end = 0, m   # using the \"range\" as binary search range, 0-m is valid cutting point\n",
    "    # for nums1 with m element, there are m+1 different ways to put the separating bar\n",
    "    while start <= end:  ## NOTE!: here < does not work, will return None\n",
    "        cut_x = (start+end)//2  # where to put the cutting bar, if cut_x = 0, meaning nums_1's left part has 0 elements\n",
    "        cut_y = half-cut_x\n",
    "        \n",
    "        max_left_x = nums1[cut_x-1] if cut_x!=0 else float('-inf')\n",
    "        max_left_y = nums2[cut_y-1] if cut_y!=0 else float('-inf')\n",
    "        min_right_x = nums1[cut_x] if cut_x!=m else float('inf')\n",
    "        min_right_y = nums2[cut_y] if cut_y!=n else float('inf')\n",
    "        \n",
    "        if (max_left_x<=min_right_y) and (max_left_y <= min_right_x):\n",
    "            # find the rignt cut\n",
    "            max_left = max(max_left_x, max_left_y)\n",
    "            min_right = min(min_right_x, min_right_y)\n",
    "            if (m+n)%2==0:\n",
    "                # even number of elements\n",
    "                return (max_left+min_right)/2\n",
    "            else:\n",
    "                return max_left # because the (m+n+1)//2 make sure extra element is on the left\n",
    "        elif max_left_x>min_right_y:\n",
    "            end = cut_x-1\n",
    "        else:\n",
    "            start = cut_x+1\n",
    "            \n",
    "            "
   ]
  },
  {
   "cell_type": "code",
   "execution_count": 21,
   "metadata": {},
   "outputs": [
    {
     "data": {
      "text/plain": [
       "2"
      ]
     },
     "execution_count": 21,
     "metadata": {},
     "output_type": "execute_result"
    }
   ],
   "source": [
    "nums1 = [1, 3]\n",
    "nums2 = [2]\n",
    "findMedianSortedArrays(nums1, nums2)"
   ]
  },
  {
   "cell_type": "markdown",
   "metadata": {},
   "source": [
    "<b> 540. Single Element in a Sorted Arrray</b>  \n",
    "key word: sorted array, time complexity needs to be O(log N)  \n",
    "always let m start at the beginning of the pair, which is the even index\n",
    "if m_th value = m+1_th value, because m is even number, all pairs before m index must be real pairs. (suppose one is single, then another left is single two, which violates the constraints that only one num appear once). in this way, the special number appears after m+1_th position => start = m+2, other wise the special number appear before m_th position, so end = m"
   ]
  },
  {
   "cell_type": "code",
   "execution_count": 26,
   "metadata": {},
   "outputs": [],
   "source": [
    "def singleNonDuplicate_2(nums):\n",
    "    \"\"\"a more concise binary search way\"\"\"\n",
    "    l, r = 0, len(nums)-1\n",
    "    while l< r:\n",
    "        m = (l+r)//2\n",
    "        if m%2==1: m-=1  # always initiate m as even number  (why m-1 wont give key error, because m!=0, so m-1 always is valid index)\n",
    "        if nums[m]==nums[m+1]:\n",
    "            l = m+2 # because m is even number, [0, m-1] has m elements, even count, must occur twice, so unique value is in right part of the array\n",
    "        else:\n",
    "            r = m\n",
    "    return nums[l]"
   ]
  },
  {
   "cell_type": "code",
   "execution_count": 27,
   "metadata": {},
   "outputs": [
    {
     "data": {
      "text/plain": [
       "2"
      ]
     },
     "execution_count": 27,
     "metadata": {},
     "output_type": "execute_result"
    }
   ],
   "source": [
    "nums = [1,1,2,3,3,4,4,8,8]\n",
    "singleNonDuplicate_2(nums)"
   ]
  },
  {
   "cell_type": "code",
   "execution_count": 24,
   "metadata": {},
   "outputs": [],
   "source": [
    "def singleNonDuplicate_2(nums):\n",
    "    \"\"\"a binary search way, but not too concise\"\"\" \n",
    "    n = len(nums)\n",
    "    low, high = 0, n-1\n",
    "    while low < high:\n",
    "        mid = low + (high-low)//2\n",
    "        if (nums[mid]==nums[mid+1]):\n",
    "            if (n-1-mid-1)%2==0:\n",
    "                # target is on the left side\n",
    "                high = mid\n",
    "            else:\n",
    "                low = mid+1\n",
    "        elif nums[mid]==nums[mid-1]:  # will it occur key error?\n",
    "            if (n-1-mid)%2==0:\n",
    "                high = mid\n",
    "            else:\n",
    "                low = mid+1\n",
    "        else:\n",
    "            return nums[mid]\n",
    "    return nums[low]\n",
    "            \n",
    "            "
   ]
  },
  {
   "cell_type": "code",
   "execution_count": 25,
   "metadata": {},
   "outputs": [
    {
     "data": {
      "text/plain": [
       "2"
      ]
     },
     "execution_count": 25,
     "metadata": {},
     "output_type": "execute_result"
    }
   ],
   "source": [
    "nums = [1,1,2,3,3,4,4,8,8]\n",
    "singleNonDuplicate_2(nums)"
   ]
  },
  {
   "cell_type": "code",
   "execution_count": 23,
   "metadata": {},
   "outputs": [],
   "source": [
    "# good to use XOR, but only O(N)\n",
    "def singleNonDuplicate_3(nums):\n",
    "    \"\"\"O(N)\"\"\"\n",
    "    result = 0\n",
    "    for n in nums:\n",
    "        result = result ^ n\n",
    "    return result"
   ]
  },
  {
   "cell_type": "markdown",
   "metadata": {},
   "source": [
    "<b>33. Search in Rotated Sorted array </b>  \n",
    "time O(log N), space O(1). \n",
    "Binary search. Index as the search range. Mid value compare with target, if happens to match, return the index.  \n",
    "Otherwise need to locate which side is sorted array, which side is rotated array. then see if the target falls into the sorted side or rotated side.  \n",
    "The extra step of determining which side is sorted, which side is rotated, is the <b>key part </b> of this question\n"
   ]
  },
  {
   "cell_type": "code",
   "execution_count": 28,
   "metadata": {},
   "outputs": [],
   "source": [
    "def search(nums, target):\n",
    "    \"\"\"array sorted, time should be O(logN) => binary search\"\"\"\n",
    "\n",
    "    l = 0\n",
    "    r = len(nums)-1\n",
    "\n",
    "    while l <= r:\n",
    "        mid = l+(r-l)//2\n",
    "        if nums[mid] == target:\n",
    "            return mid\n",
    "        elif nums[mid] >= nums[l]:\n",
    "            # left part is not rotated\n",
    "            if target >= nums[l] and target < nums[mid]:\n",
    "                r = mid-1\n",
    "            else:\n",
    "                l = mid+1\n",
    "        else:\n",
    "            # left part is rotated, right part is not\n",
    "            if target <= nums[r] and target > nums[mid]:\n",
    "                l = mid+1\n",
    "            else:\n",
    "                r = mid-1\n",
    "    # because of checking while l<=r, no need to check nums[l]\n",
    "    return -1\n"
   ]
  },
  {
   "cell_type": "code",
   "execution_count": 29,
   "metadata": {},
   "outputs": [
    {
     "data": {
      "text/plain": [
       "4"
      ]
     },
     "execution_count": 29,
     "metadata": {},
     "output_type": "execute_result"
    }
   ],
   "source": [
    "nums = [4,5,6,7,0,1,2] \n",
    "target = 0\n",
    "search(nums,target)"
   ]
  },
  {
   "cell_type": "markdown",
   "metadata": {},
   "source": [
    "compare with problem 153:"
   ]
  },
  {
   "cell_type": "code",
   "execution_count": 2,
   "metadata": {},
   "outputs": [],
   "source": [
    "def findMin(nums):\n",
    "    if not nums:\n",
    "        return None\n",
    "    if nums[0]<=nums[-1]:\n",
    "        return nums[0]\n",
    "    left, right = 0, len(nums)-1\n",
    "    while left < right:\n",
    "        mid = left + (right-left)//2\n",
    "        if nums[mid-1]>nums[mid]:  # key error? seems will get -1 and still works\n",
    "            return nums[mid]\n",
    "        elif nums[mid]>nums[mid+1]:\n",
    "            return nums[mid+1]\n",
    "        else:\n",
    "            if nums[0]<nums[mid]:\n",
    "                left = mid\n",
    "            else:\n",
    "                right = mid\n",
    "                "
   ]
  },
  {
   "cell_type": "markdown",
   "metadata": {},
   "source": [
    "<b> 410 Split Array Largest Sum</b>    \n",
    "\n",
    "smart way! Range is the possible sum value, which is single max value from the array, and the total sum of the whole array.  \n",
    "\n",
    "Once mid gets you to a value that works, the binary search will keep going down till you can find the minimum value where this condition is met (i.e. m partitions). Any lower than this value and you will just have m-1 partitions, which won't work. So the binary search algorithm keeps pushing the mid value lower to just that right number where you barely make m partitions. This value has to be the sum of some contiguous elements of the array."
   ]
  },
  {
   "cell_type": "code",
   "execution_count": 4,
   "metadata": {},
   "outputs": [],
   "source": [
    "class Solution:\n",
    "    def valid_helper(self, target, nums, m):\n",
    "        # target is the potential result: the smallest largest sum among subarrays\n",
    "        count = 1  # counting the split number\n",
    "        total = 0\n",
    "        for n in nums:\n",
    "            total+=n\n",
    "            if total > target: # split number increase\n",
    "                total = n # total reintiate its value, so each subarray's sum is <=target\n",
    "                count+=1\n",
    "                if count > m: # meaning cant using m split to get the result to be target value\n",
    "                    return False\n",
    "        return True\n",
    "    def splitArray(self, nums, m):\n",
    "        \"\"\"binary search way\"\"\"\n",
    "        single_max = max(nums)\n",
    "        total_sum = sum(nums)\n",
    "        if m == 1:\n",
    "            return total_sum\n",
    "        l = single_max\n",
    "        r = total_sum\n",
    "        while l<=r:\n",
    "            mid = (l+r)//2\n",
    "            if self.valid_helper(mid, nums, m):\n",
    "                # the mid (target) value is a valid option, but lets keep pushing to get the samllest target value)\n",
    "                r = mid-1\n",
    "            else:\n",
    "                # target value is too small, still have elements not split into subarray\n",
    "                # increase l to incrase the mid (target) value\n",
    "                l = mid+1\n",
    "        return l\n"
   ]
  },
  {
   "cell_type": "code",
   "execution_count": 5,
   "metadata": {},
   "outputs": [
    {
     "data": {
      "text/plain": [
       "10"
      ]
     },
     "execution_count": 5,
     "metadata": {},
     "output_type": "execute_result"
    }
   ],
   "source": [
    "nums=[7,2,5,10,8]\n",
    "m=4\n",
    "a = Solution()\n",
    "a.splitArray(nums, m)"
   ]
  }
 ],
 "metadata": {
  "kernelspec": {
   "display_name": "testground",
   "language": "python",
   "name": "testground"
  },
  "language_info": {
   "codemirror_mode": {
    "name": "ipython",
    "version": 3
   },
   "file_extension": ".py",
   "mimetype": "text/x-python",
   "name": "python",
   "nbconvert_exporter": "python",
   "pygments_lexer": "ipython3",
   "version": "3.8.3"
  }
 },
 "nbformat": 4,
 "nbformat_minor": 4
}
