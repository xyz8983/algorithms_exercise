{
 "cells": [
  {
   "cell_type": "markdown",
   "metadata": {},
   "source": [
    "## Tree\n",
    "### typically Binary Tree\n",
    "<b>Binary Tree</b>:   \n",
    "a tree data structure in which each node has at most two children, which are referred to as the left child and the right child  \n",
    "<b>Binary Search Tree</b>:    \n",
    "also called an ordered or sorted binary tree, is a rooted binary tree whose internal nodes each store a key greater than all the keys in the node's left subtree and less than those in its right subtree.\n",
    "\n",
    "<b>Tree Traversal</b>:   \n",
    "<b>inorder</b>: just suitable for binary tree, not suitable to be extended to N-ary tree  \n",
    "traverse the left subtree => visit the root node => traverse the right subtree  \n",
    "root is in the middle => in  \n",
    "<b>preorder</b>:  \n",
    "visit the root node => traverse the left subtree => traverse the right subtree  \n",
    "root is visited first => pre  \n",
    "<b>postorder</b>:  \n",
    "traverse the left subtree => traverse the right subtree => visit the root node  \n",
    "root is visted last => post  \n",
    "<b>level-order</b>:  \n",
    "traverse the tree level by level  "
   ]
  },
  {
   "cell_type": "markdown",
   "metadata": {},
   "source": [
    "<b>199.Binary Tree Right Side View </b>  \n",
    "Keep track of level using the Len of list. So each level only add the right most value.    \n",
    "If Len(list) == level, meaning loop into a new level, and can add a new value, which is the rightest value  \n",
    "Traversal order is root, right, left, to make sure the rightest value of each level is first added.  "
   ]
  },
  {
   "cell_type": "code",
   "execution_count": 1,
   "metadata": {},
   "outputs": [],
   "source": [
    "# Definition for a binary tree node.\n",
    "# class TreeNode:\n",
    "#     def __init__(self, val=0, left=None, right=None):\n",
    "#         self.val = val\n",
    "#         self.left = left\n",
    "#         self.right = right"
   ]
  },
  {
   "cell_type": "code",
   "execution_count": 2,
   "metadata": {},
   "outputs": [],
   "source": [
    "def rightSideView(root):\n",
    "    \"\"\"DFS way\"\"\"\n",
    "    def helper(node, result, level):\n",
    "        if not node:\n",
    "            return\n",
    "        if len(result) == level:  # meaning entering into a new level of the tree\n",
    "            result.append(node.val)\n",
    "        helper(node.right, result, level+1)   # right first to ensure meet the requirement of uestion\n",
    "        helper(node.left, result, level+1)\n",
    "    result = []\n",
    "    helper(root, result, 0)\n",
    "    \n",
    "    return result"
   ]
  },
  {
   "cell_type": "markdown",
   "metadata": {},
   "source": [
    "BFS way consumes more space than DFS way above. both O(N) for visiting all the nodes exactly once"
   ]
  },
  {
   "cell_type": "code",
   "execution_count": 1,
   "metadata": {},
   "outputs": [],
   "source": [
    "from collections import deque\n",
    "def rightSideView(root):\n",
    "    \"\"\"BFS way, pre-order traversal\"\"\"\n",
    "    if not root:\n",
    "        return []\n",
    "    result = []\n",
    "    queue = deque([root])\n",
    "    while queue:\n",
    "        size = len(queue)\n",
    "        for _ in range(size): # for loop to ensure pop nodes from the same level (current level) => interesting way\n",
    "            node = queue.popleft()\n",
    "            val = node.val  # to store the last value in each level, which is the target val\n",
    "            if node.left:\n",
    "                queue.append(node.left)\n",
    "            if node.right:\n",
    "                queue.append(node.right)\n",
    "        result.append(val)\n",
    "    return result"
   ]
  },
  {
   "cell_type": "markdown",
   "metadata": {},
   "source": [
    "<b>108.Convert Sorted Array to Binary Search Tree </b>  \n",
    "still, inorder traversal: left, root, right, in this way the value is in ascending order.   \n",
    "So first get the middle item of the ascending list, make it the root node. all the items in middle item’s left will be in the left tree part, all the items in the middle items’s right will be in the right tree part.  \n",
    "<b>recursive</b>: \n",
    "<b>base case</b>: if array is empty, not valid, get none, otherwise keep getting middle item as root, and then make left tree, right tree  \n",
    "Time complexity: O(N) since we visit each node exactly once.\n",
    "Space complexity is the stack used for recursion, which for balanced tree should be O(logN)."
   ]
  },
  {
   "cell_type": "code",
   "execution_count": 3,
   "metadata": {},
   "outputs": [],
   "source": [
    "# Definition for a binary tree node.\n",
    "# class TreeNode:\n",
    "#     def __init__(self, val=0, left=None, right=None):\n",
    "#         self.val = val\n",
    "#         self.left = left\n",
    "#         self.right = right\n",
    "def sortedArrayToBST(nums):\n",
    "    if not nums:\n",
    "        return None\n",
    "    mid = len(nums)//2   # suppose 5 element, mid is 2, which is the third element, suppose 2 element, mid is 1, which is the second element\n",
    "    node = TreeNode(nums[mid])\n",
    "    node.left = sortedArrayToBST(nums[:mid])\n",
    "    node.right = sortedArrayToBST(nums[mid+1:])\n",
    "    return node"
   ]
  },
  {
   "cell_type": "markdown",
   "metadata": {},
   "source": [
    "<b> 96 unique binary search trees </b>   \n",
    "turns out to be a math and dynamic programming questions.\n",
    "G(n): given n, how many structurally unqiue BST can be created  \n",
    "F(i, n): having n node, use node i as the root, how many structurally unique BST can be created.  \n",
    "F(i, n ) = G(i-1) * G(n-i) => using i as the root, there are i-1 nodes smaller than i, and n-i nodes greater than i. so F(i, n) is same to how many unique BST for using i-1 nodes and n-i nodes.   \n",
    "easily we can get: G(n) is using each of the node as root, sum up all the unique BST number.  \n",
    "G(N)=F(1,n)+F(2,n)+F(3,n) + .... + F(n,n)  \n",
    "     = G(1-1)G(n-1) + G(2-1)G(n-2) + G(3-1)G(n-3)+...+G(n-1)G(0)   \n",
    "i's range is [1, n] included, since i represents the node used as root.\n",
    "\n",
    "for the base cases, G(0) = 1 (no nodes in the side), G(1)=1 (only one node in the side)\n",
    "    "
   ]
  },
  {
   "cell_type": "code",
   "execution_count": 3,
   "metadata": {},
   "outputs": [],
   "source": [
    "def numTrees(n):\n",
    "    G = [0]*(n+1) # dp space for G 0 to n, G[n] is the result we want\n",
    "    G[0] = 1\n",
    "    G[1] = 1\n",
    "    if n > 1:\n",
    "        # node_num represents different possible n\n",
    "        for node_num in range(2, n+1): \n",
    "            # i stands for the node used as root, value in the range of [1, node_num]\n",
    "            for i in range(1, node_num+1):\n",
    "                G[node_num] += G[i-1]*G[node_num-i]\n",
    "    return G[n]"
   ]
  },
  {
   "cell_type": "code",
   "execution_count": 4,
   "metadata": {},
   "outputs": [
    {
     "data": {
      "text/plain": [
       "5"
      ]
     },
     "execution_count": 4,
     "metadata": {},
     "output_type": "execute_result"
    }
   ],
   "source": [
    "numTrees(3)"
   ]
  },
  {
   "cell_type": "markdown",
   "metadata": {},
   "source": [
    "<b>95.Unique Binary Search Tree II </b>\n",
    "\n",
    "way 1 is using recursive with binary search tree’s features  \n",
    "binary search tree feature: [1,n], if i is root, then its left part is composed of [1,i-1], right part is composed of [i+1, n]  \n",
    "recursive feature, now [1, i-1], [i+1, n] are the same Q as original  \n"
   ]
  },
  {
   "cell_type": "code",
   "execution_count": 4,
   "metadata": {},
   "outputs": [],
   "source": [
    "def generateTrees(n):\n",
    "    \"\"\"\n",
    "    BST feature: [1,n], if i is root, then its left part is composed of [1,i-1], right part is composed of [i+1, n]\n",
    "    DFS, recursive, now [1, i-1], [i+1, n] are the same Q as original\n",
    "    \"\"\"\n",
    "    def helper(n_list):\n",
    "        if not n_list:\n",
    "            return [None]  # why []? => result is a list\n",
    "        result = []\n",
    "        for i in range(len(n_list)):\n",
    "            for left in helper(n_list[:i]):\n",
    "                for right in helper(n_list[i+1:]):\n",
    "                    node = TreeNode(n_list[i])\n",
    "                    node.left = left\n",
    "                    node.right = right\n",
    "                    result += [node]\n",
    "        return result\n",
    "    \n",
    "    if n == 0:\n",
    "        return []\n",
    "    return helper([i for i in range(1, n+1)])\n",
    "            "
   ]
  },
  {
   "cell_type": "markdown",
   "metadata": {},
   "source": [
    "way 2 is recursive with binary search tree’s features plus dynamic programming"
   ]
  },
  {
   "cell_type": "code",
   "execution_count": 5,
   "metadata": {},
   "outputs": [],
   "source": [
    "def generateTrees(n):\n",
    "    \"\"\"dynamic programming way!!\"\"\"\n",
    "    result = [[]*(n+1)]  # save space, length from 0 to n\n",
    "    if n ==0:\n",
    "        return result[0]\n",
    "    \n",
    "    result[0].append(None)   # None is a valid scenario for cases with 0 element\n",
    "    for length in range(1, n+1):  # range [1, n] how many lements in the tree\n",
    "        for i in range(length):  # range[0, length-1], can see i as number of nodes in the left tree\n",
    "            for left_tree in result[i]:  # left tree can have 0 to length-1 element\n",
    "                for right_tree in result[length-1-i]:   # total number of element is length, -1 for the root, -i for the left tree, leftover is the number of elements in right tree\n",
    "                    node = TreeNode(i+1)\n",
    "                    node.left = left_tree\n",
    "                    node.right = clone(right_tree, i+1)   # i+1 is the offset, result only save the structure\n",
    "                    result[length].append(node)\n",
    "    return result[n]\n",
    "\n",
    "def clone(node, offset):\n",
    "    if not node:\n",
    "        return None\n",
    "    new_node = TreeNode(node.val+offset)\n",
    "    new_node.left = clone(node.left, offset)\n",
    "    new_node.right = clone(node.right, offset)\n",
    "    return new_node"
   ]
  },
  {
   "cell_type": "markdown",
   "metadata": {},
   "source": [
    "<b>501.Find Mode in Binary Search Tree </b>  \n",
    "For BST, if travel inorder, prev_node <= curr_node<=next_node. Compare curr node with prev node, if they match, increase curr_count (find a duplicate), if they dont match, reset curr_count to 1.  \n",
    "have a global max_count var. compare max_count with curr_count in each traversal. If two counts match, that means find a result with same count, append value to result list. if curr_count > max_count, update max_count, reset result list to [new_node_val]   \n",
    "remember to initiate the prev_node_val to None and update the prev_node_val with current node value in each traversal"
   ]
  },
  {
   "cell_type": "code",
   "execution_count": 7,
   "metadata": {},
   "outputs": [],
   "source": [
    "def findMode(root):\n",
    "    \"\"\"\n",
    "    utilizing Binary search tree feature\n",
    "    if inorder, prev<=curr<=next node's value\n",
    "    \"\"\"\n",
    "    prev=None\n",
    "    curr_count = 0\n",
    "    max_count = 0\n",
    "    result = []\n",
    "    \n",
    "    def helper(node):\n",
    "        if not node:\n",
    "            return \n",
    "        helper(node.left)   # inorder traversal\n",
    "        \n",
    "        if node.val!=prev:\n",
    "            curr_count=1   # A NEW START\n",
    "        else:\n",
    "            curr_count+=1\n",
    "        if curr_count == max_count:\n",
    "            result.append(node.val)  # multiple mode\n",
    "        elif curr_count > max_count:\n",
    "            result = [node.val]   # reset result list\n",
    "            max_count = curr_count\n",
    "        prev = node.val\n",
    "        \n",
    "        helper(node.right)\n",
    "        \n",
    "    helper(root)\n",
    "    return result\n",
    "            "
   ]
  },
  {
   "cell_type": "markdown",
   "metadata": {},
   "source": [
    "<b>543.Diameter of Binary Tree </b>  \n",
    "for each node: \n",
    "    get the longest path of the given node: get max_left, max_right, then max (history_max, max_left+max_right), update the history_max  \n",
    "    get the longest single children path: get max_left, max_right,  max(max_left, max_right) + 1  \n",
    "start point: if node is null, return 0"
   ]
  },
  {
   "cell_type": "markdown",
   "metadata": {},
   "source": [
    "the helper function does two things  \n",
    "1.calculate the longest child path of a given node  \n",
    "2.updating the outside class variable (the target var) while traversal.  \n",
    "doing post order traversal, from bottom to top"
   ]
  },
  {
   "cell_type": "code",
   "execution_count": 8,
   "metadata": {},
   "outputs": [],
   "source": [
    "def diameterOfBinaryTree(root):\n",
    "    \"\"\"\n",
    "    DFS for everynode, calculate what its longest left and right children path\n",
    "    post order traversal\n",
    "    \"\"\"\n",
    "    max_legnth = 0\n",
    "    def helper(node):\n",
    "        # return max child length\n",
    "        if not node:\n",
    "            return 0\n",
    "        # post order traversal, from bottom to top\n",
    "        left = helper(node.left)\n",
    "        right = helper(node.right)\n",
    "        \n",
    "        # to get longest diameter path per given node\n",
    "        max_legnth = max(max_length, left+right)\n",
    "        \n",
    "        # to get longest child path\n",
    "        return max(left, right)+1   # +1 for the node itself\n",
    "    \n",
    "    helper(root)\n",
    "    return max_length"
   ]
  },
  {
   "cell_type": "markdown",
   "metadata": {},
   "source": [
    "<b> 124. binary tree maximum path sum </b>\n",
    "\n",
    "similar to problem <b>543</b>!\n",
    "\n",
    "one def helper function does two things: one is to update the global var of max path sum, another is to return the current max child branch value."
   ]
  },
  {
   "cell_type": "code",
   "execution_count": 8,
   "metadata": {},
   "outputs": [],
   "source": [
    "class TreeNode:\n",
    "    def __init__(self, val=0, left=None, right=None):\n",
    "        self.val = val\n",
    "        self.left = left\n",
    "        self.right = right\n",
    "class Solution:\n",
    "    def __init__(self):\n",
    "        self.max_value = float('-inf')\n",
    "    def maxPathSum(self, root):\n",
    "        \n",
    "        def helper(node):\n",
    "            \"\"\"do two things\"\"\"\n",
    "            if not node:\n",
    "                return 0\n",
    "            left = max(0, helper(node.left))  # if left branch's max value is negative, no need to add it\n",
    "            right = max(0, helper(node.right))\n",
    "            self.max_value = max(self.max_value, left+right+node.val)\n",
    "            return max(left, right)+node.val # which child path has largest value\n",
    "\n",
    "        helper(root)\n",
    "        return self.max_value\n",
    "    "
   ]
  },
  {
   "cell_type": "code",
   "execution_count": 9,
   "metadata": {},
   "outputs": [
    {
     "data": {
      "text/plain": [
       "6"
      ]
     },
     "execution_count": 9,
     "metadata": {},
     "output_type": "execute_result"
    }
   ],
   "source": [
    "root = TreeNode(1)\n",
    "root.left = TreeNode(2)\n",
    "root.right = TreeNode(3)\n",
    "a = Solution()\n",
    "a.maxPathSum(root)"
   ]
  },
  {
   "cell_type": "markdown",
   "metadata": {},
   "source": [
    "<b> 236. Lowest Common Ancestor of a binary tree </b>\n",
    "\n",
    "so smart!  \n",
    "If the current (sub)tree contains both p and q, then the function result is their LCA. If only one of them is in that subtree, then the result is that one of them. If neither are in that subtree, the result is None.\n",
    "\n",
    "post order traversal, from bottom up. first result is the answer so can ensure it gets the lowest common ancestor"
   ]
  },
  {
   "cell_type": "code",
   "execution_count": 10,
   "metadata": {},
   "outputs": [],
   "source": [
    "# Definition for a binary tree node.\n",
    "class TreeNode:\n",
    "    def __init__(self, x):\n",
    "        self.val = x\n",
    "        self.left = None\n",
    "        self.right = None\n",
    "def lowestCommonAncestor(root, p, q):\n",
    "    # LCA can be the root node itself\n",
    "    if root in (None,p, q):\n",
    "        return root\n",
    "    left = lowestCommonAncestor(root.left, p, q)\n",
    "    right = lowestCommonAncestor(root.right, p, q)\n",
    "    # left and right are all none empty, they must be p and q, the LCA found\n",
    "    if left and right:\n",
    "        return root\n",
    "    # either p, q, or None\n",
    "    else:\n",
    "        return left or right"
   ]
  },
  {
   "cell_type": "markdown",
   "metadata": {},
   "source": [
    "<b>102.Binary Tree Level Order Traversal </b>  \n",
    "\n",
    "key point is how to keep track of the level  \n",
    "way 1: len(result) == level, then you are entering a new level  \n",
    "way 2: two queues, one for current level, another keeps track of next level of nodes"
   ]
  },
  {
   "cell_type": "code",
   "execution_count": 6,
   "metadata": {},
   "outputs": [],
   "source": [
    "def levelOrder(root):\n",
    "    \"\"\"DFS, using level and len of result to control where to add\n",
    "        pre-order traversal\n",
    "    \"\"\"\n",
    "    def helper(node, level):\n",
    "        if not node:\n",
    "            return\n",
    "        if len(result) == level:   # meaning need to add a new [] to save that level\n",
    "            result.append([node.val])\n",
    "        else:\n",
    "            result[level].append(node.val)\n",
    "        helper(node.left, level+1)\n",
    "        helper(node.right,level+1)\n",
    "    result = []\n",
    "    helper(root, 0)\n",
    "    return result"
   ]
  },
  {
   "cell_type": "code",
   "execution_count": 10,
   "metadata": {},
   "outputs": [],
   "source": [
    "from collections import deque\n",
    "def levelOrder_2(root):\n",
    "    \"\"\"BFS O(N)\"\"\"\n",
    "    queue = deque([(root, 0)])\n",
    "    result = []\n",
    "    while queue:\n",
    "        node, level = queue.popleft()\n",
    "        if len(result) == level:   # a new level should be added to the result\n",
    "            result.append([])  # create a space in result to save that new level\n",
    "        result[level].append(node.val)\n",
    "        if node.left:\n",
    "            queue.append((node.left, level+1))\n",
    "        if node.right:\n",
    "            queue.append((node.right, level+1))\n",
    "    return result\n",
    "            \n",
    "    "
   ]
  },
  {
   "cell_type": "code",
   "execution_count": 11,
   "metadata": {},
   "outputs": [],
   "source": [
    "def levelOrder_3(root):\n",
    "    \"\"\"BFS, but dont pop item from queue\"\"\"\n",
    "    if not root:\n",
    "        return []\n",
    "    result = []\n",
    "    queue = [root]\n",
    "    while queue:\n",
    "        next_queue = []\n",
    "        result.append([])  # create a new space to save item from queue => current queue\n",
    "        for node in queue:  # loop over current queue, which has nodes of the same levle\n",
    "            result[-1].append(node.val)  # -1 locates to the last[] added to the result\n",
    "            if node.left:\n",
    "                next_queue.append(node.left)\n",
    "            if node.right:\n",
    "                next_queue.append(node.right)\n",
    "        queue= next_queue   # update the queue, to go to next level of nodes\n",
    "    return result\n",
    "        \n",
    "             \n",
    "        "
   ]
  },
  {
   "cell_type": "markdown",
   "metadata": {},
   "source": [
    "another breath first search but no need to pass a next_queue var"
   ]
  },
  {
   "cell_type": "code",
   "execution_count": 5,
   "metadata": {},
   "outputs": [],
   "source": [
    "from collections import deque\n",
    "def levelOrder(root):\n",
    "    \"\"\"dFS\"\"\"\n",
    "\n",
    "    if not root:\n",
    "        return []\n",
    "    result = []\n",
    "    queue = deque([root])\n",
    "    while queue:\n",
    "        size = len(queue) # using this size to determine the next level nodes to pop out\n",
    "        result.append([])\n",
    "        for _ in range(size):\n",
    "            node = queue.popleft()\n",
    "            result[-1].append(node.val)\n",
    "            if node.left:\n",
    "                queue.append(node.left)\n",
    "            if node.right:\n",
    "                queue.append(node.right)\n",
    "    return result"
   ]
  },
  {
   "cell_type": "markdown",
   "metadata": {},
   "source": [
    "<b>Binary Tree Level Order Traversal II </b>   \n",
    "way 1: this question can use the same methods above, but return the reversed result list  \n",
    "way 2: using special data structure to avoid reverse"
   ]
  },
  {
   "cell_type": "code",
   "execution_count": 1,
   "metadata": {},
   "outputs": [],
   "source": [
    "from collections import deque\n",
    "def levelOrderBottom(root):\n",
    "    if not root:\n",
    "        return []\n",
    "    queue = [root]\n",
    "    result = deque()\n",
    "    while queue:\n",
    "        next_queue = []\n",
    "        result.appendleft([])  # add a new [] but to the left => so make latter level comes first\n",
    "        for node in queue:\n",
    "            result[0].append(node.val)   # here result[0] compare to result[-1]\n",
    "            if node.left:\n",
    "                next_queue.append(node.left)\n",
    "            if node.right:\n",
    "                next_queue.append(node.right)\n",
    "        queue = next_queue\n",
    "    return result\n",
    "            "
   ]
  },
  {
   "cell_type": "markdown",
   "metadata": {},
   "source": [
    "<b>103. binary tree zigzag level order traversal </b> \n",
    "\n",
    "very similar to question <b>102</b>  \n",
    "here the way 1 corresponding to 102's way 3:\n",
    "\n",
    "visit the nodes level by level, if the level is an odd level, revese the value  \n",
    "how to update the next queue is the same as 102, breath first search. but how to save the value into result is where the zigzag happenning"
   ]
  },
  {
   "cell_type": "code",
   "execution_count": null,
   "metadata": {},
   "outputs": [],
   "source": [
    "class Solution:\n",
    "    def zigzagLevelOrder(root):\n",
    "        if not root:\n",
    "            return []\n",
    "        result = []\n",
    "        queue = [(root, 0)]\n",
    "        while queue:\n",
    "            next_queue = []\n",
    "            for node, level in queue:\n",
    "                if len(result)==level:\n",
    "                    result.append([])\n",
    "                result[level].append(node.val)\n",
    "                if node.left:\n",
    "                    next_queue.append((node.left, level+1))\n",
    "                if node.right:\n",
    "                    next_queue.append((node.right, level+1))\n",
    "            if level%2==1:\n",
    "                # from right to left\n",
    "                result[level] = result[level][::-1]\n",
    "            queue = next_queue\n",
    " \n",
    "        return result"
   ]
  },
  {
   "cell_type": "markdown",
   "metadata": {},
   "source": [
    "way 2 corresponding to <b>102</b>'s way 1, DFS way  \n",
    "\n",
    "how to loop through each node is the same: DFS, preorder, node => left => right.   \n",
    "how to save the result into the result list is different depending on what level the node is in. => where the deque.appendleft() is used\n"
   ]
  },
  {
   "cell_type": "code",
   "execution_count": 23,
   "metadata": {},
   "outputs": [],
   "source": [
    "def zigzagLevelOrder(root):\n",
    "    def helper(node, level):\n",
    "        if not node:\n",
    "            return\n",
    "        if len(result) == level:\n",
    "            result.append(deque([node.val]))\n",
    "        else:\n",
    "            if level%2==0:\n",
    "                # result is from left to right\n",
    "                result[level].append(node.val)\n",
    "            else:\n",
    "                # result should be from right to left\n",
    "                result[level].appendleft(node.val)\n",
    "        # the preorder traversal of DFS is not changed\n",
    "        helper(node.left, level+1)\n",
    "        helper(node.right, level+1)\n",
    "\n",
    "    result = []  # a list of deque\n",
    "    helper(root, 0)\n",
    "    return result\n",
    "        "
   ]
  },
  {
   "cell_type": "markdown",
   "metadata": {},
   "source": [
    "<b> 733 Flood hill </b>  \n",
    "\n",
    "similar as the question: number of islands, but simpler. no need to loop the entire array, only need to start at the [sr][sc] point"
   ]
  },
  {
   "cell_type": "code",
   "execution_count": 11,
   "metadata": {},
   "outputs": [],
   "source": [
    "def floodFill(image, sr, sc, newColor):\n",
    "    \"\"\"similar as number of islands question\"\"\"\n",
    "\n",
    "    def helper(i, j):\n",
    "        # index out of bound or \n",
    "        if i<0 or j<0 or i>=n or j>=m or image[i][j]!=color:\n",
    "            return None\n",
    "        image[i][j] = newColor\n",
    "        helper(i+1, j)\n",
    "        helper(i-1, j)\n",
    "        helper(i, j+1)\n",
    "        helper(i, j-1)\n",
    "\n",
    "    n = len(image)\n",
    "    if n == 0: return image\n",
    "    m = len(image[0])\n",
    "    if m == 0: return image\n",
    "    color = image[sr][sc]\n",
    "    if newColor == color: return image\n",
    "    # only need to check from the point [sr][sc], no need to loop entire array\n",
    "    helper(sr, sc)\n",
    "    return image\n"
   ]
  },
  {
   "cell_type": "code",
   "execution_count": 12,
   "metadata": {},
   "outputs": [
    {
     "data": {
      "text/plain": [
       "[[2, 2, 2], [2, 2, 0], [2, 0, 1]]"
      ]
     },
     "execution_count": 12,
     "metadata": {},
     "output_type": "execute_result"
    }
   ],
   "source": [
    "image = [[1,1,1],[1,1,0],[1,0,1]]\n",
    "sr = 1\n",
    "sc = 1 \n",
    "newColor = 2\n",
    "floodFill(image, sr, sc, newColor)"
   ]
  },
  {
   "cell_type": "markdown",
   "metadata": {},
   "source": [
    "<b> 98 validate binary search tree</b>  \n",
    "\n",
    "<b>way one </b>  => remember this one  \n",
    "using float(-inf) and float(inf) to initiate the range of value. if node's value is not within its corresponding range, then it is not a BST"
   ]
  },
  {
   "cell_type": "code",
   "execution_count": 13,
   "metadata": {},
   "outputs": [],
   "source": [
    "class TreeNode:\n",
    "    def __init__(self, val=0, left=None, right=None):\n",
    "        self.val = val\n",
    "        self.left = left\n",
    "        self.right = right\n",
    "def isValidBST(root):\n",
    "    \n",
    "    def helper(node, min_val, max_val):\n",
    "        # node.val should be within the range [min_val, max_val]\n",
    "        if not node:\n",
    "            return True\n",
    "        if node.val >= max_val or node.val <=min_val:\n",
    "            return False\n",
    "        return helper(node.left, min_val, node.val) and helper(node.right, node.val, max_val)\n",
    "    \n",
    "    return helper(root, float('-inf'), float('inf'))"
   ]
  },
  {
   "cell_type": "code",
   "execution_count": 15,
   "metadata": {},
   "outputs": [
    {
     "data": {
      "text/plain": [
       "True"
      ]
     },
     "execution_count": 15,
     "metadata": {},
     "output_type": "execute_result"
    }
   ],
   "source": [
    "root = TreeNode(2)\n",
    "root.left = TreeNode(1)\n",
    "root.right= TreeNode(3)\n",
    "isValidBST(root)"
   ]
  },
  {
   "cell_type": "markdown",
   "metadata": {},
   "source": [
    "<b> way two </b>  \n",
    "same as above but using stack and while loop"
   ]
  },
  {
   "cell_type": "code",
   "execution_count": 17,
   "metadata": {},
   "outputs": [],
   "source": [
    "def isValidBST(root):\n",
    "    \"\"\"\n",
    "    if it is binary search tree, should \n",
    "    get left < root < right\n",
    "    \"\"\"\n",
    "\n",
    "    if not root:\n",
    "        return True\n",
    "    stack = [(root, float('-inf'), float('inf'))]\n",
    "    while stack:\n",
    "        node, lower, higher = stack.pop()\n",
    "        if not node:\n",
    "            continue\n",
    "        val = node.val\n",
    "        # value not within the range to be a valid BST\n",
    "        if val>=higher or val<=lower:\n",
    "            return False\n",
    "        else:\n",
    "            stack.append((node.left, lower, val))\n",
    "            stack.append((node.right, val, higher))\n",
    "    return True"
   ]
  },
  {
   "cell_type": "markdown",
   "metadata": {},
   "source": [
    "<b>way three</b>.  \n",
    "inorder traversal, a bit harder to understand comparing with the way above\n",
    "\n",
    "the inorder var is the left boundry value for each node and it keeps updating"
   ]
  },
  {
   "cell_type": "code",
   "execution_count": 20,
   "metadata": {},
   "outputs": [],
   "source": [
    "def isValidBST(root):\n",
    "    stack, inorder = [], float('-inf')\n",
    "    while stack or root:\n",
    "        # go from top to bottom left\n",
    "        while root:\n",
    "            stack.append(root)\n",
    "            root=root.left\n",
    "        # first node is the very left bottom node, from there to the top\n",
    "        root = stack.pop()\n",
    "        if root.val <= inorder:\n",
    "            return False\n",
    "        inorder = root.val # new left boundary\n",
    "        root=root.right\n",
    "    return True"
   ]
  },
  {
   "cell_type": "code",
   "execution_count": 21,
   "metadata": {},
   "outputs": [
    {
     "data": {
      "text/plain": [
       "True"
      ]
     },
     "execution_count": 21,
     "metadata": {},
     "output_type": "execute_result"
    }
   ],
   "source": [
    "root = TreeNode(2)\n",
    "root.left = TreeNode(1)\n",
    "root.right= TreeNode(3)\n",
    "isValidBST(root)"
   ]
  },
  {
   "cell_type": "markdown",
   "metadata": {},
   "source": [
    "<b>101. Symmetric tree </b>\n",
    "\n",
    "recursive call! have a helper function compare left and right.   \n",
    "symmetric, so left's left vs right's right, left's right vs right's left"
   ]
  },
  {
   "cell_type": "code",
   "execution_count": 22,
   "metadata": {},
   "outputs": [],
   "source": [
    "def isSymmetric(root):\n",
    "    \"\"\"left should == right\"\"\"\n",
    "    def helper(left, right):\n",
    "        # compare two nodes\n",
    "        # all empty\n",
    "        if (not left) and (not right):\n",
    "            return True\n",
    "        # all non-empty\n",
    "        if left and right:\n",
    "            # NOTE: symmetric, so left's left vs right's right, left's right vs right's left\n",
    "            return (left.val==right.val) and helper(left.left, right.right) and helper(left.right, right.left)\n",
    "        # one empty one is not\n",
    "        return False\n",
    "\n",
    "    if not root:\n",
    "        return True\n",
    "    return helper(root.left, root.right)"
   ]
  },
  {
   "cell_type": "markdown",
   "metadata": {},
   "source": [
    "<b> 222 count complete tree nodes </b>\n",
    "\n",
    "complete tree: every level, except the last, is guaranteed to be completely filled. all nodes in the last level are as far left as possible"
   ]
  },
  {
   "cell_type": "markdown",
   "metadata": {},
   "source": [
    "<b> way 1 </b>  \n",
    "recursive. just loop through each node and count. O(N)"
   ]
  },
  {
   "cell_type": "code",
   "execution_count": 1,
   "metadata": {},
   "outputs": [],
   "source": [
    "def countNodes(root):\n",
    "    \"\"\"loop over each node\"\"\"\n",
    "    return 1 + self.countNodes(root.left)+self.countNodes(root.right) if root else 0"
   ]
  },
  {
   "cell_type": "markdown",
   "metadata": {},
   "source": [
    "<b> way 2</b>  \n",
    "iteration way to loop over all nodes. O(N)"
   ]
  },
  {
   "cell_type": "code",
   "execution_count": 2,
   "metadata": {},
   "outputs": [],
   "source": [
    "def countNodes(root):\n",
    "    \"\"\"level by level\"\"\"\n",
    "    if not root:\n",
    "        return 0\n",
    "    queue = deque([root])\n",
    "    result = 0\n",
    "    while queue:\n",
    "        node = queue.popleft()\n",
    "        result += 1\n",
    "        if node.left:\n",
    "            queue.append(node.left)\n",
    "        if node.right:\n",
    "            queue.append(node.right)\n",
    "    return result"
   ]
  },
  {
   "cell_type": "markdown",
   "metadata": {},
   "source": [
    "<b> way 3 </b>  \n",
    "fully leverage the \"complete tree\" attritubes!  \n",
    "for a complete tree with totally d level, the number of nodes excluding the last one is   \n",
    "2^0 + 2^1+...+2^(d-1) = 2^(d)-1\n",
    "the number in the last level can be varied from 1 to 2^d\n",
    "so first get to know how many levels the tree has, then find how many nodes there are in the last level.\n",
    "\n",
    "using Binary Search!\n"
   ]
  },
  {
   "cell_type": "code",
   "execution_count": null,
   "metadata": {},
   "outputs": [],
   "source": [
    "def countNodes(root):\n",
    "    \"\"\"level by level, leverage the complete tree attributes\"\"\"\n",
    "    def compute_depth(node):\n",
    "        \"\"\"return tree depth in O(d) time\n",
    "            using the left most path is enough to get the depth\n",
    "            here level start from 0, NOT 1, represent depth!\n",
    "        \"\"\"\n",
    "        d = 0\n",
    "        while node.left:\n",
    "            node = node.left\n",
    "            d += 1\n",
    "        return d\n",
    "\n",
    "    def exists(ind, depth, node):\n",
    "        \"\"\"\n",
    "        number of nodes in last level is no more than 2**depth, so the index range is from 0 to 2**depth -1 \n",
    "        \"\"\"\n",
    "        # define the binary search range\n",
    "        left, right = 0, 2**depth-1\n",
    "        for _ in range(depth):\n",
    "            pivot = left+(right-left)//2\n",
    "            if ind <= pivot:\n",
    "                node = node.left\n",
    "                right = pivot\n",
    "            else:\n",
    "                node = node.right\n",
    "                left = pivot + 1\n",
    "        # after going down to the last depth, the node is the position where the index should locate to, if the node is none, then the index does not exist\n",
    "        return node is not None\n",
    "\n",
    "    if not root:\n",
    "        return 0\n",
    "    depth = compute_depth(root)  # O(d)\n",
    "    if depth == 0:\n",
    "        return 1\n",
    "    # perform binary search to see how many nodes are there in the last level\n",
    "    # find the last node in the last level\n",
    "    left, right = 0, 2**depth-1 # 0 index based\n",
    "    while left <= right:\n",
    "        pivot = left+(right-left)//2\n",
    "        if exists(pivot, depth, root):\n",
    "            left = pivot+1\n",
    "        else:\n",
    "            right = pivot-1\n",
    "\n",
    "    # nodes number in all previous levels are 2**d-1\n",
    "    # when out of the while loop, left is off the last node by 1 position, so happen to work out here even though range is starting from 0\n",
    "    return (2**depth-1) + left        "
   ]
  },
  {
   "cell_type": "markdown",
   "metadata": {},
   "source": [
    "another easier understandable way => <b> a good one </b>.    \n",
    "compare the depth between left sub stree and right sub tree.  \n",
    "if it is equal, left sub tree is a perfect binary tree (fill with full), look into the sub tree of the right part.\n",
    "if it is not equal, stop point found, right sub stree's last level is the stop point.  \n",
    "time complexity O(logN * logN): LogN to find depth, need to run coutNodes for logN time, so LogN*logN. Or d for depth, get depth takes O(d), there is one finding depth action for every d, so O(d*d)"
   ]
  },
  {
   "cell_type": "code",
   "execution_count": 8,
   "metadata": {},
   "outputs": [],
   "source": [
    "class Solution:\n",
    "    def get_depth(self, node):\n",
    "        \"\"\"O(logN) every time\"\"\"\n",
    "        # only go through the left tree is enough\n",
    "        return 1+self.get_depth(node.left) if node else 0\n",
    "    def countNodes(self, root):\n",
    "        \"\"\"O(logN) every time\"\"\"\n",
    "        if not root:\n",
    "            return 0\n",
    "        left_depth = self.get_depth(root.left)\n",
    "        right_depth = self.get_depth(root.right)\n",
    "        if left_depth == right_depth:\n",
    "            # left tree is full, look at the right tree\n",
    "            # 1: the count for the root\n",
    "            # (2**left_depth-1): the node number for the full left tree\n",
    "            return 1 + (2**left_depth-1) + self.countNodes(root.right)\n",
    "        else:\n",
    "            # in the last level, the right tree is empty, the node only exist in the left sub tree\n",
    "            return 1 + (2**right_depth-1) + self.countNodes(root.left)"
   ]
  },
  {
   "cell_type": "markdown",
   "metadata": {},
   "source": [
    "<b> 951 flip equivalent binary tree </b>  \n",
    "YEAH I DID IT!  \n",
    "the question just require some number of flip operations, but all flipped, which is mirror tree. preorder traversal. When do comparision, the either they should be identical, or flipped on the left and right value, and the root value should be same\n",
    "\n",
    "time compleixty:  O(N) or O(min(N1, N2) to be more specific\n",
    "because the constraints of value are distinct, at most 2 out of the 4 recursive calls could go all the way down to the bottom"
   ]
  },
  {
   "cell_type": "code",
   "execution_count": 3,
   "metadata": {},
   "outputs": [],
   "source": [
    "def flipEquiv(root1, root2):\n",
    "    \"\"\"bottom up DFS => post order\"\"\"\n",
    "\n",
    "    def dfs_helper(node1, node2):\n",
    "        if not node1 and not node2:\n",
    "            return True\n",
    "        elif node1 and node2:\n",
    "            # root value should be the same\n",
    "            criteria_1 = node1.val == node2.val\n",
    "            # 2 and 3 are for comparing left and right value, shoud be either identical or flipped\n",
    "            # identical but not mirror\n",
    "            criteria_2 = (dfs_helper(node1.left, node2.left) and dfs_helper(node1.right, node2.right))\n",
    "            # mirror/ flipped\n",
    "            criteria_3 = (dfs_helper(node1.left, node2.right) and dfs_helper(node1.right, node2.left))\n",
    "            return criteria_1 and (criteria_2 or criteria_3)\n",
    "            # return (node1.val == node2.val) and ( (dfs_helper(node1.left, node2.left) and dfs_helper(node1.right, node2.right)) or (dfs_helper(node1.left, node2.right) and dfs_helper(node1.right, node2.left)))\n",
    "\n",
    "        else:\n",
    "            return False\n",
    "\n",
    "    if not root1 and not root2:\n",
    "        return True\n",
    "    return dfs_helper(root1, root2)"
   ]
  },
  {
   "cell_type": "markdown",
   "metadata": {},
   "source": [
    "<b> clean up a bit from above </b>"
   ]
  },
  {
   "cell_type": "code",
   "execution_count": 5,
   "metadata": {},
   "outputs": [],
   "source": [
    "\n",
    "def flipEquiv(root1, root2):\n",
    "    \"\"\"bottom up DFS => post order\"\"\"\n",
    "\n",
    "    if not root1 or not root2:\n",
    "        return root1==root2==None\n",
    "    identical = (self.flipEquiv(root1.left, root2.left) and self.flipEquiv(root1.right, root2.right))\n",
    "    mirror =  (self.flipEquiv(root1.left, root2.right) and self.flipEquiv(root1.right, root2.left))\n",
    "    return root1.val == root2.val and (identical or mirror)\n",
    "\n"
   ]
  },
  {
   "cell_type": "markdown",
   "metadata": {},
   "source": [
    "<b> 99 Recover Binary Search Tree </b>\n",
    "\n",
    "a very inspiring solution. sometimes simple algo works perfectly, not even need fancy one.  \n",
    "binary search tree: in in-order traversal you should get a sorted array, but since two nodes are mis-ordered, there will be two pair of nodes who do not satisfy pre_node val < cur_node val. Find the two node, and then swap their value.\n",
    "\n",
    "remember: TreeNode is a complex class, so var is a reference to it, which makes swapping value possible\n",
    "\n",
    "the original explanation post is [here](https://leetcode.com/problems/recover-binary-search-tree/discuss/32535/No-Fancy-Algorithm-just-Simple-and-Powerful-In-Order-Traversal)\n",
    "\n",
    "for example: 6,3,4,5,2 => 6,3 and 5,2 not satisfy the binary search tree definition. 6 is the first node, 2 is the second node, swap the value of the two, done"
   ]
  },
  {
   "cell_type": "code",
   "execution_count": null,
   "metadata": {},
   "outputs": [],
   "source": [
    "class Solution:\n",
    "    def __init__(self):\n",
    "        self.pre_node = TreeNode(float('-inf'))\n",
    "        self.first_node = None \n",
    "        self.second_node = None\n",
    "    def find_nodes(self, node):\n",
    "        \"\"\"find the two nodes that should swap back\n",
    "        in-order traversal, \n",
    "            first node is the one larger than parent node\n",
    "            second node is the one smaller than parent node\n",
    "        \"\"\"\n",
    "        if not node:\n",
    "            return\n",
    "        self.find_nodes(node.left)\n",
    "        \n",
    "        # find the two mistaken nodes\n",
    "        if not self.first_node and self.pre_node.val > node.val:\n",
    "            # find the first node\n",
    "            self.first_node = self.pre_node\n",
    "        # only assign second item when first item is found\n",
    "        # NOTE this not work: if not self.second_item and self.pre_node.val > node.val => because there will be two pair of unqualified nodes, we want the second pair\n",
    "        if self.first_node and self.pre_node.val > node.val:\n",
    "            # find the second node\n",
    "            self.second_node = node\n",
    "        self.pre_node = node\n",
    "        \n",
    "        self.find_nodes(node.right)\n",
    "        \n",
    "    def recoverTree(self, root: TreeNode) -> None:\n",
    "        \"\"\"\n",
    "        Do not return anything, modify root in-place instead.\n",
    "        \"\"\"\n",
    "        self.find_nodes(root)\n",
    "        self.first_node.val, self.second_node.val = self.second_node.val, self.first_node.val\n",
    "        "
   ]
  },
  {
   "cell_type": "markdown",
   "metadata": {},
   "source": [
    "<b> 105 Construct binary tree from preorder and inorder traversal </b>\n",
    "\n",
    "Recursion, using preorder to find next root, using inorder to separate the left and right subtree.   \n",
    "<b>Way 1</b> starting point:   \n",
    "the most intuitive one but not optimized. Pop(0) is O(N), list.index(val) is also O(N). Then need to do N time for the recursion call to construct each node. So O(N^2). Also passing the copy of sliced inorder list takes extra space.  "
   ]
  },
  {
   "cell_type": "code",
   "execution_count": 1,
   "metadata": {},
   "outputs": [],
   "source": [
    "def buildTree(preorder, inorder):\n",
    "    \"\"\"recursion, using preorder list to find root node, using indorder list to separate left tree and right tree\"\"\"\n",
    "    if inorder:\n",
    "        root_ind = inorder.index(preorder.pop(0))\n",
    "        root = TreeNode(inorder[root_ind])\n",
    "        root.left = self.buildTree(preorder, inorder[0:root_ind])\n",
    "        root.right = self.buildTree(preorder, inorder[root_ind+1:])\n",
    "        return root"
   ]
  },
  {
   "cell_type": "markdown",
   "metadata": {},
   "source": [
    "<b>Way 2</b>: some optimization. Quicker than way 1\n",
    "\n",
    "Instead of pop(0), can reverse the preorder list to use pop() which is only O(1). Instead of passing copy of sliced inorder list, can pass the index range. But list.index(val) is still used, which is O(N), also N recursion call. Still O(N^2), but space usage is much smaller\n",
    "\n",
    "preorder is shortening, while inorder list is intact"
   ]
  },
  {
   "cell_type": "code",
   "execution_count": 2,
   "metadata": {},
   "outputs": [],
   "source": [
    "def buildTree(preorder, inorder):\n",
    "    \"\"\"recursion, using preorder list to find root node, using indorder list to separate left tree and right tree\"\"\"\n",
    "    def helper(l, r):\n",
    "        # l and r are valid index, all included\n",
    "        if l > r:\n",
    "            return None\n",
    "\n",
    "        root_ind = inorder.index(preorder.pop())\n",
    "        root = TreeNode(inorder[root_ind])\n",
    "        root.left = helper(l, root_ind-1)\n",
    "        root.right = helper(root_ind+1, r)\n",
    "        return root\n",
    "\n",
    "    preorder.reverse()\n",
    "    l = len(inorder)\n",
    "    return helper(0, l-1)"
   ]
  },
  {
   "cell_type": "markdown",
   "metadata": {},
   "source": [
    "<b> Way 3</b>: further optimization to O(N)\n",
    "\n",
    "constructing a dictionary to avoid using list.index(val) method to locate root index and separate the left and right subtree, overall time is down to O(N) but have some extra space.\n"
   ]
  },
  {
   "cell_type": "code",
   "execution_count": 3,
   "metadata": {},
   "outputs": [],
   "source": [
    "def buildTree(preorder, inorder):\n",
    "    \"\"\"recursion, using preorder list to find root node, using indorder list to separate left tree and right tree\"\"\"\n",
    "    def helper(l, r):\n",
    "        # l and r are valid index, all included\n",
    "        if l > r:\n",
    "            return None\n",
    "\n",
    "        root_ind = ind_map[next(preorder)]\n",
    "        root = TreeNode(inorder[root_ind])\n",
    "        root.left = helper(l, root_ind-1)\n",
    "        root.right = helper(root_ind+1, r)\n",
    "        return root\n",
    "\n",
    "    preorder = iter(preorder)\n",
    "    ind_map = {}\n",
    "    for i, num in enumerate(inorder):\n",
    "        ind_map[num] = i\n",
    "    l = len(inorder)\n",
    "    return helper(0, l-1)"
   ]
  },
  {
   "cell_type": "markdown",
   "metadata": {},
   "source": [
    "<b> 106 construct binary tree from inorder and postorder traversal </b>\n",
    "\n",
    "same as above, but using postorder to find the root, then construct the tree in reversd postorder order, which is root, right, left. The item popping out of the postorder list is the root for the reversed order"
   ]
  },
  {
   "cell_type": "code",
   "execution_count": 4,
   "metadata": {},
   "outputs": [],
   "source": [
    "def buildTree(inorder, postorder):\n",
    "    \"\"\"recursive, postorder to find the root, inorder to separate the left and right subtree\"\"\"\n",
    "\n",
    "    def helper(l, r):\n",
    "        if l > r:\n",
    "            return None\n",
    "        # l, r are valid index for item in inorder list\n",
    "        root_ind = ind_map[postorder.pop()]\n",
    "        # reverse the postorder order to construct the tree\n",
    "        root = TreeNode(inorder[root_ind])\n",
    "        root.right = helper(root_ind+1, r)\n",
    "        root.left = helper(l, root_ind-1)\n",
    "        return root\n",
    "\n",
    "    ind_map = {}\n",
    "    for i, num in enumerate(inorder):\n",
    "        ind_map[num] = i\n",
    "    l=len(inorder)\n",
    "    return helper(0, l-1)"
   ]
  },
  {
   "cell_type": "markdown",
   "metadata": {},
   "source": [
    "further possible optimization: not using pop to modify the postorder list, but using index or other ways. It seems not good to touch/modify input value"
   ]
  },
  {
   "cell_type": "code",
   "execution_count": 5,
   "metadata": {},
   "outputs": [],
   "source": [
    "def buildTree(inorder, postorder):\n",
    "    \"\"\"recursive, postorder to find the root, inorder to separate the left and right subtree\"\"\"\n",
    "\n",
    "    def helper(l, r):\n",
    "        if l > r:\n",
    "            return None\n",
    "        # l, r are valid index for item in inorder list\n",
    "        root_val = postorder[length-1 - next(post_ind)]\n",
    "        root_ind = ind_map[root_val]\n",
    "        # reverse the postorder order to construct the tree\n",
    "        root = TreeNode(root_val)\n",
    "        root.right = helper(root_ind+1, r)\n",
    "        root.left = helper(l, root_ind-1)\n",
    "        return root\n",
    "\n",
    "    ind_map = {}\n",
    "    for i, num in enumerate(inorder):\n",
    "        ind_map[num] = i\n",
    "    length=len(inorder)\n",
    "    post_ind = iter(range(length))\n",
    "    return helper(0, length-1)"
   ]
  },
  {
   "cell_type": "markdown",
   "metadata": {},
   "source": [
    "<b> 257. Binary Tree Paths </b>\n",
    "\n",
    "the part that stucks me is what is the base case. if return [] wont work because ['2' + i for i in []] will return []. The solution below separate into 2 base case, one is root node is none (only check for root node!) the other is leave node (so leave node's left and right wont be checked using the root node case).  \n",
    "way 1: dfs way, base case is leave node and empty root node."
   ]
  },
  {
   "cell_type": "code",
   "execution_count": 1,
   "metadata": {},
   "outputs": [],
   "source": [
    "def binaryTreePaths(root):\n",
    "        \n",
    "    if not root: # this one only check root node, so only used once. leave node's left and right None wont reach here.\n",
    "        return []\n",
    "    if not root.left and not root.right:\n",
    "        # reaching the leave => the [] is checked once, only for root, not for leave\n",
    "        return [str(root.val)]\n",
    "\n",
    "    return [str(root.val)+'->'+i for i in binaryTreePaths(root.left)]+[str(root.val)+'->'+i for i in binaryTreePaths(root.right)]\n"
   ]
  },
  {
   "cell_type": "code",
   "execution_count": 2,
   "metadata": {},
   "outputs": [
    {
     "data": {
      "text/plain": [
       "[]"
      ]
     },
     "execution_count": 2,
     "metadata": {},
     "output_type": "execute_result"
    }
   ],
   "source": [
    " ['2' + i for i in []]  # see it will return [] not ['2']"
   ]
  },
  {
   "cell_type": "markdown",
   "metadata": {},
   "source": [
    "way 2: using stack and dfs.  \n",
    "why dfs: because stack.pop will return the most recently added node. so the first returned is the left most leave."
   ]
  },
  {
   "cell_type": "code",
   "execution_count": 3,
   "metadata": {},
   "outputs": [],
   "source": [
    "def binaryTreePaths(root):\n",
    "        \n",
    "    \"\"\"dfs + stack\"\"\"\n",
    "    if not root:\n",
    "        return []\n",
    "    res, stack = [], [(root, \"\")]\n",
    "    while stack:\n",
    "        node, s = stack.pop()\n",
    "        if not node.left and not node.right:\n",
    "            # a leave node\n",
    "            res.append(s+str(node.val))\n",
    "        if node.right:\n",
    "            stack.append((node.right, s+str(node.val)+'->'))\n",
    "        if node.left:\n",
    "            stack.append((node.left, s+str(node.val)+'->'))\n",
    "    return res"
   ]
  },
  {
   "cell_type": "markdown",
   "metadata": {},
   "source": [
    "way 3: using deque and bfs  \n",
    "why bfs: deque can popleft, which popping the node in the order added, => same as looping through node in each level from top to bottom."
   ]
  },
  {
   "cell_type": "code",
   "execution_count": 1,
   "metadata": {},
   "outputs": [],
   "source": [
    "from collections import deque\n",
    "\n",
    "def binaryTreePaths(root):\n",
    "    \"\"\"bfs + stack\"\"\"\n",
    "    if not root:\n",
    "        return []\n",
    "    res, stack = [], deque([(root, \"\")])\n",
    "    while stack:\n",
    "        node, s = stack.popleft()\n",
    "        if not node.left and not node.right:\n",
    "            # a leave node\n",
    "            res.append(s+str(node.val))\n",
    "        if node.right:\n",
    "            stack.append((node.right, s+str(node.val)+'->'))\n",
    "        if node.left:\n",
    "            stack.append((node.left, s+str(node.val)+'->'))\n",
    "    return res"
   ]
  },
  {
   "cell_type": "markdown",
   "metadata": {},
   "source": [
    "<b> 112 Path Sum </b>\n",
    "\n",
    "way 1: DFS + recursive, loop through all root to leaf path  \n",
    "edge case: [] 0 => still False, also targetSum and node value can be negative"
   ]
  },
  {
   "cell_type": "code",
   "execution_count": 2,
   "metadata": {},
   "outputs": [],
   "source": [
    "def hasPathSum(root, targetSum: int) -> bool:\n",
    "    \"\"\"DFS search, recursive too\"\"\"\n",
    "    # base case\n",
    "    if not root:\n",
    "        return False\n",
    "    if not root.left and not root.right and targetSum==root.val:\n",
    "        return True\n",
    "\n",
    "    return self.hasPathSum(root.left, targetSum-root.val) or self.hasPathSum(root.right, targetSum-root.val)"
   ]
  },
  {
   "cell_type": "markdown",
   "metadata": {},
   "source": [
    "way 2: DFS + stack, left tree, then right tree. It can stop early when find a solution"
   ]
  },
  {
   "cell_type": "code",
   "execution_count": 3,
   "metadata": {},
   "outputs": [],
   "source": [
    "def hasPathSum(root, targetSum: int) -> bool:\n",
    "    \"\"\"DFS search, using stack\"\"\"\n",
    "\n",
    "    if not root:\n",
    "        return False\n",
    "    stack = [(root, root.val)]\n",
    "    while stack:\n",
    "        node, val = stack.pop()\n",
    "        if not node.left and not node.right and val == targetSum:\n",
    "            return True\n",
    "        # since using pop, last one added will be used first\n",
    "        # so left tree will be traversed first\n",
    "        if node.right:\n",
    "            stack.append((node.right, node.right.val+val))\n",
    "        if node.left:\n",
    "            stack.append((node.left, node.left.val+val))\n",
    "    return False\n"
   ]
  },
  {
   "cell_type": "markdown",
   "metadata": {},
   "source": [
    "<b> 113 Paths Sum II </b>\n",
    "\n",
    "using the stack way as problem 112. ( the DFS recursive way works too, just with an extra helper function)"
   ]
  },
  {
   "cell_type": "code",
   "execution_count": 4,
   "metadata": {},
   "outputs": [],
   "source": [
    "def pathSum(root, targetSum):\n",
    "    if not root:\n",
    "        return []\n",
    "    res = []\n",
    "    stack = [(root, root.val, [])]\n",
    "    while stack:\n",
    "        node, val, path = stack.pop()\n",
    "        if not node.left and not node.right and val == targetSum:\n",
    "            path.append(node.val)\n",
    "            res.append(path)\n",
    "        if node.right:\n",
    "            stack.append((node.right, node.right.val+val, path+[node.val]))\n",
    "        if node.left:\n",
    "            stack.append((node.left, node.left.val+val, path+[node.val]))\n",
    "    return res"
   ]
  },
  {
   "cell_type": "markdown",
   "metadata": {},
   "source": [
    "can further reduce the space complexity by using backtracking. the solution above passing the [node.val] and create a new list everytime when adding a new node, it is space-consuming."
   ]
  },
  {
   "cell_type": "code",
   "execution_count": 5,
   "metadata": {},
   "outputs": [],
   "source": [
    "def pathSum(root, targetSum):\n",
    "    if not root:\n",
    "        return []\n",
    "    res = []\n",
    "    path = []\n",
    "    def helper(node, targetSum, path, res):\n",
    "        \"\"\"backtracking\"\"\"\n",
    "        if not node:\n",
    "            return\n",
    "        path.append(node.val) # start backtracking\n",
    "        if not node.left and not node.right and node.val==targetSum:\n",
    "            res.append(path[:]) # [] is passed in reference\n",
    "        else:\n",
    "            helper(node.left, targetSum - node.val, path, res)\n",
    "            helper(node.right, targetSum - node.val, path, res)\n",
    "        path.pop() # backtracking resume to previous status before recursion\n",
    "\n",
    "    helper(root, targetSum, path, res)\n",
    "    return res\n"
   ]
  },
  {
   "cell_type": "code",
   "execution_count": null,
   "metadata": {},
   "outputs": [],
   "source": []
  }
 ],
 "metadata": {
  "kernelspec": {
   "display_name": "testground",
   "language": "python",
   "name": "testground"
  },
  "language_info": {
   "codemirror_mode": {
    "name": "ipython",
    "version": 3
   },
   "file_extension": ".py",
   "mimetype": "text/x-python",
   "name": "python",
   "nbconvert_exporter": "python",
   "pygments_lexer": "ipython3",
   "version": "3.8.3"
  }
 },
 "nbformat": 4,
 "nbformat_minor": 4
}
