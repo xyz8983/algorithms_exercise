{
 "cells": [
  {
   "cell_type": "markdown",
   "metadata": {},
   "source": [
    "## Tree\n",
    "### typically Binary Tree\n",
    "<b>Binary Tree</b>:   \n",
    "a tree data structure in which each node has at most two children, which are referred to as the left child and the right child\n",
    "<b>Binary Search Tree</b>:    \n",
    "also called an ordered or sorted binary tree, is a rooted binary tree whose internal nodes each store a key greater than all the keys in the node's left subtree and less than those in its right subtree.\n",
    "\n",
    "<b>Tree Traversal</b>: \n",
    "<b>inorder</b>: just suitable for binary tree, not suitable to be extended to N-ary tree\n",
    "traverse the left subtree => visit the root node => traverse the right subtree  \n",
    "root is in the middle => in  \n",
    "<b>preorder</b>:  \n",
    "visit the root node => traverse the left subtree => traverse the right subtree  \n",
    "root is visited first => pre  \n",
    "<b>postorder</b>:  \n",
    "traverse the left subtree => traverse the right subtree => visit the root node  \n",
    "root is visted last => post  \n",
    "<b>level-order</b>:  \n",
    "traverse the tree level by level  "
   ]
  },
  {
   "cell_type": "markdown",
   "metadata": {},
   "source": [
    "<b>199.Binary Tree Right Side View </b>  \n",
    "Keep track of level using the Len of list. So each level only add the right most value.    \n",
    "If Len(list) == level, meaning loop into a new level, and can add a new value, which is the rightest value  \n",
    "Traversal order is root, right, left, to make sure the rightest value of each level is first added.  "
   ]
  },
  {
   "cell_type": "code",
   "execution_count": 1,
   "metadata": {},
   "outputs": [],
   "source": [
    "# Definition for a binary tree node.\n",
    "# class TreeNode:\n",
    "#     def __init__(self, val=0, left=None, right=None):\n",
    "#         self.val = val\n",
    "#         self.left = left\n",
    "#         self.right = right"
   ]
  },
  {
   "cell_type": "code",
   "execution_count": 2,
   "metadata": {},
   "outputs": [],
   "source": [
    "def rightSideView(root):\n",
    "    def helper(node, result, level):\n",
    "        if not node:\n",
    "            return\n",
    "        if len(result) == level:  # meaning entering into a new level of the tree\n",
    "            result.append(node.val)\n",
    "        helper(node.right, result, level+1)   # right first to ensure meet the requirement of uestion\n",
    "        helper(node.left, result, level+1)\n",
    "    result = []\n",
    "    helper(root, result, 0)\n",
    "    \n",
    "    return result"
   ]
  },
  {
   "cell_type": "markdown",
   "metadata": {},
   "source": [
    "<b>108.Convert Sorted Array to Binary Search Tree </b>  \n",
    "still, inorder traversal: left, root, right, in this way the value is in ascending order.   \n",
    "So first get the middle item of the ascending list, make it the root node. all the items in middle item’s left will be in the left tree part, all the items in the middle items’s right will be in the right tree part.  \n",
    "<b>recursive</b>: \n",
    "<b>base case</b>: if array is empty, not valid, get none, otherwise keep getting middle item as root, and then make left tree, right tree  \n",
    "Time complexity: O(N) since we visit each node exactly once.\n",
    "Space complexity is the stack used for recursion, which for balanced tree should be O(logN)."
   ]
  },
  {
   "cell_type": "code",
   "execution_count": 3,
   "metadata": {},
   "outputs": [],
   "source": [
    "# Definition for a binary tree node.\n",
    "# class TreeNode:\n",
    "#     def __init__(self, val=0, left=None, right=None):\n",
    "#         self.val = val\n",
    "#         self.left = left\n",
    "#         self.right = right\n",
    "def sortedArrayToBST(nums):\n",
    "    if not nums:\n",
    "        return None\n",
    "    mid = len(nums)//2   # suppose 5 element, mid is 2, which is the third element, suppose 2 element, mid is 1, which is the second element\n",
    "    node = TreeNode(nums[mid])\n",
    "    node.left = sortedArrayToBST(nums[:mid])\n",
    "    node.right = sortedArrayToBST(nums[mid+1:])\n",
    "    return node"
   ]
  },
  {
   "cell_type": "markdown",
   "metadata": {},
   "source": [
    "<b>95.Unique Binary Search Tree II </b>\n",
    "\n",
    "way 1 is using recursive with binary search tree’s features\n",
    "binary search tree feature: [1,n], if i is root, then its left part is composed of [1,i-1], right part is composed of [i+1, n]\n",
    "recursive feature, now [1, i-1], [i+1, n] are the same Q as original\n",
    "way 2 is recursive with binary search tree’s features plus dynamic programming"
   ]
  },
  {
   "cell_type": "code",
   "execution_count": 4,
   "metadata": {},
   "outputs": [],
   "source": [
    "def generateTrees(n):\n",
    "    \"\"\"\n",
    "    BST feature: [1,n], if i is root, then its left part is composed of [1,i-1], right part is composed of [i+1, n]\n",
    "    DFS, recursive, now [1, i-1], [i+1, n] are the same Q as original\n",
    "    \"\"\"\n",
    "    def helper(n_list):\n",
    "        if not n_list:\n",
    "            return [None]  # why []? => result is a list\n",
    "        result = []\n",
    "        for i in range(len(n_list)):\n",
    "            for left in helper(n_list[:i]):\n",
    "                for right in helper(n_list[i+1:]):\n",
    "                    node = TreeNode(n_list[i])\n",
    "                    node.left = left\n",
    "                    node.right = right\n",
    "                    result += [node]\n",
    "        return result\n",
    "    \n",
    "    if n == 0:\n",
    "        return []\n",
    "    return helper([i for i in range(1, n+1)])\n",
    "            "
   ]
  },
  {
   "cell_type": "code",
   "execution_count": 5,
   "metadata": {},
   "outputs": [],
   "source": [
    "def generateTrees(n):\n",
    "    \"\"\"dynamic programming way!!\"\"\"\n",
    "    result = [[]*(n+1)]  # save space, length from 0 to n\n",
    "    if n ==0:\n",
    "        return result[0]\n",
    "    \n",
    "    result[0].append(None)   # None is a valid scenario for cases with 0 element\n",
    "    for length in range(1, n+1):  # range [1, n] how many lements in the tree\n",
    "        for i in range(length):  # range[0, length-1]\n",
    "            for left_tree in result[i]:  # left tree can have 0 to length-1 element\n",
    "                for right_tree in result[length-1-i]:   # total number of element is length, -1 for the root, -i for the left tree, leftover is the number of elements in right tree\n",
    "                    node = TreeNode(i+1)\n",
    "                    node.left = left_tree\n",
    "                    node.right = clone(right_tree, i+1)   # i+1 is the offset, result only save the structure\n",
    "                    result[len].append(node)\n",
    "    return result[n]\n",
    "\n",
    "def clone(node, offset):\n",
    "    if not node:\n",
    "        return None\n",
    "    new_node = TreeNode(node.val+offset)\n",
    "    new_node.left = clone(node.left, offset)\n",
    "    new_node.right = clone(node.right, offset)\n",
    "    return new_node"
   ]
  },
  {
   "cell_type": "markdown",
   "metadata": {},
   "source": [
    "<b>501.Find Mode in Binary Search Tree </b>  \n",
    "For BST, if travel inorder, prev_node <= curr_node<=next_node. Compare curr node with prev node, if they match, increase curr_count (find a duplicate), if they dont match, reset curr_count to 1.  \n",
    "have a global max_count var. compare max_count with curr_count in each traversal. If two counts match, that means find a result with same count, append value to result list. if curr_count > max_count, update max_count, reset result list to [new_node_val]   \n",
    "remember to initiate the prev_node_val to None and update the prev_node_val with current node value in each traversal"
   ]
  },
  {
   "cell_type": "code",
   "execution_count": 7,
   "metadata": {},
   "outputs": [],
   "source": [
    "def findMode(root):\n",
    "    \"\"\"\n",
    "    utilizing Binary search tree feature\n",
    "    if inorder, prev<=curr<=next node's value\n",
    "    \"\"\"\n",
    "    prev=None\n",
    "    curr_count = 0\n",
    "    max_count = 0\n",
    "    result = []\n",
    "    \n",
    "    def helper(node):\n",
    "        if not node:\n",
    "            return \n",
    "        helper(node.left)   # inorder traversal\n",
    "        \n",
    "        if node.val!=prev:\n",
    "            curr_count=1   # A NEW START\n",
    "        else:\n",
    "            curr_count+=1\n",
    "        if curr_count == max_count:\n",
    "            result.append(node.val)  # multiple mode\n",
    "        elif curr_count > max_count:\n",
    "            result = [node.val]   # reset result list\n",
    "            max_count = curr_count\n",
    "        prev = node.val\n",
    "        \n",
    "        helper(node.right)\n",
    "        \n",
    "    helper(root)\n",
    "    return result\n",
    "            "
   ]
  },
  {
   "cell_type": "markdown",
   "metadata": {},
   "source": [
    "<b>543.Diameter of Binary Tree </b>  \n",
    "for each node: \n",
    "    get the longest path of the given node: get max_left, max_right, then max (history_max, max_left+max_right), update the history_max  \n",
    "    get the longest single children path: get max_left, max_right,  max(max_left, max_right) + 1  \n",
    "start point: if node is null, return 0"
   ]
  },
  {
   "cell_type": "markdown",
   "metadata": {},
   "source": [
    "the helper function does two things  \n",
    "1.calculate the longest child path of a given node\n",
    "2.updating the outside class variable (the target var) while traversal.  \n",
    "doing post order traversal, from bottom to top"
   ]
  },
  {
   "cell_type": "code",
   "execution_count": 8,
   "metadata": {},
   "outputs": [],
   "source": [
    "def diameterOfBinaryTree(root):\n",
    "    \"\"\"\n",
    "    DFS for everynode, calculate what its longest left and right children path\n",
    "    post order traversal\n",
    "    \"\"\"\n",
    "    max_legnth = 0\n",
    "    def helper(node):\n",
    "        if not node:\n",
    "            return 0\n",
    "        # post order traversal, from bottom to top\n",
    "        left = helper(node.left)\n",
    "        right = helper(node.right)\n",
    "        \n",
    "        # to get longest diameter path per given node\n",
    "        max_legnth = max(max_length, left+right)\n",
    "        \n",
    "        # to get longest child path\n",
    "        return max(left, right)+1   # +1 for the node itself\n",
    "    \n",
    "    helper(root)\n",
    "    return max_length"
   ]
  },
  {
   "cell_type": "markdown",
   "metadata": {},
   "source": [
    "<b>102.Binary Tree Level Order Traversal </b>  \n",
    "\n",
    "key point is how to keep track of the level  \n",
    "way 1: len(result) == level, then you are entering a new level  \n",
    "way 2: two queues, one for current level, another keeps track of next level of nodes"
   ]
  },
  {
   "cell_type": "code",
   "execution_count": 9,
   "metadata": {},
   "outputs": [],
   "source": [
    "def levelOrder(root):\n",
    "    \"\"\"DFS, using level and len of result to control where to add\"\"\"\n",
    "    def helper(node, result, level):\n",
    "        if not node:\n",
    "            return\n",
    "        if len(result) == level:   # meaning need to add a new [] to save that level\n",
    "            result.append([node.val])\n",
    "        else:\n",
    "            result[level].append(node.val)\n",
    "        helper(node.left, result, level+1)\n",
    "        helper(node.right, result, level+1)\n",
    "    result = []\n",
    "    helper(root, result, 0)\n",
    "    return result"
   ]
  },
  {
   "cell_type": "code",
   "execution_count": 10,
   "metadata": {},
   "outputs": [],
   "source": [
    "from collections import deque\n",
    "def levelOrder_2(root):\n",
    "    \"\"\"BFS O(N)\"\"\"\n",
    "    queue = deque([(root, 0)])\n",
    "    result = []\n",
    "    while queue:\n",
    "        node, level = queue.popleft()\n",
    "        if len(result) == level:   # a new level should be added to the result\n",
    "            result.append([])  # create a space in result to save that new level\n",
    "        result[level].append(node.val)\n",
    "        if node.left:\n",
    "            queue.append((node.left, level+1))\n",
    "        if node.right:\n",
    "            queue.append((node.right, level+1))\n",
    "    return result\n",
    "            \n",
    "    "
   ]
  },
  {
   "cell_type": "code",
   "execution_count": 11,
   "metadata": {},
   "outputs": [],
   "source": [
    "def levelOrder_3(root):\n",
    "    \"\"\"BFS, but dont pop item from queue\"\"\"\n",
    "    if not root:\n",
    "        return []\n",
    "    result = []\n",
    "    queue = [root]\n",
    "    while queue:\n",
    "        next_queue = []\n",
    "        result.append([])  # create a new space to save item from queue => current queue\n",
    "        for node in queue:  # loop over current queue, which has nodes of the same levle\n",
    "            result[-1].append(node.val)  # -1 locates to the last[] added to the result\n",
    "            if node.left:\n",
    "                next_queue.append(node.left)\n",
    "            if node.right:\n",
    "                next_queue.append(node.right)\n",
    "        queue= next_queue   # update the queue, to go to next level of nodes\n",
    "    return result\n",
    "        \n",
    "             \n",
    "        "
   ]
  },
  {
   "cell_type": "markdown",
   "metadata": {},
   "source": [
    "<b>Binary Tree Level Order Traversal II </b>   \n",
    "way 1: this question can use the same methods above, but return the reversed result list\n",
    "way 2: using special data structure to avoid reverse"
   ]
  },
  {
   "cell_type": "code",
   "execution_count": null,
   "metadata": {},
   "outputs": [],
   "source": [
    "from collections import deque\n",
    "def levelOrderBottom(root):\n",
    "    if not root:\n",
    "        return []\n",
    "    queue = [root]\n",
    "    result = deque()\n",
    "    while queue:\n",
    "        next_queue = []\n",
    "        result.appendLeft([])  # add a new [] but to the left => so make latter level comes first\n",
    "        for node in queue:\n",
    "            result[0].append(node.val)   # here result[0] compare to result[-1]"
   ]
  },
  {
   "cell_type": "markdown",
   "metadata": {},
   "source": [
    "<b> 124. binary tree maximum path sum </b>\n",
    "\n",
    "ono def helper function does two things: one is to update the global var of max path sum, another is to return the current max branch value."
   ]
  },
  {
   "cell_type": "code",
   "execution_count": 8,
   "metadata": {},
   "outputs": [],
   "source": [
    "class TreeNode:\n",
    "    def __init__(self, val=0, left=None, right=None):\n",
    "        self.val = val\n",
    "        self.left = left\n",
    "        self.right = right\n",
    "class Solution:\n",
    "    def __init__(self):\n",
    "        self.max_value = float('-inf')\n",
    "    def maxPathSum(self, root):\n",
    "        \n",
    "        def helper(node):\n",
    "            \"\"\"do two things\"\"\"\n",
    "            if not node:\n",
    "                return 0\n",
    "            left = max(0, helper(node.left))  # if left branch's max value is negative, no need to add it\n",
    "            right = max(0, helper(node.right))\n",
    "            self.max_value = max(self.max_value, left+right+node.val)\n",
    "            return max(left, right)+node.val\n",
    "\n",
    "        helper(root)\n",
    "        return self.max_value\n",
    "    "
   ]
  },
  {
   "cell_type": "code",
   "execution_count": 9,
   "metadata": {},
   "outputs": [
    {
     "data": {
      "text/plain": [
       "6"
      ]
     },
     "execution_count": 9,
     "metadata": {},
     "output_type": "execute_result"
    }
   ],
   "source": [
    "root = TreeNode(1)\n",
    "root.left = TreeNode(2)\n",
    "root.right = TreeNode(3)\n",
    "a = Solution()\n",
    "a.maxPathSum(root)"
   ]
  },
  {
   "cell_type": "markdown",
   "metadata": {},
   "source": [
    "<b> 236. Lowest Common Ancestor of a binary tree </b>\n",
    "\n",
    "so smart!  \n",
    "If the current (sub)tree contains both p and q, then the function result is their LCA. If only one of them is in that subtree, then the result is that one of them. If neither are in that subtree, the result is None"
   ]
  },
  {
   "cell_type": "code",
   "execution_count": 10,
   "metadata": {},
   "outputs": [],
   "source": [
    "# Definition for a binary tree node.\n",
    "class TreeNode:\n",
    "    def __init__(self, x):\n",
    "        self.val = x\n",
    "        self.left = None\n",
    "        self.right = None\n",
    "def lowestCommonAncestor(root, p, q):\n",
    "    # LCA can be the root node itself\n",
    "    if root in (None,p, q):\n",
    "        return root\n",
    "    left = lowestCommonAncestor(root.left, p, q)\n",
    "    right = lowestCommonAncestor(root.right, p, q)\n",
    "    # left and right are all none empty, they must be p and q, the LCA found\n",
    "    if left and right:\n",
    "        return root\n",
    "    # either p, q, or None\n",
    "    else:\n",
    "        return left or right"
   ]
  },
  {
   "cell_type": "markdown",
   "metadata": {},
   "source": [
    "<b> 733 Flood hill </b>  \n",
    "\n",
    "similar as the question: number of islands, but simpler. no need to loop the entire array, only need to start at the [sr][sc] point"
   ]
  },
  {
   "cell_type": "code",
   "execution_count": 11,
   "metadata": {},
   "outputs": [],
   "source": [
    "def floodFill(image, sr, sc, newColor):\n",
    "    \"\"\"similar as number of islands question\"\"\"\n",
    "\n",
    "    def helper(i, j):\n",
    "        # index out of bound or \n",
    "        if i<0 or j<0 or i>=n or j>=m or image[i][j]!=color:\n",
    "            return None\n",
    "        image[i][j] = newColor\n",
    "        helper(i+1, j)\n",
    "        helper(i-1, j)\n",
    "        helper(i, j+1)\n",
    "        helper(i, j-1)\n",
    "\n",
    "    n = len(image)\n",
    "    if n == 0: return image\n",
    "    m = len(image[0])\n",
    "    if m == 0: return image\n",
    "    color = image[sr][sc]\n",
    "    if newColor == color: return image\n",
    "    # only need to check from the point [sr][sc], no need to loop entire array\n",
    "    helper(sr, sc)\n",
    "    return image\n"
   ]
  },
  {
   "cell_type": "code",
   "execution_count": 12,
   "metadata": {},
   "outputs": [
    {
     "data": {
      "text/plain": [
       "[[2, 2, 2], [2, 2, 0], [2, 0, 1]]"
      ]
     },
     "execution_count": 12,
     "metadata": {},
     "output_type": "execute_result"
    }
   ],
   "source": [
    "image = [[1,1,1],[1,1,0],[1,0,1]]\n",
    "sr = 1\n",
    "sc = 1 \n",
    "newColor = 2\n",
    "floodFill(image, sr, sc, newColor)"
   ]
  },
  {
   "cell_type": "markdown",
   "metadata": {},
   "source": [
    "<b> 98 validate binary search tree</b>  \n",
    "\n",
    "<b>way one </b>  => remember this one  \n",
    "using float(-inf) and float(inf) to initiate the range of value. if node's value is not within its corresponding range, then it is not a BST"
   ]
  },
  {
   "cell_type": "code",
   "execution_count": 13,
   "metadata": {},
   "outputs": [],
   "source": [
    "class TreeNode:\n",
    "    def __init__(self, val=0, left=None, right=None):\n",
    "        self.val = val\n",
    "        self.left = left\n",
    "        self.right = right\n",
    "def isValidBST(root):\n",
    "    \n",
    "    def helper(node, min_val, max_val):\n",
    "        # node.val should be within the range [min_val, max_val]\n",
    "        if not node:\n",
    "            return True\n",
    "        if node.val >= max_val or node.val <=min_val:\n",
    "            return False\n",
    "        return helper(node.left, min_val, node.val) and helper(node.right, node.val, max_val)\n",
    "    \n",
    "    return helper(root, float('-inf'), float('inf'))"
   ]
  },
  {
   "cell_type": "code",
   "execution_count": 15,
   "metadata": {},
   "outputs": [
    {
     "data": {
      "text/plain": [
       "True"
      ]
     },
     "execution_count": 15,
     "metadata": {},
     "output_type": "execute_result"
    }
   ],
   "source": [
    "root = TreeNode(2)\n",
    "root.left = TreeNode(1)\n",
    "root.right= TreeNode(3)\n",
    "isValidBST(root)"
   ]
  },
  {
   "cell_type": "markdown",
   "metadata": {},
   "source": [
    "<b> way two </b>  \n",
    "same as above but using stack and while loop"
   ]
  },
  {
   "cell_type": "code",
   "execution_count": 17,
   "metadata": {},
   "outputs": [],
   "source": [
    "def isValidBST(root):\n",
    "    \"\"\"\n",
    "    if it is binary search tree, should \n",
    "    get left < root < right\n",
    "    \"\"\"\n",
    "\n",
    "    if not root:\n",
    "        return True\n",
    "    stack = [(root, float('-inf'), float('inf'))]\n",
    "    while stack:\n",
    "        node, lower, higher = stack.pop()\n",
    "        if not node:\n",
    "            continue\n",
    "        val = node.val\n",
    "        # value not within the range to be a valid BST\n",
    "        if val>=higher or val<=lower:\n",
    "            return False\n",
    "        else:\n",
    "            stack.append((node.left, lower, val))\n",
    "            stack.append((node.right, val, higher))\n",
    "    return True"
   ]
  },
  {
   "cell_type": "markdown",
   "metadata": {},
   "source": [
    "<b>way three</b>.  \n",
    "inorder traversal, a bit harder to understand comparing with the way above"
   ]
  },
  {
   "cell_type": "code",
   "execution_count": 20,
   "metadata": {},
   "outputs": [],
   "source": [
    "def isValidBST(root):\n",
    "    stack, inorder = [], float('-inf')\n",
    "    while stack or root:\n",
    "        # go from top to bottom left\n",
    "        while root:\n",
    "            stack.append(root)\n",
    "            root=root.left\n",
    "        # first node is the very left bottom node, from there to the top\n",
    "        root = stack.pop()\n",
    "        if root.val <= inorder:\n",
    "            return False\n",
    "        inorder = root.val\n",
    "        root=root.right\n",
    "    return True"
   ]
  },
  {
   "cell_type": "code",
   "execution_count": 21,
   "metadata": {},
   "outputs": [
    {
     "data": {
      "text/plain": [
       "True"
      ]
     },
     "execution_count": 21,
     "metadata": {},
     "output_type": "execute_result"
    }
   ],
   "source": [
    "root = TreeNode(2)\n",
    "root.left = TreeNode(1)\n",
    "root.right= TreeNode(3)\n",
    "isValidBST(root)"
   ]
  },
  {
   "cell_type": "markdown",
   "metadata": {},
   "source": [
    "<b>101. Symmetric tree </b>\n",
    "\n",
    "recursive call! have a helper function compare left and right.   \n",
    "symmetric, so left's left vs right's right, left's right vs right's left"
   ]
  },
  {
   "cell_type": "code",
   "execution_count": 22,
   "metadata": {},
   "outputs": [],
   "source": [
    "def isSymmetric(root):\n",
    "    \"\"\"left should == right\"\"\"\n",
    "    def helper(left, right):\n",
    "        # compare two nodes\n",
    "        # all empty\n",
    "        if (not left) and (not right):\n",
    "            return True\n",
    "        # all non-empty\n",
    "        if left and right:\n",
    "            # NOTE: symmetric, so left's left vs right's right, left's right vs right's left\n",
    "            return (left.val==right.val) and helper(left.left, right.right) and helper(left.right, right.left)\n",
    "        # one empty one is not\n",
    "        return False\n",
    "\n",
    "    if not root:\n",
    "        return True\n",
    "    return helper(root.left, root.right)"
   ]
  },
  {
   "cell_type": "markdown",
   "metadata": {},
   "source": [
    "<b>103. binary tree zigzag level order traversal </b> \n",
    "\n",
    "very similar to question <b>102</b>  \n",
    "here the way 1 corresponding to 102's way 3:\n",
    "\n",
    "visit the nodes level by level, if the level is an odd level, revese the value  \n",
    "how to update the next queue is the same as 102, breath first search. but how to save the value into result is where the zigzag happenning"
   ]
  },
  {
   "cell_type": "code",
   "execution_count": null,
   "metadata": {},
   "outputs": [],
   "source": [
    "class Solution:\n",
    "    def zigzagLevelOrder(root):\n",
    "        if not root:\n",
    "            return []\n",
    "        result = []\n",
    "        queue = [(root, 0)]\n",
    "        while queue:\n",
    "            next_queue = []\n",
    "            for node, level in queue:\n",
    "                if len(result)==level:\n",
    "                    result.append([])\n",
    "                result[level].append(node.val)\n",
    "                if node.left:\n",
    "                    next_queue.append((node.left, level+1))\n",
    "                if node.right:\n",
    "                    next_queue.append((node.right, level+1))\n",
    "            if level%2==1:\n",
    "                # from right to left\n",
    "                result[level] = result[level][::-1]\n",
    "            queue = next_queue\n",
    " \n",
    "        return result"
   ]
  },
  {
   "cell_type": "markdown",
   "metadata": {},
   "source": [
    "way 2 corresponding to <b>102</b>'s way 1, DFS way  \n",
    "\n",
    "how to loop through each node is the same: DFS, preorder, node => left => right.   \n",
    "how to save the result into the result list is different depending on what level the node is in. => where the deque.appendleft() is used\n"
   ]
  },
  {
   "cell_type": "code",
   "execution_count": 23,
   "metadata": {},
   "outputs": [],
   "source": [
    "def zigzagLevelOrder(root):\n",
    "    def helper(node, level):\n",
    "        if not node:\n",
    "            return\n",
    "        if len(result) == level:\n",
    "            result.append(deque([node.val]))\n",
    "        else:\n",
    "            if level%2==0:\n",
    "                # result is from left to right\n",
    "                result[level].append(node.val)\n",
    "            else:\n",
    "                # result should be from right to left\n",
    "                result[level].appendleft(node.val)\n",
    "        # the preorder traversal of DFS is not changed\n",
    "        helper(node.left, level+1)\n",
    "        helper(node.right, level+1)\n",
    "\n",
    "    result = []  # a list of deque\n",
    "    helper(root, 0)\n",
    "    return result\n",
    "        "
   ]
  },
  {
   "cell_type": "code",
   "execution_count": null,
   "metadata": {},
   "outputs": [],
   "source": []
  }
 ],
 "metadata": {
  "kernelspec": {
   "display_name": "testground",
   "language": "python",
   "name": "testground"
  },
  "language_info": {
   "codemirror_mode": {
    "name": "ipython",
    "version": 3
   },
   "file_extension": ".py",
   "mimetype": "text/x-python",
   "name": "python",
   "nbconvert_exporter": "python",
   "pygments_lexer": "ipython3",
   "version": "3.8.3"
  }
 },
 "nbformat": 4,
 "nbformat_minor": 4
}
