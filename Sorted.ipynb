{
 "cells": [
  {
   "cell_type": "markdown",
   "metadata": {},
   "source": [
    "<b>324. Wiggle Sort II</b>\n",
    "\n",
    "way 1: utilizing python builtin swap mechanism, if not allowed, need to think another way"
   ]
  },
  {
   "cell_type": "code",
   "execution_count": 1,
   "metadata": {},
   "outputs": [],
   "source": [
    "def wiggleSort(nums):\n",
    "    \"\"\"same idea as above but concise\"\"\"\n",
    "    nums.sort()\n",
    "    k = len(nums[::2]) # if nums has odd number, k gets the extra 1, so left length >= right length\n",
    "    # smaller number in even position\n",
    "    # larger number in odd position\n",
    "    # to avoid same number appear next to each other, reverse the element in small and large\n",
    "    # like S, M,M,L => if not reverse, still S M M L, if reverse M L S M\n",
    "    # the bellow take advantage of python's builting swapping machenism, otherwise cant guaranteer to change element \n",
    "    # in place while loop over it\n",
    "    nums[::2], nums[1::2] = nums[:k][::-1], nums[k:][::-1]"
   ]
  },
  {
   "cell_type": "code",
   "execution_count": 2,
   "metadata": {},
   "outputs": [
    {
     "name": "stdout",
     "output_type": "stream",
     "text": [
      "[1, 6, 1, 5, 1, 4]\n"
     ]
    }
   ],
   "source": [
    "nums = [1, 5, 1, 1, 6, 4]\n",
    "wiggleSort(nums)\n",
    "print(nums)"
   ]
  },
  {
   "cell_type": "markdown",
   "metadata": {},
   "source": [
    "way 2: same idea as above but not using builtin swapping, general to other language"
   ]
  },
  {
   "cell_type": "code",
   "execution_count": 3,
   "metadata": {},
   "outputs": [],
   "source": [
    "def wiggleSort(nums):\n",
    "    \"\"\"\n",
    "    Do not return anything, modify nums in-place instead.\n",
    "    \"\"\"\n",
    "    \"\"\"O(NlogN) and not o(1) space\"\"\"\n",
    "    nums.sort()\n",
    "    k = len(nums)//2 \n",
    "    uneven = len(nums)%2\n",
    "    small, large = nums[:k+uneven], nums[k+uneven:]\n",
    "    # len(small) will always hold >= len(large)\n",
    "    for i in range(len(large)):\n",
    "        nums[2*i] = small[-i-1]\n",
    "        nums[2*i+1] = large[-i-1]\n",
    "    if uneven: # if extra number exist, it should belong to the left part\n",
    "        nums[-1] = small[0]"
   ]
  },
  {
   "cell_type": "code",
   "execution_count": 4,
   "metadata": {},
   "outputs": [
    {
     "name": "stdout",
     "output_type": "stream",
     "text": [
      "[1, 6, 1, 5, 1, 4]\n"
     ]
    }
   ],
   "source": [
    "nums = [1, 5, 1, 1, 6, 4]\n",
    "wiggleSort(nums)\n",
    "print(nums)"
   ]
  },
  {
   "cell_type": "markdown",
   "metadata": {},
   "source": [
    "<b>451.Sort Characters By Frequency </b>  \n",
    "Counter() .most_common( ) => will return a list of tuple (item, count), no need sorted manually\n"
   ]
  },
  {
   "cell_type": "code",
   "execution_count": 5,
   "metadata": {},
   "outputs": [],
   "source": [
    "from collections import Counter\n",
    "\n",
    "def frequencySort(s):\n",
    "    word_freq = Counter(s).most_common()\n",
    "    return ''.join([char*count for char, count in word_freq])"
   ]
  },
  {
   "cell_type": "code",
   "execution_count": 6,
   "metadata": {},
   "outputs": [
    {
     "data": {
      "text/plain": [
       "'eetr'"
      ]
     },
     "execution_count": 6,
     "metadata": {},
     "output_type": "execute_result"
    }
   ],
   "source": [
    "frequencySort(\"tree\")"
   ]
  },
  {
   "cell_type": "markdown",
   "metadata": {},
   "source": [
    "<b>347 Top K Frequent Elements </b>. \n",
    "\n",
    "O(N) way\n",
    "Collections.Counter( ). is O(N). Itertools.chain method is O(N) too  \n",
    "First get {word: freq} dict, then create an empty bucket = [[] for _ in nums] the genius part is fill the bucket with bucket[-freq].append(word), the -freq will make sure the first non empty element in the bucket is the list of words with highest freq. chain method easily get away the empty list  \n",
    "\n",
    "<b>ATTENTION</b>:  \n",
    "DONT USE result = [ [ ] ] * len(nums)      \n",
    "this step is wrong, all child[ ] ends up pointing to a same space  "
   ]
  },
  {
   "cell_type": "code",
   "execution_count": 15,
   "metadata": {},
   "outputs": [],
   "source": [
    "from collections import Counter, defaultdict\n",
    "from itertools import chain\n",
    "\n",
    "def topKFrequent(nums, k):\n",
    "    word_freq = Counter(nums) # {w: f}\n",
    "    bucket = [[] for _ in nums]  # using len(nums), even though longer than needed, it is okay\n",
    "    for word, freq in word_freq.items():\n",
    "        bucket[-freq].append(word)  # genius step, -freq will ensure highest freq words are on the front of bucket\n",
    "    return list(chain(*bucket))[:k] # chain() will merge all sub [] together and get rid of empty []"
   ]
  },
  {
   "cell_type": "code",
   "execution_count": 16,
   "metadata": {},
   "outputs": [
    {
     "data": {
      "text/plain": [
       "[1, 2]"
      ]
     },
     "execution_count": 16,
     "metadata": {},
     "output_type": "execute_result"
    }
   ],
   "source": [
    "topKFrequent([1,1,1,2,2,3], 2)"
   ]
  },
  {
   "cell_type": "markdown",
   "metadata": {},
   "source": [
    "O(NlogK) way of doing it. log K because after counter, it shrinks to k unique value"
   ]
  },
  {
   "cell_type": "code",
   "execution_count": 3,
   "metadata": {},
   "outputs": [],
   "source": [
    "from collections import Counter\n",
    "def topKFrequent(nums, k):\n",
    "    # O(1) time \n",
    "    if k == len(nums):\n",
    "        return nums\n",
    "    # O(N)\n",
    "    word_freq = Counter(nums)\n",
    "#     word_freq = sorted(word_freq.items(), key=lambda x: x[1], reverse=True)  # O(NLog(k))\n",
    "    word_freq = word_freq.most_common()  # O(NLog(K))\n",
    "    result = [] \n",
    "    for i in range(k):\n",
    "        result.append(word_freq[i][0])  # because question said k is always valid, so no index out of bound error\n",
    "    return result\n",
    "        "
   ]
  },
  {
   "cell_type": "code",
   "execution_count": 4,
   "metadata": {},
   "outputs": [
    {
     "data": {
      "text/plain": [
       "[1, 2]"
      ]
     },
     "execution_count": 4,
     "metadata": {},
     "output_type": "execute_result"
    }
   ],
   "source": [
    "topKFrequent([1,1,1,2,2,3], 2)"
   ]
  },
  {
   "cell_type": "markdown",
   "metadata": {},
   "source": [
    "<b>692 top K Frequent Words </b>  \n",
    "Counter and sorted() function, sorted dictionary based on freq DESC and value asc\n",
    "\n",
    "Also sort dictionary by values and then key and each based on different order type. \n",
    "sorted(a_dict.items(), key=lambda x: (-x[1], x[0]) )    -x[1] meaning order by value in desc\n",
    "Or sorted(a_dict, key=lambda x: (-a_dict[x], x) ) => x is the key, when loop a_dict, key is the value iterated\n"
   ]
  },
  {
   "cell_type": "code",
   "execution_count": 37,
   "metadata": {},
   "outputs": [],
   "source": [
    " def topKFrequent(words, k):\n",
    "    word_freq = Counter(words)\n",
    "    word_freq = sorted(word_freq.items(), key=lambda x: (-x[1], x[0]))\n",
    "    result = []\n",
    "    for i in range(k): # question assumes k is always valid\n",
    "        result.append(word_freq[i][0])\n",
    "    return result"
   ]
  },
  {
   "cell_type": "code",
   "execution_count": 38,
   "metadata": {},
   "outputs": [
    {
     "data": {
      "text/plain": [
       "['i', 'love']"
      ]
     },
     "execution_count": 38,
     "metadata": {},
     "output_type": "execute_result"
    }
   ],
   "source": [
    "words = [\"i\", \"love\", \"leetcode\", \"i\", \"love\", \"coding\"]\n",
    "k = 2\n",
    "topKFrequent(words, k)"
   ]
  },
  {
   "cell_type": "markdown",
   "metadata": {},
   "source": [
    "<b>1329.Sort the Matrix Diagonally </b>\n",
    "\n",
    "Finding patterns of the question, here the element in the same diagonal has same value of index i - index J\n",
    "So get same diagonal value out, sort, put them back. The temporary saving place’s add and pop method will affect the final big O\n",
    "\n",
    "The reason to sorted in reverse order is that pop() method of list returns the last item.\n",
    "So to make diagonal ascending, need to sort desc, then pop will reverse it back"
   ]
  },
  {
   "cell_type": "code",
   "execution_count": 48,
   "metadata": {},
   "outputs": [],
   "source": [
    "from collections import defaultdict\n",
    "def diagonalSort( mat):\n",
    "    \"\"\"\n",
    "    append an item to a lsit in python is O(1), pop the last item from a list\n",
    "    in python is O(1)\n",
    "    2 nested for loop is O(NM)\n",
    "    \"\"\"\n",
    "    m = len(mat)\n",
    "    n = len(mat[0])\n",
    "    diagonal_dict = defaultdict(list)   # a map to store all diagonal value\n",
    "    for i in range(m):\n",
    "        for j in range(n):\n",
    "            diagonal_dict[i-j].append(mat[i][j])  # for item in the same diagonal, the i-j value is the same\n",
    "    # sort each list inside of the diagonal_dict\n",
    "    diagonal_dict = dict(map(lambda x: (x[0], sorted(x[1],reverse=True)), diagonal_dict.items()))\n",
    "    for i in range(m):\n",
    "        for j in range(n):\n",
    "            mat[i][j] = diagonal_dict[i-j].pop()  # pop() returns the last item of the list, that is why REVERSE sort\n",
    "    return mat"
   ]
  },
  {
   "cell_type": "code",
   "execution_count": 49,
   "metadata": {},
   "outputs": [
    {
     "data": {
      "text/plain": [
       "[[1, 1, 1, 1], [1, 2, 2, 2], [1, 2, 3, 3]]"
      ]
     },
     "execution_count": 49,
     "metadata": {},
     "output_type": "execute_result"
    }
   ],
   "source": [
    "mat = [[3,3,1,1],[2,2,1,2],[1,1,1,2]]\n",
    "diagonalSort(mat)"
   ]
  },
  {
   "cell_type": "markdown",
   "metadata": {},
   "source": [
    "<b> 791.Custom Sort String </b>\n",
    "\n",
    "my first idea is using Counter() then construct the order based on S's order => O(N)\n",
    "There are other ways that are more efficient"
   ]
  },
  {
   "cell_type": "code",
   "execution_count": 50,
   "metadata": {},
   "outputs": [],
   "source": [
    "from collections import Counter\n",
    "def customSortString(S, T):  \n",
    "    \"\"\"make T into dict\"\"\"\n",
    "    t_dict = Counter(T)\n",
    "    result = \"\"\n",
    "    for s in S:\n",
    "        if s in t_dict:  # O(1)\n",
    "            result+= (s*t_dict.pop(s))\n",
    "    for c in t_dict:\n",
    "        result += (c*t_dict[c])\n",
    "    return result"
   ]
  },
  {
   "cell_type": "code",
   "execution_count": 51,
   "metadata": {},
   "outputs": [
    {
     "data": {
      "text/plain": [
       "'cbad'"
      ]
     },
     "execution_count": 51,
     "metadata": {},
     "output_type": "execute_result"
    }
   ],
   "source": [
    "S = \"cba\"\n",
    "T = \"abcd\"\n",
    "customSortString(S,T)"
   ]
  },
  {
   "cell_type": "markdown",
   "metadata": {},
   "source": [
    "<b>Ord()</b>: return a string representation of a char’s Unicode code, like old(‘a’) returns 97  \n",
    "Python dictionary has .pop() function as well  \n",
    "Using dictionary to help deciding the order  "
   ]
  },
  {
   "cell_type": "code",
   "execution_count": null,
   "metadata": {},
   "outputs": [],
   "source": [
    "def customSortString(S, T):\n",
    "    \"\"\"using sort and ord() => but not too efficient, sorted() is O(NlogN)\"\"\"\n",
    "    index_dict = {c:index for index, c in enumerate(S)}\n",
    "    return ''.join(sorted(T, key=lambda x: index_dict.get(x, len(T)+ord(x))))"
   ]
  },
  {
   "cell_type": "code",
   "execution_count": 55,
   "metadata": {},
   "outputs": [],
   "source": [
    "def customSortString_2(S, T):  \n",
    "    \"\"\"make S into dict, O(N)\"\"\"\n",
    "    count = {}\n",
    "    result = \"\"\n",
    "    for s in S:\n",
    "        count[s]=0\n",
    "    for t in T:\n",
    "        if t in S:\n",
    "            count[t]+=1\n",
    "        else:\n",
    "            result+=t\n",
    "    for s in S:\n",
    "        result +=s*count[s]\n",
    "    return result"
   ]
  },
  {
   "cell_type": "code",
   "execution_count": 56,
   "metadata": {},
   "outputs": [
    {
     "data": {
      "text/plain": [
       "'dcba'"
      ]
     },
     "execution_count": 56,
     "metadata": {},
     "output_type": "execute_result"
    }
   ],
   "source": [
    "S = \"cba\"\n",
    "T = \"abcd\"\n",
    "customSortString_2(S,T)"
   ]
  },
  {
   "cell_type": "markdown",
   "metadata": {},
   "source": [
    "<b>49. Group Anagrams </b>\n",
    "\n",
    "way 1: make a hashmap to store the words having same characters. the difference is how to construct the key.  \n",
    "one way is to use the sorted word, which make the complexity to O(NKlogK) where N is the length of array, K is avg words length"
   ]
  },
  {
   "cell_type": "code",
   "execution_count": 57,
   "metadata": {},
   "outputs": [],
   "source": [
    "def groupAnagrams(strs):\n",
    "    hash_map = defaultdict(list)\n",
    "    for w in strs:\n",
    "        k=tuple(sorted(w))\n",
    "        hash_map[k].append(w)\n",
    "    return list(hash_map.values())"
   ]
  },
  {
   "cell_type": "markdown",
   "metadata": {},
   "source": [
    "for constructing the key, i tried set(), list, they are not hashable, so cant be the key. \n",
    "tuple is hashable"
   ]
  },
  {
   "cell_type": "code",
   "execution_count": 58,
   "metadata": {},
   "outputs": [
    {
     "data": {
      "text/plain": [
       "[['eat', 'tea', 'ate'], ['tan', 'nat'], ['bat']]"
      ]
     },
     "execution_count": 58,
     "metadata": {},
     "output_type": "execute_result"
    }
   ],
   "source": [
    "strs = [\"eat\", \"tea\", \"tan\", \"ate\", \"nat\", \"bat\"]\n",
    "groupAnagrams(strs)"
   ]
  },
  {
   "cell_type": "markdown",
   "metadata": {},
   "source": [
    "way 2: if the count of each character is the same, then the words are anagram  \n",
    "first construct a list of 26 0s, representing posiitons for 26 characters. loop through each word, add count up on corresponding positions of the list.  \n",
    "Need to transform list into tuple to become the key of dictionary, because list is not hashbla.\n",
    "\n",
    "using builtin function ord(), which returns the integer to represent the unicode point of the character.\n",
    "\n",
    "The time complexity is O(NK) N is the length of array, K is the avg length of words"
   ]
  },
  {
   "cell_type": "code",
   "execution_count": 59,
   "metadata": {},
   "outputs": [],
   "source": [
    "def groupAnagrams(strs):\n",
    "    hash_map = defaultdict(list)\n",
    "    for w in strs:\n",
    "        k=[0]*26\n",
    "        for c in w:\n",
    "            k[ord(c)-ord('a')]+=1\n",
    "        hash_map[tuple(k)].append(w)\n",
    "    return list(hash_map.values())"
   ]
  },
  {
   "cell_type": "code",
   "execution_count": 60,
   "metadata": {},
   "outputs": [
    {
     "data": {
      "text/plain": [
       "[['eat', 'tea', 'ate'], ['tan', 'nat'], ['bat']]"
      ]
     },
     "execution_count": 60,
     "metadata": {},
     "output_type": "execute_result"
    }
   ],
   "source": [
    "strs = [\"eat\", \"tea\", \"tan\", \"ate\", \"nat\", \"bat\"]\n",
    "groupAnagrams(strs)"
   ]
  },
  {
   "cell_type": "markdown",
   "metadata": {},
   "source": [
    "<b>937. Reorder Data in Logs Files </b>  \n",
    "\n",
    "This one is for come up with a helper function which can be used in the sorted() key param part.  \n",
    "The helper function return a tuple, first value of the tuple is used for comparision first, second is used second, third is used third. if no other value provided, keep the original order"
   ]
  },
  {
   "cell_type": "code",
   "execution_count": 64,
   "metadata": {},
   "outputs": [],
   "source": [
    "def reorderLogFiles(logs):\n",
    "    def helper(log):\n",
    "        # for each indivisual log, return a tuple of values used in sorted\n",
    "        # first value in the tuple is used for comparison first, second then used second...\n",
    "        id_, rest = log.split(\" \", 1) # only split 1 time\n",
    "        if rest[0].isalpha():\n",
    "            # first char of the rest of logs\n",
    "            return (0, rest, id_)\n",
    "        else:\n",
    "            return (1, )\n",
    "    return sorted(logs, key=helper)    "
   ]
  },
  {
   "cell_type": "code",
   "execution_count": 65,
   "metadata": {},
   "outputs": [
    {
     "data": {
      "text/plain": [
       "['let1 art can',\n",
       " 'let3 art zero',\n",
       " 'let2 own kit dig',\n",
       " 'dig1 8 1 5 1',\n",
       " 'dig2 3 6']"
      ]
     },
     "execution_count": 65,
     "metadata": {},
     "output_type": "execute_result"
    }
   ],
   "source": [
    "logs = [\"dig1 8 1 5 1\",\"let1 art can\",\"dig2 3 6\",\"let2 own kit dig\",\"let3 art zero\"]\n",
    "reorderLogFiles(logs)"
   ]
  },
  {
   "cell_type": "markdown",
   "metadata": {},
   "source": [
    "<b>56.Merge intervals </b>. \n",
    "\n",
    "idea is to first sort the array using first item. then compare the adjacent elements. if they overlapped, merge them into one. otherwise, save the first element into the result and move forward for comparison  \n",
    "sorting taks O(NlogN), comparison takes O(N), so total O(NlogN). "
   ]
  },
  {
   "cell_type": "markdown",
   "metadata": {},
   "source": [
    "using heapq is the same idea too"
   ]
  },
  {
   "cell_type": "code",
   "execution_count": 69,
   "metadata": {},
   "outputs": [],
   "source": [
    "def merge(intervals):\n",
    "    \"\"\"Sorting takes O(n log(n)) and merging the intervals takes O(n). So, the resulting algorithm takes O(n log(n)).\"\"\"\n",
    "    # if not using heapq\n",
    "    if not intervals:\n",
    "        return []\n",
    "    sorted_intervals = sorted(intervals, key=lambda x: x[0])\n",
    "    result = []\n",
    "    left = sorted_intervals[0]\n",
    "    for right in sorted_intervals[1:]:\n",
    "        if left[-1]>=right[0]:\n",
    "            left[-1]=max(left[-1], right[-1])\n",
    "        else:\n",
    "            result.append(left)\n",
    "            left = right\n",
    "    result.append(left)\n",
    "    return result"
   ]
  },
  {
   "cell_type": "code",
   "execution_count": 70,
   "metadata": {},
   "outputs": [
    {
     "data": {
      "text/plain": [
       "[[1, 6], [15, 18]]"
      ]
     },
     "execution_count": 70,
     "metadata": {},
     "output_type": "execute_result"
    }
   ],
   "source": [
    "intervals = [[1,3],[3,6],[4,5],[15,18]]\n",
    "merge(intervals)"
   ]
  },
  {
   "cell_type": "markdown",
   "metadata": {},
   "source": [
    "a more precise version:"
   ]
  },
  {
   "cell_type": "code",
   "execution_count": null,
   "metadata": {},
   "outputs": [],
   "source": [
    "def merge(intervals):\n",
    "    \"\"\"Sorting takes O(n log(n)) and merging the intervals takes O(n). So, the resulting algorithm takes O(n log(n)).\"\"\"\n",
    "    \"\"\"a precise version\"\"\"\n",
    "    intervals.sort(key = lambda x: x[0])\n",
    "    result = []\n",
    "\n",
    "    for item in intervals:\n",
    "        if not result or result[-1][-1]<item[0]:\n",
    "            # if result is empty (just start)\n",
    "            # or NO overlapping\n",
    "            result.append(item)\n",
    "        else:\n",
    "            result[-1][-1] = max(result[-1][-1], item[-1])\n",
    "    return result"
   ]
  },
  {
   "cell_type": "code",
   "execution_count": 67,
   "metadata": {},
   "outputs": [
    {
     "data": {
      "text/plain": [
       "[[1, 6], [15, 18]]"
      ]
     },
     "execution_count": 67,
     "metadata": {},
     "output_type": "execute_result"
    }
   ],
   "source": [
    "intervals = [[1,3],[3,6],[4,5],[15,18]]\n",
    "merge(intervals)"
   ]
  },
  {
   "cell_type": "markdown",
   "metadata": {},
   "source": [
    "<b>252.Meeting room </b>  \n",
    "\n",
    "logic is the same as above\n"
   ]
  },
  {
   "cell_type": "code",
   "execution_count": 73,
   "metadata": {},
   "outputs": [],
   "source": [
    "def canAttendMeetings(intervals):\n",
    "    if not intervals:\n",
    "        return True\n",
    "    intervals.sort(key=lambda x: x[0])\n",
    "    last_meeting = intervals[0]\n",
    "    for next_meeting in intervals[1:]:\n",
    "        if last_meeting[-1]>next_meeting[0]:\n",
    "            return False\n",
    "        else:\n",
    "            last_meeting = next_meeting\n",
    "    return True"
   ]
  },
  {
   "cell_type": "code",
   "execution_count": 74,
   "metadata": {},
   "outputs": [
    {
     "data": {
      "text/plain": [
       "False"
      ]
     },
     "execution_count": 74,
     "metadata": {},
     "output_type": "execute_result"
    }
   ],
   "source": [
    "intervals = [[0,30],[5,10],[15,20]]\n",
    "canAttendMeetings(intervals)"
   ]
  },
  {
   "cell_type": "code",
   "execution_count": 75,
   "metadata": {},
   "outputs": [],
   "source": [
    "def canAttendMeetings(intervals):\n",
    "    if not intervals:\n",
    "        return True\n",
    "    intervals.sort(key=lambda x: x[0])\n",
    "    n = len(intervals)\n",
    "    for i in range(n-1):\n",
    "        if intervals[i][-1]>intervals[i+1][0]:\n",
    "            return False\n",
    "    return True"
   ]
  },
  {
   "cell_type": "code",
   "execution_count": 76,
   "metadata": {},
   "outputs": [
    {
     "data": {
      "text/plain": [
       "False"
      ]
     },
     "execution_count": 76,
     "metadata": {},
     "output_type": "execute_result"
    }
   ],
   "source": [
    "intervals = [[0,30],[5,10],[15,20]]\n",
    "canAttendMeetings(intervals)"
   ]
  },
  {
   "cell_type": "markdown",
   "metadata": {},
   "source": [
    "<b>435.Non-overlapping Intervals</b>  \n",
    "sort by end is the key, keep the intervals ends first, so latter ones can have more room, it will require less amount of items to be removed compare with sort by start."
   ]
  },
  {
   "cell_type": "code",
   "execution_count": 5,
   "metadata": {},
   "outputs": [],
   "source": [
    "def eraseOverlapIntervals(intervals) :\n",
    "    \"\"\"find max number of items that are not overlapping\"\"\"\n",
    "    if not intervals:\n",
    "        return 0\n",
    "     # sort by last number, so can find MIN number of intervals need to remove\n",
    "        # keep the one ends early will give latter one more room to not overlap\n",
    "    intervals.sort(key = lambda x: x[1]) \n",
    "    start = intervals[0]\n",
    "    count = 1 # count is the non-overlapping count\n",
    "    for end in intervals[1:]:\n",
    "        if start[-1]<=end[0]:\n",
    "            count += 1\n",
    "            start = end\n",
    "    return len(intervals)-count"
   ]
  },
  {
   "cell_type": "code",
   "execution_count": 6,
   "metadata": {},
   "outputs": [],
   "source": [
    "def eraseOverlapIntervals(intervals):\n",
    "    \"\"\"find max number of items that are not overlapping\"\"\"\n",
    "    if not intervals:\n",
    "        return 0\n",
    "    # sort by last number, so can find MIN number of intervals need to remove\n",
    "\n",
    "    # keep the one ends early will give latter one more room to not overlap\n",
    "    intervals.sort(key = lambda x: x[1]) \n",
    "    end = float('-inf')\n",
    "    result = 0\n",
    "    for i in intervals:\n",
    "        if i[0]>=end:\n",
    "            # no overlapping, keep i\n",
    "            end = i[1]\n",
    "        else:\n",
    "            # overlapping occurs\n",
    "            result+=1\n",
    "    return result"
   ]
  },
  {
   "cell_type": "markdown",
   "metadata": {},
   "source": [
    "<b> 253.Meeting Rooms II </b>"
   ]
  },
  {
   "cell_type": "code",
   "execution_count": 7,
   "metadata": {},
   "outputs": [],
   "source": [
    "def minMeetingRooms(intervals):\n",
    "    starts = sorted(i[0] for i in intervals)\n",
    "    ends = sorted(i[1] for i in intervals)\n",
    "    available = room_needed = 0\n",
    "    s = 0 # start meeting pointer\n",
    "    e = 0  # end meeting pointer\n",
    "    while s < len(intervals):\n",
    "        # need a room\n",
    "        if starts[s] < ends[e]:\n",
    "            if available > 0:\n",
    "                available -= 1\n",
    "            else:\n",
    "                room_needed += 1\n",
    "            s+=1\n",
    "        else:\n",
    "            # a previous meeting is ended before the next one starts:\n",
    "            # it will keep checking, and it works becauses when s == e, it will need a room\n",
    "            available += 1\n",
    "            e+=1\n",
    "    return room_needed"
   ]
  },
  {
   "cell_type": "code",
   "execution_count": 8,
   "metadata": {},
   "outputs": [
    {
     "data": {
      "text/plain": [
       "2"
      ]
     },
     "execution_count": 8,
     "metadata": {},
     "output_type": "execute_result"
    }
   ],
   "source": [
    "intervals=[[0,2],[1,3],[2,4],[3,5],[4,6]]\n",
    "minMeetingRooms(intervals)"
   ]
  },
  {
   "cell_type": "code",
   "execution_count": null,
   "metadata": {},
   "outputs": [],
   "source": []
  }
 ],
 "metadata": {
  "kernelspec": {
   "display_name": "testground",
   "language": "python",
   "name": "testground"
  },
  "language_info": {
   "codemirror_mode": {
    "name": "ipython",
    "version": 3
   },
   "file_extension": ".py",
   "mimetype": "text/x-python",
   "name": "python",
   "nbconvert_exporter": "python",
   "pygments_lexer": "ipython3",
   "version": "3.8.3"
  }
 },
 "nbformat": 4,
 "nbformat_minor": 4
}
