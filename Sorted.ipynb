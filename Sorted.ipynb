{
 "cells": [
  {
   "cell_type": "markdown",
   "metadata": {},
   "source": [
    "<b>324. Wiggle Sort II</b>\n",
    "\n",
    "way 1: utilizing python builtin swap mechanism, if not allowed, need to think another way"
   ]
  },
  {
   "cell_type": "code",
   "execution_count": 1,
   "metadata": {},
   "outputs": [],
   "source": [
    "def wiggleSort(nums):\n",
    "    \"\"\"same idea as above but concise\"\"\"\n",
    "    nums.sort()\n",
    "    k = len(nums[::2]) # if nums has odd number, k gets the extra 1, so left length >= right length\n",
    "    # smaller number in even position\n",
    "    # larger number in odd position\n",
    "    # to avoid same number appear next to each other, reverse the element in small and large\n",
    "    # like S, M,M,L => if not reverse, still S M M L, if reverse M L S M\n",
    "    # the bellow take advantage of python's builting swapping machenism, otherwise cant guaranteer to change element \n",
    "    # in place while loop over it\n",
    "    nums[::2], nums[1::2] = nums[:k][::-1], nums[k:][::-1]"
   ]
  },
  {
   "cell_type": "code",
   "execution_count": 2,
   "metadata": {},
   "outputs": [
    {
     "name": "stdout",
     "output_type": "stream",
     "text": [
      "[1, 6, 1, 5, 1, 4]\n"
     ]
    }
   ],
   "source": [
    "nums = [1, 5, 1, 1, 6, 4]\n",
    "wiggleSort(nums)\n",
    "print(nums)"
   ]
  },
  {
   "cell_type": "markdown",
   "metadata": {},
   "source": [
    "way 2: same idea as above but not using builtin swapping, general to other language"
   ]
  },
  {
   "cell_type": "code",
   "execution_count": 3,
   "metadata": {},
   "outputs": [],
   "source": [
    "def wiggleSort(nums):\n",
    "    \"\"\"\n",
    "    Do not return anything, modify nums in-place instead.\n",
    "    \"\"\"\n",
    "    \"\"\"O(NlogN) and not o(1) space\"\"\"\n",
    "    nums.sort()\n",
    "    k = len(nums)//2 \n",
    "    uneven = len(nums)%2\n",
    "    small, large = nums[:k+uneven], nums[k+uneven:]\n",
    "    # len(small) will always hold >= len(large)\n",
    "    for i in range(len(large)):\n",
    "        nums[2*i] = small[-i-1]\n",
    "        nums[2*i+1] = large[-i-1]\n",
    "    if uneven: # if extra number exist, it should belong to the left part\n",
    "        nums[-1] = small[0]"
   ]
  },
  {
   "cell_type": "code",
   "execution_count": 4,
   "metadata": {},
   "outputs": [
    {
     "name": "stdout",
     "output_type": "stream",
     "text": [
      "[1, 6, 1, 5, 1, 4]\n"
     ]
    }
   ],
   "source": [
    "nums = [1, 5, 1, 1, 6, 4]\n",
    "wiggleSort(nums)\n",
    "print(nums)"
   ]
  },
  {
   "cell_type": "markdown",
   "metadata": {},
   "source": [
    "<b>451.Sort Characters By Frequency </b>  \n",
    "Counter() .most_common( ) => will return a list of tuple (item, count), no need sorted manually\n"
   ]
  },
  {
   "cell_type": "code",
   "execution_count": 5,
   "metadata": {},
   "outputs": [],
   "source": [
    "from collections import Counter\n",
    "\n",
    "def frequencySort(s):\n",
    "    word_freq = Counter(s).most_common()\n",
    "    return ''.join([char*count for char, count in word_freq])"
   ]
  },
  {
   "cell_type": "code",
   "execution_count": 6,
   "metadata": {},
   "outputs": [
    {
     "data": {
      "text/plain": [
       "'eetr'"
      ]
     },
     "execution_count": 6,
     "metadata": {},
     "output_type": "execute_result"
    }
   ],
   "source": [
    "frequencySort(\"tree\")"
   ]
  },
  {
   "cell_type": "markdown",
   "metadata": {},
   "source": [
    "<b>347 Top K Frequent Elements </b>. \n",
    "\n",
    "O(N) way\n",
    "Collections.Counter( ). is O(N). Itertools.chain method is O(N) too  \n",
    "First get {word: freq} dict, then create an empty bucket = [[] for _ in nums] the genius part is fill the bucket with bucket[-freq].append(word), the -freq will make sure the first non empty element in the bucket is the list of words with highest freq. chain method easily get away the empty list  \n",
    "\n",
    "<b>ATTENTION</b>:  \n",
    "DONT USE result = [ [ ] ] * len(nums)      \n",
    "this step is wrong, all child[ ] ends up pointing to a same space  "
   ]
  },
  {
   "cell_type": "code",
   "execution_count": 15,
   "metadata": {},
   "outputs": [],
   "source": [
    "from collections import Counter, defaultdict\n",
    "from itertools import chain\n",
    "\n",
    "def topKFrequent(nums, k):\n",
    "    word_freq = Counter(nums) # {w: f}\n",
    "    bucket = [[] for _ in nums]  # using len(nums), even though longer than needed, it is okay\n",
    "    for word, freq in word_freq.items():\n",
    "        bucket[-freq].append(word)  # genius step, -freq will ensure highest freq words are on the front of bucket\n",
    "    return list(chain(*bucket))[:k] # chain() will merge all sub [] together and get rid of empty []"
   ]
  },
  {
   "cell_type": "code",
   "execution_count": 16,
   "metadata": {},
   "outputs": [
    {
     "data": {
      "text/plain": [
       "[1, 2]"
      ]
     },
     "execution_count": 16,
     "metadata": {},
     "output_type": "execute_result"
    }
   ],
   "source": [
    "topKFrequent([1,1,1,2,2,3], 2)"
   ]
  },
  {
   "cell_type": "markdown",
   "metadata": {},
   "source": [
    "this way is smart and easy to explain => <b> remember this one </b>  \n",
    "O(N)"
   ]
  },
  {
   "cell_type": "code",
   "execution_count": 1,
   "metadata": {},
   "outputs": [],
   "source": [
    "def topKFrequent(nums):\n",
    "    \"\"\"Counter is O(N)\"\"\"\n",
    "    count_dict = Counter(nums)\n",
    "    freq_word_dict = defaultdict(list)\n",
    "    for word, freq in count_dict.items():\n",
    "        freq_word_dict[freq].append(word)\n",
    "\n",
    "    \"\"\"You can return the answer in any order. so if [1,1,1,2,2,3,3], k = 2\n",
    "    my understanding is [1,2], [1,3] are both ok\n",
    "    \"\"\"\n",
    "    l = len(nums)\n",
    "    res = []\n",
    "    for i in range(l, 0, -1): # max freq would be <=len(nums)\n",
    "        if i in freq_word_dict and len(res)<k:\n",
    "            res+=freq_word_dict[i]\n",
    "    return res[:k]\n",
    "            "
   ]
  },
  {
   "cell_type": "markdown",
   "metadata": {},
   "source": [
    "O(NlogK) way of doing it. log K because after counter, it shrinks to k unique value"
   ]
  },
  {
   "cell_type": "code",
   "execution_count": 1,
   "metadata": {},
   "outputs": [],
   "source": [
    "from collections import Counter\n",
    "def topKFrequent(nums, k):\n",
    "    # O(1) time \n",
    "    if k == len(nums):\n",
    "        return nums\n",
    "    # O(N)\n",
    "    word_freq = Counter(nums)\n",
    "#     word_freq = sorted(word_freq.items(), key=lambda x: x[1], reverse=True)  # O(NLog(k))\n",
    "    word_freq = word_freq.most_common()  # O(NLog(K))\n",
    "    print(word_freq)\n",
    "    result = [] \n",
    "    for i in range(k):\n",
    "        result.append(word_freq[i][0])  # because question said k is always valid, so no index out of bound error\n",
    "    return result\n",
    "        "
   ]
  },
  {
   "cell_type": "code",
   "execution_count": 2,
   "metadata": {},
   "outputs": [
    {
     "name": "stdout",
     "output_type": "stream",
     "text": [
      "[(1, 3), (2, 2), (3, 1)]\n"
     ]
    },
    {
     "data": {
      "text/plain": [
       "[1, 2]"
      ]
     },
     "execution_count": 2,
     "metadata": {},
     "output_type": "execute_result"
    }
   ],
   "source": [
    "topKFrequent([1,1,1,2,2,3], 2)"
   ]
  },
  {
   "cell_type": "markdown",
   "metadata": {},
   "source": [
    "<b>692 top K Frequent Words </b>  \n",
    "Counter and sorted() function, sorted dictionary based on freq DESC and value asc\n",
    "\n",
    "Also sort dictionary by values and then key and each based on different order type. \n",
    "sorted(a_dict.items(), key=lambda x: (-x[1], x[0]) )    -x[1] meaning order by value in desc\n",
    "Or sorted(a_dict, key=lambda x: (-a_dict[x], x) ) => x is the key, when loop a_dict, key is the value iterated\n"
   ]
  },
  {
   "cell_type": "code",
   "execution_count": 37,
   "metadata": {},
   "outputs": [],
   "source": [
    " def topKFrequent(words, k):\n",
    "    word_freq = Counter(words)\n",
    "    word_freq = sorted(word_freq.items(), key=lambda x: (-x[1], x[0]))\n",
    "    result = []\n",
    "    for i in range(k): # question assumes k is always valid\n",
    "        result.append(word_freq[i][0])\n",
    "    return result"
   ]
  },
  {
   "cell_type": "code",
   "execution_count": 38,
   "metadata": {},
   "outputs": [
    {
     "data": {
      "text/plain": [
       "['i', 'love']"
      ]
     },
     "execution_count": 38,
     "metadata": {},
     "output_type": "execute_result"
    }
   ],
   "source": [
    "words = [\"i\", \"love\", \"leetcode\", \"i\", \"love\", \"coding\"]\n",
    "k = 2\n",
    "topKFrequent(words, k)"
   ]
  },
  {
   "cell_type": "markdown",
   "metadata": {},
   "source": [
    "<b>1329.Sort the Matrix Diagonally </b>\n",
    "\n",
    "Finding patterns of the question, here the element in the same diagonal has same value of index i - index J\n",
    "So get same diagonal value out, sort, put them back. The temporary saving place’s add and pop method will affect the final big O\n",
    "\n",
    "The reason to sorted in reverse order is that pop() method of list returns the last item.\n",
    "So to make diagonal ascending, need to sort desc, then pop will reverse it back"
   ]
  },
  {
   "cell_type": "code",
   "execution_count": 48,
   "metadata": {},
   "outputs": [],
   "source": [
    "from collections import defaultdict\n",
    "def diagonalSort( mat):\n",
    "    \"\"\"\n",
    "    append an item to a lsit in python is O(1), pop the last item from a list\n",
    "    in python is O(1)\n",
    "    2 nested for loop is O(NM)\n",
    "    \"\"\"\n",
    "    m = len(mat)\n",
    "    n = len(mat[0])\n",
    "    diagonal_dict = defaultdict(list)   # a map to store all diagonal value\n",
    "    for i in range(m):\n",
    "        for j in range(n):\n",
    "            diagonal_dict[i-j].append(mat[i][j])  # for item in the same diagonal, the i-j value is the same\n",
    "    # sort each list inside of the diagonal_dict\n",
    "    diagonal_dict = dict(map(lambda x: (x[0], sorted(x[1],reverse=True)), diagonal_dict.items()))\n",
    "    for i in range(m):\n",
    "        for j in range(n):\n",
    "            mat[i][j] = diagonal_dict[i-j].pop()  # pop() returns the last item of the list, that is why REVERSE sort\n",
    "    return mat"
   ]
  },
  {
   "cell_type": "code",
   "execution_count": 49,
   "metadata": {},
   "outputs": [
    {
     "data": {
      "text/plain": [
       "[[1, 1, 1, 1], [1, 2, 2, 2], [1, 2, 3, 3]]"
      ]
     },
     "execution_count": 49,
     "metadata": {},
     "output_type": "execute_result"
    }
   ],
   "source": [
    "mat = [[3,3,1,1],[2,2,1,2],[1,1,1,2]]\n",
    "diagonalSort(mat)"
   ]
  },
  {
   "cell_type": "markdown",
   "metadata": {},
   "source": [
    "<b> 791.Custom Sort String </b>\n",
    "\n",
    "my first idea is using Counter() then construct the order based on S's order => O(N)\n",
    "There are other ways that are more efficient"
   ]
  },
  {
   "cell_type": "code",
   "execution_count": 50,
   "metadata": {},
   "outputs": [],
   "source": [
    "from collections import Counter\n",
    "def customSortString(S, T):  \n",
    "    \"\"\"make T into dict\"\"\"\n",
    "    t_dict = Counter(T)\n",
    "    result = \"\"\n",
    "    for s in S:\n",
    "        if s in t_dict:  # O(1)\n",
    "            result+= (s*t_dict.pop(s))\n",
    "    for c in t_dict:\n",
    "        result += (c*t_dict[c])\n",
    "    return result"
   ]
  },
  {
   "cell_type": "code",
   "execution_count": 51,
   "metadata": {},
   "outputs": [
    {
     "data": {
      "text/plain": [
       "'cbad'"
      ]
     },
     "execution_count": 51,
     "metadata": {},
     "output_type": "execute_result"
    }
   ],
   "source": [
    "S = \"cba\"\n",
    "T = \"abcd\"\n",
    "customSortString(S,T)"
   ]
  },
  {
   "cell_type": "markdown",
   "metadata": {},
   "source": [
    "<b>Ord()</b>: return a string representation of a char’s Unicode code, like old(‘a’) returns 97  \n",
    "Python dictionary has .pop() function as well  \n",
    "Using dictionary to help deciding the order  "
   ]
  },
  {
   "cell_type": "code",
   "execution_count": null,
   "metadata": {},
   "outputs": [],
   "source": [
    "def customSortString(S, T):\n",
    "    \"\"\"using sort and ord() => but not too efficient, sorted() is O(NlogN)\"\"\"\n",
    "    index_dict = {c:index for index, c in enumerate(S)}\n",
    "    return ''.join(sorted(T, key=lambda x: index_dict.get(x, len(T)+ord(x))))"
   ]
  },
  {
   "cell_type": "code",
   "execution_count": 55,
   "metadata": {},
   "outputs": [],
   "source": [
    "def customSortString_2(S, T):  \n",
    "    \"\"\"make S into dict, O(N)\"\"\"\n",
    "    count = {}\n",
    "    result = \"\"\n",
    "    for s in S:\n",
    "        count[s]=0\n",
    "    for t in T:\n",
    "        if t in S:\n",
    "            count[t]+=1\n",
    "        else:\n",
    "            result+=t\n",
    "    for s in S:\n",
    "        result +=s*count[s]\n",
    "    return result"
   ]
  },
  {
   "cell_type": "code",
   "execution_count": 56,
   "metadata": {},
   "outputs": [
    {
     "data": {
      "text/plain": [
       "'dcba'"
      ]
     },
     "execution_count": 56,
     "metadata": {},
     "output_type": "execute_result"
    }
   ],
   "source": [
    "S = \"cba\"\n",
    "T = \"abcd\"\n",
    "customSortString_2(S,T)"
   ]
  },
  {
   "cell_type": "markdown",
   "metadata": {},
   "source": [
    "<b>49. Group Anagrams </b>\n",
    "\n",
    "way 1: make a hashmap to store the words having same characters. the difference is how to construct the key.  \n",
    "one way is to use the sorted word, which make the complexity to O(NKlogK) where N is the length of array, K is avg words length"
   ]
  },
  {
   "cell_type": "code",
   "execution_count": 57,
   "metadata": {},
   "outputs": [],
   "source": [
    "def groupAnagrams(strs):\n",
    "    hash_map = defaultdict(list)\n",
    "    for w in strs:\n",
    "        k=tuple(sorted(w))\n",
    "        hash_map[k].append(w)\n",
    "    return list(hash_map.values())"
   ]
  },
  {
   "cell_type": "markdown",
   "metadata": {},
   "source": [
    "for constructing the key, i tried set(), list, they are not hashable, so cant be the key. \n",
    "tuple is hashable"
   ]
  },
  {
   "cell_type": "code",
   "execution_count": 58,
   "metadata": {},
   "outputs": [
    {
     "data": {
      "text/plain": [
       "[['eat', 'tea', 'ate'], ['tan', 'nat'], ['bat']]"
      ]
     },
     "execution_count": 58,
     "metadata": {},
     "output_type": "execute_result"
    }
   ],
   "source": [
    "strs = [\"eat\", \"tea\", \"tan\", \"ate\", \"nat\", \"bat\"]\n",
    "groupAnagrams(strs)"
   ]
  },
  {
   "cell_type": "markdown",
   "metadata": {},
   "source": [
    "way 2: if the count of each character is the same, then the words are anagram  \n",
    "first construct a list of 26 0s, representing posiitons for 26 characters. loop through each word, add count up on corresponding positions of the list.  \n",
    "Need to transform list into tuple to become the key of dictionary, because list is not hashbla.\n",
    "\n",
    "using builtin function ord(), which returns the integer to represent the unicode point of the character.\n",
    "\n",
    "The time complexity is O(NK) N is the length of array, K is the avg length of words"
   ]
  },
  {
   "cell_type": "code",
   "execution_count": 59,
   "metadata": {},
   "outputs": [],
   "source": [
    "def groupAnagrams(strs):\n",
    "    hash_map = defaultdict(list)\n",
    "    for w in strs:\n",
    "        k=[0]*26\n",
    "        for c in w:\n",
    "            k[ord(c)-ord('a')]+=1\n",
    "        hash_map[tuple(k)].append(w)\n",
    "    return list(hash_map.values())"
   ]
  },
  {
   "cell_type": "code",
   "execution_count": 60,
   "metadata": {},
   "outputs": [
    {
     "data": {
      "text/plain": [
       "[['eat', 'tea', 'ate'], ['tan', 'nat'], ['bat']]"
      ]
     },
     "execution_count": 60,
     "metadata": {},
     "output_type": "execute_result"
    }
   ],
   "source": [
    "strs = [\"eat\", \"tea\", \"tan\", \"ate\", \"nat\", \"bat\"]\n",
    "groupAnagrams(strs)"
   ]
  },
  {
   "cell_type": "markdown",
   "metadata": {},
   "source": [
    "<b>937. Reorder Data in Logs Files </b>  \n",
    "\n",
    "This one is for come up with a helper function which can be used in the sorted() key param part.  \n",
    "The helper function return a tuple, first value of the tuple is used for comparision first, second is used second, third is used third. if no other value provided, keep the original order"
   ]
  },
  {
   "cell_type": "code",
   "execution_count": 64,
   "metadata": {},
   "outputs": [],
   "source": [
    "def reorderLogFiles(logs):\n",
    "    def helper(log):\n",
    "        # for each indivisual log, return a tuple of values used in sorted\n",
    "        # first value in the tuple is used for comparison first, second then used second...\n",
    "        id_, rest = log.split(\" \", 1) # only split 1 time\n",
    "        if rest[0].isalpha():\n",
    "            # first char of the rest of logs\n",
    "            return (0, rest, id_)\n",
    "        else:\n",
    "            return (1, )\n",
    "    return sorted(logs, key=helper)    "
   ]
  },
  {
   "cell_type": "code",
   "execution_count": 65,
   "metadata": {},
   "outputs": [
    {
     "data": {
      "text/plain": [
       "['let1 art can',\n",
       " 'let3 art zero',\n",
       " 'let2 own kit dig',\n",
       " 'dig1 8 1 5 1',\n",
       " 'dig2 3 6']"
      ]
     },
     "execution_count": 65,
     "metadata": {},
     "output_type": "execute_result"
    }
   ],
   "source": [
    "logs = [\"dig1 8 1 5 1\",\"let1 art can\",\"dig2 3 6\",\"let2 own kit dig\",\"let3 art zero\"]\n",
    "reorderLogFiles(logs)"
   ]
  },
  {
   "cell_type": "markdown",
   "metadata": {},
   "source": [
    "<b>56.Merge intervals </b>. \n",
    "\n",
    "idea is to first sort the array using first item. then compare the adjacent elements. if they overlapped, merge them into one. otherwise, save the first element into the result and move forward for comparison  \n",
    "sorting taks O(NlogN), comparison takes O(N), so total O(NlogN). "
   ]
  },
  {
   "cell_type": "markdown",
   "metadata": {},
   "source": [
    "using heapq is the same idea too"
   ]
  },
  {
   "cell_type": "code",
   "execution_count": 69,
   "metadata": {},
   "outputs": [],
   "source": [
    "def merge(intervals):\n",
    "    \"\"\"Sorting takes O(n log(n)) and merging the intervals takes O(n). So, the resulting algorithm takes O(n log(n)).\"\"\"\n",
    "    # if not using heapq\n",
    "    if not intervals:\n",
    "        return []\n",
    "    sorted_intervals = sorted(intervals, key=lambda x: x[0])\n",
    "    result = []\n",
    "    left = sorted_intervals[0]\n",
    "    for right in sorted_intervals[1:]:\n",
    "        if left[-1]>=right[0]:\n",
    "            left[-1]=max(left[-1], right[-1])\n",
    "        else:\n",
    "            result.append(left)\n",
    "            left = right\n",
    "    result.append(left)\n",
    "    return result"
   ]
  },
  {
   "cell_type": "code",
   "execution_count": 70,
   "metadata": {},
   "outputs": [
    {
     "data": {
      "text/plain": [
       "[[1, 6], [15, 18]]"
      ]
     },
     "execution_count": 70,
     "metadata": {},
     "output_type": "execute_result"
    }
   ],
   "source": [
    "intervals = [[1,3],[3,6],[4,5],[15,18]]\n",
    "merge(intervals)"
   ]
  },
  {
   "cell_type": "markdown",
   "metadata": {},
   "source": [
    "a more precise version:"
   ]
  },
  {
   "cell_type": "code",
   "execution_count": null,
   "metadata": {},
   "outputs": [],
   "source": [
    "def merge(intervals):\n",
    "    \"\"\"Sorting takes O(n log(n)) and merging the intervals takes O(n). So, the resulting algorithm takes O(n log(n)).\"\"\"\n",
    "    \"\"\"a precise version\"\"\"\n",
    "    intervals.sort(key = lambda x: x[0])\n",
    "    result = []\n",
    "\n",
    "    for item in intervals:\n",
    "        if not result or result[-1][-1]<item[0]:\n",
    "            # if result is empty (just start)\n",
    "            # or NO overlapping\n",
    "            result.append(item)\n",
    "        else:\n",
    "            result[-1][-1] = max(result[-1][-1], item[-1])\n",
    "    return result"
   ]
  },
  {
   "cell_type": "code",
   "execution_count": 67,
   "metadata": {},
   "outputs": [
    {
     "data": {
      "text/plain": [
       "[[1, 6], [15, 18]]"
      ]
     },
     "execution_count": 67,
     "metadata": {},
     "output_type": "execute_result"
    }
   ],
   "source": [
    "intervals = [[1,3],[3,6],[4,5],[15,18]]\n",
    "merge(intervals)"
   ]
  },
  {
   "cell_type": "markdown",
   "metadata": {},
   "source": [
    "<b>57 insert interval </b>  \n",
    "similar to the problem 56 merge intervals\n",
    "\n",
    "way 1: my way, update the newInterval when merge with existing one, so it can be used to compare with next item in the intervals.\n"
   ]
  },
  {
   "cell_type": "code",
   "execution_count": 1,
   "metadata": {},
   "outputs": [],
   "source": [
    "def insert(intervals, newInterval):\n",
    "    result = []\n",
    "    for ind, item in enumerate(intervals):\n",
    "        if item[0] > newInterval[1]:\n",
    "            result.append(newInterval)\n",
    "            result.extend(intervals[ind:])\n",
    "            return result  # => here no need to loop other items in the intervals since the newInterval is merged already\n",
    "        elif item[1]<newInterval[0]:\n",
    "            result.append(item)\n",
    "        else:\n",
    "            newitem = [min(item[0], newInterval[0]), max(item[1], newInterval[1])]\n",
    "            newInterval = newitem\n",
    "    result.append(newInterval) # can take care empty intervals case, and the case when last item left is the newInterval\n",
    "    return result"
   ]
  },
  {
   "cell_type": "markdown",
   "metadata": {},
   "source": [
    "way 2: from da shen. loop over each item, update the start and end, which is upating the new interval too"
   ]
  },
  {
   "cell_type": "code",
   "execution_count": 2,
   "metadata": {},
   "outputs": [],
   "source": [
    "def insert(intervals, newInterval):\n",
    "      \n",
    "    start, end = newInterval[0], newInterval[1]\n",
    "    left, right = [], []\n",
    "    for item in intervals:\n",
    "        if item[1] < start:\n",
    "            left.append(item)\n",
    "        elif item[0]>end:\n",
    "            right.append(item)\n",
    "        else:\n",
    "            start = min(start, item[0])\n",
    "            end = max(end, item[1])\n",
    "    return left+[[start, end]]+right"
   ]
  },
  {
   "cell_type": "markdown",
   "metadata": {},
   "source": [
    "inspire by the way 2, i update the way 1 method, with make it faster!"
   ]
  },
  {
   "cell_type": "code",
   "execution_count": 5,
   "metadata": {},
   "outputs": [],
   "source": [
    "def insert(intervals, newInterval):\n",
    "    # using start, and end instead of updating the newInterval var every time after updating start and end  \n",
    "    start, end = newInterval[0], newInterval[1]\n",
    "    result = []\n",
    "    for ind, item in enumerate(intervals):\n",
    "        if item[0] > end:\n",
    "            result.append([start, end])\n",
    "            result.extend(intervals[ind:])\n",
    "            return result  # => here no need to loop other items in the intervals since the newInterval is merged already\n",
    "        elif item[1]<start:\n",
    "            result.append(item)\n",
    "        else:\n",
    "            start, end = min(item[0], start), max(item[1], end)\n",
    "    result.append([start, end]) # can take care empty intervals case, and the case when last item left is the newInterval\n",
    "    return result"
   ]
  },
  {
   "cell_type": "code",
   "execution_count": 3,
   "metadata": {},
   "outputs": [
    {
     "data": {
      "text/plain": [
       "[[1, 5], [6, 9]]"
      ]
     },
     "execution_count": 3,
     "metadata": {},
     "output_type": "execute_result"
    }
   ],
   "source": [
    "intervals = [[1,3],[6,9]]\n",
    "newInterval = [2,5]\n",
    "insert(intervals, newInterval)"
   ]
  },
  {
   "cell_type": "markdown",
   "metadata": {},
   "source": [
    "<b>252.Meeting room </b>  \n",
    "\n",
    "logic is the same as above\n"
   ]
  },
  {
   "cell_type": "code",
   "execution_count": 73,
   "metadata": {},
   "outputs": [],
   "source": [
    "def canAttendMeetings(intervals):\n",
    "    if not intervals:\n",
    "        return True\n",
    "    intervals.sort(key=lambda x: x[0])\n",
    "    last_meeting = intervals[0]\n",
    "    for next_meeting in intervals[1:]:\n",
    "        if last_meeting[-1]>next_meeting[0]:\n",
    "            return False\n",
    "        else:\n",
    "            last_meeting = next_meeting\n",
    "    return True"
   ]
  },
  {
   "cell_type": "code",
   "execution_count": 74,
   "metadata": {},
   "outputs": [
    {
     "data": {
      "text/plain": [
       "False"
      ]
     },
     "execution_count": 74,
     "metadata": {},
     "output_type": "execute_result"
    }
   ],
   "source": [
    "intervals = [[0,30],[5,10],[15,20]]\n",
    "canAttendMeetings(intervals)"
   ]
  },
  {
   "cell_type": "code",
   "execution_count": 75,
   "metadata": {},
   "outputs": [],
   "source": [
    "def canAttendMeetings(intervals):\n",
    "    if not intervals:\n",
    "        return True\n",
    "    intervals.sort(key=lambda x: x[0])\n",
    "    n = len(intervals)\n",
    "    for i in range(n-1):\n",
    "        if intervals[i][-1]>intervals[i+1][0]:\n",
    "            return False\n",
    "    return True"
   ]
  },
  {
   "cell_type": "code",
   "execution_count": 76,
   "metadata": {},
   "outputs": [
    {
     "data": {
      "text/plain": [
       "False"
      ]
     },
     "execution_count": 76,
     "metadata": {},
     "output_type": "execute_result"
    }
   ],
   "source": [
    "intervals = [[0,30],[5,10],[15,20]]\n",
    "canAttendMeetings(intervals)"
   ]
  },
  {
   "cell_type": "markdown",
   "metadata": {},
   "source": [
    "<b>435.Non-overlapping Intervals</b>  \n",
    "sort by end is the key, keep the intervals ends first, so latter ones can have more room, it will require less amount of items to be removed compare with sort by start."
   ]
  },
  {
   "cell_type": "code",
   "execution_count": 5,
   "metadata": {},
   "outputs": [],
   "source": [
    "def eraseOverlapIntervals(intervals) :\n",
    "    \"\"\"find max number of items that are not overlapping\"\"\"\n",
    "    if not intervals:\n",
    "        return 0\n",
    "     # sort by last number, so can find MIN number of intervals need to remove\n",
    "        # keep the one ends early will give latter one more room to not overlap\n",
    "    intervals.sort(key = lambda x: x[1]) \n",
    "    start = intervals[0]\n",
    "    count = 1 # count is the non-overlapping count\n",
    "    for end in intervals[1:]:\n",
    "        if start[-1]<=end[0]:\n",
    "            count += 1\n",
    "            start = end\n",
    "    return len(intervals)-count"
   ]
  },
  {
   "cell_type": "code",
   "execution_count": 6,
   "metadata": {},
   "outputs": [],
   "source": [
    "def eraseOverlapIntervals(intervals):\n",
    "    \"\"\"find max number of items that are not overlapping\"\"\"\n",
    "    if not intervals:\n",
    "        return 0\n",
    "    # sort by last number, so can find MIN number of intervals need to remove\n",
    "\n",
    "    # keep the one ends early will give latter one more room to not overlap\n",
    "    intervals.sort(key = lambda x: x[1]) \n",
    "    end = float('-inf')\n",
    "    result = 0\n",
    "    for i in intervals:\n",
    "        if i[0]>=end:\n",
    "            # no overlapping, keep i\n",
    "            end = i[1]\n",
    "        else:\n",
    "            # overlapping occurs\n",
    "            result+=1\n",
    "    return result"
   ]
  },
  {
   "cell_type": "markdown",
   "metadata": {},
   "source": [
    "<b> 731 My calendar II </b>\n",
    "\n",
    "one array for each event, another array for overlapped interval.  \n",
    "the statement to check overlapped is smart.  \n",
    "Time is O(N^2): O(N) for each book operation and there are N booking operations. So N * N\n"
   ]
  },
  {
   "cell_type": "code",
   "execution_count": 8,
   "metadata": {},
   "outputs": [],
   "source": [
    "class MyCalendarTwo:\n",
    "\n",
    "    def __init__(self):\n",
    "        self.overlaps =[]  # [(start, end)] save overlapped intervals\n",
    "        self.calendar = [] # [(start, end)] save booked events\n",
    "\n",
    "    def book(self, start: int, end: int) -> bool:\n",
    "        # check if double booked or not\n",
    "        for i, j in self.overlaps:\n",
    "            if start < j and end >i:\n",
    "                # the above statement takes care of three scenarios:\n",
    "                # i start j end; i start, end, j; start, i, end, j\n",
    "                # only eliminate the case: start, end, i, j\n",
    "                # my original though is start<j and start>i, but it wont take care of the case: start, i, end, j \n",
    "                return False\n",
    "        for i, j in self.calendar:\n",
    "            if start <j and end >i:\n",
    "                # update the overlap:\n",
    "                self.overlaps.append((max(start,i), min(end,j)))\n",
    "        # no matter what, update the calendar list\n",
    "        self.calendar.append((start, end))\n",
    "        return True\n",
    "\n",
    "\n",
    "# Your MyCalendarTwo object will be instantiated and called as such:\n",
    "# obj = MyCalendarTwo()\n",
    "# param_1 = obj.book(start,end)"
   ]
  },
  {
   "cell_type": "code",
   "execution_count": 11,
   "metadata": {
    "scrolled": false
   },
   "outputs": [
    {
     "name": "stdout",
     "output_type": "stream",
     "text": [
      "True\n",
      "True\n",
      "True\n",
      "False\n",
      "True\n",
      "True\n"
     ]
    }
   ],
   "source": [
    "MyCalendar = MyCalendarTwo()\n",
    "print(MyCalendar.book(10, 20)) # returns true\n",
    "print(MyCalendar.book(50, 60)) # returns true\n",
    "print(MyCalendar.book(10, 40)) # returns true\n",
    "print(MyCalendar.book(5, 15)) # returns false\n",
    "print(MyCalendar.book(5, 10)) # returns true\n",
    "print(MyCalendar.book(25, 55)) # returns true"
   ]
  },
  {
   "cell_type": "markdown",
   "metadata": {},
   "source": [
    "using way in calendar III but very slow because of the sort"
   ]
  },
  {
   "cell_type": "code",
   "execution_count": 4,
   "metadata": {},
   "outputs": [],
   "source": [
    "from collections import defaultdict\n",
    "class MyCalendarTwo:\n",
    "\n",
    "    def __init__(self):\n",
    "        self.calendar = defaultdict(int) # {time: int} +1 for start, -1 for end\n",
    "\n",
    "    def book(self, start: int, end: int) -> bool:\n",
    "        \n",
    "        self.calendar[start]+=1\n",
    "        self.calendar[end]-=1\n",
    "        ongoing = 0\n",
    "        max_ongoing = 0\n",
    "        for t in sorted(self.calendar.keys()):\n",
    "            ongoing += self.calendar[t]\n",
    "            max_ongoing = max(max_ongoing, ongoing)\n",
    "            if max_ongoing >=3:\n",
    "                # revert adding the interval to calendar\n",
    "                self.calendar[start]-=1\n",
    "                self.calendar[end]+=1\n",
    "                return False\n",
    "        return True    \n"
   ]
  },
  {
   "cell_type": "markdown",
   "metadata": {},
   "source": [
    "<b> 732. My Caldendar III </b>\n",
    "\n",
    "A totally different way than my calendar II.  \n",
    "Count the ongoing meetings, need to sort the meeting by start time, or making sure when a new time is added, the event’s starting time is sorted. In this way the counting can make sense \n",
    "\n",
    "for example: \n",
    "[\"MyCalendarThree\",\"book\",\"book\",\"book\",\"book\",\"book\",\"book\"]  \n",
    "[[],[10,20],[50,60],[10,40],[5,15],[5,10],[25,55]]  \n",
    "\n",
    "[10, 20] => k: 1, 0 > 1  \n",
    "[10,20],[50,60] => k:1, 0, 1, 0 => 1  \n",
    "[10,20],[50,60],[10,40] => [10,10, 20, 40,50,60 ] => k: 1,2,1,0,1,0 => 2  \n",
    "[10,20],[50,60],[10,40],[5,15] => [5,10,10,15,20,40,50,60] => k:1,2,3,2,1,0,1,0 => 3\n"
   ]
  },
  {
   "cell_type": "code",
   "execution_count": 2,
   "metadata": {},
   "outputs": [],
   "source": [
    "from collections import defaultdict\n",
    "class MyCalendarThree:\n",
    "\n",
    "    def __init__(self):\n",
    "        self.time_line = defaultdict(int) # {'time': 1 (start) or -1 (end)}\n",
    "\n",
    "    def book(self, start: int, end: int) -> int:\n",
    "        self.time_line[start] += 1\n",
    "        self.time_line[end]-=1\n",
    "        ongoing = 0\n",
    "        k = 0\n",
    "        for t in sorted(self.time_line.keys()):\n",
    "            ongoing += (self.time_line[t])\n",
    "            k = max(k, ongoing)\n",
    "            \n",
    "        return k\n",
    "        "
   ]
  },
  {
   "cell_type": "markdown",
   "metadata": {},
   "source": [
    "using bisect.insort to ensure the new start and end are added in a sorted way"
   ]
  },
  {
   "cell_type": "code",
   "execution_count": 3,
   "metadata": {},
   "outputs": [],
   "source": [
    "from bisect import insort\n",
    "class MyCalendarThree:\n",
    "\n",
    "    def __init__(self):\n",
    "        self.time_line = [] # (time, 1 or -1)\n",
    "\n",
    "    def book(self, start: int, end: int) -> int:\n",
    "        # ensure start and end are added to still keep time_line sorted\n",
    "        insort(self.time_line, (start, 1))\n",
    "        insort(self.time_line, (end, -1))\n",
    "        ongoing = 0\n",
    "        k = 0\n",
    "        for t, v in self.time_line:\n",
    "            ongoing += v\n",
    "            k = max(k, ongoing)\n",
    "            \n",
    "        return k\n",
    "        "
   ]
  },
  {
   "cell_type": "markdown",
   "metadata": {},
   "source": [
    "<b> 253.Meeting Rooms II </b>"
   ]
  },
  {
   "cell_type": "code",
   "execution_count": 7,
   "metadata": {},
   "outputs": [],
   "source": [
    "def minMeetingRooms(intervals):\n",
    "    starts = sorted(i[0] for i in intervals)\n",
    "    ends = sorted(i[1] for i in intervals)\n",
    "    available = room_needed = 0\n",
    "    s = 0 # start meeting pointer\n",
    "    e = 0  # end meeting pointer\n",
    "    while s < len(intervals):\n",
    "        # need a room\n",
    "        if starts[s] < ends[e]:\n",
    "            if available > 0:\n",
    "                available -= 1\n",
    "            else:\n",
    "                room_needed += 1\n",
    "            s+=1\n",
    "        else:\n",
    "            # a previous meeting is ended before the next one starts:\n",
    "            # it will keep checking, and it works becauses when s == e, it will need a room\n",
    "            available += 1\n",
    "            e+=1\n",
    "    return room_needed"
   ]
  },
  {
   "cell_type": "code",
   "execution_count": 8,
   "metadata": {},
   "outputs": [
    {
     "data": {
      "text/plain": [
       "2"
      ]
     },
     "execution_count": 8,
     "metadata": {},
     "output_type": "execute_result"
    }
   ],
   "source": [
    "intervals=[[0,2],[1,3],[2,4],[3,5],[4,6]]\n",
    "minMeetingRooms(intervals)"
   ]
  },
  {
   "cell_type": "markdown",
   "metadata": {},
   "source": [
    "<b> Merge Sort</b>\n",
    "\n",
    "<b> 315 Count of Smaller Numbers After self </b>"
   ]
  },
  {
   "cell_type": "code",
   "execution_count": 6,
   "metadata": {},
   "outputs": [],
   "source": [
    "def countSmaller(nums):\n",
    "    \"\"\"bisection, mergesort, binary tree\"\"\"\n",
    "\n",
    "    def mergesort(nums, indexes, start, end):\n",
    "        # start, end index\n",
    "        # indexes: a list of index\n",
    "        if end <= start:\n",
    "            return\n",
    "        mid = (start+end)//2 # split the array into half\n",
    "        mergesort(nums, indexes, start, mid)\n",
    "        mergesort(nums, indexes, mid+1, end)\n",
    "\n",
    "        merge(nums, indexes, start, end)\n",
    "\n",
    "    def merge(nums, indexes, start, end):\n",
    "        mid = (start+end)//2\n",
    "        left = start\n",
    "        right = mid+1\n",
    "        right_count = 0\n",
    "        # the order of indexes after merge sort, only for index from start to end\n",
    "        new_indexes = [0]*(end-start+1)\n",
    "\n",
    "        sort_index = 0 # keep track of position for the new index array\n",
    "        while left<=mid and right<=end:\n",
    "            # merge sorting, if element in the right < element in the left\n",
    "            # find an element on the right side smaller than the element in the left side\n",
    "            if nums[indexes[right]] < nums[indexes[left]]:\n",
    "                # merge sort result, keep the smaller item's index in a new index list\n",
    "                new_indexes[sort_index] = indexes[right]\n",
    "                # ??\n",
    "                right_count+=1\n",
    "                # move to next item in the right part\n",
    "                right += 1\n",
    "            else:\n",
    "                # left element is smaller, updates its count\n",
    "                new_indexes[sort_index] = indexes[left]\n",
    "                # this is the important step\n",
    "                # in the part of [start, end], for value in position index[left], so far found right_count this amount of items smaller than it\n",
    "                # += because in the other part of array, like mid to end, there can be other items smaller than value in position index[left]\n",
    "                count[indexes[left]] += right_count\n",
    "                left+=1\n",
    "            # merge sort next position\n",
    "            sort_index+=1\n",
    "        while left <= mid:\n",
    "            new_indexes[sort_index] = indexes[left]\n",
    "            count[indexes[left]] += right_count\n",
    "            left += 1\n",
    "            sort_index+=1\n",
    "        while right<=end:\n",
    "            new_indexes[sort_index] = indexes[right]\n",
    "            right+=1\n",
    "            sort_index+=1\n",
    "        for i in range(start, end+1):\n",
    "            indexes[i]=new_indexes[i-start]\n",
    "\n",
    "\n",
    "    count = [0]*len(nums)\n",
    "    indexes = list(range(len(nums)))\n",
    "    mergesort(nums,indexes, 0, len(nums)-1)\n",
    "\n",
    "    return count"
   ]
  },
  {
   "cell_type": "code",
   "execution_count": 7,
   "metadata": {},
   "outputs": [
    {
     "data": {
      "text/plain": [
       "[2, 1, 1, 0]"
      ]
     },
     "execution_count": 7,
     "metadata": {},
     "output_type": "execute_result"
    }
   ],
   "source": [
    "nums = [5,2,6,1]\n",
    "countSmaller(nums)"
   ]
  },
  {
   "cell_type": "markdown",
   "metadata": {},
   "source": [
    "same idea but in a more concise way"
   ]
  },
  {
   "cell_type": "code",
   "execution_count": null,
   "metadata": {},
   "outputs": [],
   "source": [
    "def countSmaller(nums):\n",
    "        \"\"\"mergesort\"\"\"\n",
    "    def sort_helper(indexes):\n",
    "        half = len(indexes) // 2\n",
    "        if half:\n",
    "            left, right = sort_helper(indexes[:half]), sort_helper(indexes[half:])\n",
    "            for i in range(len(indexes))[::-1]:\n",
    "                if not right or left and nums[left[-1]] > nums[right[-1]]:\n",
    "                    smaller[left[-1]] += len(right)\n",
    "                    indexes[i] = left.pop()\n",
    "                else:\n",
    "                    indexes[i] = right.pop()\n",
    "        return indexes\n",
    "    smaller = [0] * len(nums)\n",
    "    sort_helper(list(range(len(nums))))\n",
    "    return smaller\n"
   ]
  },
  {
   "cell_type": "markdown",
   "metadata": {},
   "source": [
    "<b> 179 largest number </b>\n",
    "\n",
    "this problem tests different types of sort. the compare function that adds two numbers in string format then compare is the key to address the order "
   ]
  },
  {
   "cell_type": "markdown",
   "metadata": {},
   "source": [
    "bubble sort:  \n",
    "Repeatedly swapping the adjacent elements if they are in wrong order  \n",
    "Worse case: O(N^2)  \n",
    "Average case: O(N^2)  \n",
    "Best case: O(N)  \n",
    " "
   ]
  },
  {
   "cell_type": "code",
   "execution_count": null,
   "metadata": {},
   "outputs": [],
   "source": [
    "def helper_compare(n1, n2):\n",
    "    return str(n1)+str(n2) > str(n2)+str(n1)"
   ]
  },
  {
   "cell_type": "code",
   "execution_count": 1,
   "metadata": {},
   "outputs": [],
   "source": [
    "def largestNumber(nums):\n",
    "    \"\"\"bubble sort O(N^2), move smallest item in the last position\"\"\"\n",
    "    for i in range(len(nums)+1, 1, -1): # i in [l+1, 2]\n",
    "        for j in range(1, i-1): # [1, l-1] => [1, 1]=> []\n",
    "            if not helper_compare(nums[j-1], nums[j]):\n",
    "                nums[j-1], nums[j] = nums[j], nums[j-1]\n",
    "    res = \"\".join(map(str, nums)).lstrip(\"0\")\n",
    "    return res if res else \"0\" "
   ]
  },
  {
   "cell_type": "code",
   "execution_count": 2,
   "metadata": {},
   "outputs": [
    {
     "data": {
      "text/plain": [
       "'9534330'"
      ]
     },
     "execution_count": 2,
     "metadata": {},
     "output_type": "execute_result"
    }
   ],
   "source": [
    "nums = [3,30,34,5,9]\n",
    "largestNumber(nums)"
   ]
  },
  {
   "cell_type": "markdown",
   "metadata": {},
   "source": [
    "selecton sort:  \n",
    "It is a in-place comparison sorting also. finding the smallest element in the unsorted sublist, exchanging (swapping) it with the leftmost unsorted element (putting it in sorted order), and moving the sublist boundaries one element to the right. So it maintains two subarray: one is sorted, another is still unsorted\n",
    "\n",
    "Here it find the smallest item in the left unsorted part, and replace with the right part.\n",
    "rightest position is the first to be replaced.\n",
    "\n",
    "worst, best, avg:  O(N^2)"
   ]
  },
  {
   "cell_type": "code",
   "execution_count": 1,
   "metadata": {},
   "outputs": [],
   "source": [
    "def largestNumber(nums):\n",
    "    \"\"\"selection sort, maintain two list, one is sorted, the other is unsorted. keep finding the smallest element in the unsorted sublist, swap to put it in the right position to extend the sorted list\"\"\"\n",
    "    def helper_compare(n1, n2):\n",
    "        return str(n1) + str(n2) > str(n2)+str(n1)\n",
    "    for i in range(len(nums), 1, -1): # [l, 2]\n",
    "        tmp = 0 # save index for smallest item\n",
    "        for j in range(i): # [0, l-1], [0, 1]\n",
    "            if not helper_compare(nums[j], nums[tmp]):\n",
    "                tmp = j\n",
    "        nums[tmp], nums[i-1] = nums[i-1], nums[tmp]\n",
    "    res = \"\".join(map(str, nums)).lstrip(\"0\")\n",
    "    return res if res else \"0\" \n",
    "\n"
   ]
  },
  {
   "cell_type": "markdown",
   "metadata": {},
   "source": [
    "merge sort:  \n",
    "split array in half until only one item left, then compare and merge.  \n",
    "O(NlogN)"
   ]
  },
  {
   "cell_type": "code",
   "execution_count": 2,
   "metadata": {},
   "outputs": [],
   "source": [
    "def largestNumber(nums):\n",
    "        \"\"\"merge sort\"\"\"\n",
    "        def compare(n1, n2):\n",
    "            \"\"\"n1, n2 is the item\"\"\"\n",
    "            return str(n1)+str(n2) > str(n2)+str(n1)\n",
    "        def mergeSort(nums, l, r):\n",
    "            \"\"\"split array until one element, then merge from bottom\n",
    "            l,r are the valid index\n",
    "            \"\"\"\n",
    "            \n",
    "            # base case:\n",
    "            if l > r:\n",
    "                return\n",
    "            if l == r:\n",
    "                return [nums[l]]  # why return a list of element=> left or right need to be a list, because merge() takes in list\n",
    "            mid = l+(r-l)//2\n",
    "            left = mergeSort(nums, l, mid)\n",
    "            right = mergeSort(nums, mid+1, r)\n",
    "            return merge(left, right)\n",
    "        \n",
    "        def merge(l_array, r_array):\n",
    "            \"\"\"merge two array in descending order\"\"\"\n",
    "            res, i, j = [], 0, 0\n",
    "            while i<len(l_array) and j<len(r_array):\n",
    "                if compare(l_array[i], r_array[j]):\n",
    "                    # l_array[i] > r_array[j]\n",
    "                    res.append(l_array[i])\n",
    "                    i+=1\n",
    "                else:\n",
    "                    res.append(r_array[j])\n",
    "                    j+=1\n",
    "            # it can happen that l_array or r_array has not finished yet\n",
    "            res.extend(l_array[i:] or r_array[j:])\n",
    "            return res        \n",
    "                \n",
    "        sorted_num = mergeSort(nums, 0, len(nums)-1)    \n",
    "        res = \"\".join(map(str, sorted_num)).lstrip(\"0\")\n",
    "        return res if res else \"0\"\n",
    "\n",
    "            "
   ]
  },
  {
   "cell_type": "markdown",
   "metadata": {},
   "source": [
    "quick sort:  \n",
    "having a pivot value, all values in the left of the pivot position should be larger than it, all values in the right side of the pivot position should be smaller than it.   \n",
    "ave: O(NlogN). \n",
    "worst: O(N^2)"
   ]
  },
  {
   "cell_type": "code",
   "execution_count": 4,
   "metadata": {},
   "outputs": [],
   "source": [
    "def largestNumber(nums):\n",
    "    \"\"\"quick sort, having a partition\"\"\"\n",
    "    def compare(n1, n2):\n",
    "        \"\"\"n1, n2 are the real item in the array\"\"\"\n",
    "        return str(n1)+str(n2) > str(n2)+str(n1)\n",
    "    def partition(nums, l, r):\n",
    "        \"\"\"l, r are valid index\"\"\"\n",
    "        low = l\n",
    "        pivot = nums[r]\n",
    "        for i in range(l, r):\n",
    "            if compare(nums[i], pivot):\n",
    "                nums[low], nums[i] = nums[i], nums[low]\n",
    "                low += 1\n",
    "        nums[low], nums[r] = nums[r], nums[low]\n",
    "        return low\n",
    "    def quickSort(nums, l, r):\n",
    "        if l >= r:\n",
    "            # in-place sort has finished\n",
    "            return\n",
    "        pos = partition(nums, l, r)\n",
    "        quickSort(nums, l, pos-1)\n",
    "        quickSort(nums, pos+1, r)\n",
    "\n",
    "    quickSort(nums, 0, len(nums)-1)\n",
    "    res = \"\".join(map(str, nums)).lstrip(\"0\")\n",
    "    return res if res else \"0\"\n",
    "        "
   ]
  },
  {
   "cell_type": "markdown",
   "metadata": {},
   "source": [
    "<b> 767 reorganize string </b>\n",
    "\n",
    "the key is to use two sorts, first make sure the char in lexical order, secondly sort by its count! so \"aab\" => \"baa\".  \n",
    "Then put the first half in odd index place, last half in even index place. Using python’s inplace switch.\n"
   ]
  },
  {
   "cell_type": "code",
   "execution_count": 5,
   "metadata": {},
   "outputs": [],
   "source": [
    "def reorganizeString(S):\n",
    "    l = len(S)\n",
    "    if not l:\n",
    "        return \"\"\n",
    "    # first sort by char lexical order, then sort by count of chars\n",
    "    # can solve the case like \"aab\", if not sort by count, wont get the right answer\n",
    "    # the two sorts are the key\n",
    "    new_s = sorted(sorted(S), key=S.count)\n",
    "    mid = l//2\n",
    "    new_s[1::2], new_s[::2] = new_s[:mid], new_s[mid:]\n",
    "    # new_s[-1:]!=new_s[-2:-1] returns 0 or 1\n",
    "    return ''.join(new_s) * (new_s[-1:]!=new_s[-2:-1]) "
   ]
  },
  {
   "cell_type": "code",
   "execution_count": 6,
   "metadata": {},
   "outputs": [
    {
     "data": {
      "text/plain": [
       "'aba'"
      ]
     },
     "execution_count": 6,
     "metadata": {},
     "output_type": "execute_result"
    }
   ],
   "source": [
    "reorganizeString(\"aab\")\n"
   ]
  },
  {
   "cell_type": "markdown",
   "metadata": {},
   "source": [
    "another way only takes O(N) but uses a little bit math\n",
    "if the max count of a char is larger than (len(S)+1)//2, then it is an impossible result\n",
    "\n",
    "len 3, max count 2  \n",
    "len 4, max count 2  \n",
    "len 5, max count 3  \n",
    "len 6, max count 3  "
   ]
  },
  {
   "cell_type": "code",
   "execution_count": 1,
   "metadata": {},
   "outputs": [],
   "source": [
    "from collections import Counter\n",
    "def reorganizeString(S):\n",
    "    \"\"\"O(N) way, find the char with most count, put it in even position, then put other chars\"\"\"\n",
    "    count_dict = Counter(S)\n",
    "    max_count = 0\n",
    "    max_c = None\n",
    "    for c, count in count_dict.items():\n",
    "        if count > max_count:\n",
    "            max_count = count\n",
    "            max_c = c\n",
    "    if max_count > ((len(S)+1)//2):\n",
    "        # impossible case\n",
    "        return \"\"\n",
    "\n",
    "    # put the char with most count in EVEN position first\n",
    "    ind = 0\n",
    "    res = [0]*len(S)\n",
    "    while count_dict[max_c]>0:\n",
    "        res[ind] = max_c\n",
    "        ind+=2\n",
    "        count_dict[max_c]-=1\n",
    "    for char in count_dict:\n",
    "        while count_dict[char]>0:\n",
    "            if ind >= len(S):\n",
    "                ind = 1 # back to the starting odd position, this will only appear once\n",
    "            res[ind] = char\n",
    "            ind+=2\n",
    "            count_dict[char] -= 1   \n",
    "    return \"\".join(res)\n"
   ]
  },
  {
   "cell_type": "code",
   "execution_count": 2,
   "metadata": {},
   "outputs": [
    {
     "data": {
      "text/plain": [
       "'aba'"
      ]
     },
     "execution_count": 2,
     "metadata": {},
     "output_type": "execute_result"
    }
   ],
   "source": [
    "reorganizeString(\"aab\")"
   ]
  }
 ],
 "metadata": {
  "kernelspec": {
   "display_name": "testground",
   "language": "python",
   "name": "testground"
  },
  "language_info": {
   "codemirror_mode": {
    "name": "ipython",
    "version": 3
   },
   "file_extension": ".py",
   "mimetype": "text/x-python",
   "name": "python",
   "nbconvert_exporter": "python",
   "pygments_lexer": "ipython3",
   "version": "3.8.3"
  }
 },
 "nbformat": 4,
 "nbformat_minor": 4
}
