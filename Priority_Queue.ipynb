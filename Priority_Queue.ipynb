{
 "cells": [
  {
   "cell_type": "markdown",
   "metadata": {},
   "source": [
    "### Priority Queue  \n",
    "in Python the library is heapq, it is a min heap, meaning heappop() returns smallest number\n",
    "\n",
    "Heaps are binary trees for which every parent node has a value less than or equal to any of its children. This implementation uses arrays for which heap[k] <= heap[2*k+1] and heap[k] <= heap[2*k+2] for all k, counting elements from zero."
   ]
  },
  {
   "cell_type": "markdown",
   "metadata": {},
   "source": [
    "<b>692 top K Frequent Words </b>  \n",
    "\n",
    "Heapq.nsmallest() and heapq.nlargest() function works well when n is small,   \n",
    "if n is large, sorted() function works better. If n=1, min() max() works better.\n",
    "How to create a heapQ using existing list? => heapq.heapify(), Transform list x into a heap, in-place, in linear time.So  h =  heapq.heapify([3,2,6])    h is None, because the function happens in place! Not returning the heaped object. Need h = [3,2,6] then heapq.heapify(h)"
   ]
  },
  {
   "cell_type": "code",
   "execution_count": 5,
   "metadata": {},
   "outputs": [],
   "source": [
    "from collections import Counter\n",
    "import heapq\n",
    "def topKFrequent(words, k):\n",
    "    word_freq = Counter(words)\n",
    "    # -f to ensure most frequent words appear at the top of queue\n",
    "    word_freq_list = [(-f, w) for w, f in word_freq.items()]\n",
    "    heapq.heapify(word_freq_list)  # transform a normal list into heap queue O(Nlog(N))\n",
    "\n",
    "    return [heapq.heappop(word_freq_list)[1] for _ in range(k)]\n",
    "\n",
    "    "
   ]
  },
  {
   "cell_type": "code",
   "execution_count": 6,
   "metadata": {},
   "outputs": [
    {
     "data": {
      "text/plain": [
       "['i', 'love']"
      ]
     },
     "execution_count": 6,
     "metadata": {},
     "output_type": "execute_result"
    }
   ],
   "source": [
    "words = [\"i\", \"love\", \"leetcode\", \"i\", \"love\", \"coding\"]\n",
    "k = 2\n",
    "topKFrequent(words, k)"
   ]
  },
  {
   "cell_type": "markdown",
   "metadata": {},
   "source": [
    "<b> 23.Merge k Sorted Lists</b>\n",
    "    \n",
    "The complexity is O(nlogk). Where the k is the number of list, and n is the TOTAL number of node    \n",
    "    \n",
    "used heapq again to construct the priority queue. When adding items to the priority queue, if it is a tuple, first element of the tuple is used for comparison and decide who goes first into the queue. BUT if the first element has same value, second element is used to do comparison. If the second element is an object without comparison method, then this queue will break. To avoid that, can simply adding id(the_element) using id to break the tile.  \n",
    "\n",
    "key point 1: how to construct heap q that even handle the order of node with same value  \n",
    "key point 2: how to break the orignal next linkage while not adding extra time complexity\n"
   ]
  },
  {
   "cell_type": "markdown",
   "metadata": {},
   "source": [
    "each list is already sorted"
   ]
  },
  {
   "cell_type": "code",
   "execution_count": null,
   "metadata": {},
   "outputs": [],
   "source": [
    "# Definition for singly-linked list.\n",
    "# class ListNode:\n",
    "#     def __init__(self, val=0, next=None):\n",
    "#         self.val = val\n",
    "#         self.next = next \n",
    "def mergeKLists(lists):\n",
    "    q = []\n",
    "    start = ListNode()\n",
    "    curr = start\n",
    "    for i in lists:\n",
    "        if i:\n",
    "        # add id(node) incase the node has same val and break the queue, since listNode itself does not have comparison method\n",
    "            heapq.heappush(q, (i.val, id(i), i))  # this i still remains its original next linkage\n",
    "    while q:\n",
    "        _, _, node = heapq.heappop(q)\n",
    "        curr.next = node\n",
    "        curr = node\n",
    "        if node.next:  #  HERE to break the original linkage. take advantage that each list is already sorted\n",
    "            heapq.heappush(q, (node.next.val, id(node.next), node.next))\n",
    "    return start.next"
   ]
  },
  {
   "cell_type": "code",
   "execution_count": null,
   "metadata": {},
   "outputs": [],
   "source": [
    "\n",
    "\"\"\"the follwoing first while loop wont work because the original linkage does not break\n",
    "    instead it duplicates the linkage.\n",
    "\"\"\"   \n",
    "def mergeKLists(self, lists: List[ListNode]) -> ListNode:\n",
    "    queue = []\n",
    "    for i in lists:\n",
    "        item = i\n",
    "        while item:\n",
    "            heapq.heappush(queue, (item.val, id(item), item))\n",
    "            item = item.next\n",
    "    start = ListNode()\n",
    "    curr = start.next\n",
    "    print(queue)\n",
    "    while queue:\n",
    "        _,_,item = heapq.heappop(queue)\n",
    "        curr = item\n",
    "        curr = curr.next\n",
    "    return start.next"
   ]
  },
  {
   "cell_type": "markdown",
   "metadata": {},
   "source": [
    "example result of incorrect queue:  \n",
    "[(1, 139681574781088, ListNode{val: 1, next: ListNode{val: 4, next: ListNode{val: 5, next: None}}}), (1, 139681574981248, ListNode{val: 1, next: ListNode{val: 3, next: ListNode{val: 4, next: None}}}), (2, 139681574980864, ListNode{val: 2, next: ListNode{val: 6, next: None}}), (4, 139681574979472, ListNode{val: 4, next: ListNode{val: 5, next: None}}), (3, 139681574981104, ListNode{val: 3, next: ListNode{val: 4, next: None}}), (5, 139681574981392, ListNode{val: 5, next: None}), (4, 139681574980960, ListNode{val: 4, next: None}), (6, 139681574980576, ListNode{val: 6, next: None})]\n",
    "\n",
    "    "
   ]
  },
  {
   "cell_type": "markdown",
   "metadata": {},
   "source": [
    "<b> 373.Find K Pairs with Smallest Sums </b>\n",
    "\n",
    "Think of two sorted list as row and col of a <b>virtual matrix</b>, value of matrix is the sum of each row col elements\n",
    "Then this problem is the same as 378. Using priority queue can solve it. Initiate the queue with k element is enough"
   ]
  },
  {
   "cell_type": "code",
   "execution_count": 1,
   "metadata": {},
   "outputs": [],
   "source": [
    "import heapq\n",
    "def kSmallestPairs(nums1, nums2, k):\n",
    "    u, v = len(nums1), len(nums2)\n",
    "    if not (u and v): # either one is [] then return []\n",
    "        return []\n",
    "    # initiate with the first col of virtual matrix. u is row number, v is col number\n",
    "    q = [(nums1[i]+nums2[0], i, 0) for i in range(u) if i<k] # initiate <=k pairs as starter\n",
    "    result = []\n",
    "    while k > 0 and q:\n",
    "        k -= 1\n",
    "        value, i, j = heapq.heappop(q)\n",
    "        request.append([nums1[i], nums2[j]])\n",
    "        if j+1 < v:  # if j+1 is a valid col number\n",
    "            # move towards right of the matrix\n",
    "            heapq.heappush(q, (nums1[i]+nums2[j+1], i, j+1))\n",
    "            \n",
    "    return request"
   ]
  },
  {
   "cell_type": "markdown",
   "metadata": {},
   "source": [
    "<b>378. Kth Smallest Element in a Sorted Matrix </b>\n",
    "\n",
    "Initialize a queue with first row, saving the row, col, and value info for each element in the matrix to the queue. Then for k-1 time, pop an item, push an item with same row but next col until the last col. Then pop the k_th time to get the result"
   ]
  },
  {
   "cell_type": "code",
   "execution_count": null,
   "metadata": {},
   "outputs": [],
   "source": [
    "def kthSmallest(matrix, k):\n",
    "    n = len(matrix)\n",
    "    q = [(matrix[0][j], 0, j) for j in range(n)]  # whole row, not <k row, different than above\n",
    "    while k > 0 and q:\n",
    "        k -= 1\n",
    "        item, i, j = heapq.heappop(q)\n",
    "        if i+1 < n:\n",
    "            heapq.heappush(q, (matrix[i+1][j], i+1, j))\n",
    "    return item\n",
    "        "
   ]
  },
  {
   "cell_type": "markdown",
   "metadata": {},
   "source": [
    "<b> 295.Find Median from Data Stream </b>\n",
    "\n",
    "The add operation for heapq is Log(N)  \n",
    "Find median is to keep 2 heap, with same length, one keep smaller value, another keep larger value"
   ]
  },
  {
   "cell_type": "code",
   "execution_count": 8,
   "metadata": {},
   "outputs": [],
   "source": [
    "import heapq\n",
    "class MedianFinder:\n",
    "    def __init__(self):\n",
    "        \"\"\"initialize the data structure, left to keep half smaller num, right to keep another half larger number\"\"\"\n",
    "        self.left = []\n",
    "        self.right = []\n",
    "    def addNum(self, num):\n",
    "        if len(self.left) == len(self.right):\n",
    "            # consider adding to right part with priority\n",
    "            # to ensure left part pop out large value first, save the number as negative value\n",
    "            # always ensure self.right has num >= self.left\n",
    "            heapq.heappush(self.right, -heapq.heappushpop(self.left, -num))\n",
    "        else:\n",
    "            # same the so far smallest number to left part\n",
    "            heapq.heappush(self.left, -heapq.heappushpop(self.right, num))\n",
    "   \n",
    "    def findMedian(self):\n",
    "        if len(self.right) == len(self.left):\n",
    "            # CANT use pop! next time the value is no longer there to consider median\n",
    "#             return (heapq.heappop(self.right)-heapq.heappop(self.left))/2\n",
    "            return (self.right[0]-self.left[0])/2\n",
    "        else:\n",
    "#             return heapq.heappop(self.right)\n",
    "            return self.right[0]\n",
    "          "
   ]
  },
  {
   "cell_type": "code",
   "execution_count": 9,
   "metadata": {},
   "outputs": [
    {
     "name": "stdout",
     "output_type": "stream",
     "text": [
      "1.5\n",
      "2\n"
     ]
    }
   ],
   "source": [
    "obj = MedianFinder()\n",
    "obj.addNum(1)\n",
    "obj.addNum(2)\n",
    "print(obj.findMedian()) \n",
    "obj.addNum(3)\n",
    "print(obj.findMedian()) "
   ]
  },
  {
   "cell_type": "markdown",
   "metadata": {},
   "source": [
    "<b>4.Median of Two Sorted Arrays </b>\n",
    "\n",
    "can use heapq, but would be O((m+n)log(m+n)), not match the requirement of time complexity to O(log(m+n))\n",
    "\n",
    "Actually using sort function can get O((M+N)log(M+N)) time complexity too, <b>no need</b> to use heap queue"
   ]
  },
  {
   "cell_type": "code",
   "execution_count": 10,
   "metadata": {},
   "outputs": [],
   "source": [
    "def findMedianSortedArrays(nums1, nums2):\n",
    "    n1 = len(nums1)\n",
    "    n2 = len(nums2)\n",
    "    new_list = nums1+nums2\n",
    "    heapq.heapify(new_list)\n",
    "    k = (n1+n2)//2\n",
    "    if (n1+n2)%2==0:\n",
    "        # even number, get two of middle values calculate the mean as median\n",
    "        while k > 0:\n",
    "            num = heapq.heappop(new_list)\n",
    "            k-=1\n",
    "        return (num+heapq.heappop(new_list))/2\n",
    "    else:\n",
    "        # odd number, get the middle value as median\n",
    "        while k+1 > 0:\n",
    "            num = heapq.heappop(new_list)\n",
    "            k-=1\n",
    "        return num"
   ]
  },
  {
   "cell_type": "code",
   "execution_count": 11,
   "metadata": {},
   "outputs": [
    {
     "data": {
      "text/plain": [
       "-1"
      ]
     },
     "execution_count": 11,
     "metadata": {},
     "output_type": "execute_result"
    }
   ],
   "source": [
    "nums1=[3]\n",
    "nums2=[-2,-1]\n",
    "findMedianSortedArrays(nums1, nums2)"
   ]
  },
  {
   "cell_type": "code",
   "execution_count": 12,
   "metadata": {},
   "outputs": [
    {
     "data": {
      "text/plain": [
       "2"
      ]
     },
     "execution_count": 12,
     "metadata": {},
     "output_type": "execute_result"
    }
   ],
   "source": [
    "nums1=[1,3]\n",
    "nums2=[2]\n",
    "findMedianSortedArrays(nums1, nums2)"
   ]
  }
 ],
 "metadata": {
  "kernelspec": {
   "display_name": "testground",
   "language": "python",
   "name": "testground"
  },
  "language_info": {
   "codemirror_mode": {
    "name": "ipython",
    "version": 3
   },
   "file_extension": ".py",
   "mimetype": "text/x-python",
   "name": "python",
   "nbconvert_exporter": "python",
   "pygments_lexer": "ipython3",
   "version": "3.8.3"
  }
 },
 "nbformat": 4,
 "nbformat_minor": 4
}
