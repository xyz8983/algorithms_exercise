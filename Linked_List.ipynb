{
 "cells": [
  {
   "cell_type": "code",
   "execution_count": 1,
   "metadata": {},
   "outputs": [],
   "source": [
    "# Definition for singly-linked list.\n",
    "# class ListNode:\n",
    "#     def __init__(self, val=0, next=None):\n",
    "#         self.val = val\n",
    "#         self.next = next"
   ]
  },
  {
   "cell_type": "markdown",
   "metadata": {},
   "source": [
    "<b> 2. Add Two Numbers </b>  \n",
    "Linked list, having an extra var to save the add up value if x + y > 10.   \n",
    "Able to merge  while (l1 and l2),  while (l1), and while (l2) together into while (l1 or l2)  \n",
    "Remember to check if the addup value >0, to add extra node.  \n",
    "also keep the start node and a duplicate of start node. the duplicate are moving forward, but start node is a pointer that we can use to return the result at the very end"
   ]
  },
  {
   "cell_type": "markdown",
   "metadata": {},
   "source": [
    "time complexity is O(max(m,n)). Assume that m and n represents the length of l1 and l2 respectively, the algorithm below iterates at most max(m, n) times."
   ]
  },
  {
   "cell_type": "code",
   "execution_count": 2,
   "metadata": {},
   "outputs": [],
   "source": [
    "def addTwoNumbers(l1, l2):\n",
    "    addup = 0\n",
    "    start = ListNode()\n",
    "    node = start    # point to start,  NOT start.next which will break the connection\n",
    "    while l1 or l2:\n",
    "        x = l1.val if l1 else 0\n",
    "        y = l2.val if l2 else 0\n",
    "        val = x+y+addup\n",
    "        if val >= 10:\n",
    "            addup = 1\n",
    "            val = val%10\n",
    "        else:\n",
    "            addup = 0\n",
    "        node.next = ListNode(val)\n",
    "        node = node.next  # move to next None\n",
    "        l1=l1.next if l1 else None\n",
    "        l2=l2.next if l2 else None\n",
    "    if addup>0:\n",
    "        node.next = ListNode(addup)\n",
    "    return start.next"
   ]
  },
  {
   "cell_type": "markdown",
   "metadata": {},
   "source": [
    "<b>21. Merge two Sorted Lists </b>\n"
   ]
  },
  {
   "cell_type": "markdown",
   "metadata": {},
   "source": [
    "a <b>wrong</b> implementation here"
   ]
  },
  {
   "cell_type": "code",
   "execution_count": 4,
   "metadata": {},
   "outputs": [],
   "source": [
    "class ListNode:\n",
    "    def __init__(self, val=0, next=None):\n",
    "        self.val = val\n",
    "        self.next = next\n",
    "def mergeTwoLists_not_correct(l1, l2):\n",
    "    start = ListNode()\n",
    "    # this step causes the issue, it does not connect node and start, so later on the update to node not affect start at all\n",
    "    node = start.next   \n",
    "    while l1 and l2:\n",
    "        if l1.val<=l2.val:\n",
    "            node = l1\n",
    "            l1 = l1.next\n",
    "        else:\n",
    "            node = l2\n",
    "            l2 = l2.next \n",
    "        node = node.next\n",
    "    if l1:\n",
    "        node = l1\n",
    "    if l2:\n",
    "        node = l2\n",
    "    return start.next"
   ]
  },
  {
   "cell_type": "code",
   "execution_count": 7,
   "metadata": {},
   "outputs": [
    {
     "name": "stdout",
     "output_type": "stream",
     "text": [
      "None\n"
     ]
    }
   ],
   "source": [
    "l1 = ListNode(1)\n",
    "l1.next = ListNode(2)\n",
    "l1.next.next = ListNode(3)\n",
    "l2 = ListNode(1)\n",
    "l2.next = ListNode(3)\n",
    "l2.next.next = ListNode(4)\n",
    "print(mergeTwoLists_not_correct(l1, l2))  # it returns nothing, because start.next is None, node does not affect start"
   ]
  },
  {
   "cell_type": "code",
   "execution_count": 8,
   "metadata": {},
   "outputs": [],
   "source": [
    "def mergeTwoLists(l1, l2):\n",
    "    start = ListNode()\n",
    "    node = start   # important, node points to start in initial step, node is the worker\n",
    "    while l1 and l2:\n",
    "        if l1.val<=l2.val:\n",
    "            # always update the next \n",
    "            node.next = l1\n",
    "            l1 = l1.next\n",
    "        else:\n",
    "            node.next = l2\n",
    "            l2 = l2.next \n",
    "        # now node points to the current one\n",
    "        node = node.next\n",
    "    if l1:\n",
    "        node.next = l1\n",
    "    if l2:\n",
    "        node.next = l2\n",
    "    return start.next"
   ]
  },
  {
   "cell_type": "code",
   "execution_count": 11,
   "metadata": {},
   "outputs": [
    {
     "name": "stdout",
     "output_type": "stream",
     "text": [
      "1,1,2,3,3,4,"
     ]
    }
   ],
   "source": [
    "l1 = ListNode(1)\n",
    "l1.next = ListNode(2)\n",
    "l1.next.next = ListNode(3)\n",
    "l2 = ListNode(1)\n",
    "l2.next = ListNode(3)\n",
    "l2.next.next = ListNode(4)\n",
    "s = mergeTwoLists(l1, l2)\n",
    "while s:\n",
    "    print(s.val, end=\",\")\n",
    "    s=s.next"
   ]
  },
  {
   "cell_type": "markdown",
   "metadata": {},
   "source": [
    "<b>138.Copy List with Random Pointer </b>\n",
    "\n",
    "get confused when first looking at the question. I thought it is returnning a list, but it is returnning a DEEP COPU of the linked list."
   ]
  },
  {
   "cell_type": "markdown",
   "metadata": {},
   "source": [
    "way 1: using hashmap, first loop: create new node, duplicate the value  \n",
    "second loop: duplicate the next and random relationship  \n",
    "\n",
    "time complexity O(N)"
   ]
  },
  {
   "cell_type": "code",
   "execution_count": 12,
   "metadata": {},
   "outputs": [],
   "source": [
    "def copyRandomList(head):\n",
    "    \"\"\"using hash map\"\"\"\n",
    "    hash_map = {}\n",
    "    m = n = head\n",
    "    while m:\n",
    "        # duplicate each node's value\n",
    "        hash_map[m] = Node(m.val)\n",
    "        m = m.next\n",
    "    while n:\n",
    "        # duplicate the next and random relationship\n",
    "        hash_map[n].next = hash_map.get(n.next)\n",
    "        hash_map[n].random = hash_map.get(n.random)\n",
    "        n = n.next\n",
    "    return hash_map.get(head)"
   ]
  },
  {
   "cell_type": "markdown",
   "metadata": {},
   "source": [
    "this one is same as above, but reduce to one loop due to the usage of defaultdict. \n",
    "one attribute of defaultdict: if a key does not exist yet in the dict, when you call dict[key], that key wil lbe auto inserted into the dict"
   ]
  },
  {
   "cell_type": "code",
   "execution_count": 13,
   "metadata": {},
   "outputs": [],
   "source": [
    "\n",
    "def copyRandomList_2(head):\n",
    "        \"\"\"using hash map with default dict\"\"\"\n",
    "        hash_map = defaultdict(lambda: Node(0))\n",
    "        hash_map[None] = None\n",
    "        m = head\n",
    "        while m:\n",
    "            # duplicate each node's value\n",
    "            hash_map[m].val = m.val\n",
    "            # for a defaultdict, if the key not exit, when using dict[key], the key is auto inserted into the dictioanry.\n",
    "            hash_map[m].next = hash_map[m.next]\n",
    "            hash_map[m].random = hash_map[m.random]\n",
    "            m = m.next\n",
    "        \n",
    "        return hash_map.get(head)"
   ]
  },
  {
   "cell_type": "markdown",
   "metadata": {},
   "source": [
    "way 3: space O(1), time O(N), concern is it modified the passed parameter. \n",
    "basic idea is to copy the node and put the copied node next to the original node. \n",
    "then loop again to copy the random relationship.  \n",
    "finally loop again the break and correct the next relationship  \n",
    "\n",
    "here is a good explanation in the first comments of this [post](https://leetcode.com/problems/copy-list-with-random-pointer/discuss/43491/A-solution-with-constant-space-complexity-O(1)-and-linear-time-complexity-O(N))"
   ]
  },
  {
   "cell_type": "code",
   "execution_count": 14,
   "metadata": {},
   "outputs": [],
   "source": [
    "def copyRandomList(head):\n",
    "    \"\"\"space O(1), time O(N), but it will modify the original linked list which could be a concern\"\"\"\n",
    "    if not head:\n",
    "        return None\n",
    "\n",
    "    # duplicate the node value and attach to the neighbor\n",
    "    dummy = head\n",
    "    while dummy:\n",
    "        next_node = dummy.next\n",
    "        copy = Node(dummy.val)\n",
    "        copy.next = dummy.next\n",
    "        dummy.next = copy\n",
    "        dummy = next_node\n",
    "\n",
    "    # duplciate the random relationship\n",
    "    dummy = head\n",
    "    while dummy:\n",
    "        dummy.next.random = dummy.random.next if dummy.random else None\n",
    "        dummy = dummy.next.next \n",
    "    # reorder the next relationship\n",
    "    dummy = head\n",
    "    copy_head = head.next  # None head has been checked at first line\n",
    "    while dummy:\n",
    "        next_node = dummy.next.next\n",
    "        copy_node = dummy.next\n",
    "        dummy.next = next_node\n",
    "        copy_node.next = next_node.next if next_node else None\n",
    "        dummy = next_node\n",
    "\n",
    "    return copy_head\n"
   ]
  },
  {
   "cell_type": "markdown",
   "metadata": {},
   "source": [
    "<b>206.Reverse Linked list </b>\n",
    "\n",
    "there are two ways to address it. one is iteraltive way, another is recursive"
   ]
  },
  {
   "cell_type": "markdown",
   "metadata": {},
   "source": [
    "way 1: iterative  \n",
    "example:  \n",
    "1->2->3->4->5->null: new_start is 5, new_end is null, node is 1  \n",
    "node is inserted between new_start and new_end.  \n",
    "now new_start is still 5, new end should update to be 1, node is 2  \n",
    "2->3->4->5->1->null  \n",
    "node 2 is inserted into new start 5 and new end 1, and so on  \n",
    "until node goes to new start 5  "
   ]
  },
  {
   "cell_type": "code",
   "execution_count": 16,
   "metadata": {},
   "outputs": [],
   "source": [
    "def reverseList(head):\n",
    "    '''iterative way'''\n",
    "    new_head = None\n",
    "    \"\"\"\n",
    "    example:\n",
    "    1->2->3->4->5->null\n",
    "    1->null, then 1 becomes the new head, head move to next, which is 2\n",
    "    2->1->null, head connect to new head, 2 becomes the new head, head move to next, which is 3\n",
    "    \"\"\"\n",
    "    while head:\n",
    "        next_node = head.next\n",
    "        head.next = new_head\n",
    "        new_head = head\n",
    "        head = next_node\n",
    "    return new_head"
   ]
  },
  {
   "cell_type": "code",
   "execution_count": 20,
   "metadata": {},
   "outputs": [],
   "source": [
    "# class ListNode:\n",
    "#     def __init__(self, val=0, next=None):\n",
    "#         self.val = val\n",
    "#         self.next = next\n",
    "def reverseList(head):   # -> this one can be generalized into question move m to n in a linked list\n",
    "    \"\"\"\n",
    "    example: 1->2->3->4->5->null   => 0->1->2->3->4->5->null\n",
    "    0->2->1->3->4->5->null\n",
    "    0->3->2->1->4->5->null\n",
    "    0->4->3->2->1->5->null\n",
    "    0->5->4->3->2->1->null\n",
    "    return 0->. which is 5\n",
    "    \"\"\"\n",
    "    if not head or not head.next:\n",
    "        return head\n",
    "    dummy = ListNode(0)\n",
    "    dummy.next=head\n",
    "    # need to know start node: head, pre_node: dummy, and a moving_node\n",
    "    pre_node = dummy\n",
    "    moving_node = head.next\n",
    "    while moving_node:\n",
    "        next_node = moving_node.next\n",
    "        head.next = moving_node.next\n",
    "        moving_node.next = pre_node.next\n",
    "        pre_node.next = moving_node\n",
    "        moving_node = next_node\n",
    "    return dummy.next"
   ]
  },
  {
   "cell_type": "markdown",
   "metadata": {},
   "source": [
    "way 2: recursive, same idea as above first way"
   ]
  },
  {
   "cell_type": "code",
   "execution_count": 18,
   "metadata": {},
   "outputs": [],
   "source": [
    "def reverseList(head):  # => this one actually not too recursive, but easy to understand\n",
    "    '''recursive way'''\n",
    "    def revesere(head, new_head):\n",
    "        if not head:\n",
    "            return new_head\n",
    "        \"\"\"\n",
    "        example:\n",
    "        1->2->3->4->5->null\n",
    "        initilize head to 1, new_head to None, save next_node 2, connect head 1 to new_head None \n",
    "        recurisive starts by assigning next_node to head, and head to new_head\n",
    "        \n",
    "        \"\"\"\n",
    "        next_node = head.next\n",
    "        head.next = new_head\n",
    "        # same idea, new_head = head, head = next_node\n",
    "        return revesere(next_node, head)\n",
    "\n",
    "    # initialize new_head to none\n",
    "    return revesere(head, None)\n"
   ]
  },
  {
   "cell_type": "markdown",
   "metadata": {},
   "source": [
    "<b> 92.reverse Linked List II </b>"
   ]
  },
  {
   "cell_type": "markdown",
   "metadata": {},
   "source": [
    "there are two ways of iterative.  \n",
    "<b>way 1</b>: need to know the pre_node, start node and end node.  \n",
    "example: 1->2->3->4->5->none  reverse from position 2 to 4, final should be 1->4->3->2->5->None   \n",
    "\n",
    "5 is called new_head (next of end node), 2 is called head (start node), 1 is called pre_node  \n",
    "step 1: 3->4->5->none  \n",
    "        1->2->5->none  next_node is 3, head 2 link to the new_head 5, 2 becomes new_head, head move to next_node  \n",
    "step 2: 4->5->None  \n",
    "        3->2->5->none next_node is 4, head 3 link to the new_head 2, 3 becomes new_head, head move to next_node  \n",
    "        1->2->5->none  \n",
    "step 3: 5->None  \n",
    "        4->3->2->5->none  \n",
    "        1->2->5->none  \n",
    "last step: pre_node 1 link to new head 4  \n",
    "downside is you need to know pre_node, start_node, and end_node => cant leverage the m-n to get from nth node to mth node, and need to keep an eye on last step pre_node "
   ]
  },
  {
   "cell_type": "markdown",
   "metadata": {},
   "source": [
    "<b>way 2</b> need to pre_node, start node, easier to generalize this way to other scenarios. \n",
    "example: 1->2->3->4->5->none  reverse from position 2 to 4, final should be 1->4->3->2->5->None   \n",
    "\n",
    "create a dummy node 0, 0->1->2->3->4->5->none dummy.next is to check where the head should be  \n",
    "get pre_node 1, start_node 2, and a movin_node 3    \n",
    "step 1: 2->4->5->None   =>.  0->1->3->2->4->5->none  moving node 3 is put after pre_node 1, start_node 2 point to moving node's next 4, moving node update to 4  \n",
    "step 2: 2->5->none. =>. 0->1->4->3->2->5->none. moving node 4 is put after pre_node 1, start_node 2 point to moving node's next 5, moving node update to 5  \n",
    "\n",
    "Here the loop is reaching the m-n times, so reverse finished.    \n",
    "and dummy.next is the head should return, no need the last step as above way 1  "
   ]
  },
  {
   "cell_type": "code",
   "execution_count": 19,
   "metadata": {},
   "outputs": [],
   "source": [
    "def reverseBetween(head, m, n) -> ListNode:\n",
    "    \"\"\"better than the other way of iterative: only need to get mth node, and using m-n to reverse, no need to know nth node in advance\"\"\"\n",
    "    if not head:\n",
    "        return\n",
    "    dummy = ListNode(0)\n",
    "    # a dummy node is needed, because cant return head directly, head can be moved to later position\n",
    "    # return dummy.next will always return the head because the pre_node is updating \n",
    "    dummy.next = head\n",
    "    pre_node = dummy\n",
    "    for _ in range(m-1):  \n",
    "        # loop m-1 times to get to the node before the mth node\n",
    "        # because pre_node start at dummy which is before head, so need to loop m-1 times, if pre_node start at head, loop m-2 times\n",
    "        # however, cant guarantee m-2>=0, so good to have dummy\n",
    "        pre_node = pre_node.next\n",
    "    # start is the mth node\n",
    "    start = pre_node.next    \n",
    "    moving_node = start.next\n",
    "    for _ in range(n-m):\n",
    "        # pre_node and start node never change\n",
    "        # moving mode is moving to next one\n",
    "        next_node = moving_node.next\n",
    "        start.next = moving_node.next\n",
    "        moving_node.next = pre_node.next\n",
    "        pre_node.next = moving_node\n",
    "        moving_node = next_node\n",
    "    return dummy.next"
   ]
  },
  {
   "cell_type": "markdown",
   "metadata": {},
   "source": [
    "another iterative way can solve the problem too but it is not as clean as this one.  \n",
    "see the leetcode submit [history](https://leetcode.com/submissions/detail/375193188/)"
   ]
  },
  {
   "cell_type": "markdown",
   "metadata": {},
   "source": [
    "<b>25..Reverse Nodes in K-group </b>"
   ]
  },
  {
   "cell_type": "markdown",
   "metadata": {},
   "source": [
    "<b>way1</b>: iterative to have time O(n), space O(1).  \n",
    "here using the <b>way 2 iterative</b> mentioned above: pre_node, start_node hold steady, moving node moving     "
   ]
  },
  {
   "cell_type": "code",
   "execution_count": 24,
   "metadata": {},
   "outputs": [],
   "source": [
    "def reverseKGroup(head, k):\n",
    "    if not head or not head.next or k ==1:\n",
    "        return head\n",
    "    dummy=ListNode()\n",
    "    dummy.next = head\n",
    "\n",
    "    count = 1\n",
    "    pre_node = dummy\n",
    "    start_node=head\n",
    "    moving_node=head.next \n",
    "\n",
    "    # not just head, like in 1->2->3->none,k=2, when at 3, count is 3, then continue head = head.next, now count is 4, but head is null, should not get into the for loop. check head.next can avoid it\n",
    "    while head.next:  \n",
    "        count+=1\n",
    "        head = head.next\n",
    "        if count%k==0 and start_node:\n",
    "            moving_node = start_node.next\n",
    "            for _ in range(k-1): # k-1 time is enough\n",
    "                next_node = moving_node.next\n",
    "                start_node.next = moving_node.next\n",
    "                moving_node.next = pre_node.next\n",
    "                pre_node.next = moving_node\n",
    "                moving_node = next_node\n",
    "            # update to the next reverse chunk\n",
    "            pre_node = start_node\n",
    "            start_node = moving_node\n",
    "            head = pre_node  # the original head before the if check has now changed, so need to update here too\n",
    "    return dummy.next       "
   ]
  },
  {
   "cell_type": "code",
   "execution_count": 25,
   "metadata": {},
   "outputs": [
    {
     "name": "stdout",
     "output_type": "stream",
     "text": [
      "2, 1, 3, "
     ]
    }
   ],
   "source": [
    "# 1->2->3.  => 2->1->3\n",
    "l1 = ListNode(1)\n",
    "l1.next = ListNode(2)\n",
    "l1.next.next = ListNode(3)\n",
    "a = reverseKGroup(l1, 2)\n",
    "while a:\n",
    "    print(a.val, end=\", \")\n",
    "    a = a.next"
   ]
  },
  {
   "cell_type": "markdown",
   "metadata": {},
   "source": [
    "the <b>way 1 iterative</b> way. The connection step is smart, to jump to the right start of next chunk.  \n",
    "need to know start node, end node of the range. end node is updating, moving node is updating too"
   ]
  },
  {
   "cell_type": "code",
   "execution_count": null,
   "metadata": {},
   "outputs": [],
   "source": [
    "def reverseKGroup(head, k) -> ListNode:\n",
    "    \"\"\"way 1 iterative\"\"\"\n",
    "    dummy = ListNode()\n",
    "    dummy.next = head\n",
    "    connect_node = dummy\n",
    "    left = right = head\n",
    "\n",
    "    while True:\n",
    "        count = 0\n",
    "        while right and count<k:\n",
    "            count += 1\n",
    "            right = right.next\n",
    "        if count == k:\n",
    "            # right is point at the knth+1 position\n",
    "            tail = right\n",
    "            curr = left\n",
    "            for _ in range(k):  # change k times\n",
    "                next_node = curr.next\n",
    "                curr.next = tail\n",
    "                tail = curr\n",
    "                curr = next_node\n",
    "            # here the start of the nodes chunk should be linked\n",
    "            # the last node reversed above is the head of this chunk\n",
    "            # this connecting step is smart\n",
    "            connect_node.next = tail\n",
    "            connect_node = left # the original left node now is the end of this chunk, serves perfectly as the pre node of next chunk\n",
    "            left = curr # start of next chunk, or right, which is the kn+1 node, same\n",
    "        else:\n",
    "            return dummy.next\n"
   ]
  }
 ],
 "metadata": {
  "kernelspec": {
   "display_name": "testground",
   "language": "python",
   "name": "testground"
  },
  "language_info": {
   "codemirror_mode": {
    "name": "ipython",
    "version": 3
   },
   "file_extension": ".py",
   "mimetype": "text/x-python",
   "name": "python",
   "nbconvert_exporter": "python",
   "pygments_lexer": "ipython3",
   "version": "3.8.3"
  }
 },
 "nbformat": 4,
 "nbformat_minor": 4
}
